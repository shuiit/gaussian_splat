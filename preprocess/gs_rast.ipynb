{
 "cells": [
  {
   "cell_type": "code",
   "execution_count": 1,
   "metadata": {},
   "outputs": [],
   "source": [
    "from Camera import Camera\n",
    "import numpy as np\n",
    "from Frame import Frame\n",
    "from plyfile import PlyData\n",
    "import numpy as np\n",
    "import argparse\n",
    "from io import BytesIO\n",
    "import matplotlib.pyplot as plt\n",
    "import Plotters\n",
    "import plotly\n",
    "import plotly.graph_objects as go\n",
    "import scipy.io\n",
    "import pandas as pd\n",
    "import Utils\n",
    "from GaussianSplat import GaussianSplat\n",
    "import Plotters\n",
    "\n",
    "%matplotlib qt\n",
    "\n",
    "# load hull\n",
    "path = 'G:/My Drive/Research/gs_data/mov19_2022_03_03/'\n",
    "real_coord = scipy.io.loadmat(f'{path}/3d_pts/real_coord.mat')['all_coords']\n",
    "points_3d = {body_wing : pd.DataFrame(Utils.load_hull(body_wing,path),columns = ['X','Y','Z','frame']) for body_wing in ['body','rwing','lwing']}\n",
    "# initilize objects\n",
    "frames = [1407]#list(range(500,700,13))\n",
    "\n",
    "image_name,points_in_idx = Utils.define_frames(frames,points_3d)\n",
    "cameras = {f'cam{cam + 1}':Camera(path,cam) for cam in range(4)}\n",
    "frames = {f'{im_name}.jpg':Frame(path,im_name,points_in_idx[im_name.split('CAM')[0]],real_coord,idx) for idx,im_name in enumerate(image_name)}\n",
    "# map 3d voxels to 2d pixels\n",
    "[frames[im_name].map_3d_2d(croped_image = True) for im_name in frames.keys()]\n",
    "voxel_dict,colors_dict = Utils.get_dict_for_points3d(frames)\n"
   ]
  },
  {
   "cell_type": "code",
   "execution_count": null,
   "metadata": {},
   "outputs": [],
   "source": [
    "import sh_utils\n",
    "\n",
    "input_file = \"G:/My Drive/Research/gs_data/mov19_2022_03_03/output/scaling_lr0.005_percent_dense0.001_densify_grad_threshold0.0002_position_lr_init1.6e-07/point_cloud/iteration_30000/point_cloud.ply\"\n",
    "cam = frames['P1407CAM4.jpg'].get_croped_camera()\n",
    "gs = GaussianSplat(input_file)  \n",
    "\n",
    "\n",
    "gs_filtered = gs.filter(gs.projection_filter(frames,gs.xyz,croped_image = True),path = gs.path)\n",
    "gs_filtered.save_gs()\n",
    "\n",
    "\n"
   ]
  },
  {
   "cell_type": "code",
   "execution_count": null,
   "metadata": {},
   "outputs": [],
   "source": [
    "\n",
    "idx_to_clamp = (gs_filtered.color[:,0] >= 0) & (gs_filtered.color[:,1] >= 0) & (gs_filtered.color[:,2] >= 0) & (gs_filtered.color[:,0] <=1) & (gs_filtered.color[:,1] <=1) & (gs_filtered.color[:,2] <=1)\n",
    "sorted_gs = GaussianSplat(vertices = gs_filtered.vertices[idx_to_clamp], sh = gs_filtered.sh[idx_to_clamp])\n",
    "\n",
    "xyz_homo  = np.column_stack((sorted_gs.xyz,np.ones((sorted_gs.xyz.shape[0],1))))\n",
    "sorted_gs.calc_cov3d()\n",
    "sorted_gs.calc_cov2d(cam)\n",
    "ul,br = sorted_gs.get_rect(cam)\n",
    "\n",
    "\n",
    "cam.getProjectionMatrix([160,160])\n",
    "\n",
    "\n",
    "p_proj = np.matmul(cam.full_proj_transform,xyz_homo.T).T\n",
    "p_proj = p_proj/p_proj[:,3:]\n",
    "def proj_screen(pixel,s):\n",
    "    return ((pixel + 1)*s-1)*0.5\n",
    "pixels = proj_screen(p_proj[:,:],160)\n",
    "\n"
   ]
  },
  {
   "cell_type": "code",
   "execution_count": 34,
   "metadata": {},
   "outputs": [
    {
     "data": {
      "text/plain": [
       "array([[136.20498766,  62.48456582, 159.49999958, 159.5       ],\n",
       "       [136.22219866,  63.41715087, 159.49999958, 159.5       ],\n",
       "       [136.33116131,  59.02961598, 159.49999958, 159.5       ],\n",
       "       ...,\n",
       "       [121.0736621 ,  53.97058387, 159.49999958, 159.5       ],\n",
       "       [ 38.99775671,  98.04933212, 159.49999959, 159.5       ],\n",
       "       [112.90175341,  60.19335109, 159.49999958, 159.5       ]])"
      ]
     },
     "execution_count": 34,
     "metadata": {},
     "output_type": "execute_result"
    }
   ],
   "source": [
    "pixels"
   ]
  },
  {
   "cell_type": "code",
   "execution_count": 35,
   "metadata": {},
   "outputs": [
    {
     "data": {
      "text/plain": [
       "array([[136.70498766,  62.98456582],\n",
       "       [136.72219866,  63.91715087],\n",
       "       [136.83116131,  59.52961598],\n",
       "       ...,\n",
       "       [121.5736621 ,  54.47058387],\n",
       "       [ 39.49775671,  98.54933212],\n",
       "       [113.40175341,  60.69335109]])"
      ]
     },
     "execution_count": 35,
     "metadata": {},
     "output_type": "execute_result"
    }
   ],
   "source": [
    "xyz_homo  = np.column_stack((sorted_gs.xyz,np.ones((sorted_gs.xyz.shape[0],1))))\n",
    "pixels2 = cam.project_on_image(xyz_homo)\n",
    "pixels2"
   ]
  },
  {
   "cell_type": "code",
   "execution_count": 33,
   "metadata": {},
   "outputs": [
    {
     "data": {
      "text/plain": [
       "(<Figure size 640x480 with 1 Axes>,\n",
       " <matplotlib.image.AxesImage at 0x2747fe50ca0>)"
      ]
     },
     "execution_count": 33,
     "metadata": {},
     "output_type": "execute_result"
    }
   ],
   "source": [
    "tile = np.ones((160,160,3))\n",
    "\n",
    "for tile_x in range(2,16):\n",
    "    for tile_y in range(2,16):\n",
    "        tile_coords = np.array([tile_x, tile_y])\n",
    "\n",
    "        within_bounds = (ul <= tile_coords  ) & (br >= tile_coords )\n",
    "        count_within_bounds = np.sum(within_bounds, axis=1) == 2\n",
    "\n",
    "        pix_start = (tile_coords - 1)*16\n",
    "        pix_end = (tile_coords)*16\n",
    "\n",
    "        xyz_gs = sorted_gs.xyz[count_within_bounds]\n",
    "        conic = sorted_gs.conic[count_within_bounds]\n",
    "        color = sorted_gs.color[count_within_bounds]\n",
    "        opacity = sorted_gs.opacity[count_within_bounds]\n",
    "        proj = pixels[count_within_bounds,0:2]\n",
    "\n",
    "        xyz_homo  = np.column_stack((xyz_gs,np.ones((xyz_gs.shape[0],1))))\n",
    "        depth = np.matmul(cam.world_to_cam,xyz_homo.T).T\n",
    "\n",
    "        idx_sort = np.argsort(depth[:,2])\n",
    "        xyz_gs= xyz_gs[idx_sort]\n",
    "        conic= conic[idx_sort]\n",
    "        color= color[idx_sort]\n",
    "        opacity= opacity[idx_sort]\n",
    "        proj= proj[idx_sort]\n",
    "\n",
    "        if sum(count_within_bounds) > 0:\n",
    "            for idx_x,pix_x in enumerate(range(pix_start[0],pix_end[0])):\n",
    "                for idx_y,pix_y in enumerate(range(pix_start[1],pix_end[1])):\n",
    "                    pixel = [pix_start[0] + idx_x,pix_start[1] + idx_y]\n",
    "                    d = np.column_stack([proj[:,0] - pixel[0],proj[:,1] - pixel[1]])\n",
    "                    power = -0.5 * (conic[:,0] * d[:,0] * d[:,0] + conic[:,2] * d[:,1] * d[:,1]) - conic[:,1] * d[:,0] * d[:,1]\n",
    "\n",
    "                    alpha = np.minimum(0.99,  conic[:,3]*np.exp(power))\n",
    "\n",
    "\n",
    "                    idx_to_keep = (alpha>1/255) & (power <= 0)\n",
    "                    T = 1\n",
    "                    clr = [0,0,0]\n",
    "                    for trans,col in zip(alpha[idx_to_keep],color[idx_to_keep]): \n",
    "\n",
    "                        clr += col*trans*T\n",
    "                        T = T*(1-trans)\n",
    "                        if T < 0.0000001:\n",
    "                            break\n",
    "                    tile[pixel[1],pixel[0]] = clr + T*np.array([1,1,1])\n",
    "plt.figure(),plt.imshow(tile[:,:,0:3])"
   ]
  },
  {
   "cell_type": "code",
   "execution_count": null,
   "metadata": {},
   "outputs": [],
   "source": [
    "\n",
    "\n",
    "SH_C0 = 0.28209479177387814\n",
    "SH_C1 = 0.4886025119029199\n",
    "SH_C2 = [\n",
    "\t1.0925484305920792,\n",
    "\t-1.0925484305920792,\n",
    "\t0.31539156525252005,\n",
    "\t-1.0925484305920792,\n",
    "\t0.5462742152960396]\n",
    "SH_C3 = [\n",
    "\t-0.5900435899266435,\n",
    "\t2.890611442640554,\n",
    "\t-0.4570457994644658,\n",
    "\t0.3731763325901154,\n",
    "\t-0.4570457994644658,\n",
    "\t1.445305721320277,\n",
    "\t-0.5900435899266435]\n",
    "pos = gs_filtered.xyz\n",
    "campos = cam.t\n",
    "dir = (pos - campos.T)/np.linalg.norm([pos - campos.T],axis = 1)\n",
    "\n",
    "\n",
    "sh = np.column_stack((gs_filtered.vertices[\"f_dc_0\"],gs_filtered.vertices[\"f_dc_1\"],gs_filtered.vertices[\"f_dc_2\"]))\n",
    "sh_rest = np.column_stack([gs_filtered.vertices[f\"f_rest_{idx}\"] for idx in range(45)])\n",
    "sh = np.column_stack((sh,sh_rest))\n",
    "SH_C0 = 0.28209479177387814\n",
    "\n",
    "result = (SH_C0 * sh[:,0:3])\n",
    "x = dir[:,0][np.newaxis,:].T\n",
    "y = dir[:,1][np.newaxis,:].T\n",
    "z = dir[:,2][np.newaxis,:].T\n",
    "\n",
    "\n",
    "result =  result - SH_C1 * y * sh[:,[3,4,5]] + SH_C1 * z * sh[:,[6,7,8]] - SH_C1 * x* sh[:,[9,10,11]]\n",
    "\n",
    "# result = result +   SH_C3[0] * y * (3.0f * xx - yy) * sh[9] +\n",
    "# \t\t\t\t\tSH_C3[1] * xy * z * sh[10] +\n",
    "# \t\t\t\t\tSH_C3[2] * y * (4.0f * zz - xx - yy) * sh[11] +\n",
    "# \t\t\t\t\tSH_C3[3] * z * (2.0f * zz - 3.0f * xx - 3.0f * yy) * sh[12] +\n",
    "# \t\t\t\t\tSH_C3[4] * x * (4.0f * zz - xx - yy) * sh[13] +\n",
    "# \t\t\t\t\tSH_C3[5] * z * (xx - yy) * sh[14] +\n",
    "# \t\t\t\t\tSH_C3[6] * x * (xx - 3.0f * yy) * sh[15];\n",
    "# \t\t\t}\n",
    "\n",
    "xx = x * x\n",
    "yy = y * y\n",
    "zz = z * z\n",
    "xy,yz,xz = x * y, y * z, x * z\n",
    "result = result + SH_C2[0] * xy * sh[:,[12,13,14]]\n",
    "+ SH_C2[1] * yz * sh[:,[15,16,17]]\n",
    "+ SH_C2[2] * (2.0 * zz - xx - yy) * sh[:,[18,19,20]] \n",
    "+ SH_C2[3] * xz * sh[:,[21,22,23]] + SH_C2[4] * (xx - yy) * sh[:,[24,25,26]]\n",
    "\n",
    "\n",
    "\n",
    "result = result + SH_C3[0] * y * (3.0 * xx - yy) * sh[:,[27,28,29]] +SH_C3[1] * xy * z * sh[:,[30,31,32]] \n",
    "+SH_C3[2] * y * (4.0 * zz - xx - yy) * sh[:,[33,34,35]] +SH_C3[3] * z * (2.0 * zz - 3.0 * xx - 3.0 * yy)*sh[:,[36,37,38]] \n",
    "+SH_C3[4] * x * (4.0 * zz - xx - yy) * sh[:,[39,40,41]] +SH_C3[5] * z * (xx - yy) * sh[:,[42,43,44]]\n",
    "+SH_C3[6] * x * (xx - 3.0 * yy) * sh[:,[45,46,47]]\n",
    "\n",
    "\n",
    "# result[:, 0] += SH_C2[0] * xy * sh[:, 4]\n",
    "# result[:, 1] += SH_C2[1] * yz * sh[:, 5]\n",
    "# result[:, 2] += SH_C2[2] * (2.0 * zz - xx - yy) * sh[:, 6]\n",
    "# result[:, 0] += SH_C2[3] * xz * sh[:, 7]\n",
    "# result[:, 0] += SH_C2[4] * (xx - yy) * sh[:, 8]\n",
    "\n",
    "# Final adjustment\n",
    "result += 0.5\n",
    "\n",
    "# Clamping the result\n",
    "\n",
    "# result[:,0] =result[:,0]+ SH_C1 * y * sh[:,1]\n",
    "# result[:,1] = result[:,1]+SH_C1 * y * sh[:,2]\n",
    "# result[:,2] = result[:,2]- SH_C1 * x * sh[:,3]\n",
    "\n",
    "\n",
    "# result = result + SH_C2[0] * xy * sh[:,4] + SH_C2[1] * yz * sh[:,5] + SH_C2[2] * (2.0 * zz - xx - yy) * sh[:,6] + SH_C2[3] * xz * sh[:,7] + SH_C2[4] * (xx - yy) * sh[:,8]"
   ]
  },
  {
   "cell_type": "code",
   "execution_count": 10,
   "metadata": {},
   "outputs": [
    {
     "data": {
      "text/plain": [
       "array([[ 81.37922939,  27.66733423, 159.49999972, 159.5       ],\n",
       "       [ 81.49956257,  27.70099883, 159.49999972, 159.5       ],\n",
       "       [ 79.12632581,  26.30757952, 159.49999972, 159.5       ],\n",
       "       ...,\n",
       "       [ 73.71171868,  37.39390922, 159.49999972, 159.5       ],\n",
       "       [ 73.14135876, 112.9931917 , 159.49999972, 159.5       ],\n",
       "       [ 75.04693679,  45.64165071, 159.49999972, 159.5       ]])"
      ]
     },
     "execution_count": 10,
     "metadata": {},
     "output_type": "execute_result"
    }
   ],
   "source": [
    "pixels"
   ]
  },
  {
   "cell_type": "code",
   "execution_count": 11,
   "metadata": {},
   "outputs": [
    {
     "data": {
      "text/plain": [
       "<matplotlib.image.AxesImage at 0x2dabf8cc1f0>"
      ]
     },
     "execution_count": 11,
     "metadata": {},
     "output_type": "execute_result"
    }
   ],
   "source": [
    "plt.imshow(tile[:,:,0])"
   ]
  },
  {
   "cell_type": "code",
   "execution_count": 10,
   "metadata": {},
   "outputs": [
    {
     "data": {
      "text/plain": [
       "(<Figure size 640x480 with 1 Axes>,\n",
       " <matplotlib.image.AxesImage at 0x22a56dd49a0>)"
      ]
     },
     "execution_count": 10,
     "metadata": {},
     "output_type": "execute_result"
    }
   ],
   "source": [
    "plt.figure(),plt.imshow(frames['P1407CAM4.jpg'].croped_image,'gray')\n"
   ]
  },
  {
   "cell_type": "code",
   "execution_count": 12,
   "metadata": {},
   "outputs": [
    {
     "data": {
      "text/plain": [
       "(<Figure size 640x480 with 1 Axes>,\n",
       " <matplotlib.image.AxesImage at 0x22a54947a60>)"
      ]
     },
     "execution_count": 12,
     "metadata": {},
     "output_type": "execute_result"
    }
   ],
   "source": [
    "\n",
    "tile = np.ones((160,160,3))\n",
    "\n",
    "\n",
    "xyz_homo  = np.column_stack((sorted_gs.xyz,np.ones((sorted_gs.xyz.shape[0],1))))\n",
    "depth = np.matmul(cam.world_to_cam,xyz_homo.T).T\n",
    "\n",
    "\n",
    "p_proj = np.matmul(cam.full_proj_transform,xyz_homo.T).T\n",
    "p_proj = p_proj/p_proj[:,3:]\n",
    "\n",
    "def proj_screen(pixel,s):\n",
    "    return ((pixel + 1)*s-1)*0.5\n",
    "pixels_gaus = proj_screen(p_proj[:,:],160)\n",
    "\n",
    "idx_sort = np.argsort(depth[:,2])\n",
    "\n",
    "\n",
    "# idx_sort = np.argsort(\n",
    "#         -np.exp(sorted_gs.vertices[\"scale_0\"] + sorted_gs.vertices[\"scale_1\"] + sorted_gs.vertices[\"scale_2\"])\n",
    "#         / (1 + np.exp(-sorted_gs.vertices[\"opacity\"])))\n",
    "\n",
    "conic = sorted_gs.conic[idx_sort]\n",
    "proj= pixels_gaus[idx_sort,0:2]\n",
    "color= sorted_gs.color[idx_sort]\n",
    "\n",
    "for idx_x,pix_x in enumerate(range(1,160)):\n",
    "    for idx_y,pix_y in enumerate(range(1,160)):\n",
    "        pixel = [pix_x,pix_y]\n",
    "        d = np.column_stack([proj[:,0] - pixel[0],proj[:,1] - pixel[1]])\n",
    "        within_bounds = (np.abs(d) <= 50 ) \n",
    "        count_within_bounds = np.sum(within_bounds, axis=1) == 2\n",
    "        color_cur = color[count_within_bounds]\n",
    "        power = -0.5 * (conic[count_within_bounds,0] * d[count_within_bounds,0] * d[count_within_bounds,0] + conic[count_within_bounds,2] * d[count_within_bounds,1] * d[count_within_bounds,1]) - conic[count_within_bounds,1] * d[count_within_bounds,0] * d[count_within_bounds,1]\n",
    "        alpha = np.minimum(0.99,  conic[count_within_bounds,3]*np.exp(power) )\n",
    "\n",
    "        idx_to_keep = (alpha>=1/255) & (power <= 0)\n",
    "        T = 1\n",
    "        idx = 0\n",
    "        clr = [0,0,0]\n",
    "        for trans,col in zip(alpha[idx_to_keep],color_cur[idx_to_keep]):\n",
    "           \n",
    "            clr += col*trans*T\n",
    "            \n",
    "            if T <= 0.0001:\n",
    "                break\n",
    "            T = T*(1-trans)\n",
    "            \n",
    "        tile[pixel[1],pixel[0],:] = np.array(clr[0:3]) + T*np.array([1,1,1])\n",
    "plt.figure(),plt.imshow(tile[:,:,0:3])"
   ]
  },
  {
   "cell_type": "code",
   "execution_count": null,
   "metadata": {},
   "outputs": [
    {
     "data": {
      "text/plain": [
       "array([4., 3., 3., ..., 8., 4., 8.])"
      ]
     },
     "execution_count": 10,
     "metadata": {},
     "output_type": "execute_result"
    }
   ],
   "source": [
    "\n",
    "fig = go.Figure()\n",
    "Plotters.scatter3d(fig,depth,depth[:,2]/np.max(depth[:,2]),3,opa = 1)\n",
    "fig.show()"
   ]
  },
  {
   "cell_type": "code",
   "execution_count": null,
   "metadata": {},
   "outputs": [
    {
     "data": {
      "text/plain": [
       "(<Figure size 640x480 with 1 Axes>,\n",
       " <matplotlib.image.AxesImage at 0x1d234972470>)"
      ]
     },
     "execution_count": 7,
     "metadata": {},
     "output_type": "execute_result"
    }
   ],
   "source": [
    "plt.figure(),plt.imshow(frames['P1407CAM1.jpg'].croped_image)"
   ]
  },
  {
   "cell_type": "code",
   "execution_count": null,
   "metadata": {},
   "outputs": [
    {
     "data": {
      "text/plain": [
       "(<Figure size 640x480 with 1 Axes>,\n",
       " <matplotlib.image.AxesImage at 0x17403b8f520>)"
      ]
     },
     "execution_count": 14,
     "metadata": {},
     "output_type": "execute_result"
    }
   ],
   "source": [
    "plt.figure(),plt.imshow(tile[:,:,0:3])"
   ]
  },
  {
   "cell_type": "code",
   "execution_count": null,
   "metadata": {},
   "outputs": [],
   "source": [
    "\n",
    "\n",
    "import numpy as np\n",
    "import matplotlib.pyplot as plt\n",
    "from matplotlib.patches import Ellipse\n",
    "import numpy as np\n",
    "import matplotlib.pyplot as plt\n",
    "from matplotlib.patches import Ellipse\n",
    "\n",
    "def plot_covariance_as_ellipse(cov, center, ax, n_std=1.0,color_ip = 'r'):\n",
    "    \"\"\"\n",
    "    Plot an ellipse representing a covariance matrix centered at a specific location.\n",
    "    cov: 2x2 covariance matrix\n",
    "    center: (x, y) tuple representing the center of the ellipse\n",
    "    ax: Matplotlib Axes object for plotting\n",
    "    color: Color of the ellipse\n",
    "    n_std: Number of standard deviations to scale the ellipse (controls spread)\n",
    "    \"\"\"\n",
    "    # Calculate eigenvalues and eigenvectors for axis length and orientation\n",
    "    eigenvalues, eigenvectors = np.linalg.eigh(cov)\n",
    "    \n",
    "    # Scale eigenvalues to get width and height of the ellipse\n",
    "    width, height = 2 * n_std * np.sqrt(eigenvalues)\n",
    "    angle = np.degrees(np.arctan2(eigenvectors[1, 0], eigenvectors[0, 0]))\n",
    "\n",
    "    # Plot ellipse with derived width, height, and angle\n",
    "    ellipse = Ellipse(xy=center, width=width, height=height, angle=angle, \n",
    "                       facecolor=color_ip, lw=2)\n",
    "    ax.add_patch(ellipse)\n",
    "\n",
    "# Define a few example covariance matrices\n",
    "covariance_matrices = [\n",
    "    np.array([[3, 1], [1, 2]]),  # Tilted, larger spread on one axis\n",
    "    np.array([[2, 0], [0, 1]]),  # Axis-aligned ellipse (wide)\n",
    "    np.array([[1, 0], [0, 2]]),  # Axis-aligned ellipse (tall)\n",
    "]\n",
    "\n",
    "\n",
    "\n",
    "# Plot the ellipses for each conic matrix\n",
    "fig, ax = plt.subplots()\n",
    "ax.set_xlim(0, 160)\n",
    "ax.set_ylim(0, 160)\n",
    "ax.set_aspect('equal', 'box')\n",
    "ax.set_title(\"Conic Matrix Ellipses\")\n",
    "ax.imshow(frames['P1407CAM4.jpg'].croped_image)\n",
    "for i, C in enumerate(range(0,11640,2)):\n",
    "    if (sorted_gs.color[i,0:3] > 0 ).all():\n",
    "        if (sorted_gs.color[i,0:3]<1 ).all():\n",
    "            plot_covariance_as_ellipse(sorted_gs.cov2d_matrix[i,0:2,0:2], pixel_or[i,0:2], ax, color_ip=sorted_gs.color[i,0:3])\n",
    "\n",
    "plt.grid(True)\n",
    "plt.xlabel(\"X-axis\")\n",
    "plt.ylabel(\"Y-axis\")\n",
    "plt.show()\n"
   ]
  },
  {
   "cell_type": "code",
   "execution_count": null,
   "metadata": {},
   "outputs": [
    {
     "data": {
      "text/plain": [
       "array([0.19556984, 0.19480544, 0.20379654], dtype=float32)"
      ]
     },
     "execution_count": 315,
     "metadata": {},
     "output_type": "execute_result"
    }
   ],
   "source": [
    "sorted_gs.color[i,0:3]"
   ]
  },
  {
   "cell_type": "code",
   "execution_count": null,
   "metadata": {},
   "outputs": [],
   "source": [
    "import numpy as np\n",
    "import matplotlib.pyplot as plt\n",
    "from matplotlib.patches import Ellipse\n",
    "\n",
    "import numpy as np\n",
    "import matplotlib.pyplot as plt\n",
    "from matplotlib.patches import Ellipse\n",
    "\n",
    "def plot_conic_ellipses(conics, positions, scale=1.0, ax=None,color_ip = [1,0,0]):\n",
    "    \"\"\"\n",
    "    Plot ellipses based on conic coefficients.\n",
    "\n",
    "    Parameters:\n",
    "    - conics: np.ndarray of shape (n, 4), where each row is [a, b, c, opacity].\n",
    "    - positions: np.ndarray of shape (n, 2), where each row is [x, y] position of the ellipse center.\n",
    "    - scale: float, scaling factor for ellipse sizes.\n",
    "    - ax: matplotlib.axes.Axes, optional, axis to plot on. If None, a new figure and axis will be created.\n",
    "    \"\"\"\n",
    "    if ax is None:\n",
    "        fig, ax = plt.subplots()\n",
    "        \n",
    "    for conic, pos,color in zip(conics, positions,color_ip):\n",
    "        a, b, c, opacity = conic\n",
    "        \n",
    "        # Calculate the eigenvalues and eigenvectors of the conic matrix\n",
    "        conic_matrix = np.array([[a, b], [b, c]])\n",
    "        eigvals, eigvecs = np.linalg.eigh(conic_matrix)\n",
    "        \n",
    "        # Width and height of the ellipse are inversely proportional to sqrt of eigenvalues\n",
    "        width = scale * (1.0 / np.sqrt(eigvals[0]))\n",
    "        height = scale * (1.0 / np.sqrt(eigvals[1]))\n",
    "        \n",
    "        # Calculate the angle of rotation in degrees\n",
    "        angle = np.degrees(np.arctan2(eigvecs[1, 0], eigvecs[0, 0]))\n",
    "        \n",
    "        # Draw the ellipse with specified opacity\n",
    "        ellipse = Ellipse(\n",
    "            xy=pos, width=width, height=height, angle=angle, facecolor=color\n",
    "        )\n",
    "        ax.add_patch(ellipse)\n",
    "        \n",
    "    # Set aspect ratio, limits, and show the plot\n",
    "    ax.set_aspect('equal')\n",
    "    ax.autoscale()\n",
    "    ax.grid(True)\n",
    "    plt.xlabel(\"X-axis\")\n",
    "    plt.ylabel(\"Y-axis\")\n",
    "    plt.title(\"Ellipses Representing Conic Sections\")\n",
    "    plt.show()\n",
    "\n",
    "\n",
    "\n",
    "\n",
    "# Plot the ellipses for each conic matrix\n",
    "fig, ax = plt.subplots()\n",
    "ax.imshow(frames['P1407CAM4.jpg'].croped_image)\n",
    "\n",
    "idx_to_keep = (sorted_gs.color[:,0] <= 1) & (sorted_gs.color[:,0] > 0) & (sorted_gs.color[:,1] <= 1) & (sorted_gs.color[:,1] > 0) & (sorted_gs.color[:,2] <= 1) & (sorted_gs.color[:,2] > 0)\n",
    "plot_conic_ellipses(sorted_gs.conic[idx_to_keep,:], pixel_or[idx_to_keep,0:2],ax = ax,color_ip =sorted_gs.color[idx_to_keep,0:3] )\n",
    "\n",
    "\n"
   ]
  },
  {
   "cell_type": "code",
   "execution_count": null,
   "metadata": {},
   "outputs": [
    {
     "data": {
      "text/plain": [
       "array([24., 24., 25., ..., 25., 24., 25.])"
      ]
     },
     "execution_count": 15,
     "metadata": {},
     "output_type": "execute_result"
    }
   ],
   "source": [
    "sorted_gs.radius"
   ]
  },
  {
   "cell_type": "code",
   "execution_count": null,
   "metadata": {},
   "outputs": [
    {
     "name": "stdout",
     "output_type": "stream",
     "text": [
      "0\n",
      "0.010000000000000009\n",
      "1\n",
      "0.00010000000000000018\n",
      "2\n"
     ]
    }
   ],
   "source": [
    "\n",
    "tile = np.zeros((160,160))\n",
    "\n",
    "xyz_homo  = np.column_stack((sorted_gs.xyz,np.ones((sorted_gs.xyz.shape[0],1))))\n",
    "depth = np.matmul(cam.world_to_cam,xyz_homo.T).T\n",
    "\n",
    "\n",
    "p_proj = np.matmul(cam.full_proj_transform,xyz_homo.T).T\n",
    "p_proj = p_proj/p_proj[:,3:]\n",
    "\n",
    "def proj_screen(pixel,s):\n",
    "    return ((pixel + 1)*s-1)*0.5\n",
    "pixels_gaus = proj_screen(p_proj[:,:],160)\n",
    "plt.figure(),plt.scatter(pixels_gaus[:,0],pixels_gaus[:,1])\n",
    "\n",
    "idx_sort = np.argsort(depth[:,2])\n",
    "conic = sorted_gs.conic[idx_sort]\n",
    "proj= pixels_gaus[idx_sort,0:2]\n",
    "color= sorted_gs.color[idx_sort]\n",
    "        \n",
    "pixel = [40,90]\n",
    "d = np.column_stack([proj[:,0] - pixel[0],proj[:,1] - pixel[1]])\n",
    "within_bounds = (np.abs(d) <= 16 ) \n",
    "count_within_bounds = np.sum(within_bounds, axis=1) == 2\n",
    "color_cur = color[count_within_bounds]\n",
    "power = -0.5 * (conic[count_within_bounds,0] * d[count_within_bounds,0] * d[count_within_bounds,0] + conic[count_within_bounds,2] * d[count_within_bounds,1] * d[count_within_bounds,1]) - conic[count_within_bounds,1] * d[count_within_bounds,0] * d[count_within_bounds,1]\n",
    "alpha = np.minimum(0.99,  conic[count_within_bounds,3]*np.exp(power)*1 )\n",
    "\n",
    "idx_to_keep = (alpha>1/255) & (power <= 0)\n",
    "T = 1\n",
    "idx = 0\n",
    "clr = [0,0,0,0]\n",
    "for trans,col in zip(alpha[idx_to_keep],color_cur[idx_to_keep]):\n",
    "    print(idx) \n",
    "\n",
    "    \n",
    "    \n",
    "    clr += 255*col[0]*trans*T\n",
    "    T = T*(1-trans)\n",
    "    if T < 0.0001:\n",
    "        break\n",
    "    print(T)\n",
    "    idx += 1\n"
   ]
  },
  {
   "cell_type": "code",
   "execution_count": null,
   "metadata": {},
   "outputs": [
    {
     "data": {
      "text/plain": [
       "2491"
      ]
     },
     "execution_count": 29,
     "metadata": {},
     "output_type": "execute_result"
    }
   ],
   "source": [
    "sum(count_within_bounds)"
   ]
  },
  {
   "cell_type": "code",
   "execution_count": null,
   "metadata": {},
   "outputs": [
    {
     "data": {
      "text/plain": [
       "(11638, 4)"
      ]
     },
     "execution_count": 10,
     "metadata": {},
     "output_type": "execute_result"
    }
   ],
   "source": [
    "sorted_gs.conic.shape"
   ]
  },
  {
   "cell_type": "code",
   "execution_count": null,
   "metadata": {},
   "outputs": [
    {
     "name": "stderr",
     "output_type": "stream",
     "text": [
      "Clipping input data to the valid range for imshow with RGB data ([0..1] for floats or [0..255] for integers).\n"
     ]
    },
    {
     "data": {
      "text/plain": [
       "(<Figure size 640x480 with 1 Axes>,\n",
       " <matplotlib.image.AxesImage at 0x231ae642dd0>)"
      ]
     },
     "execution_count": 6,
     "metadata": {},
     "output_type": "execute_result"
    }
   ],
   "source": [
    "\n",
    "        # tile[pixel[1],pixel[0]] = clr\n",
    "                    \n",
    "# plt.imshow(frames['P1407CAM2.jpg'].croped_image)\n",
    "plt.figure(),plt.imshow(tile)"
   ]
  },
  {
   "cell_type": "markdown",
   "metadata": {},
   "source": []
  },
  {
   "cell_type": "code",
   "execution_count": null,
   "metadata": {},
   "outputs": [
    {
     "data": {
      "text/plain": [
       "array([], shape=(0, 4), dtype=float64)"
      ]
     },
     "execution_count": 18,
     "metadata": {},
     "output_type": "execute_result"
    }
   ],
   "source": [
    "conic"
   ]
  },
  {
   "cell_type": "code",
   "execution_count": null,
   "metadata": {},
   "outputs": [
    {
     "name": "stderr",
     "output_type": "stream",
     "text": [
      "Clipping input data to the valid range for imshow with RGB data ([0..1] for floats or [0..255] for integers).\n"
     ]
    },
    {
     "data": {
      "text/plain": [
       "(<Figure size 640x480 with 1 Axes>,\n",
       " <matplotlib.image.AxesImage at 0x231b118d960>)"
      ]
     },
     "execution_count": 8,
     "metadata": {},
     "output_type": "execute_result"
    }
   ],
   "source": [
    "plt.figure(),plt.imshow(tile)"
   ]
  },
  {
   "cell_type": "code",
   "execution_count": null,
   "metadata": {},
   "outputs": [],
   "source": [
    "tile_x = 7\n",
    "tile_y = 8\n",
    "\n",
    "tile_coords = np.array([tile_x, tile_y])\n",
    "within_bounds = (ul <= tile_coords) & (br >= tile_coords)\n",
    "count_within_bounds = np.sum(within_bounds, axis=1) == 2\n",
    "\n",
    "\n",
    "plt.imshow(frames['P1407CAM4.jpg'].croped_image)\n",
    "\n",
    "plt.scatter((tile_x-1)*16,(tile_y-1)*16,marker = '*',color = 'magenta',s = 150)\n",
    "plt.scatter((tile_x)*16,(tile_y)*16,marker = '*',color = 'magenta',s = 150)\n",
    "\n",
    "ul_plt = ul[count_within_bounds]\n",
    "br_plt = br[count_within_bounds]\n",
    "\n",
    "unique_ulbr = np.unique(np.column_stack((ul_plt,br_plt)),axis = 0)\n",
    "for ulbr in np.column_stack((unique_ulbr)):\n",
    "    plt.scatter((ulbr[[0,2]] )*16,(ulbr[[1,3]] )*16,marker = '.',s = 150)\n"
   ]
  },
  {
   "cell_type": "code",
   "execution_count": null,
   "metadata": {},
   "outputs": [
    {
     "data": {
      "text/plain": [
       "array([0.53040826, 0.5300338 , 0.52964795, 0.9999459 ], dtype=float32)"
      ]
     },
     "execution_count": 21,
     "metadata": {},
     "output_type": "execute_result"
    }
   ],
   "source": [
    "col"
   ]
  },
  {
   "cell_type": "code",
   "execution_count": null,
   "metadata": {},
   "outputs": [
    {
     "data": {
      "text/plain": [
       "2"
      ]
     },
     "execution_count": 112,
     "metadata": {},
     "output_type": "execute_result"
    }
   ],
   "source": [
    "wak = np.array([[1,1,2,3],[3,4,5,6]])\n",
    "wak[0,2]"
   ]
  },
  {
   "cell_type": "code",
   "execution_count": null,
   "metadata": {},
   "outputs": [
    {
     "data": {
      "text/plain": [
       "(<Figure size 640x480 with 1 Axes>,\n",
       " <matplotlib.image.AxesImage at 0x27c8435ff70>)"
      ]
     },
     "execution_count": 27,
     "metadata": {},
     "output_type": "execute_result"
    }
   ],
   "source": []
  },
  {
   "cell_type": "code",
   "execution_count": null,
   "metadata": {},
   "outputs": [
    {
     "data": {
      "text/plain": [
       "[<matplotlib.lines.Line2D at 0x19891b5d6c0>,\n",
       " <matplotlib.lines.Line2D at 0x19891b5d720>]"
      ]
     },
     "execution_count": 87,
     "metadata": {},
     "output_type": "execute_result"
    }
   ],
   "source": [
    "plt.plot(sorted_gs.conic[:,0:2])\n"
   ]
  },
  {
   "cell_type": "code",
   "execution_count": null,
   "metadata": {},
   "outputs": [
    {
     "data": {
      "text/plain": [
       "array([[ 9.43793861e-01,  1.74958204e-03,  1.30889441e+00],\n",
       "       [ 7.10886345e-01, -7.44853352e-01,  1.31638762e+00],\n",
       "       [ 8.48964052e-01,  8.45039987e-01,  1.99036478e+00],\n",
       "       ...,\n",
       "       [ 7.43460715e+00, -4.12177970e-01,  2.28562070e-02],\n",
       "       [ 6.35793848e-01, -2.73070720e-01,  2.79665555e-01],\n",
       "       [ 3.04209227e+00,  2.49290590e+00,  2.05271096e+00]])"
      ]
     },
     "execution_count": 22,
     "metadata": {},
     "output_type": "execute_result"
    }
   ],
   "source": [
    "gs_filtered.cov2d"
   ]
  },
  {
   "cell_type": "code",
   "execution_count": null,
   "metadata": {},
   "outputs": [
    {
     "data": {
      "text/plain": [
       "array([[ 1.20692405e-03,  1.34218263e-03,  1.49260790e-03,\n",
       "        -1.39469409e-02],\n",
       "       [ 8.31474074e-04,  1.27231876e-03,  1.94689985e-03,\n",
       "        -1.47373009e-02],\n",
       "       [ 1.12251007e-03,  1.34737330e-03,  1.61728310e-03,\n",
       "        -1.42386162e-02],\n",
       "       ...,\n",
       "       [ 2.54795654e-02,  8.65315849e-03,  8.25695458e-03,\n",
       "        -6.07996806e-01],\n",
       "       [ 1.91356994e-02,  5.38451018e-03,  6.59602262e-03,\n",
       "        -8.50763703e-01],\n",
       "       [ 2.40389690e-02,  6.35234529e-03,  6.50863999e-03,\n",
       "        -6.29441269e-01]])"
      ]
     },
     "execution_count": 15,
     "metadata": {},
     "output_type": "execute_result"
    }
   ],
   "source": [
    "conic"
   ]
  },
  {
   "cell_type": "code",
   "execution_count": null,
   "metadata": {},
   "outputs": [
    {
     "data": {
      "text/plain": [
       "[<matplotlib.lines.Line2D at 0x1f61d572080>,\n",
       " <matplotlib.lines.Line2D at 0x1f61d5720e0>,\n",
       " <matplotlib.lines.Line2D at 0x1f61d572110>,\n",
       " <matplotlib.lines.Line2D at 0x1f61d572200>]"
      ]
     },
     "execution_count": 17,
     "metadata": {},
     "output_type": "execute_result"
    }
   ],
   "source": [
    "power = -0.5 * (conic[:,0] * d[:,0] * d[:,0] + conic[:,2] * d[:,1] * d[:,1]) - conic[:,1] * d[:,0] * d[:,1]\n",
    "plt.plot(conic)"
   ]
  },
  {
   "cell_type": "code",
   "execution_count": null,
   "metadata": {},
   "outputs": [
    {
     "data": {
      "text/plain": [
       "range(0, 10)"
      ]
     },
     "execution_count": 6,
     "metadata": {},
     "output_type": "execute_result"
    }
   ],
   "source": [
    "range(int(gs_filtered.grid[0]))"
   ]
  },
  {
   "cell_type": "code",
   "execution_count": null,
   "metadata": {},
   "outputs": [],
   "source": [
    "for idx in range(gs_filtered.grid.astype(int))"
   ]
  },
  {
   "cell_type": "code",
   "execution_count": null,
   "metadata": {},
   "outputs": [],
   "source": [
    "x 0 10 10 20 20 30\n",
    "\n",
    "\n",
    "10*i 10*i+10\n",
    "0 10  10  20  20  30\n",
    "\n"
   ]
  },
  {
   "cell_type": "code",
   "execution_count": null,
   "metadata": {},
   "outputs": [
    {
     "data": {
      "text/plain": [
       "array([[ 6.,  1., 10.,  6.],\n",
       "       [ 6.,  1., 10.,  7.],\n",
       "       [ 6.,  1., 10.,  6.],\n",
       "       ...,\n",
       "       [ 5.,  1., 10.,  6.],\n",
       "       [ 0.,  4.,  5.,  9.],\n",
       "       [ 4.,  1., 10.,  6.]])"
      ]
     },
     "execution_count": 6,
     "metadata": {},
     "output_type": "execute_result"
    }
   ],
   "source": [
    "np.unique(np.column_stack([ul,br]))"
   ]
  },
  {
   "cell_type": "code",
   "execution_count": null,
   "metadata": {},
   "outputs": [
    {
     "data": {
      "text/plain": [
       "[10.9375, 10.9375]"
      ]
     },
     "execution_count": 3,
     "metadata": {},
     "output_type": "execute_result"
    }
   ],
   "source": [
    "gs_filtered.grid"
   ]
  },
  {
   "cell_type": "code",
   "execution_count": null,
   "metadata": {},
   "outputs": [],
   "source": [
    "cam = frames['P1407CAM1.jpg'].get_croped_camera()\n",
    "xyz_homo  = np.column_stack((gs_filtered.xyz,np.ones((gs_filtered.xyz.shape[0],1))))\n",
    "\n",
    "cam.getProjectionMatrix([160,160])\n",
    "\n",
    "p_proj = np.matmul(cam.full_proj_transform,xyz_homo.T).T\n",
    "\n",
    "p_proj = np.matmul(cam.full_proj_transform,xyz_homo.T).T\n",
    "def proj_screen(pixel,s):\n",
    "    return ((pixel + 1)*s-1)*0.5\n",
    "pixel = proj_screen(p_proj[:,:],160)"
   ]
  },
  {
   "cell_type": "code",
   "execution_count": null,
   "metadata": {},
   "outputs": [
    {
     "data": {
      "text/plain": [
       "<matplotlib.collections.PathCollection at 0x1ae07393ee0>"
      ]
     },
     "execution_count": 38,
     "metadata": {},
     "output_type": "execute_result"
    }
   ],
   "source": [
    "plt.scatter(pixel[:,0],pixel[:,1],c = pixel[:,2])"
   ]
  },
  {
   "cell_type": "code",
   "execution_count": null,
   "metadata": {},
   "outputs": [
    {
     "data": {
      "text/plain": [
       "array([[-4.9508931e-03, -8.8950545e-03, -1.5263262e-04],\n",
       "       [-4.9518617e-03, -8.8544711e-03, -1.3404200e-04],\n",
       "       [-4.9569933e-03, -9.0389168e-03, -7.8461926e-05],\n",
       "       ...,\n",
       "       [-4.3032514e-03, -9.2633097e-03, -2.6156742e-04],\n",
       "       [-7.6228229e-04, -7.4242363e-03, -1.3504102e-03],\n",
       "       [-3.9518164e-03, -9.0053175e-03, -4.2192053e-04]], dtype=float32)"
      ]
     },
     "execution_count": 20,
     "metadata": {},
     "output_type": "execute_result"
    }
   ],
   "source": [
    "sorted_gs.xyz"
   ]
  },
  {
   "cell_type": "code",
   "execution_count": null,
   "metadata": {},
   "outputs": [
    {
     "data": {
      "text/plain": [
       "<matplotlib.collections.PathCollection at 0x231ae5c80d0>"
      ]
     },
     "execution_count": 22,
     "metadata": {},
     "output_type": "execute_result"
    }
   ],
   "source": [
    "\n",
    "xyz_homo  = np.column_stack((sorted_gs.xyz,np.ones((sorted_gs.xyz.shape[0],1))))\n",
    "p_proj = np.matmul(cam.full_proj_transform,xyz_homo.T).T\n",
    "def proj_screen(pixel,s):\n",
    "    return ((pixel + 1)*s-1)*0.5\n",
    "pixel = proj_screen(p_proj[:,0:2],160)\n",
    "\n",
    "xy_up_left_corner = np.minimum(sorted_gs.grid,(np.maximum(0,pixel - sorted_gs.radius[:,np.newaxis]) / sorted_gs.block_xy).astype(int))\n",
    "xy_bot_right_corner = np.minimum(sorted_gs.grid,((np.maximum(0,(pixel + sorted_gs.radius[:,np.newaxis] + sorted_gs.block_xy - 1) / sorted_gs.block_xy)))).astype(int)\n",
    "\n",
    "pixel = cam.project_on_image(xyz_homo)\n",
    "\n",
    "plt.scatter(xy_up_left_corner[:,0],xy_up_left_corner[:,1])\n",
    "plt.scatter(xy_bot_right_corner[:,0],xy_bot_right_corner[:,1])\n",
    "\n"
   ]
  },
  {
   "cell_type": "code",
   "execution_count": null,
   "metadata": {},
   "outputs": [
    {
     "data": {
      "text/plain": [
       "[<matplotlib.lines.Line2D at 0x1fc8c6ed5d0>]"
      ]
     },
     "execution_count": 29,
     "metadata": {},
     "output_type": "execute_result"
    }
   ],
   "source": [
    "plt.plot((xy_up_left_corner[:,1] -xy_bot_right_corner[:,1])*(xy_up_left_corner[:,0] -xy_bot_right_corner[:,0]))"
   ]
  },
  {
   "cell_type": "code",
   "execution_count": null,
   "metadata": {},
   "outputs": [
    {
     "ename": "TypeError",
     "evalue": "list indices must be integers or slices, not tuple",
     "output_type": "error",
     "traceback": [
      "\u001b[1;31m---------------------------------------------------------------------------\u001b[0m",
      "\u001b[1;31mTypeError\u001b[0m                                 Traceback (most recent call last)",
      "Cell \u001b[1;32mIn[11], line 2\u001b[0m\n\u001b[0;32m      1\u001b[0m wak \u001b[38;5;241m=\u001b[39m cam\u001b[38;5;241m.\u001b[39mproject_on_image(xyz_homo)\n\u001b[1;32m----> 2\u001b[0m plt\u001b[38;5;241m.\u001b[39mscatter(\u001b[43mpixel\u001b[49m\u001b[43m[\u001b[49m\u001b[43m:\u001b[49m\u001b[43m,\u001b[49m\u001b[38;5;241;43m0\u001b[39;49m\u001b[43m]\u001b[49m,pixel[:,\u001b[38;5;241m1\u001b[39m])\n\u001b[0;32m      3\u001b[0m plt\u001b[38;5;241m.\u001b[39mscatter(wak[:,\u001b[38;5;241m0\u001b[39m],wak[:,\u001b[38;5;241m1\u001b[39m])\n",
      "\u001b[1;31mTypeError\u001b[0m: list indices must be integers or slices, not tuple"
     ]
    }
   ],
   "source": [
    "wak = cam.project_on_image(xyz_homo)\n",
    "plt.scatter(pixel[:,0],pixel[:,1])\n",
    "plt.scatter(wak[:,0],wak[:,1])"
   ]
  },
  {
   "cell_type": "code",
   "execution_count": null,
   "metadata": {},
   "outputs": [
    {
     "data": {
      "text/plain": [
       "34.0"
      ]
     },
     "execution_count": 33,
     "metadata": {},
     "output_type": "execute_result"
    }
   ],
   "source": [
    "gs_filtered.radius"
   ]
  },
  {
   "cell_type": "code",
   "execution_count": null,
   "metadata": {},
   "outputs": [],
   "source": [
    "\n",
    "        \n",
    "        grid_x, grid_y = grid  # unpack grid dimensions\n",
    "\n",
    "        # Calculate min and max bounds of the rectangle\n",
    "        rect_min_x = min(grid_x, max(0, int((p[0] - max_radius) / BLOCK_X)))\n",
    "        rect_min_y = min(grid_y, max(0, int((p[1] - max_radius) / BLOCK_Y)))\n",
    "        \n",
    "        rect_max_x = min(grid_x, max(0, int((p[0] + max_radius + BLOCK_X - 1) / BLOCK_X)))\n",
    "        rect_max_y = min(grid_y, max(0, int((p[1] + max_radius + BLOCK_Y - 1) / BLOCK_Y)))\n",
    "        \n",
    "        rect_min = (rect_min_x, rect_min_y)\n",
    "        rect_max = (rect_max_x, rect_max_y)"
   ]
  },
  {
   "cell_type": "code",
   "execution_count": null,
   "metadata": {},
   "outputs": [
    {
     "ename": "FileNotFoundError",
     "evalue": "[Errno 2] No such file or directory: 'I:\\\\My Drive\\\\Research\\\\gs_data\\\\mov19_2022_03_03\\\\output\\\\ptcloud.html'",
     "output_type": "error",
     "traceback": [
      "\u001b[1;31m---------------------------------------------------------------------------\u001b[0m",
      "\u001b[1;31mFileNotFoundError\u001b[0m                         Traceback (most recent call last)",
      "Cell \u001b[1;32mIn[8], line 18\u001b[0m\n\u001b[0;32m     16\u001b[0m fig\u001b[38;5;241m.\u001b[39mupdate_traces(hovertext\u001b[38;5;241m=\u001b[39mhover_text, hoverinfo\u001b[38;5;241m=\u001b[39m\u001b[38;5;124m'\u001b[39m\u001b[38;5;124mtext\u001b[39m\u001b[38;5;124m'\u001b[39m)\n\u001b[0;32m     17\u001b[0m fig\u001b[38;5;241m.\u001b[39mshow()\n\u001b[1;32m---> 18\u001b[0m \u001b[43mfig\u001b[49m\u001b[38;5;241;43m.\u001b[39;49m\u001b[43mwrite_html\u001b[49m\u001b[43m(\u001b[49m\u001b[38;5;124;43mf\u001b[39;49m\u001b[38;5;124;43m\"\u001b[39;49m\u001b[38;5;124;43mI:/My Drive/Research/gs_data/mov19_2022_03_03/output/ptcloud.html\u001b[39;49m\u001b[38;5;124;43m\"\u001b[39;49m\u001b[43m)\u001b[49m\n\u001b[0;32m     19\u001b[0m Plotters\u001b[38;5;241m.\u001b[39mscatter_projections_from_gs(frames,gs_filtered, plot_image \u001b[38;5;241m=\u001b[39m \u001b[38;5;28;01mFalse\u001b[39;00m)\n",
      "File \u001b[1;32mc:\\Users\\Roni\\anaconda3\\lib\\site-packages\\plotly\\basedatatypes.py:3708\u001b[0m, in \u001b[0;36mBaseFigure.write_html\u001b[1;34m(self, *args, **kwargs)\u001b[0m\n\u001b[0;32m   3593\u001b[0m \u001b[38;5;124;03m\"\"\"\u001b[39;00m\n\u001b[0;32m   3594\u001b[0m \u001b[38;5;124;03mWrite a figure to an HTML file representation\u001b[39;00m\n\u001b[0;32m   3595\u001b[0m \n\u001b[1;32m   (...)\u001b[0m\n\u001b[0;32m   3704\u001b[0m \u001b[38;5;124;03m    Representation of figure as an HTML div string\u001b[39;00m\n\u001b[0;32m   3705\u001b[0m \u001b[38;5;124;03m\"\"\"\u001b[39;00m\n\u001b[0;32m   3706\u001b[0m \u001b[38;5;28;01mimport\u001b[39;00m \u001b[38;5;21;01mplotly\u001b[39;00m\u001b[38;5;21;01m.\u001b[39;00m\u001b[38;5;21;01mio\u001b[39;00m \u001b[38;5;28;01mas\u001b[39;00m \u001b[38;5;21;01mpio\u001b[39;00m\n\u001b[1;32m-> 3708\u001b[0m \u001b[38;5;28;01mreturn\u001b[39;00m pio\u001b[38;5;241m.\u001b[39mwrite_html(\u001b[38;5;28mself\u001b[39m, \u001b[38;5;241m*\u001b[39margs, \u001b[38;5;241m*\u001b[39m\u001b[38;5;241m*\u001b[39mkwargs)\n",
      "File \u001b[1;32mc:\\Users\\Roni\\anaconda3\\lib\\site-packages\\plotly\\io\\_html.py:536\u001b[0m, in \u001b[0;36mwrite_html\u001b[1;34m(fig, file, config, auto_play, include_plotlyjs, include_mathjax, post_script, full_html, animation_opts, validate, default_width, default_height, auto_open, div_id)\u001b[0m\n\u001b[0;32m    534\u001b[0m \u001b[38;5;66;03m# Write HTML string\u001b[39;00m\n\u001b[0;32m    535\u001b[0m \u001b[38;5;28;01mif\u001b[39;00m path \u001b[38;5;129;01mis\u001b[39;00m \u001b[38;5;129;01mnot\u001b[39;00m \u001b[38;5;28;01mNone\u001b[39;00m:\n\u001b[1;32m--> 536\u001b[0m     \u001b[43mpath\u001b[49m\u001b[38;5;241;43m.\u001b[39;49m\u001b[43mwrite_text\u001b[49m\u001b[43m(\u001b[49m\u001b[43mhtml_str\u001b[49m\u001b[43m)\u001b[49m\n\u001b[0;32m    537\u001b[0m \u001b[38;5;28;01melse\u001b[39;00m:\n\u001b[0;32m    538\u001b[0m     file\u001b[38;5;241m.\u001b[39mwrite(html_str)\n",
      "File \u001b[1;32mc:\\Users\\Roni\\anaconda3\\lib\\pathlib.py:1154\u001b[0m, in \u001b[0;36mPath.write_text\u001b[1;34m(self, data, encoding, errors, newline)\u001b[0m\n\u001b[0;32m   1151\u001b[0m     \u001b[38;5;28;01mraise\u001b[39;00m \u001b[38;5;167;01mTypeError\u001b[39;00m(\u001b[38;5;124m'\u001b[39m\u001b[38;5;124mdata must be str, not \u001b[39m\u001b[38;5;132;01m%s\u001b[39;00m\u001b[38;5;124m'\u001b[39m \u001b[38;5;241m%\u001b[39m\n\u001b[0;32m   1152\u001b[0m                     data\u001b[38;5;241m.\u001b[39m\u001b[38;5;18m__class__\u001b[39m\u001b[38;5;241m.\u001b[39m\u001b[38;5;18m__name__\u001b[39m)\n\u001b[0;32m   1153\u001b[0m encoding \u001b[38;5;241m=\u001b[39m io\u001b[38;5;241m.\u001b[39mtext_encoding(encoding)\n\u001b[1;32m-> 1154\u001b[0m \u001b[38;5;28;01mwith\u001b[39;00m \u001b[38;5;28;43mself\u001b[39;49m\u001b[38;5;241;43m.\u001b[39;49m\u001b[43mopen\u001b[49m\u001b[43m(\u001b[49m\u001b[43mmode\u001b[49m\u001b[38;5;241;43m=\u001b[39;49m\u001b[38;5;124;43m'\u001b[39;49m\u001b[38;5;124;43mw\u001b[39;49m\u001b[38;5;124;43m'\u001b[39;49m\u001b[43m,\u001b[49m\u001b[43m \u001b[49m\u001b[43mencoding\u001b[49m\u001b[38;5;241;43m=\u001b[39;49m\u001b[43mencoding\u001b[49m\u001b[43m,\u001b[49m\u001b[43m \u001b[49m\u001b[43merrors\u001b[49m\u001b[38;5;241;43m=\u001b[39;49m\u001b[43merrors\u001b[49m\u001b[43m,\u001b[49m\u001b[43m \u001b[49m\u001b[43mnewline\u001b[49m\u001b[38;5;241;43m=\u001b[39;49m\u001b[43mnewline\u001b[49m\u001b[43m)\u001b[49m \u001b[38;5;28;01mas\u001b[39;00m f:\n\u001b[0;32m   1155\u001b[0m     \u001b[38;5;28;01mreturn\u001b[39;00m f\u001b[38;5;241m.\u001b[39mwrite(data)\n",
      "File \u001b[1;32mc:\\Users\\Roni\\anaconda3\\lib\\pathlib.py:1119\u001b[0m, in \u001b[0;36mPath.open\u001b[1;34m(self, mode, buffering, encoding, errors, newline)\u001b[0m\n\u001b[0;32m   1117\u001b[0m \u001b[38;5;28;01mif\u001b[39;00m \u001b[38;5;124m\"\u001b[39m\u001b[38;5;124mb\u001b[39m\u001b[38;5;124m\"\u001b[39m \u001b[38;5;129;01mnot\u001b[39;00m \u001b[38;5;129;01min\u001b[39;00m mode:\n\u001b[0;32m   1118\u001b[0m     encoding \u001b[38;5;241m=\u001b[39m io\u001b[38;5;241m.\u001b[39mtext_encoding(encoding)\n\u001b[1;32m-> 1119\u001b[0m \u001b[38;5;28;01mreturn\u001b[39;00m \u001b[38;5;28;43mself\u001b[39;49m\u001b[38;5;241;43m.\u001b[39;49m\u001b[43m_accessor\u001b[49m\u001b[38;5;241;43m.\u001b[39;49m\u001b[43mopen\u001b[49m\u001b[43m(\u001b[49m\u001b[38;5;28;43mself\u001b[39;49m\u001b[43m,\u001b[49m\u001b[43m \u001b[49m\u001b[43mmode\u001b[49m\u001b[43m,\u001b[49m\u001b[43m \u001b[49m\u001b[43mbuffering\u001b[49m\u001b[43m,\u001b[49m\u001b[43m \u001b[49m\u001b[43mencoding\u001b[49m\u001b[43m,\u001b[49m\u001b[43m \u001b[49m\u001b[43merrors\u001b[49m\u001b[43m,\u001b[49m\n\u001b[0;32m   1120\u001b[0m \u001b[43m                           \u001b[49m\u001b[43mnewline\u001b[49m\u001b[43m)\u001b[49m\n",
      "\u001b[1;31mFileNotFoundError\u001b[0m: [Errno 2] No such file or directory: 'I:\\\\My Drive\\\\Research\\\\gs_data\\\\mov19_2022_03_03\\\\output\\\\ptcloud.html'"
     ]
    }
   ],
   "source": [
    "# Plots\n",
    "\n",
    "\n",
    "hover_text = [f\"Color: {color}\" for color in gs.color[:,2]]\n",
    "\n",
    "fig = go.Figure()\n",
    "Plotters.scatter3d(fig,gs.xyz,gs.color[:,2],3)\n",
    "fig.update_traces(hovertext=hover_text, hoverinfo='text')\n",
    "\n",
    "[Plotters.scatter3d(fig,frames[list(frames.keys())[cam]].voxels_with_idx,'red',3,opa = 0.2) for cam in range(4)]\n",
    "fig.show()\n",
    "Plotters.scatter_projections_from_gs(frames,gs, plot_image = False)\n",
    "\n",
    "fig = go.Figure()\n",
    "Plotters.scatter3d(fig,gs_filtered.xyz,gs_filtered.color[:,2],3,opa = 0.5)\n",
    "fig.update_traces(hovertext=hover_text, hoverinfo='text')\n",
    "fig.show()\n",
    "# fig.write_html(f\"I:/My Drive/Research/gs_data/mov19_2022_03_03/output/ptcloud.html\")\n",
    "Plotters.scatter_projections_from_gs(frames,gs_filtered, plot_image = False)\n",
    "#\n"
   ]
  },
  {
   "cell_type": "code",
   "execution_count": null,
   "metadata": {},
   "outputs": [],
   "source": [
    "scale = gs.scale[0]\n",
    "scale\n",
    "\n",
    "import numpy as np\n",
    "mod = 1\n",
    "S = np.eye(3) * gs_filtered.scale[:,np.newaxis,:]\n",
    "S\n",
    "\n",
    "rot = gs_filtered.rot\n",
    "q = (rot.T / np.linalg.norm(rot,axis =1)).T# r, x, y, z = q\n",
    "R = np.column_stack(\n",
    "    [1.0 - 2.0 * (q[:,2] * q[:,2] + q[:,3] * q[:,3]), 2.0 * (q[:,1]  * q[:,2] - q[:,0] * q[:,3] ), 2.0 * (q[:,1] * q[:,3]  + q[:,0] * q[:,2]),\n",
    "    2.0 * (q[:,1] * q[:,2] + q[:,0] * q[:,3] ), 1.0 - 2.0 * (q[:,1] * q[:,1] + q[:,3]  * q[:,3] ), 2.0 * (q[:,2] * q[:,3]  - q[:,0] * q[:,1]),\n",
    "    2.0 * (q[:,1] * q[:,3]  - q[:,0] * q[:,2]), 2.0 * (q[:,2] * q[:,3]  + q[:,0] * q[:,1]), 1.0 - 2.0 * (q[:,1] * q[:,1] + q[:,2] * q[:,2])])\n",
    "R = R.reshape(R.shape[0],3,3)\n",
    "M = S @ R  # Matrix multiplication\n",
    "Sigma = M.transpose(0,2,1) @ M\n",
    "\n",
    "image_width = 160\n",
    "image_height = 160\n",
    "image = 'P1407CAM1.jpg'\n",
    "import math\n",
    "def focal2fov(focal, pixels):\n",
    "    return 2*math.atan(pixels/(2*focal))\n",
    "\n",
    "fx = frames[image].K_crop[0,0]\n",
    "fy = frames[image].K_crop[1,1]\n",
    "\n",
    "tan_fovx = focal2fov(fx, image_width)\n",
    "tan_fovy = focal2fov(fy, image_height)\n",
    "viewmat = frames[image].world_to_cam\n",
    "\n",
    "\n",
    "\n",
    "t = np.matmul(viewmat , np.column_stack((gs_filtered.xyz,np.ones(gs_filtered.xyz.shape[0]))).T).T\n",
    "limxy = np.column_stack((np.array([1.3 * tan_fovx]*t.shape[0]), np.array([1.3 * tan_fovy]*t.shape[0])))\n",
    "t[:, :2] = np.minimum(limxy, np.maximum(-limxy, t[:,0:2]/t[:,2:])) \n",
    "zero_np = np.zeros((t.shape[0],1))\n",
    "\n",
    "\n",
    "J = np.column_stack((\n",
    "    fx / t[:,2:], zero_np, - (fx * t[:,0:1]) / (t[:,2:] ** 2),\n",
    "    zero_np, fy / t[:,2:], - (fy * t[:,1:2]) / (t[:,2:] ** 2),\n",
    "    zero_np, zero_np, zero_np\n",
    "))\n",
    "\n",
    "J = J.reshape((J.shape[0],3,3))\n",
    "\n",
    "W = np.tile(viewmat[0:3,0:3].T,(J.shape[0],1,1))\n",
    "T = W @ J\n",
    "cov = T.transpose(0,2,1) @ Sigma @ T\n",
    "\n",
    "cov = np.squeeze(np.dstack((cov[:,0,0],cov[:,0,1],cov[:,1,1])))"
   ]
  },
  {
   "cell_type": "code",
   "execution_count": null,
   "metadata": {},
   "outputs": [
    {
     "data": {
      "text/plain": [
       "(16484, 3)"
      ]
     },
     "execution_count": 50,
     "metadata": {},
     "output_type": "execute_result"
    }
   ],
   "source": [
    "np.squeeze(np.dstack((cov[:,0,0],cov[:,0,1],cov[:,1,1])))"
   ]
  },
  {
   "cell_type": "code",
   "execution_count": null,
   "metadata": {},
   "outputs": [
    {
     "data": {
      "text/plain": [
       "(16484, 3, 3)"
      ]
     },
     "execution_count": 43,
     "metadata": {},
     "output_type": "execute_result"
    }
   ],
   "source": [
    "cov.shape"
   ]
  },
  {
   "cell_type": "code",
   "execution_count": null,
   "metadata": {},
   "outputs": [
    {
     "data": {
      "text/plain": [
       "array([[ 0.96445376, -0.08434534, -0.06010166, -0.24311022],\n",
       "       [ 0.99281603, -0.10408249, -0.04416541, -0.03914728],\n",
       "       [ 0.9234634 , -0.3006936 , -0.11951439,  0.2061917 ],\n",
       "       ...,\n",
       "       [ 0.6595076 ,  0.18798089, -0.72526795,  0.06082167],\n",
       "       [ 0.74300337,  0.5309335 , -0.07509685,  0.40051985],\n",
       "       [ 0.7351371 ,  0.14402883,  0.44993064, -0.48620126]],\n",
       "      dtype=float32)"
      ]
     },
     "execution_count": 29,
     "metadata": {},
     "output_type": "execute_result"
    }
   ],
   "source": [
    "q = (rot.T / np.linalg.norm(rot,axis =1)).T\n",
    "q"
   ]
  },
  {
   "cell_type": "code",
   "execution_count": null,
   "metadata": {},
   "outputs": [
    {
     "data": {
      "text/plain": [
       "array([[ 0.27606161, -0.3983559 , -0.00470983],\n",
       "       [-0.3983559 ,  2.07604314,  0.06530628],\n",
       "       [-0.00470983,  0.06530628,  0.00236078]])"
      ]
     },
     "execution_count": 36,
     "metadata": {},
     "output_type": "execute_result"
    }
   ],
   "source": [
    "cov[0]\n"
   ]
  },
  {
   "cell_type": "code",
   "execution_count": null,
   "metadata": {},
   "outputs": [
    {
     "data": {
      "text/plain": [
       "array([ 0.2760616 , -0.39835588,  2.07604308])"
      ]
     },
     "execution_count": 34,
     "metadata": {},
     "output_type": "execute_result"
    }
   ],
   "source": [
    "covs[0][0]"
   ]
  },
  {
   "cell_type": "code",
   "execution_count": null,
   "metadata": {},
   "outputs": [
    {
     "data": {
      "text/plain": [
       "array([[ 9.9999857e-01, -7.5298308e-06, -9.4716688e-07],\n",
       "       [ 1.8136902e-06,  9.9998641e-01, -1.9317500e-05],\n",
       "       [ 7.3692609e-06,  1.7881750e-05,  9.9998659e-01]], dtype=float32)"
      ]
     },
     "execution_count": 175,
     "metadata": {},
     "output_type": "execute_result"
    }
   ],
   "source": [
    "bla = R[0].copy()\n",
    "bla"
   ]
  },
  {
   "cell_type": "code",
   "execution_count": null,
   "metadata": {},
   "outputs": [
    {
     "data": {
      "text/plain": [
       "array([array([ 0.2760616 , -0.39835588,  2.07604308]),\n",
       "       array([ 5.64345323e-09,  1.76841623e-09, -6.62277013e-10,  3.47003664e-09,\n",
       "               1.88305455e-10,  1.42008109e-10])                                 ,\n",
       "       array([ 0.96445376, -0.08434534, -0.06010166, -0.24311022], dtype=float32)],\n",
       "      dtype=object)"
      ]
     },
     "execution_count": 19,
     "metadata": {},
     "output_type": "execute_result"
    }
   ],
   "source": [
    "covs[0]"
   ]
  },
  {
   "cell_type": "code",
   "execution_count": null,
   "metadata": {},
   "outputs": [
    {
     "ename": "NameError",
     "evalue": "name 'im_name' is not defined",
     "output_type": "error",
     "traceback": [
      "\u001b[1;31m---------------------------------------------------------------------------\u001b[0m",
      "\u001b[1;31mNameError\u001b[0m                                 Traceback (most recent call last)",
      "Cell \u001b[1;32mIn[10], line 1\u001b[0m\n\u001b[1;32m----> 1\u001b[0m \u001b[43mim_name\u001b[49m\n",
      "\u001b[1;31mNameError\u001b[0m: name 'im_name' is not defined"
     ]
    }
   ],
   "source": [
    "Sigma[0]"
   ]
  },
  {
   "cell_type": "code",
   "execution_count": null,
   "metadata": {},
   "outputs": [
    {
     "ename": "ValueError",
     "evalue": "operands could not be broadcast together with remapped shapes [original->remapped]: (12365,3,3)->(12365,newaxis,newaxis) (16484,3,3)->(16484,newaxis,newaxis)  and requested shape (3,3)",
     "output_type": "error",
     "traceback": [
      "\u001b[1;31m---------------------------------------------------------------------------\u001b[0m",
      "\u001b[1;31mValueError\u001b[0m                                Traceback (most recent call last)",
      "Cell \u001b[1;32mIn[65], line 37\u001b[0m\n\u001b[0;32m     35\u001b[0m W \u001b[38;5;241m=\u001b[39m np\u001b[38;5;241m.\u001b[39mtile(viewmat[\u001b[38;5;241m0\u001b[39m:\u001b[38;5;241m3\u001b[39m,\u001b[38;5;241m0\u001b[39m:\u001b[38;5;241m3\u001b[39m]\u001b[38;5;241m.\u001b[39mT,(J\u001b[38;5;241m.\u001b[39mshape[\u001b[38;5;241m0\u001b[39m],\u001b[38;5;241m1\u001b[39m,\u001b[38;5;241m1\u001b[39m))\n\u001b[0;32m     36\u001b[0m T \u001b[38;5;241m=\u001b[39m W \u001b[38;5;241m@\u001b[39m J\n\u001b[1;32m---> 37\u001b[0m cov \u001b[38;5;241m=\u001b[39m \u001b[43mT\u001b[49m\u001b[38;5;241;43m.\u001b[39;49m\u001b[43mtranspose\u001b[49m\u001b[43m(\u001b[49m\u001b[38;5;241;43m0\u001b[39;49m\u001b[43m,\u001b[49m\u001b[38;5;241;43m2\u001b[39;49m\u001b[43m,\u001b[49m\u001b[38;5;241;43m1\u001b[39;49m\u001b[43m)\u001b[49m\u001b[43m \u001b[49m\u001b[38;5;241;43m@\u001b[39;49m\u001b[43m \u001b[49m\u001b[43mSigma\u001b[49m \u001b[38;5;241m@\u001b[39m T\n",
      "\u001b[1;31mValueError\u001b[0m: operands could not be broadcast together with remapped shapes [original->remapped]: (12365,3,3)->(12365,newaxis,newaxis) (16484,3,3)->(16484,newaxis,newaxis)  and requested shape (3,3)"
     ]
    }
   ],
   "source": [
    "image_width = 160\n",
    "image_height = 160\n",
    "image = 'P1407CAM1.jpg'\n",
    "import math\n",
    "def focal2fov(focal, pixels):\n",
    "    return 2*math.atan(pixels/(2*focal))\n",
    "\n",
    "fx = frames[image].K_crop[0,0]\n",
    "fy = frames[image].K_crop[1,1]\n",
    "\n",
    "tan_fovx = focal2fov(fx, image_width)\n",
    "tan_fovy = focal2fov(fy, image_height)\n",
    "\n",
    "viewmat = frames[image].world_to_cam\n",
    "t = np.matmul(viewmat , np.column_stack((gs_filtered.xyz,np.ones(gs_filtered.xyz.shape[0]))).T).T\n",
    "\n",
    "limx = np.array([1.3 * tan_fovx]*t.shape[0])\n",
    "limy = np.array([1.3 * tan_fovy]*t.shape[0])\n",
    "\n",
    "txtz = t[:,0] / t[:,2]\n",
    "tytz = t[:,1] / t[:,2]\n",
    "t[:,0] = np.minimum(limx, np.maximum(-limx, txtz)) * t[:,2]\n",
    "t[:,1] = np.minimum(limy, np.maximum(-limy, tytz)) * t[:,2]\n",
    "zero_np = np.zeros((t.shape[0],1))\n",
    "\n",
    "\n",
    "J = np.column_stack((\n",
    "    fx / t[:,2:], zero_np, - (fx * t[:,0:1]) / (t[:,2:] ** 2),\n",
    "    zero_np, fy / t[:,2:], - (fy * t[:,1:2]) / (t[:,2:] ** 2),\n",
    "    zero_np, zero_np, zero_np\n",
    "))\n",
    "\n",
    "J = J.reshape((J.shape[0],3,3))\n",
    "\n",
    "W = np.tile(viewmat[0:3,0:3].T,(J.shape[0],1,1))\n",
    "T = W @ J\n",
    "cov = T.transpose(0,2,1) @ Sigma @ T\n",
    "\n",
    "# np.array([float(cov[0, 0]), float(cov[0, 1]), float(cov[1, 1])])"
   ]
  },
  {
   "cell_type": "code",
   "execution_count": null,
   "metadata": {},
   "outputs": [],
   "source": [
    "import math\n",
    "\n",
    "def compute_cov_3d(scale, mod, rot):\n",
    "    # Create scaling matrix\n",
    "    S = np.eye(3) * mod * scale\n",
    "\n",
    "    # Normalize quaternion to get a valid rotation\n",
    "    q = rot / np.linalg.norm(rot)\n",
    "    r, x, y, z = q\n",
    "\n",
    "    # Compute rotation matrix from quaternion\n",
    "    R = np.array([\n",
    "        [1.0 - 2.0 * (y * y + z * z), 2.0 * (x * y - r * z), 2.0 * (x * z + r * y)],\n",
    "        [2.0 * (x * y + r * z), 1.0 - 2.0 * (x * x + z * z), 2.0 * (y * z - r * x)],\n",
    "        [2.0 * (x * z - r * y), 2.0 * (y * z + r * x), 1.0 - 2.0 * (x * x + y * y)]\n",
    "    ])\n",
    "\n",
    "    M = S @ R  # Matrix multiplication\n",
    "\n",
    "    # Compute 3D world covariance matrix Sigma\n",
    "    Sigma = M.T @ M\n",
    "    cov_3d = np.zeros(6, dtype=float)\n",
    "    # Covariance is symmetric; store upper right\n",
    "    cov_3d[0] = Sigma[0, 0]\n",
    "    cov_3d[1] = Sigma[0, 1]\n",
    "    cov_3d[2] = Sigma[0, 2]\n",
    "    cov_3d[3] = Sigma[1, 1]\n",
    "    cov_3d[4] = Sigma[1, 2]\n",
    "    cov_3d[5] = Sigma[2, 2]\n",
    "\n",
    "    # Covariance is symmetric; store upper right\n",
    "    return cov_3d,q\n",
    "\n",
    "def compute_cov_2d(mean,fx,fy,tan_fovx,tan_fovy,cov_3d,viewmat):\n",
    "\n",
    "    t = np.matmul(viewmat , np.append(mean,1)).T\n",
    "\n",
    " \n",
    "    limx = 1.3 * tan_fovx\n",
    "    limy = 1.3 * tan_fovy\n",
    "    txtz = t[0] / t[2]\n",
    "    tytz = t[1] / t[2]\n",
    "    t[0] = min(limx, max(-limx, txtz)) * t[2]\n",
    "    t[1] = min(limy, max(-limy, tytz)) * t[2]\n",
    "\n",
    "    # Compute Jacobian matrix J\n",
    "    J = np.array([\n",
    "        [fx / t[2], 0.0, - (fx * t[0]) / (t[2] ** 2)],\n",
    "        [0.0, fy / t[2], - (fy * t[1]) / (t[2] ** 2)],\n",
    "        [0, 0, 0]\n",
    "    ])\n",
    "\n",
    "\n",
    "    W = viewmat[0:3,0:3].T\n",
    "    # Compute T matrix\n",
    "    T = W @ J  # Matrix multiplication\n",
    "    # Construct Vk matrix (3D covariance matrix)\n",
    "    Vrk = np.array([\n",
    "        [cov_3d[0], cov_3d[1], cov_3d[2]],\n",
    "        [cov_3d[1], cov_3d[3], cov_3d[4]],\n",
    "        [cov_3d[2], cov_3d[4], cov_3d[5]]\n",
    "    ])\n",
    "\n",
    " \n",
    "\n",
    "    # Compute the covariance matrix\n",
    "    cov = T.T @ Vrk.T @ T\n",
    "\n",
    "    # Apply low-pass filter: ensure Gaussian is at least one pixel wide/high\n",
    "    # cov[0, 0] += 0.3\n",
    "    # cov[1, 1] += 0.3\n",
    "\n",
    "    return np.array([float(cov[0, 0]), float(cov[0, 1]), float(cov[1, 1])])\n",
    "\n",
    "\n",
    "\n",
    "def focal2fov(focal, pixels):\n",
    "    return 2*math.atan(pixels/(2*focal))\n",
    "\n",
    "def calc_det(cov):\n",
    "    return (cov[0] * cov[2] - cov[1] * cov[1])\n",
    "\n",
    "def calc_conic(cov,det):\n",
    "    det_inv = 1 / det\n",
    "    return  [cov[2] * det_inv, -cov[1] * det_inv, cov[0] * det_inv ]"
   ]
  },
  {
   "cell_type": "code",
   "execution_count": null,
   "metadata": {},
   "outputs": [
    {
     "ename": "NameError",
     "evalue": "name 'image' is not defined",
     "output_type": "error",
     "traceback": [
      "\u001b[1;31m---------------------------------------------------------------------------\u001b[0m",
      "\u001b[1;31mNameError\u001b[0m                                 Traceback (most recent call last)",
      "Cell \u001b[1;32mIn[8], line 4\u001b[0m\n\u001b[0;32m      1\u001b[0m image_width \u001b[38;5;241m=\u001b[39m \u001b[38;5;241m160\u001b[39m\n\u001b[0;32m      2\u001b[0m image_height \u001b[38;5;241m=\u001b[39m \u001b[38;5;241m160\u001b[39m\n\u001b[1;32m----> 4\u001b[0m fx \u001b[38;5;241m=\u001b[39m frames[\u001b[43mimage\u001b[49m]\u001b[38;5;241m.\u001b[39mK_crop[\u001b[38;5;241m0\u001b[39m,\u001b[38;5;241m0\u001b[39m]\n\u001b[0;32m      5\u001b[0m fy \u001b[38;5;241m=\u001b[39m frames[image]\u001b[38;5;241m.\u001b[39mK_crop[\u001b[38;5;241m1\u001b[39m,\u001b[38;5;241m1\u001b[39m]\n\u001b[0;32m      7\u001b[0m tan_fovx \u001b[38;5;241m=\u001b[39m focal2fov(fx, image_width)\n",
      "\u001b[1;31mNameError\u001b[0m: name 'image' is not defined"
     ]
    }
   ],
   "source": [
    "\n",
    "image_width = 160\n",
    "image_height = 160\n",
    "\n",
    "fx = frames[image].K_crop[0,0]\n",
    "fy = frames[image].K_crop[1,1]\n",
    "\n",
    "tan_fovx = focal2fov(fx, image_width)\n",
    "tan_fovy = focal2fov(fy, image_height)\n",
    "viewmat = frames[image].world_to_cam\n",
    "\n",
    "\n",
    "\n",
    "input_file = \"D:/Documents/gray_dense_grad/output2/position_lr_init_1.6e-05_scaling_lr0.01_dens_iter500_featur0.0025/point_cloud/iteration_15000/point_cloud.ply\"\n",
    "pos = gs_filtered.xyz\n",
    "color = gs_filtered.color\n",
    "scale = gs_filtered.scale\n",
    "rot = gs_filtered.rot\n",
    "\n"
   ]
  },
  {
   "cell_type": "code",
   "execution_count": null,
   "metadata": {},
   "outputs": [
    {
     "data": {
      "text/plain": [
       "array([[ 0.48336487, -0.49025624,  0.72526355,  0.00099953],\n",
       "       [-0.8753999 , -0.27616153,  0.39674907,  0.00096338],\n",
       "       [ 0.00578118, -0.82667021, -0.56265704,  0.27667279]])"
      ]
     },
     "execution_count": 44,
     "metadata": {},
     "output_type": "execute_result"
    }
   ],
   "source": [
    "import numpy as np\n",
    "import matplotlib.pyplot as plt\n",
    "from matplotlib.patches import Ellipse\n",
    "\n",
    "import numpy as np\n",
    "import matplotlib.pyplot as plt\n",
    "from matplotlib.patches import Ellipse\n",
    "\n",
    "def plot_conic_ellipses(conics, positions, scale=1.0, ax=None):\n",
    "    \"\"\"\n",
    "    Plot ellipses based on conic coefficients.\n",
    "\n",
    "    Parameters:\n",
    "    - conics: np.ndarray of shape (n, 4), where each row is [a, b, c, opacity].\n",
    "    - positions: np.ndarray of shape (n, 2), where each row is [x, y] position of the ellipse center.\n",
    "    - scale: float, scaling factor for ellipse sizes.\n",
    "    - ax: matplotlib.axes.Axes, optional, axis to plot on. If None, a new figure and axis will be created.\n",
    "    \"\"\"\n",
    "    if ax is None:\n",
    "        fig, ax = plt.subplots()\n",
    "        \n",
    "    for conic, pos in zip(conics, positions):\n",
    "        a, b, c, opacity = conic\n",
    "        \n",
    "        # Calculate the eigenvalues and eigenvectors of the conic matrix\n",
    "        conic_matrix = np.array([[a, b], [b, c]])\n",
    "        eigvals, eigvecs = np.linalg.eigh(conic_matrix)\n",
    "        \n",
    "        # Width and height of the ellipse are inversely proportional to sqrt of eigenvalues\n",
    "        width = scale * (1.0 / np.sqrt(eigvals[0]))\n",
    "        height = scale * (1.0 / np.sqrt(eigvals[1]))\n",
    "        \n",
    "        # Calculate the angle of rotation in degrees\n",
    "        angle = np.degrees(np.arctan2(eigvecs[1, 0], eigvecs[0, 0]))\n",
    "        \n",
    "        # Draw the ellipse with specified opacity\n",
    "        ellipse = Ellipse(\n",
    "            xy=pos, width=width, height=height, angle=angle,\n",
    "            edgecolor='blue', facecolor='cyan'\n",
    "        )\n",
    "        ax.add_patch(ellipse)\n",
    "        \n",
    "    # Set aspect ratio, limits, and show the plot\n",
    "    ax.set_aspect('equal')\n",
    "    ax.autoscale()\n",
    "    ax.grid(True)\n",
    "    plt.xlabel(\"X-axis\")\n",
    "    plt.ylabel(\"Y-axis\")\n",
    "    plt.title(\"Ellipses Representing Conic Sections\")\n",
    "    plt.show()\n",
    "\n",
    "\n",
    "\n",
    "\n",
    "# Plot the ellipses for each conic matrix\n",
    "fig, ax = plt.subplots()\n",
    "ax.imshow(frames['P1407CAM4.jpg'].croped_image)\n",
    "plot_conic_ellipses(sorted_gs.conic[0::100], pixel_or[0::100,0:2],ax = ax)\n",
    "\n",
    "\n",
    "\n",
    "\n",
    "import numpy as np\n",
    "import matplotlib.pyplot as plt\n",
    "from matplotlib.patches import Ellipse\n",
    "import numpy as np\n",
    "import matplotlib.pyplot as plt\n",
    "from matplotlib.patches import Ellipse\n",
    "\n",
    "def plot_covariance_as_ellipse(cov, center, ax, color='blue', n_std=1.0):\n",
    "    \"\"\"\n",
    "    Plot an ellipse representing a covariance matrix centered at a specific location.\n",
    "    cov: 2x2 covariance matrix\n",
    "    center: (x, y) tuple representing the center of the ellipse\n",
    "    ax: Matplotlib Axes object for plotting\n",
    "    color: Color of the ellipse\n",
    "    n_std: Number of standard deviations to scale the ellipse (controls spread)\n",
    "    \"\"\"\n",
    "    # Calculate eigenvalues and eigenvectors for axis length and orientation\n",
    "    eigenvalues, eigenvectors = np.linalg.eigh(cov)\n",
    "    \n",
    "    # Scale eigenvalues to get width and height of the ellipse\n",
    "    width, height = 2 * n_std * np.sqrt(eigenvalues)\n",
    "    angle = np.degrees(np.arctan2(eigenvectors[1, 0], eigenvectors[0, 0]))\n",
    "\n",
    "    # Plot ellipse with derived width, height, and angle\n",
    "    ellipse = Ellipse(xy=center, width=width, height=height, angle=angle, \n",
    "                      edgecolor=color, fc='None', lw=2)\n",
    "    ax.add_patch(ellipse)\n",
    "\n",
    "# Define a few example covariance matrices\n",
    "covariance_matrices = [\n",
    "    np.array([[3, 1], [1, 2]]),  # Tilted, larger spread on one axis\n",
    "    np.array([[2, 0], [0, 1]]),  # Axis-aligned ellipse (wide)\n",
    "    np.array([[1, 0], [0, 2]]),  # Axis-aligned ellipse (tall)\n",
    "]\n",
    "\n",
    "\n",
    "\n",
    "# Plot the ellipses for each conic matrix\n",
    "fig, ax = plt.subplots()\n",
    "ax.set_xlim(0, 160)\n",
    "ax.set_ylim(0, 160)\n",
    "ax.set_aspect('equal', 'box')\n",
    "ax.set_title(\"Conic Matrix Ellipses\")\n",
    "\n",
    "for i, C in enumerate(range(500)):\n",
    "    plot_covariance_as_ellipse(sorted_gs.cov2d_matrix[i,0:2,0:2], pixel_or[i,0:2], ax, color=f'C{i}')\n",
    "\n",
    "plt.grid(True)\n",
    "plt.xlabel(\"X-axis\")\n",
    "plt.ylabel(\"Y-axis\")\n",
    "plt.show()\n"
   ]
  },
  {
   "cell_type": "code",
   "execution_count": null,
   "metadata": {},
   "outputs": [
    {
     "name": "stderr",
     "output_type": "stream",
     "text": [
      "c:\\Users\\Roni\\anaconda3\\lib\\site-packages\\numpy\\core\\shape_base.py:121: VisibleDeprecationWarning:\n",
      "\n",
      "Creating an ndarray from ragged nested sequences (which is a list-or-tuple of lists-or-tuples-or ndarrays with different lengths or shapes) is deprecated. If you meant to do this, you must specify 'dtype=object' when creating the ndarray.\n",
      "\n"
     ]
    }
   ],
   "source": [
    "\n",
    "mod = 1.0\n",
    "\n",
    "idx = -1\n",
    "mean = pos\n",
    "\n",
    "def get_cov(scale,rot,mean,viewmat,fx,fy,tan_fovx,tan_fovy):\n",
    "    cov_3d,q = compute_cov_3d(scale, 1, rot)\n",
    "    cov = compute_cov_2d(mean,fx,fy,tan_fovx,tan_fovy,cov_3d,viewmat)\n",
    "    return cov,cov_3d,q\n",
    "\n",
    "# det = calc_det(cov)\n",
    "# conic = calc_conic(cov,det)\n",
    "\n",
    "# covs = np.vstack([get_cov(scale,rot,mean,viewmat,fx,fy,tan_fovx,tan_fovy) for scale,rot,mean in zip(scale,rot,mean)])\n",
    "\n",
    "homo_pos = frames[image].add_homo_coords(pos)\n",
    "proj = frames[image].project_on_image(homo_pos,croped_camera_matrix = True)\n"
   ]
  },
  {
   "cell_type": "code",
   "execution_count": null,
   "metadata": {},
   "outputs": [
    {
     "data": {
      "text/plain": [
       "array([array([ 0.2760616 , -0.39835588,  2.07604308]),\n",
       "       array([ 5.64345323e-09,  1.76841623e-09, -6.62277013e-10,  3.47003664e-09,\n",
       "               1.88305455e-10,  1.42008109e-10])                                 ,\n",
       "       array([ 0.96445376, -0.08434534, -0.06010166, -0.24311022], dtype=float32)],\n",
       "      dtype=object)"
      ]
     },
     "execution_count": 18,
     "metadata": {},
     "output_type": "execute_result"
    }
   ],
   "source": [
    "covs[0]"
   ]
  },
  {
   "cell_type": "code",
   "execution_count": null,
   "metadata": {},
   "outputs": [],
   "source": [
    "\n",
    "image = 'P1407CAM1.jpg'\n",
    "\n",
    "\n",
    "pos = gs_filtered.xyz\n",
    "color = gs_filtered.color\n",
    "scale = gs_filtered.scale\n",
    "rot = gs_filtered.rot\n",
    "indices1 = (color[:,2] >= 0.1) & (color[:,2] < 0.98) & (color[:,3] < 1)\n",
    "cov = gs_filtered.cov2d\n",
    "indices = (np.abs(cov[:,1])>1) & (np.abs(cov[:,2])>1) & (np.abs(cov[:,0])>1) & (color[:,2] >= 0.1) & (color[:,2] < 0.98) & (color[:,3] < 1) & (np.abs(cov[:,1])<100) & (np.abs(cov[:,2])<100) & (np.abs(cov[:,0])<100)\n",
    "for_ell = gs_filtered.cov2d[indices]\n",
    "homo_pos = frames[image].add_homo_coords(gs_filtered.xyz)\n",
    "proj = frames[image].project_on_image(homo_pos,croped_camera_matrix = True)\n",
    "\n",
    "\n",
    "for_ell_proj = proj[indices]\n",
    "color_ell = gs_filtered.color[indices]"
   ]
  },
  {
   "cell_type": "code",
   "execution_count": null,
   "metadata": {},
   "outputs": [
    {
     "data": {
      "text/plain": [
       "array([[-0.00471224, -0.00875376, -0.00031085],\n",
       "       [-0.00471327, -0.00877849, -0.00027387],\n",
       "       [-0.0046862 , -0.00846439, -0.00037821],\n",
       "       ...,\n",
       "       [-0.00077174, -0.00744362, -0.00139848],\n",
       "       [-0.00078346, -0.00743715, -0.0013813 ],\n",
       "       [-0.00430325, -0.00926331, -0.00026157]], dtype=float32)"
      ]
     },
     "execution_count": 71,
     "metadata": {},
     "output_type": "execute_result"
    }
   ],
   "source": [
    "for_ell_proj"
   ]
  },
  {
   "cell_type": "code",
   "execution_count": null,
   "metadata": {},
   "outputs": [
    {
     "name": "stderr",
     "output_type": "stream",
     "text": [
      "C:\\Users\\Roni\\AppData\\Local\\Temp\\ipykernel_25800\\586283624.py:24: RuntimeWarning:\n",
      "\n",
      "invalid value encountered in sqrt\n",
      "\n"
     ]
    }
   ],
   "source": [
    "import numpy as np\n",
    "import matplotlib.pyplot as plt\n",
    "from matplotlib.patches import Ellipse\n",
    "\n",
    "def plot_gaussian_ellipse(mean, cov_2d, ax=None, n_std=1.0, **kwargs):\n",
    "    \"\"\"Plot a 2D Gaussian as an ellipse.\"\"\"\n",
    "    if ax is None:\n",
    "        ax = plt.gca()\n",
    "\n",
    "    # Covariance matrix as 2x2\n",
    "    cov_matrix = np.array([[cov_2d[0], cov_2d[1]], \n",
    "                           [cov_2d[1], cov_2d[2]]])\n",
    "\n",
    "    # Eigenvalues and eigenvectors for the orientation and size\n",
    "    eigenvals, eigenvecs = np.linalg.eigh(cov_matrix)\n",
    "    order = eigenvals.argsort()[::-1]\n",
    "    eigenvals, eigenvecs = eigenvals[order], eigenvecs[:, order]\n",
    "\n",
    "    # Calculate the angle of the ellipse (in degrees)\n",
    "    vx, vy = eigenvecs[:, 0]\n",
    "    theta = np.degrees(np.arctan2(vy, vx))\n",
    "\n",
    "    # Ellipse parameters\n",
    "    width, height = 2 * n_std * np.sqrt(eigenvals)\n",
    "    \n",
    "    # Create the ellipse\n",
    "    ell = Ellipse(xy=mean, width=width, height=height, angle=theta, **kwargs)\n",
    "    \n",
    "    ax.add_patch(ell)\n",
    "    return width, height,theta\n",
    "\n",
    "\n",
    "# Plot the Gaussian as an ellipse\n",
    "fig, ax = plt.subplots()\n",
    "ax.set_xlim(0, 160)\n",
    "ax.set_ylim(0,160)\n",
    "# plt.scatter(proj[:,0],proj[:,1],s = 1)\n",
    "\n",
    "# Plot the Gaussian with 1 standard deviation\n",
    "b = [plot_gaussian_ellipse(for_ell_proj, for_ell, ax=ax, facecolor = color_ell[0:3], alpha=color_ell[3]) for for_ell_proj,for_ell,color_ell in zip(for_ell_proj[0:1500],for_ell[0:1500],color_ell[0:1500])]\n",
    "# Show the plot\n",
    "plt.grid(True)\n",
    "plt.show()"
   ]
  },
  {
   "cell_type": "code",
   "execution_count": null,
   "metadata": {},
   "outputs": [
    {
     "data": {
      "text/plain": [
       "array([[ 1.31638512e+02,  5.60281618e+01,  1.20569344e+02],\n",
       "       [ 1.73860418e+02, -6.57871162e+01,  7.50580432e+01],\n",
       "       [ 1.04310354e+02,  3.11110422e+01,  6.51293764e+01],\n",
       "       ...,\n",
       "       [ 5.11134414e-01, -1.07170627e-01,  3.54871447e-01],\n",
       "       [ 4.21098920e+00,  9.85440507e+00,  2.51314231e+01],\n",
       "       [ 1.18874675e+00,  2.02123437e+00,  4.89711273e+00]])"
      ]
     },
     "execution_count": 122,
     "metadata": {},
     "output_type": "execute_result"
    }
   ],
   "source": [
    "for_ell[:,0]*for_ell[:,2] - for_ell[:,1]*for_ell[:,1] "
   ]
  },
  {
   "cell_type": "code",
   "execution_count": null,
   "metadata": {},
   "outputs": [
    {
     "ename": "IndexError",
     "evalue": "index 0 is out of bounds for axis 0 with size 0",
     "output_type": "error",
     "traceback": [
      "\u001b[1;31m---------------------------------------------------------------------------\u001b[0m",
      "\u001b[1;31mIndexError\u001b[0m                                Traceback (most recent call last)",
      "Cell \u001b[1;32mIn[277], line 4\u001b[0m\n\u001b[0;32m      2\u001b[0m cov_2d \u001b[38;5;241m=\u001b[39m for_ell\n\u001b[0;32m      3\u001b[0m \u001b[38;5;66;03m# Covariance matrix as 2x2\u001b[39;00m\n\u001b[1;32m----> 4\u001b[0m cov_matrix \u001b[38;5;241m=\u001b[39m np\u001b[38;5;241m.\u001b[39marray([[\u001b[43mcov_2d\u001b[49m\u001b[43m[\u001b[49m\u001b[38;5;241;43m0\u001b[39;49m\u001b[43m]\u001b[49m, cov_2d[\u001b[38;5;241m1\u001b[39m]], \n\u001b[0;32m      5\u001b[0m                         [cov_2d[\u001b[38;5;241m1\u001b[39m], cov_2d[\u001b[38;5;241m2\u001b[39m]]])\n\u001b[0;32m      7\u001b[0m \u001b[38;5;66;03m# Eigenvalues and eigenvectors for the orientation and size\u001b[39;00m\n\u001b[0;32m      8\u001b[0m eigenvals, eigenvecs \u001b[38;5;241m=\u001b[39m np\u001b[38;5;241m.\u001b[39mlinalg\u001b[38;5;241m.\u001b[39meigh(cov_matrix)\n",
      "\u001b[1;31mIndexError\u001b[0m: index 0 is out of bounds for axis 0 with size 0"
     ]
    }
   ],
   "source": [
    "n_std = 1\n",
    "cov_2d = for_ell\n",
    "# Covariance matrix as 2x2\n",
    "cov_matrix = np.array([[cov_2d[0], cov_2d[1]], \n",
    "                        [cov_2d[1], cov_2d[2]]])\n",
    "\n",
    "# Eigenvalues and eigenvectors for the orientation and size\n",
    "eigenvals, eigenvecs = np.linalg.eigh(cov_matrix)\n",
    "order = eigenvals.argsort()[::-1]\n",
    "eigenvals, eigenvecs = eigenvals[order], eigenvecs[:, order]\n",
    "\n",
    "# Calculate the angle of the ellipse (in degrees)\n",
    "vx, vy = eigenvecs[:, 0]\n",
    "theta = np.degrees(np.arctan2(vy, vx))\n",
    "\n",
    "# Ellipse parameters\n",
    "width, height = 2 * n_std * np.sqrt(eigenvals)"
   ]
  },
  {
   "cell_type": "code",
   "execution_count": null,
   "metadata": {},
   "outputs": [
    {
     "data": {
      "text/plain": [
       "array([[ 84.19078169,  47.06180881],\n",
       "       [ 76.25174261,  87.23355188],\n",
       "       [ 84.18230826,  47.46902143],\n",
       "       ...,\n",
       "       [ 44.42871227,  63.13493924],\n",
       "       [117.26919451,  99.38322307],\n",
       "       [117.19633068,  99.37221166]])"
      ]
     },
     "execution_count": 119,
     "metadata": {},
     "output_type": "execute_result"
    }
   ],
   "source": [
    "for_ell_proj"
   ]
  },
  {
   "cell_type": "code",
   "execution_count": null,
   "metadata": {},
   "outputs": [
    {
     "data": {
      "text/plain": [
       "'P1407CAM1.jpg'"
      ]
     },
     "execution_count": 275,
     "metadata": {},
     "output_type": "execute_result"
    }
   ],
   "source": [
    "im_name"
   ]
  },
  {
   "cell_type": "code",
   "execution_count": null,
   "metadata": {},
   "outputs": [],
   "source": [
    "plydata = PlyData.read(input_file)\n",
    "im_name = list(frames.keys())[0]\n",
    "color = gs.color\n",
    "pos = gs.xyz\n",
    "\n",
    "# projection\n",
    "fig,axs = plt.subplots(2,2)\n",
    "for cam in range(4):\n",
    "    image = f'{im_name.split(\"CAM\")[0]}CAM{cam+1}.jpg'\n",
    "    indices =(color[:,0] < 0.2) & (color[:,1] < 1) &(color[:,2] < 1) & (color[:,3] < 1) & (color[:,0] > 0) & (color[:,1] > 0) &(color[:,2] > 0) \n",
    "\n",
    "    splat = pos[indices,:]\n",
    "    colors = color[indices, :]  # Filtered colors (RGB or RGBA)\n",
    "    colors[:,3] = colors[:,3]\n",
    "    homo_voxels_with_idx = frames[image].add_homo_coords(splat[:,0:3])\n",
    "    proj = frames[image].project_on_image(homo_voxels_with_idx,croped_camera_matrix = True)\n",
    "    axs[cam // 2,cam % 2].imshow(frames[image].croped_image)\n",
    "    axs[cam // 2,cam % 2].scatter(proj[:,0],proj[:,1],s = 10,c = colors)\n",
    "    # axs[cam // 2,cam % 2].scatter(proj[:,0],proj[:,1],s = 10,c = 'red')"
   ]
  }
 ],
 "metadata": {
  "kernelspec": {
   "display_name": "base",
   "language": "python",
   "name": "python3"
  },
  "language_info": {
   "codemirror_mode": {
    "name": "ipython",
    "version": 3
   },
   "file_extension": ".py",
   "mimetype": "text/x-python",
   "name": "python",
   "nbconvert_exporter": "python",
   "pygments_lexer": "ipython3",
   "version": "3.10.9"
  }
 },
 "nbformat": 4,
 "nbformat_minor": 2
}
