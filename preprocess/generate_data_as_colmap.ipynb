{
 "cells": [
  {
   "cell_type": "code",
   "execution_count": 1,
   "metadata": {},
   "outputs": [],
   "source": [
    "from Camera import Camera\n",
    "import numpy as np\n",
    "from Frame import Frame\n",
    "\n",
    "import matplotlib.pyplot as plt\n",
    "from GenerateGsInput import GenerateGsInput\n",
    "import Plotters\n",
    "import plotly.graph_objects as go\n",
    "import scipy.io\n",
    "import pandas as pd\n",
    "import Utils\n",
    "\n",
    "%matplotlib qt\n",
    "\n",
    "# load hull\n",
    "path = 'I:/My Drive/Research/gs_data/mov19_2022_03_03/'\n",
    "real_coord = scipy.io.loadmat(f'{path}/3d_pts/real_coord.mat')['all_coords']\n",
    "points_3d = {body_wing : pd.DataFrame(Utils.load_hull(body_wing,path),columns = ['X','Y','Z','frame']) for body_wing in ['body','rwing','lwing']}\n"
   ]
  },
  {
   "cell_type": "code",
   "execution_count": 2,
   "metadata": {},
   "outputs": [],
   "source": [
    "# initilize objects\n",
    "frames = [550]#list(range(500,700,13))\n",
    "\n",
    "image_name,points_in_idx = Utils.define_frames(frames,points_3d)\n",
    "cameras = {f'cam{cam + 1}':Camera(path,cam) for cam in range(4)}\n",
    "frames = {im_name:Frame(path,im_name,points_in_idx[im_name.split('CAM')[0]],real_coord,idx) for idx,im_name in enumerate(image_name)}"
   ]
  },
  {
   "cell_type": "code",
   "execution_count": 3,
   "metadata": {},
   "outputs": [],
   "source": [
    "# map 3d voxels to 2d pixels\n",
    "[frames[im_name].map_3d_2d(croped_image = True) for im_name in frames.keys()]\n",
    "voxel_dict,colors_dict = Utils.get_dict_for_points3d(frames)\n",
    "\n",
    "ggs = GenerateGsInput(path,frames)\n",
    "ggs.save_croped_images(croped_image = False)\n",
    "ggs.generate_camera_text(croped_image = False)\n",
    "ggs.generate_image_text()\n",
    "ggs.generate_points3d_text(voxel_dict,colors_dict)\n",
    "\n"
   ]
  },
  {
   "cell_type": "code",
   "execution_count": 13,
   "metadata": {},
   "outputs": [],
   "source": [
    "im_name = list(frames.keys())[0]\n",
    "fig = go.Figure()\n",
    "Plotters.scatter3d(fig,frames[im_name].points_in_ew_frame,'red',3)\n",
    "fig.show()\n"
   ]
  },
  {
   "cell_type": "code",
   "execution_count": 14,
   "metadata": {},
   "outputs": [
    {
     "ename": "NameError",
     "evalue": "name 'image' is not defined",
     "output_type": "error",
     "traceback": [
      "\u001b[1;31m---------------------------------------------------------------------------\u001b[0m",
      "\u001b[1;31mNameError\u001b[0m                                 Traceback (most recent call last)",
      "Cell \u001b[1;32mIn[14], line 1\u001b[0m\n\u001b[1;32m----> 1\u001b[0m homo_voxels_with_idx \u001b[38;5;241m=\u001b[39m frames[\u001b[43mimage\u001b[49m]\u001b[38;5;241m.\u001b[39madd_homo_coords(frames[image]\u001b[38;5;241m.\u001b[39mvoxels_with_idx[:,\u001b[38;5;241m0\u001b[39m:\u001b[38;5;241m3\u001b[39m])\n\u001b[0;32m      2\u001b[0m homo_voxels_with_idx\u001b[38;5;241m.\u001b[39mshape\n",
      "\u001b[1;31mNameError\u001b[0m: name 'image' is not defined"
     ]
    }
   ],
   "source": [
    "homo_voxels_with_idx = frames[image].add_homo_coords(frames[image].voxels_with_idx[:,0:3])\n",
    "homo_voxels_with_idx.shape"
   ]
  },
  {
   "cell_type": "code",
   "execution_count": 15,
   "metadata": {},
   "outputs": [],
   "source": [
    "# plots\n",
    "# camera ptcloud\n",
    "color_pts = ['red','green','blue','black']\n",
    "fig = go.Figure()\n",
    "im_name = list(frames.keys())[0]\n",
    "for cam in range(4):\n",
    "    image = f'{im_name.split(\"CAM\")[0]}CAM{cam+1}.jpg'\n",
    "    Plotters.scatter3d(fig,frames[image].voxels_with_idx,color_pts[cam],3)\n",
    "fig.show()\n",
    "\n",
    "\n",
    "\n",
    "# projection\n",
    "fig,axs = plt.subplots(2,2)\n",
    "for cam in range(4):\n",
    "    image = f'{im_name.split(\"CAM\")[0]}CAM{cam+1}.jpg'\n",
    "    homo_voxels_with_idx = frames[image].add_homo_coords(frames[image].voxels_with_idx[:,0:3])\n",
    "    proj = frames[image].project_on_image(homo_voxels_with_idx,croped_camera_matrix = False)\n",
    "    axs[cam // 2,cam % 2].imshow(frames[image].image)\n",
    "    axs[cam // 2,cam % 2].scatter(proj[:,0],proj[:,1],s = 3,c = 'red')\n"
   ]
  },
  {
   "cell_type": "code",
   "execution_count": 6,
   "metadata": {},
   "outputs": [
    {
     "data": {
      "text/plain": [
       "'RGB'"
      ]
     },
     "execution_count": 6,
     "metadata": {},
     "output_type": "execute_result"
    }
   ],
   "source": [
    "from colmap_loader import read_extrinsics_text, read_intrinsics_text, qvec2rotmat, \\\n",
    "    read_extrinsics_binary, read_intrinsics_binary, read_points3D_binary, read_points3D_text\n",
    "\n",
    "\n",
    "cameras_extrinsic_file = f'{ggs.sparse_dir}/images.txt'\n",
    "cameras_intrinsic_file = f'{ggs.sparse_dir}/cameras.txt'\n",
    "txt_path =f'{ggs.sparse_dir}/points3D.txt'\n",
    "\n",
    "xyz, rgb, _ = read_points3D_text(txt_path)\n",
    "\n",
    "cam_extrinsics = read_extrinsics_text(cameras_extrinsic_file)\n",
    "cam_intrinsics = read_intrinsics_text(cameras_intrinsic_file)\n",
    "\n",
    "from PIL import Image\n",
    "\n",
    "image = Image.open(f'{ggs.image_dir}/{im_name}')\n",
    "image.mode\n"
   ]
  },
  {
   "cell_type": "code",
   "execution_count": 7,
   "metadata": {},
   "outputs": [
    {
     "data": {
      "text/plain": [
       "'RGB'"
      ]
     },
     "execution_count": 7,
     "metadata": {},
     "output_type": "execute_result"
    }
   ],
   "source": [
    "from colmap_loader import read_extrinsics_text, read_intrinsics_text, qvec2rotmat, \\\n",
    "    read_extrinsics_binary, read_intrinsics_binary, read_points3D_binary, read_points3D_text\n",
    "\n",
    "\n",
    "cameras_extrinsic_file = f'{ggs.sparse_dir}/images.txt'\n",
    "cameras_intrinsic_file = f'{ggs.sparse_dir}/cameras.txt'\n",
    "txt_path =f'{ggs.sparse_dir}/points3D.txt'\n",
    "\n",
    "xyz, rgb, _ = read_points3D_text(txt_path)\n",
    "\n",
    "cam_extrinsics = read_extrinsics_text(cameras_extrinsic_file)\n",
    "cam_intrinsics = read_intrinsics_text(cameras_intrinsic_file)\n",
    "\n",
    "from PIL import Image\n",
    "\n",
    "image = Image.open(f'{ggs.image_dir}/{im_name}')\n",
    "image.mode\n"
   ]
  },
  {
   "cell_type": "code",
   "execution_count": 9,
   "metadata": {},
   "outputs": [],
   "source": [
    "args = np.load('output_arrays.npz')  # Save all arrays in a single file\n"
   ]
  },
  {
   "cell_type": "code",
   "execution_count": 130,
   "metadata": {},
   "outputs": [
    {
     "data": {
      "text/plain": [
       "644.1280044541276"
      ]
     },
     "execution_count": 130,
     "metadata": {},
     "output_type": "execute_result"
    }
   ],
   "source": [
    "frames[image_name].K[0,2]"
   ]
  },
  {
   "cell_type": "code",
   "execution_count": 30,
   "metadata": {},
   "outputs": [
    {
     "data": {
      "text/plain": [
       "<matplotlib.collections.PathCollection at 0x126c72ef7f0>"
      ]
     },
     "execution_count": 30,
     "metadata": {},
     "output_type": "execute_result"
    },
    {
     "ename": "",
     "evalue": "",
     "output_type": "error",
     "traceback": [
      "\u001b[1;31mThe Kernel crashed while executing code in the current cell or a previous cell. \n",
      "\u001b[1;31mPlease review the code in the cell(s) to identify a possible cause of the failure. \n",
      "\u001b[1;31mClick <a href='https://aka.ms/vscodeJupyterKernelCrash'>here</a> for more info. \n",
      "\u001b[1;31mView Jupyter <a href='command:jupyter.viewOutput'>log</a> for further details."
     ]
    }
   ],
   "source": [
    "import math\n",
    "\n",
    "def qvec2rotmat(qvec):\n",
    "    return np.array([\n",
    "        [1 - 2 * qvec[2]**2 - 2 * qvec[3]**2,\n",
    "         2 * qvec[1] * qvec[2] - 2 * qvec[0] * qvec[3],\n",
    "         2 * qvec[3] * qvec[1] + 2 * qvec[0] * qvec[2]],\n",
    "        [2 * qvec[1] * qvec[2] + 2 * qvec[0] * qvec[3],\n",
    "         1 - 2 * qvec[1]**2 - 2 * qvec[3]**2,\n",
    "         2 * qvec[2] * qvec[3] - 2 * qvec[0] * qvec[1]],\n",
    "        [2 * qvec[3] * qvec[1] - 2 * qvec[0] * qvec[2],\n",
    "         2 * qvec[2] * qvec[3] + 2 * qvec[0] * qvec[1],\n",
    "         1 - 2 * qvec[1]**2 - 2 * qvec[2]**2]])\n",
    "\n",
    "\n",
    "\n",
    "def getWorld2View2(R, t, translate=np.array([.0, .0, .0]), scale=1.0):\n",
    "    Rt = np.zeros((4, 4))\n",
    "    Rt[:3, :3] = R.transpose()\n",
    "    Rt[:3, 3] = t\n",
    "    Rt[3, 3] = 1.0\n",
    "\n",
    "    C2W = np.linalg.inv(Rt)\n",
    "    cam_center = C2W[:3, 3]\n",
    "    cam_center = (cam_center + translate) * scale\n",
    "    C2W[:3, 3] = cam_center\n",
    "    Rt = np.linalg.inv(C2W)\n",
    "    return np.float32(Rt)\n",
    "\n",
    "\n",
    "\n",
    "def focal2fov(focal, pixels):\n",
    "    return 2*math.atan(pixels/(2*focal))\n",
    "\n",
    "def getProjectionMatrix1(znear, zfar, fovX, fovY,cx,cy,im_size):\n",
    "    tanHalfFovY = math.tan((fovY / 2))\n",
    "    tanHalfFovX = math.tan((fovX / 2))\n",
    "\n",
    "    top = tanHalfFovY * znear\n",
    "    bottom = -top\n",
    "    right = tanHalfFovX * znear\n",
    "    left = -right\n",
    "\n",
    "    P = np.zeros((4, 4))\n",
    "\n",
    "    z_sign = 1.0\n",
    "\n",
    "    P[0, 0] = 2.0 * znear / (right - left)\n",
    "    P[1, 1] = 2.0 * znear / (top - bottom)\n",
    "    P[0, 2] = (right + left) / (right - left)\n",
    "    P[1, 2] = (top + bottom) / (top - bottom)\n",
    "    P[3, 2] = z_sign\n",
    "    P[2, 2] = z_sign * zfar / (zfar - znear)\n",
    "    P[2, 3] = -(zfar * znear) / (zfar - znear)\n",
    "    P[0, 2] = (right + left) / (right - left) + (2 * cx / im_size[0]) - 1\n",
    "    P[1, 2] = (top + bottom) / (top - bottom) + (2 * cy / im_size[1]) - 1\n",
    "    return P\n",
    "\n",
    "def getProjectionMatrixShift(znear, zfar, focal_x, focal_y, cx, cy, width, height, fovX, fovY):\n",
    "    tanHalfFovY = math.tan((fovY / 2))\n",
    "    tanHalfFovX = math.tan((fovX / 2))\n",
    "\n",
    "    # the origin at center of image plane\n",
    "    top = tanHalfFovY * znear\n",
    "    bottom = -top\n",
    "    right = tanHalfFovX * znear\n",
    "    left = -right\n",
    "\n",
    "    # shift the frame window due to the non-zero principle point offsets\n",
    "    offset_x = cx - (width/2)\n",
    "    offset_x = (offset_x/focal_x)*znear\n",
    "    offset_y = cy - (height/2)\n",
    "    offset_y = (offset_y/focal_y)*znear\n",
    "\n",
    "    top = top + offset_y\n",
    "    left = left + offset_x\n",
    "    right = right + offset_x\n",
    "    bottom = bottom + offset_y\n",
    "\n",
    "    P = np.zeros((4, 4))\n",
    "\n",
    "    z_sign = 1.0\n",
    "\n",
    "    P[0, 0] = 2.0 * znear / (right - left)\n",
    "    P[1, 1] = 2.0 * znear / (top - bottom)\n",
    "    P[0, 2] = (right + left) / (right - left)\n",
    "    P[1, 2] = (top + bottom) / (top - bottom)\n",
    "    P[3, 2] = z_sign\n",
    "    P[2, 2] = z_sign * zfar / (zfar - znear)\n",
    "    P[2, 3] = -(zfar * znear) / (zfar - znear)\n",
    "    return P\n",
    "\n",
    "def adjust_focal_lengths(fx, fy, cx, cy, image_width, image_height, znear):\n",
    "    # Shifts from the image center\n",
    "    shift_x = cx - image_width / 2\n",
    "    shift_y = cy - image_height / 2\n",
    "    \n",
    "    # Adjust the focal lengths based on the shifts\n",
    "    adjusted_fx = fx - (shift_x / znear)\n",
    "    adjusted_fy = fy - (shift_y / znear)\n",
    "    \n",
    "    return adjusted_fx, adjusted_fy\n",
    "\n",
    "\n",
    "def adjust_translation(t, cx, cy, image_width, image_height):\n",
    "    # Adjust the translation based on the shift from center\n",
    "    t_adjusted = np.copy(t)\n",
    "    t_adjusted[0] += (cx - image_width / 2) * 1  # Adjust for x shift\n",
    "    t_adjusted[1] += (cy - image_height / 2) * 1 # Adjust for y shift\n",
    "    \n",
    "    return t_adjusted\n",
    "\n",
    "\n",
    "def getProjectionMatrix(znear, zfar, fovX, fovY):\n",
    "    tanHalfFovY = math.tan((fovY / 2))\n",
    "    tanHalfFovX = math.tan((fovX / 2))\n",
    "\n",
    "    top = tanHalfFovY * znear\n",
    "    bottom = -top\n",
    "    right = tanHalfFovX * znear\n",
    "    left = -right\n",
    "\n",
    "    P = np.zeros((4, 4))\n",
    "\n",
    "    z_sign = 1.0\n",
    "\n",
    "    P[0, 0] = 2.0 * znear / (right - left)\n",
    "    P[1, 1] = 2.0 * znear / (top - bottom)\n",
    "    P[0, 2] = (right + left) / (right - left)\n",
    "    P[1, 2] = (top + bottom) / (top - bottom)\n",
    "    P[3, 2] = z_sign\n",
    "    P[2, 2] = z_sign * zfar / (zfar - znear)\n",
    "    P[2, 3] = -(zfar * znear) / (zfar - znear)\n",
    "    P[0, 2] = (right + left) / (right - left) \n",
    "    P[1, 2] = (top + bottom) / (top - bottom) \n",
    "    return P\n",
    "\n",
    "image_name = 'P550CAM2.jpg'\n",
    "\n",
    "\n",
    "\n",
    "image_width = 1280\n",
    "image_height = 800\n",
    "znear = 0.001\n",
    "zfar = 100\n",
    "\n",
    "focalx = frames[image_name].K[0,0]\n",
    "focaly = frames[image_name].K[1,1]\n",
    "cx = frames[image_name].K[0, 2]  # Updated cx for cropped image\n",
    "cy = frames[image_name].K[1, 2]  # Updated cy for cropped image\n",
    "\n",
    "\n",
    "R = qvec2rotmat(frames[image_name].qvec).T\n",
    "# R = frames[image_name].R\n",
    "T = frames[image_name].t.T\n",
    "\n",
    "im_size = [1280,800]\n",
    "\n",
    "# focalx,focaly = adjust_focal_lengths(focalx, focaly, cx, cy, image_width, image_height, znear)\n",
    "fovX = focal2fov(focalx, image_width)\n",
    "fovY = focal2fov(focaly, image_height)\n",
    "\n",
    "world_view_transform = getWorld2View2(R, T)\n",
    "# projection_matrix = getProjectionMatrix(znear, zfar, fovX, fovY)\n",
    "projection_matrix = getProjectionMatrix1(znear, zfar, fovX, fovY,cx,cy,im_size)\n",
    "\n",
    "projection_matrix = getProjectionMatrixShift(znear, zfar, focalx, focaly, cx, cy, image_width, image_height, fovX, fovY)\n",
    "full_proj_transform = np.matmul(projection_matrix,world_view_transform)  # Shape: (1, N, K)\n",
    "# full_proj_transform = np.dot(projection_matrix,world_view_transform)\n",
    "\n",
    "xyz_homo  = np.column_stack((frames[image_name].voxels_with_idx[:,0:3],np.ones((frames[image_name].voxels_with_idx.shape[0],1))))\n",
    "\n",
    "p_proj = np.matmul(full_proj_transform,xyz_homo.T).T\n",
    "p_proj = p_proj[:,0:3]/p_proj[:,3:]\n",
    "\n",
    "def proj_screen(pixel,s):\n",
    "    return ((pixel + 1)*s-1)*0.5\n",
    "pixel_x =proj_screen(p_proj[:,0],image_width)\n",
    "pixel_y =proj_screen(p_proj[:,1],image_height)\n",
    "plt.figure()\n",
    "plt.imshow(frames[image_name].image)\n",
    "\n",
    "plt.scatter(pixel_x,pixel_y)\n",
    "\n"
   ]
  },
  {
   "cell_type": "code",
   "execution_count": 22,
   "metadata": {},
   "outputs": [
    {
     "data": {
      "text/plain": [
       "array([[-0.00187092, -0.00162703,  0.19135575]])"
      ]
     },
     "execution_count": 22,
     "metadata": {},
     "output_type": "execute_result"
    }
   ],
   "source": [
    "T"
   ]
  },
  {
   "cell_type": "code",
   "execution_count": 15,
   "metadata": {},
   "outputs": [],
   "source": [
    "wak = [[-7.0028e+00, -6.0958e-03, -1.9097e-01, -1.3016e-02],\n",
    "        [-9.6542e-03,  1.1228e+01, -6.1573e-04,  3.1913e-03],\n",
    "        [ 2.6349e-02, -9.9836e-03, -9.9970e-01,  1.8125e-01],\n",
    "        [ 2.6347e-02, -9.9826e-03, -9.9960e-01,  1.9123e-01]]"
   ]
  },
  {
   "cell_type": "code",
   "execution_count": 13,
   "metadata": {},
   "outputs": [
    {
     "data": {
      "text/plain": [
       "array([[-7.00280764e+00, -6.09581507e-03, -1.90966743e-01,\n",
       "        -1.30163719e-02],\n",
       "       [-9.65435123e-03,  1.12281467e+01, -6.09909441e-04,\n",
       "         3.19020648e-03],\n",
       "       [ 2.63470923e-02, -9.98269877e-03, -9.99613089e-01,\n",
       "         1.90236506e-01],\n",
       "       [ 2.63468288e-02, -9.98259895e-03, -9.99603093e-01,\n",
       "         1.91234604e-01]])"
      ]
     },
     "execution_count": 13,
     "metadata": {},
     "output_type": "execute_result"
    }
   ],
   "source": [
    "full_proj_transform = np.matmul(projection_matrix,world_view_transform)  # Shape: (1, N, K)\n",
    "full_proj_transform\n",
    "# full_proj_transform = np.matmul(projection_matrix,world_view_transform)  # Shape: (1, N, K)\n",
    "# projection_matrix.T"
   ]
  },
  {
   "cell_type": "code",
   "execution_count": 23,
   "metadata": {},
   "outputs": [
    {
     "data": {
      "text/plain": [
       "array([[-0.47209173,  0.5003789 , -0.72577566, -0.00187092],\n",
       "       [ 0.51598847, -0.51068443, -0.68771887, -0.00162703],\n",
       "       [-0.7147624 , -0.6991583 , -0.01709984,  0.19135575],\n",
       "       [ 0.        ,  0.        ,  0.        ,  1.        ]],\n",
       "      dtype=float32)"
      ]
     },
     "execution_count": 23,
     "metadata": {},
     "output_type": "execute_result"
    }
   ],
   "source": [
    "world_view_transform"
   ]
  },
  {
   "cell_type": "code",
   "execution_count": 44,
   "metadata": {},
   "outputs": [
    {
     "data": {
      "text/plain": [
       "array([[-1.2000e-03, -1.1400e-02,  7.5000e-04,  1.0000e+00],\n",
       "       [-1.1500e-03, -1.1550e-02,  5.0000e-04,  2.0000e+00],\n",
       "       [-1.1500e-03, -1.1550e-02,  5.5000e-04,  3.0000e+00],\n",
       "       ...,\n",
       "       [ 1.5000e-04, -1.1250e-02,  4.0000e-04,  2.5250e+04],\n",
       "       [ 1.0000e-04, -1.1200e-02,  4.0000e-04,  2.5251e+04],\n",
       "       [ 5.0000e-05, -1.1150e-02,  4.0000e-04,  2.5252e+04]])"
      ]
     },
     "execution_count": 44,
     "metadata": {},
     "output_type": "execute_result"
    }
   ],
   "source": [
    "frames['P550CAM1.jpg'].points_in_ew_frame"
   ]
  },
  {
   "cell_type": "code",
   "execution_count": 9,
   "metadata": {},
   "outputs": [
    {
     "data": {
      "text/plain": [
       "array([[ 3.31713426, -3.62557293,  5.02224916,  0.01314593],\n",
       "       [-5.61027528,  5.7258234 ,  7.83900321,  0.0182424 ],\n",
       "       [-0.7258483 , -0.68778765, -0.01710146,  0.18137389],\n",
       "       [-0.72577572, -0.68771887, -0.01709975,  0.19135575]])"
      ]
     },
     "execution_count": 9,
     "metadata": {},
     "output_type": "execute_result"
    }
   ],
   "source": [
    "full_proj_transform"
   ]
  },
  {
   "cell_type": "code",
   "execution_count": 14,
   "metadata": {},
   "outputs": [
    {
     "data": {
      "text/plain": [
       "array([[-0.47209181,  0.51598852, -0.71476232],\n",
       "       [ 0.5003788 , -0.51068448, -0.69915837],\n",
       "       [-0.72577571, -0.68771885, -0.01709975]])"
      ]
     },
     "execution_count": 14,
     "metadata": {},
     "output_type": "execute_result"
    }
   ],
   "source": []
  },
  {
   "cell_type": "code",
   "execution_count": 97,
   "metadata": {},
   "outputs": [
    {
     "data": {
      "text/plain": [
       "array([[-1.88611907, -0.30470322,  0.95095231,  1.        ],\n",
       "       [-1.88303771, -0.32173837,  0.95096031,  1.        ],\n",
       "       [-1.86515488, -0.32563956,  0.95098567,  1.        ],\n",
       "       ...,\n",
       "       [-1.96160916, -1.08382571,  0.95046296,  1.        ],\n",
       "       [-1.95184981, -1.09382338,  0.95046258,  1.        ],\n",
       "       [-1.93023197, -1.07320906,  0.95047176,  1.        ]])"
      ]
     },
     "execution_count": 97,
     "metadata": {},
     "output_type": "execute_result"
    }
   ],
   "source": [
    "\n",
    "cam_pts = np.matmul(world_view_transform,xyz_homo.T).T\n",
    "p_proj = np.matmul(projection_matrix,cam_pts.T).T\n",
    "# p_proj = p_proj[:,0:3]/p_proj[:,3:]\n",
    "p_proj\n",
    "pw = 1/p_proj[:,3:]\n",
    "p_proj*pw"
   ]
  },
  {
   "cell_type": "code",
   "execution_count": 87,
   "metadata": {},
   "outputs": [
    {
     "data": {
      "text/plain": [
       "[<matplotlib.lines.Line2D at 0x24f84e4a4d0>,\n",
       " <matplotlib.lines.Line2D at 0x24f84e4a530>]"
      ]
     },
     "execution_count": 87,
     "metadata": {},
     "output_type": "execute_result"
    }
   ],
   "source": [
    "p_proj = np.matmul(full_proj_transform,xyz_homo.T).T\n",
    "p_proj = p_proj[:,0:2]/p_proj[:,2:]\n",
    "\n",
    "plt.plot(p_proj)"
   ]
  },
  {
   "cell_type": "code",
   "execution_count": 67,
   "metadata": {},
   "outputs": [
    {
     "data": {
      "text/plain": [
       "array([[-5.1136428e-01, -4.9903232e-01,  6.9962370e-01,  2.3405244e-06],\n",
       "       [-4.6974885e-01, -5.1940536e-01, -7.1383059e-01, -3.1033736e-03],\n",
       "       [ 7.1961284e-01, -6.9367486e-01,  3.1185472e-02,  1.9604126e-01],\n",
       "       [ 0.0000000e+00,  0.0000000e+00,  0.0000000e+00,  1.0000000e+00]],\n",
       "      dtype=float32)"
      ]
     },
     "execution_count": 67,
     "metadata": {},
     "output_type": "execute_result"
    }
   ],
   "source": [
    "world_view_transform"
   ]
  },
  {
   "cell_type": "code",
   "execution_count": 21,
   "metadata": {},
   "outputs": [],
   "source": [
    "ptcld = np.load('D:/Documents/points.npy')  # Save all arrays in a single file\n",
    "fig = go.Figure()\n",
    "Plotters.scatter3d(fig,ptcld,'red',3)\n",
    "Plotters.scatter3d(fig,frames['P550CAM2.jpg'].voxels_with_idx,'blue',3)\n",
    "fig.show()"
   ]
  },
  {
   "cell_type": "code",
   "execution_count": 9,
   "metadata": {},
   "outputs": [],
   "source": [
    "color_pts = ['red','green','blue','black']\n",
    "fig = go.Figure()\n",
    "im_name = list(frames.keys())[0]\n",
    "for cam in range(4):\n",
    "    image = f'{im_name.split(\"CAM\")[0]}CAM{cam+1}.jpg'\n",
    "    Plotters.scatter3d(fig,frames[image].voxels_with_idx,color_pts[cam],3)\n",
    "    Plotters.scatter3d(fig,frames[image].points_in_ew_frame_homo,color_pts[cam],3)\n",
    "\n",
    "fig.show()\n"
   ]
  },
  {
   "cell_type": "code",
   "execution_count": 36,
   "metadata": {},
   "outputs": [
    {
     "data": {
      "text/plain": [
       "array([], shape=(0, 3), dtype=float64)"
      ]
     },
     "execution_count": 36,
     "metadata": {},
     "output_type": "execute_result"
    }
   ],
   "source": [
    "np.asarray(point_cloud.colors)"
   ]
  },
  {
   "cell_type": "code",
   "execution_count": 35,
   "metadata": {},
   "outputs": [
    {
     "data": {
      "text/plain": [
       "PointCloud with 1070786 points."
      ]
     },
     "execution_count": 35,
     "metadata": {},
     "output_type": "execute_result"
    }
   ],
   "source": [
    "point_cloud"
   ]
  },
  {
   "cell_type": "code",
   "execution_count": 13,
   "metadata": {},
   "outputs": [
    {
     "ename": "ModuleNotFoundError",
     "evalue": "No module named 'open3d'",
     "output_type": "error",
     "traceback": [
      "\u001b[1;31m---------------------------------------------------------------------------\u001b[0m",
      "\u001b[1;31mModuleNotFoundError\u001b[0m                       Traceback (most recent call last)",
      "Cell \u001b[1;32mIn[13], line 1\u001b[0m\n\u001b[1;32m----> 1\u001b[0m \u001b[38;5;28;01mimport\u001b[39;00m \u001b[38;5;21;01mopen3d\u001b[39;00m \u001b[38;5;28;01mas\u001b[39;00m \u001b[38;5;21;01mo3d\u001b[39;00m\n\u001b[0;32m      3\u001b[0m \u001b[38;5;66;03m# Load the PLY file\u001b[39;00m\n\u001b[0;32m      4\u001b[0m ply_file_path \u001b[38;5;241m=\u001b[39m \u001b[38;5;124m\"\u001b[39m\u001b[38;5;124mD:/Documents/point_cloud.ply\u001b[39m\u001b[38;5;124m\"\u001b[39m\n",
      "\u001b[1;31mModuleNotFoundError\u001b[0m: No module named 'open3d'"
     ]
    }
   ],
   "source": [
    "import open3d as o3d\n",
    "\n",
    "# Load the PLY file\n",
    "ply_file_path = \"D:/Documents/point_cloud.ply\"\n",
    "point_cloud = o3d.io.read_point_cloud(ply_file_path)\n",
    "\n",
    "# Visualize the point cloud\n",
    "# o3d.visualization.draw_geometries([point_cloud])"
   ]
  },
  {
   "cell_type": "code",
   "execution_count": 3,
   "metadata": {},
   "outputs": [
    {
     "ename": "NameError",
     "evalue": "name 'np' is not defined",
     "output_type": "error",
     "traceback": [
      "\u001b[1;31m---------------------------------------------------------------------------\u001b[0m",
      "\u001b[1;31mNameError\u001b[0m                                 Traceback (most recent call last)",
      "Cell \u001b[1;32mIn[3], line 1\u001b[0m\n\u001b[1;32m----> 1\u001b[0m homo_c \u001b[38;5;241m=\u001b[39m \u001b[43mnp\u001b[49m\u001b[38;5;241m.\u001b[39mmatmul(proj,xyz_homo\u001b[38;5;241m.\u001b[39mT)\u001b[38;5;241m.\u001b[39mT\n\u001b[0;32m      4\u001b[0m p_proj \u001b[38;5;241m=\u001b[39m np\u001b[38;5;241m.\u001b[39mmatmul(full_proj_transform\u001b[38;5;241m.\u001b[39mT,homo_c\u001b[38;5;241m.\u001b[39mT)\u001b[38;5;241m.\u001b[39mT\n\u001b[0;32m      6\u001b[0m p_proj \u001b[38;5;241m=\u001b[39m p_proj[:,\u001b[38;5;241m0\u001b[39m:\u001b[38;5;241m3\u001b[39m]\u001b[38;5;241m/\u001b[39mp_proj[:,\u001b[38;5;241m3\u001b[39m:]\n",
      "\u001b[1;31mNameError\u001b[0m: name 'np' is not defined"
     ]
    }
   ],
   "source": [
    "homo_c = np.matmul(proj,xyz_homo.T).T\n",
    "\n",
    "\n",
    "p_proj = np.matmul(full_proj_transform.T,homo_c.T).T\n",
    "\n",
    "p_proj = p_proj[:,0:3]/p_proj[:,3:]\n",
    "p_proj\n",
    "# m_x= p_proj[:,0]\n",
    "# m_y = p_proj[:,1]\n",
    "# m_z = p_proj[:,2]\n",
    "# m_w = 1/p_proj[:,3]\n",
    "def proj_screen(pixel,s):\n",
    "    return ((pixel + 1)*s-1)*0.5\n",
    "pixel_x =proj_screen(p_proj[:,0],160)\n",
    "pixel_y =proj_screen(p_proj[:,1],160)\n",
    "plt.imshow(frames[image_name].croped_image)\n",
    "\n",
    "plt.scatter(pixel_x,pixel_y)"
   ]
  },
  {
   "cell_type": "code",
   "execution_count": 4,
   "metadata": {},
   "outputs": [
    {
     "ename": "NameError",
     "evalue": "name 'np' is not defined",
     "output_type": "error",
     "traceback": [
      "\u001b[1;31m---------------------------------------------------------------------------\u001b[0m",
      "\u001b[1;31mNameError\u001b[0m                                 Traceback (most recent call last)",
      "Cell \u001b[1;32mIn[4], line 1\u001b[0m\n\u001b[1;32m----> 1\u001b[0m wakk \u001b[38;5;241m=\u001b[39m  \u001b[43mnp\u001b[49m\u001b[38;5;241m.\u001b[39mcolumn_stack((frames[image]\u001b[38;5;241m.\u001b[39mvoxels_with_idx[:,\u001b[38;5;241m0\u001b[39m:\u001b[38;5;241m3\u001b[39m]\u001b[38;5;241m/\u001b[39mframes[image]\u001b[38;5;241m.\u001b[39mvoxels_with_idx[:,\u001b[38;5;241m3\u001b[39m:\u001b[38;5;241m4\u001b[39m],np\u001b[38;5;241m.\u001b[39mones((frames[image]\u001b[38;5;241m.\u001b[39mvoxels_with_idx\u001b[38;5;241m.\u001b[39mshape[\u001b[38;5;241m0\u001b[39m],\u001b[38;5;241m1\u001b[39m))))\n\u001b[0;32m      2\u001b[0m wakk\n",
      "\u001b[1;31mNameError\u001b[0m: name 'np' is not defined"
     ]
    }
   ],
   "source": [
    "wakk =  np.column_stack((frames[image].voxels_with_idx[:,0:3]/frames[image].voxels_with_idx[:,3:4],np.ones((frames[image].voxels_with_idx.shape[0],1))))\n",
    "wakk"
   ]
  },
  {
   "cell_type": "code",
   "execution_count": 145,
   "metadata": {},
   "outputs": [],
   "source": []
  },
  {
   "cell_type": "code",
   "execution_count": 5,
   "metadata": {},
   "outputs": [
    {
     "ename": "NameError",
     "evalue": "name 'proj' is not defined",
     "output_type": "error",
     "traceback": [
      "\u001b[1;31m---------------------------------------------------------------------------\u001b[0m",
      "\u001b[1;31mNameError\u001b[0m                                 Traceback (most recent call last)",
      "Cell \u001b[1;32mIn[5], line 1\u001b[0m\n\u001b[1;32m----> 1\u001b[0m mul1 \u001b[38;5;241m=\u001b[39m (\u001b[43mproj\u001b[49m[\u001b[38;5;241m0\u001b[39m,\u001b[38;5;241m0\u001b[39m] \u001b[38;5;241m*\u001b[39m m_x \u001b[38;5;241m+\u001b[39m proj[\u001b[38;5;241m1\u001b[39m,\u001b[38;5;241m0\u001b[39m] \u001b[38;5;241m*\u001b[39m m_y \u001b[38;5;241m+\u001b[39m proj[\u001b[38;5;241m2\u001b[39m,\u001b[38;5;241m0\u001b[39m] \u001b[38;5;241m*\u001b[39m m_z \u001b[38;5;241m+\u001b[39m proj[\u001b[38;5;241m3\u001b[39m,\u001b[38;5;241m0\u001b[39m])\u001b[38;5;241m*\u001b[39mm_w\n\u001b[0;32m      2\u001b[0m mul2 \u001b[38;5;241m=\u001b[39m (proj[\u001b[38;5;241m0\u001b[39m,\u001b[38;5;241m1\u001b[39m] \u001b[38;5;241m*\u001b[39m m_x \u001b[38;5;241m+\u001b[39m proj[\u001b[38;5;241m1\u001b[39m,\u001b[38;5;241m1\u001b[39m] \u001b[38;5;241m*\u001b[39m m_y \u001b[38;5;241m+\u001b[39m proj[\u001b[38;5;241m2\u001b[39m,\u001b[38;5;241m1\u001b[39m] \u001b[38;5;241m*\u001b[39m m_z \u001b[38;5;241m+\u001b[39m proj[\u001b[38;5;241m3\u001b[39m,\u001b[38;5;241m1\u001b[39m])\u001b[38;5;241m*\u001b[39mm_w\n\u001b[0;32m      4\u001b[0m plt\u001b[38;5;241m.\u001b[39mscatter(mul1,mul2)\n",
      "\u001b[1;31mNameError\u001b[0m: name 'proj' is not defined"
     ]
    }
   ],
   "source": [
    "\n",
    "\n",
    "mul1 = (proj[0,0] * m_x + proj[1,0] * m_y + proj[2,0] * m_z + proj[3,0])*m_w\n",
    "mul2 = (proj[0,1] * m_x + proj[1,1] * m_y + proj[2,1] * m_z + proj[3,1])*m_w\n",
    "\n",
    "plt.scatter(mul1,mul2)"
   ]
  },
  {
   "cell_type": "code",
   "execution_count": 6,
   "metadata": {},
   "outputs": [
    {
     "ename": "NameError",
     "evalue": "name 'proj' is not defined",
     "output_type": "error",
     "traceback": [
      "\u001b[1;31m---------------------------------------------------------------------------\u001b[0m",
      "\u001b[1;31mNameError\u001b[0m                                 Traceback (most recent call last)",
      "Cell \u001b[1;32mIn[6], line 1\u001b[0m\n\u001b[1;32m----> 1\u001b[0m dL_dmean\u001b[38;5;241m.\u001b[39mx \u001b[38;5;241m=\u001b[39m (\u001b[43mproj\u001b[49m[\u001b[38;5;241m0\u001b[39m] \u001b[38;5;241m*\u001b[39m m_w \u001b[38;5;241m-\u001b[39m proj[\u001b[38;5;241m3\u001b[39m] \u001b[38;5;241m*\u001b[39m mul1) \u001b[38;5;241m*\u001b[39m dL_dmean2D[idx]\u001b[38;5;241m.\u001b[39mx \u001b[38;5;241m+\u001b[39m (proj[\u001b[38;5;241m1\u001b[39m] \u001b[38;5;241m*\u001b[39m m_w \u001b[38;5;241m-\u001b[39m proj[\u001b[38;5;241m3\u001b[39m] \u001b[38;5;241m*\u001b[39m mul2) \u001b[38;5;241m*\u001b[39m dL_dmean2D[idx]\u001b[38;5;241m.\u001b[39my;\n\u001b[0;32m      2\u001b[0m dL_dmean\u001b[38;5;241m.\u001b[39my \u001b[38;5;241m=\u001b[39m (proj[\u001b[38;5;241m4\u001b[39m] \u001b[38;5;241m*\u001b[39m m_w \u001b[38;5;241m-\u001b[39m proj[\u001b[38;5;241m7\u001b[39m] \u001b[38;5;241m*\u001b[39m mul1) \u001b[38;5;241m*\u001b[39m dL_dmean2D[idx]\u001b[38;5;241m.\u001b[39mx \u001b[38;5;241m+\u001b[39m (proj[\u001b[38;5;241m5\u001b[39m] \u001b[38;5;241m*\u001b[39m m_w \u001b[38;5;241m-\u001b[39m proj[\u001b[38;5;241m7\u001b[39m] \u001b[38;5;241m*\u001b[39m mul2) \u001b[38;5;241m*\u001b[39m dL_dmean2D[idx]\u001b[38;5;241m.\u001b[39my\n",
      "\u001b[1;31mNameError\u001b[0m: name 'proj' is not defined"
     ]
    }
   ],
   "source": [
    "\tdL_dmean.x = (proj[0] * m_w - proj[3] * mul1) * dL_dmean2D[idx].x + (proj[1] * m_w - proj[3] * mul2) * dL_dmean2D[idx].y;\n",
    "\tdL_dmean.y = (proj[4] * m_w - proj[7] * mul1) * dL_dmean2D[idx].x + (proj[5] * m_w - proj[7] * mul2) * dL_dmean2D[idx].y;"
   ]
  },
  {
   "cell_type": "code",
   "execution_count": 81,
   "metadata": {},
   "outputs": [
    {
     "data": {
      "text/plain": [
       "(4, 3)"
      ]
     },
     "execution_count": 81,
     "metadata": {},
     "output_type": "execute_result"
    }
   ],
   "source": [
    "frames['P550CAM2.jpg'].world_to_cam.T.shape"
   ]
  },
  {
   "cell_type": "code",
   "execution_count": 7,
   "metadata": {},
   "outputs": [
    {
     "ename": "NameError",
     "evalue": "name 'frames' is not defined",
     "output_type": "error",
     "traceback": [
      "\u001b[1;31m---------------------------------------------------------------------------\u001b[0m",
      "\u001b[1;31mNameError\u001b[0m                                 Traceback (most recent call last)",
      "Cell \u001b[1;32mIn[7], line 1\u001b[0m\n\u001b[1;32m----> 1\u001b[0m \u001b[43mframes\u001b[49m[\u001b[38;5;124m'\u001b[39m\u001b[38;5;124mP550CAM3.jpg\u001b[39m\u001b[38;5;124m'\u001b[39m]\u001b[38;5;241m.\u001b[39mt\n",
      "\u001b[1;31mNameError\u001b[0m: name 'frames' is not defined"
     ]
    }
   ],
   "source": [
    "frames['P550CAM3.jpg'].t"
   ]
  },
  {
   "cell_type": "code",
   "execution_count": 8,
   "metadata": {},
   "outputs": [
    {
     "ename": "NameError",
     "evalue": "name 'wakk' is not defined",
     "output_type": "error",
     "traceback": [
      "\u001b[1;31m---------------------------------------------------------------------------\u001b[0m",
      "\u001b[1;31mNameError\u001b[0m                                 Traceback (most recent call last)",
      "Cell \u001b[1;32mIn[8], line 1\u001b[0m\n\u001b[1;32m----> 1\u001b[0m \u001b[43mwakk\u001b[49m\n",
      "\u001b[1;31mNameError\u001b[0m: name 'wakk' is not defined"
     ]
    }
   ],
   "source": [
    "wakk"
   ]
  },
  {
   "cell_type": "code",
   "execution_count": 126,
   "metadata": {},
   "outputs": [
    {
     "data": {
      "text/plain": [
       "array([[-0.47209181,  0.5003788 , -0.72577571,  0.        ],\n",
       "       [ 0.51598852, -0.51068448, -0.68771885,  0.        ],\n",
       "       [-0.71476232, -0.69915837, -0.01709975,  0.        ],\n",
       "       [-0.00187092, -0.00162703,  0.19135575,  1.        ]])"
      ]
     },
     "execution_count": 126,
     "metadata": {},
     "output_type": "execute_result"
    }
   ],
   "source": []
  },
  {
   "cell_type": "code",
   "execution_count": null,
   "metadata": {},
   "outputs": [],
   "source": []
  },
  {
   "cell_type": "code",
   "execution_count": 9,
   "metadata": {},
   "outputs": [
    {
     "ename": "NameError",
     "evalue": "name 'args' is not defined",
     "output_type": "error",
     "traceback": [
      "\u001b[1;31m---------------------------------------------------------------------------\u001b[0m",
      "\u001b[1;31mNameError\u001b[0m                                 Traceback (most recent call last)",
      "Cell \u001b[1;32mIn[9], line 1\u001b[0m\n\u001b[1;32m----> 1\u001b[0m \u001b[43margs\u001b[49m[\u001b[38;5;124m'\u001b[39m\u001b[38;5;124marr_8\u001b[39m\u001b[38;5;124m'\u001b[39m]\n",
      "\u001b[1;31mNameError\u001b[0m: name 'args' is not defined"
     ]
    }
   ],
   "source": [
    "args['arr_8']"
   ]
  },
  {
   "cell_type": "code",
   "execution_count": null,
   "metadata": {},
   "outputs": [],
   "source": []
  },
  {
   "cell_type": "code",
   "execution_count": 43,
   "metadata": {},
   "outputs": [
    {
     "data": {
      "text/plain": [
       "array([[ 2.8788988e+01,  2.6489201e+01,  7.1968478e-01,  7.1961278e-01],\n",
       "       [ 2.8094706e+01,  2.9289333e+01, -6.9374442e-01, -6.9367504e-01],\n",
       "       [-3.9387680e+01,  4.0252998e+01,  3.1188568e-02,  3.1185448e-02],\n",
       "       [-1.3176772e-04,  1.7499962e-01,  1.8605986e-01,  1.9604126e-01]],\n",
       "      dtype=float32)"
      ]
     },
     "execution_count": 43,
     "metadata": {},
     "output_type": "execute_result"
    }
   ],
   "source": [
    "args['arr_9']"
   ]
  },
  {
   "cell_type": "code",
   "execution_count": 22,
   "metadata": {},
   "outputs": [],
   "source": [
    "args['arr_1']\n",
    "\n",
    "fig = go.Figure()\n",
    "\n",
    "Plotters.scatter3d(fig,frames['P550CAM1.jpg'].voxels_with_idx,'blue',3)\n",
    "Plotters.scatter3d(fig,args['arr_1'],'red',3)\n",
    "\n",
    "fig.show()"
   ]
  },
  {
   "cell_type": "code",
   "execution_count": 23,
   "metadata": {},
   "outputs": [],
   "source": [
    "image_rgb = image.convert('RGB')\n",
    "image_rgb.save('wakk.jpg')\n"
   ]
  },
  {
   "cell_type": "code",
   "execution_count": 24,
   "metadata": {},
   "outputs": [
    {
     "data": {
      "text/plain": [
       "'RGB'"
      ]
     },
     "execution_count": 24,
     "metadata": {},
     "output_type": "execute_result"
    }
   ],
   "source": [
    "image.size\n",
    "\n",
    "pt = 'D:\\Documents\\south-building\\images\\P1180141.jpg'\n",
    "image = Image.open('wakk.jpg')\n",
    "image.mode"
   ]
  }
 ],
 "metadata": {
  "kernelspec": {
   "display_name": "base",
   "language": "python",
   "name": "python3"
  },
  "language_info": {
   "codemirror_mode": {
    "name": "ipython",
    "version": 3
   },
   "file_extension": ".py",
   "mimetype": "text/x-python",
   "name": "python",
   "nbconvert_exporter": "python",
   "pygments_lexer": "ipython3",
   "version": "undefined.undefined.undefined"
  }
 },
 "nbformat": 4,
 "nbformat_minor": 2
}
