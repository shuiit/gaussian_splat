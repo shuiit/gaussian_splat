{
 "cells": [
  {
   "cell_type": "code",
   "execution_count": 1,
   "metadata": {},
   "outputs": [],
   "source": [
    "from Camera import Camera\n",
    "import numpy as np\n",
    "from Points3D import Points3D\n",
    "from ImageFly import ImageFly\n",
    "import matplotlib.pyplot as plt\n",
    "from GenerateGsInput import GenerateGsInput\n",
    "import Plotters\n",
    "import plotly.graph_objects as go\n",
    "import scipy.io\n",
    "import pandas as pd\n",
    "\n",
    "%matplotlib qt\n",
    "\n",
    "\n",
    "def load_hull(body_wing,path):\n",
    "    return scipy.io.loadmat(f'{path}/3d_pts/{body_wing}.mat')['hull']\n",
    "\n",
    "path = 'G:/My Drive/Research/gs_data/mov19_2022_03_03/'\n",
    "frames = [300,400]\n",
    "\n",
    "\n",
    "image_name = []\n",
    "image_name += [f'P{frame}CAM{cam + 1}.jpg' for frame in frames for cam in range(4)]\n",
    "\n",
    "real_coord = scipy.io.loadmat(f'{path}/3d_pts/real_coord.mat')['all_coords']\n",
    "\n",
    "points_3d = {body_wing : pd.DataFrame(load_hull(body_wing,path),columns = ['X','Y','Z','frame']) for body_wing in ['body','rwing','lwing']}\n",
    "\n",
    "cameras = {f'cam{cam + 1}':Camera(path,cam) for cam in range(4)}\n",
    "images = {im_name:ImageFly(path,im_name) for im_name in image_name}\n",
    "points = {f'frame{frame}':Points3D(points_3d,real_coord,frame) for frame in frames}\n",
    "\n",
    "\n",
    "gen_gs_data = GenerateGsInput(path,images,cameras)\n",
    "gen_gs_data.generate_camera_text()\n",
    "gen_gs_data.save_croped_images()\n",
    "\n"
   ]
  },
  {
   "cell_type": "code",
   "execution_count": 3,
   "metadata": {},
   "outputs": [
    {
     "data": {
      "text/plain": [
       "(4032, 3)"
      ]
     },
     "execution_count": 3,
     "metadata": {},
     "output_type": "execute_result"
    }
   ],
   "source": [
    "\n",
    "im_name = 'P300CAM4.jpg'\n",
    "points3d_name = f'frame{im_name.split(\"CAM\")[0].split(\"P\")[1]}'\n",
    "voxels_sorted_by_z,pixels = points[points3d_name].z_buffer(images[im_name],croped_camera_matrix = True)\n",
    "images[im_name].map_3d_2d(voxels_sorted_by_z,pixels,croped_image = True)\n",
    "\n",
    "images[im_name].pixel_with_idx\n",
    "\n",
    "\n",
    "plt.figure()\n",
    "plt.scatter(images[im_name].pixel_with_idx[:,0],images[im_name].pixel_with_idx[:,1])\n",
    "images[im_name].pixel_with_idx.shape\n",
    "\n",
    "\n",
    "\n"
   ]
  },
  {
   "cell_type": "code",
   "execution_count": 4,
   "metadata": {},
   "outputs": [
    {
     "data": {
      "text/plain": [
       "array([[-2.450e-03, -1.185e-02,  1.450e-03,  1.000e+00],\n",
       "       [-2.200e-03, -1.175e-02,  1.400e-03,  2.000e+00],\n",
       "       [-2.350e-03, -1.185e-02,  1.450e-03,  3.000e+00],\n",
       "       ...,\n",
       "       [ 5.500e-04, -1.190e-02,  2.400e-03,  1.680e+03],\n",
       "       [ 5.000e-04, -1.190e-02,  2.400e-03,  1.681e+03],\n",
       "       [ 5.000e-04, -1.185e-02,  2.450e-03,  1.682e+03]])"
      ]
     },
     "execution_count": 4,
     "metadata": {},
     "output_type": "execute_result"
    }
   ],
   "source": [
    "\n",
    "im_name = 'P300CAM3.jpg'\n",
    "points3d_name = f'frame{im_name.split(\"CAM\")[0].split(\"P\")[1]}'\n",
    "voxels_sorted_by_z,pixels,idx = points[points3d_name].z_buffer(images[im_name],camera_matrix = False)\n",
    "images[im_name].map_3d_2d(voxels_sorted_by_z,pixels,idx,croped_image = True)\n",
    "\n",
    "plt.figure()\n",
    "plt.scatter(images[im_name].pixel_with_idx[:,0],images[im_name].pixel_with_idx[:,1])\n",
    "images[im_name].voxels_with_idx"
   ]
  },
  {
   "cell_type": "code",
   "execution_count": 11,
   "metadata": {},
   "outputs": [
    {
     "data": {
      "text/plain": [
       "array([ 38.,  55.,   1., ..., 134., 100.,  -1.])"
      ]
     },
     "execution_count": 11,
     "metadata": {},
     "output_type": "execute_result"
    }
   ],
   "source": [
    "images[im_name].pixel_with_idx\n",
    "size_pixels = images[im_name].pixel_with_idx.shape\n",
    "images[im_name].pixel_with_idx.reshape(size_pixels[0]*size_pixels[1])"
   ]
  },
  {
   "cell_type": "code",
   "execution_count": null,
   "metadata": {},
   "outputs": [],
   "source": []
  },
  {
   "cell_type": "code",
   "execution_count": 4,
   "metadata": {},
   "outputs": [
    {
     "name": "stdout",
     "output_type": "stream",
     "text": [
      "[0, 0.4014182, -0.7619356, 0.4480878, -0.2398643, 0.0009995330536695464, 0.000963379647275542, 0.27667278893559305, 1, 'P300CAM1.jpg']\n",
      "[1, 0.0101965, 0.49418, -0.4900953, 0.7179755, 2.3405244476857152e-06, -0.003103373568684653, 0.19604126118852686, 2, 'P300CAM2.jpg']\n",
      "[2, 0.0055668, -0.5137345, -0.4945976, 0.7010129, -0.0018709171011325818, -0.0016270343699767798, 0.19135574843655634, 3, 'P300CAM3.jpg']\n",
      "[3, 0.0049966, -0.9999007, -0.0003647, -0.0131729, 0.002034118658308913, -0.002187200103057826, 0.19123460135434145, 4, 'P300CAM4.jpg']\n",
      "[4, 0.4014182, -0.7619356, 0.4480878, -0.2398643, 0.0009995330536695464, 0.000963379647275542, 0.27667278893559305, 1, 'P400CAM1.jpg']\n",
      "[5, 0.0101965, 0.49418, -0.4900953, 0.7179755, 2.3405244476857152e-06, -0.003103373568684653, 0.19604126118852686, 2, 'P400CAM2.jpg']\n",
      "[6, 0.0055668, -0.5137345, -0.4945976, 0.7010129, -0.0018709171011325818, -0.0016270343699767798, 0.19135574843655634, 3, 'P400CAM3.jpg']\n",
      "[7, 0.0049966, -0.9999007, -0.0003647, -0.0131729, 0.002034118658308913, -0.002187200103057826, 0.19123460135434145, 4, 'P400CAM4.jpg']\n"
     ]
    }
   ],
   "source": [
    "import os\n",
    "path = 'G:/My Drive/Research/gs_data/mov19_2022_03_03'\n",
    "\n",
    "images_folder = f'{path}/input_data_for_gs/sparse/' \n",
    "if not os.path.exists(f'{path}/input_data_for_gs/sparse/'):\n",
    "    os.makedirs(images_folder)\n",
    "\n",
    "\n",
    "with open(f'{images_folder}/images.txt', \"w\") as file:\n",
    "    file.write(\"# Image list with two lines of data per image:\\n#\")\n",
    "    file.write(\"#   IMAGE_ID, QW, QX, QY, QZ, TX, TY, TZ, CAMERA_ID, NAME\\n\")\n",
    "    file.write(\"#   POINTS2D[] as (X, Y, POINT3D_ID)\\n\")\n",
    "    file.write(f\"# Number of images: {len(images)}, mean observations per image: 2 \\n\")\n",
    "\n",
    "    for idx,(frames_name,image) in enumerate(images.items()): \n",
    "\n",
    "        camera_data = [idx] + list(image.qvec) + list(image.t.T[0]) + [image.camera_number] + [frames_name]\n",
    "        print(camera_data)\n",
    "        file.write(\" \".join(map(str, camera_data)) + \"\\n\")\n",
    "        size_pixels = images[im_name].pixel_with_idx.shape\n",
    "        file.write(\" \".join(map(str, images[im_name].pixel_with_idx.reshape(size_pixels[0]*size_pixels[1]))) + \"\\n\")"
   ]
  },
  {
   "cell_type": "code",
   "execution_count": 5,
   "metadata": {},
   "outputs": [
    {
     "data": {
      "text/plain": [
       "array([[ 3.8000e+01,  5.5000e+01,  1.6339e+04],\n",
       "       [ 3.8000e+01,  5.6000e+01,  1.6496e+04],\n",
       "       [ 3.9000e+01,  5.5000e+01,  1.6318e+04],\n",
       "       ...,\n",
       "       [ 1.3400e+02,  9.7000e+01, -1.0000e+00],\n",
       "       [ 1.3400e+02,  9.8000e+01, -1.0000e+00],\n",
       "       [ 1.3400e+02,  1.0000e+02, -1.0000e+00]])"
      ]
     },
     "execution_count": 5,
     "metadata": {},
     "output_type": "execute_result"
    }
   ],
   "source": [
    "images[im_name].pixel_with_idx"
   ]
  },
  {
   "cell_type": "code",
   "execution_count": 7,
   "metadata": {},
   "outputs": [],
   "source": [
    "points = Points3D(path)\n",
    "points.get_frame(300)\n",
    "points.idx_to_real()\n",
    "points.points_in_ew_frame = np.matmul(cameras['cam2'].world_to_cam , points.points_in_ew_frame_homo.T).T\n"
   ]
  },
  {
   "cell_type": "code",
   "execution_count": 8,
   "metadata": {},
   "outputs": [],
   "source": [
    "voxels_sorted_by_z,pixels = points.z_buffer(images[f'P300CAM2.jpg'])\n",
    "images[f'P300CAM2.jpg'].map_3d_2d(voxels_sorted_by_z,pixels)\n",
    "\n",
    "\n",
    "\n",
    "\n",
    "fig = go.Figure()\n",
    "Plotters.scatter3d(fig,voxels_sorted_by_z,'red',3)\n"
   ]
  },
  {
   "cell_type": "code",
   "execution_count": 10,
   "metadata": {},
   "outputs": [
    {
     "name": "stdout",
     "output_type": "stream",
     "text": [
      "[[463. 314.   1.]\n",
      " [463. 315.   2.]\n",
      " [464. 314.   3.]\n",
      " ...\n",
      " [559. 356.  -1.]\n",
      " [559. 357.  -1.]\n",
      " [559. 359.  -1.]] [[-2.650e-03 -1.235e-02  1.650e-03  1.000e+00  1.000e+00]\n",
      " [-2.600e-03 -1.235e-02  1.700e-03  1.000e+00  2.000e+00]\n",
      " [-2.600e-03 -1.240e-02  1.650e-03  1.000e+00  3.000e+00]\n",
      " ...\n",
      " [ 2.150e-03 -1.125e-02  1.500e-04  1.000e+00  1.415e+03]\n",
      " [ 2.200e-03 -1.130e-02  5.000e-05  1.000e+00  1.416e+03]\n",
      " [ 2.200e-03 -1.130e-02  1.000e-04  1.000e+00  1.417e+03]]\n"
     ]
    }
   ],
   "source": [
    "print(images[f'P300CAM2.jpg'].pixel_with_idx,images[f'P300CAM2.jpg'].voxels_with_idx)"
   ]
  },
  {
   "cell_type": "code",
   "execution_count": 5,
   "metadata": {},
   "outputs": [
    {
     "data": {
      "text/plain": [
       "<matplotlib.collections.PathCollection at 0x249b0e6f160>"
      ]
     },
     "execution_count": 5,
     "metadata": {},
     "output_type": "execute_result"
    }
   ],
   "source": [
    "pixels.astype(int)\n",
    "bla = images[f'P300CAM2.jpg'].pixels\n",
    "wak = np.vstack((pixels.astype(int),bla))\n",
    "bla2 = np.unique(wak,axis = 0)\n",
    "plt.scatter(bla[:,1],bla[:,0])\n",
    "plt.scatter(pixels[:,0],pixels[:,1])\n"
   ]
  },
  {
   "cell_type": "code",
   "execution_count": 13,
   "metadata": {},
   "outputs": [
    {
     "data": {
      "text/plain": [
       "array([[463, 314],\n",
       "       [463, 315],\n",
       "       [464, 314],\n",
       "       ...,\n",
       "       [555, 353],\n",
       "       [556, 352],\n",
       "       [556, 353]])"
      ]
     },
     "execution_count": 13,
     "metadata": {},
     "output_type": "execute_result"
    }
   ],
   "source": [
    "pixels.astype(int)"
   ]
  },
  {
   "cell_type": "code",
   "execution_count": 15,
   "metadata": {},
   "outputs": [
    {
     "data": {
      "text/plain": [
       "(2724, 2)"
      ]
     },
     "execution_count": 15,
     "metadata": {},
     "output_type": "execute_result"
    }
   ],
   "source": [
    "bla = images[f'P300CAM2.jpg'].pixels\n",
    "non_intersect_pixels = np.vstack((pixels,np.fliplr(images[f'P300CAM2.jpg'].pixels)))\n",
    "bla2 = np.unique(wak,axis = 0,return_counts=True)\n",
    "bla2.shape"
   ]
  },
  {
   "cell_type": "code",
   "execution_count": 63,
   "metadata": {},
   "outputs": [
    {
     "name": "stdout",
     "output_type": "stream",
     "text": [
      "(1417, 2) (1417, 4)\n",
      "(1416,)\n"
     ]
    }
   ],
   "source": [
    "voxels_sorted_by_z,pixels = points.z_buffer(images[f'P300CAM2.jpg'])\n",
    "print(pixels.shape,voxels_sorted_by_z.shape)\n",
    "print(idx_3dpt.shape)"
   ]
  },
  {
   "cell_type": "code",
   "execution_count": 74,
   "metadata": {},
   "outputs": [
    {
     "data": {
      "text/plain": [
       "array([[-2.650e-03, -1.235e-02,  1.650e-03,  1.000e+00,  1.000e+00],\n",
       "       [-2.600e-03, -1.235e-02,  1.700e-03,  1.000e+00,  2.000e+00],\n",
       "       [-2.600e-03, -1.240e-02,  1.650e-03,  1.000e+00,  3.000e+00],\n",
       "       ...,\n",
       "       [ 2.150e-03, -1.125e-02,  1.500e-04,  1.000e+00,  1.415e+03],\n",
       "       [ 2.200e-03, -1.130e-02,  5.000e-05,  1.000e+00,  1.416e+03],\n",
       "       [ 2.200e-03, -1.130e-02,  1.000e-04,  1.000e+00,  1.417e+03]])"
      ]
     },
     "execution_count": 74,
     "metadata": {},
     "output_type": "execute_result"
    }
   ],
   "source": [
    "combined = np.column_stack((voxels_sorted_by_z, idx_3dpt))\n",
    "combined"
   ]
  },
  {
   "cell_type": "code",
   "execution_count": 75,
   "metadata": {},
   "outputs": [],
   "source": [
    "np.arange(1,voxels_sorted_by_z.shape[0],1)\n",
    "\n",
    "idx_non_intersect_pix = np.array([-1]*non_intersect_pixels.shape[0])\n",
    "idx_3dpt = np.arange(1,voxels_sorted_by_z.shape[0] + 1,1)\n",
    "\n",
    "\n",
    "all_pixels = np.vstack((pixels,non_intersect_pixels))\n",
    "\n",
    "pixels_3d_map = np.vstack((all_pixels.T,np.hstack((idx_3dpt,np.array([-1]*non_intersect_pixels.shape[0]))))).T\n",
    "\n",
    "\n",
    "\n",
    "\n",
    "combined = np.column_stack((voxels_sorted_by_z, idx_3dpt))"
   ]
  },
  {
   "cell_type": "code",
   "execution_count": 54,
   "metadata": {},
   "outputs": [
    {
     "data": {
      "text/plain": [
       "(2723,)"
      ]
     },
     "execution_count": 54,
     "metadata": {},
     "output_type": "execute_result"
    }
   ],
   "source": [
    "np.hstack((idx_3dpt,np.array([-1]*non_intersect_pixels.shape[0]))).shape\n"
   ]
  },
  {
   "cell_type": "code",
   "execution_count": 90,
   "metadata": {},
   "outputs": [
    {
     "data": {
      "text/plain": [
       "array([[463., 314.],\n",
       "       [463., 315.],\n",
       "       [464., 314.],\n",
       "       ...,\n",
       "       [559., 356.],\n",
       "       [559., 357.],\n",
       "       [559., 359.]])"
      ]
     },
     "execution_count": 90,
     "metadata": {},
     "output_type": "execute_result"
    }
   ],
   "source": [
    "np.vstack((pixels, non_intersect_pixels))"
   ]
  },
  {
   "cell_type": "code",
   "execution_count": 4,
   "metadata": {},
   "outputs": [
    {
     "ename": "NameError",
     "evalue": "name 'points' is not defined",
     "output_type": "error",
     "traceback": [
      "\u001b[1;31m---------------------------------------------------------------------------\u001b[0m",
      "\u001b[1;31mNameError\u001b[0m                                 Traceback (most recent call last)",
      "Cell \u001b[1;32mIn[4], line 1\u001b[0m\n\u001b[1;32m----> 1\u001b[0m voxels_sorted_by_z,pixels \u001b[38;5;241m=\u001b[39m \u001b[43mpoints\u001b[49m\u001b[38;5;241m.\u001b[39mz_buffer(images[\u001b[38;5;124mf\u001b[39m\u001b[38;5;124m'\u001b[39m\u001b[38;5;124mP300CAM2.jpg\u001b[39m\u001b[38;5;124m'\u001b[39m])\n\u001b[0;32m      2\u001b[0m original_projected_pixels \u001b[38;5;241m=\u001b[39m np\u001b[38;5;241m.\u001b[39mvstack((pixels,np\u001b[38;5;241m.\u001b[39mfliplr(images[\u001b[38;5;124mf\u001b[39m\u001b[38;5;124m'\u001b[39m\u001b[38;5;124mP300CAM2.jpg\u001b[39m\u001b[38;5;124m'\u001b[39m]\u001b[38;5;241m.\u001b[39mpixels)))\n\u001b[0;32m      5\u001b[0m [non_intersect_pixels,cnt] \u001b[38;5;241m=\u001b[39m np\u001b[38;5;241m.\u001b[39munique(original_projected_pixels,axis \u001b[38;5;241m=\u001b[39m \u001b[38;5;241m0\u001b[39m,return_counts\u001b[38;5;241m=\u001b[39m\u001b[38;5;28;01mTrue\u001b[39;00m)\n",
      "\u001b[1;31mNameError\u001b[0m: name 'points' is not defined"
     ]
    }
   ],
   "source": [
    "voxels_sorted_by_z,pixels = points.z_buffer(images[f'P300CAM2.jpg'])\n",
    "original_projected_pixels = np.vstack((pixels,np.fliplr(images[f'P300CAM2.jpg'].pixels)))\n",
    "\n",
    "\n",
    "[non_intersect_pixels,cnt] = np.unique(original_projected_pixels,axis = 0,return_counts=True)\n",
    "non_intersect_pixels = non_intersect_pixels[cnt == 1,:] \n",
    "\n",
    "idx_3dpt = np.arange(1,voxels_sorted_by_z.shape[0] + 1)\n",
    "all_3d_idx = np.full(all_pixels.shape[0], -1)\n",
    "all_3d_idx[0:idx_3dpt.shape[0]] = idx_3dpt\n",
    "all_pixels = np.vstack((pixels, non_intersect_pixels))\n",
    "pixel_idx = np.column_stack((all_pixels, all_3d_idx))\n",
    "voxels_idx = np.column_stack((voxels_sorted_by_z, idx_3dpt))\n",
    "\n",
    "\n"
   ]
  },
  {
   "cell_type": "code",
   "execution_count": 62,
   "metadata": {},
   "outputs": [],
   "source": [
    "vxls = []\n",
    "clr = ['red','green','blue','black']\n",
    "fig = go.Figure()\n",
    "\n",
    "for idx_cam in range(1):\n",
    "    im = images[f'P300CAM{idx_cam + 1}.jpg']\n",
    "    cam_c = np.matmul(cameras[f'cam{idx_cam + 1}'].world_to_cam , points.points_in_ew_frame_homo.T).T\n",
    "    projected = im.project_on_image(points.points_in_ew_frame_homo,False)\n",
    "    pxls = np.round(projected ) \n",
    "    idx_sorted_by_z = cam_c[:,2].argsort()\n",
    "    pixels_sorted_by_z = pxls[idx_sorted_by_z,:]\n",
    "    voxels_sorted_by_z = points.points_in_ew_frame_homo[idx_sorted_by_z,:]\n",
    "    [a,idx] = np.unique(pixels_sorted_by_z, axis=0,return_index=True)\n",
    "\n",
    "    vxls.append(voxels_sorted_by_z[idx,:])\n",
    "    Plotters.scatter3d(fig,voxels_sorted_by_z[idx,:],clr[idx_cam],3)\n",
    "\n",
    "\n",
    "    wakk = np.vstack(vxls)\n",
    "    plt.scatter(a[:,0],a[:,1])\n",
    "    fig.show()\n",
    "\n",
    "# import Plotters\n",
    "# fig = go.Figure()\n",
    "# Plotters.scatter3d(fig,cam_c,'red',3)\n"
   ]
  },
  {
   "cell_type": "code",
   "execution_count": 26,
   "metadata": {},
   "outputs": [
    {
     "data": {
      "text/plain": [
       "array([[406.88490567, 350.63098498],\n",
       "       [393.65027064, 362.79748531],\n",
       "       [407.09443274, 349.11092396],\n",
       "       ...,\n",
       "       [395.49632742, 330.36522322],\n",
       "       [394.91192785, 329.83693732],\n",
       "       [394.2804743 , 329.17326188]])"
      ]
     },
     "execution_count": 26,
     "metadata": {},
     "output_type": "execute_result"
    }
   ],
   "source": [
    "projected"
   ]
  },
  {
   "cell_type": "code",
   "execution_count": 36,
   "metadata": {},
   "outputs": [],
   "source": [
    "[a,idx] = np.unique(pxls[:,0:2], axis=0,return_index=True)\n",
    "plt.scatter(a[:,0],a[:,1])\n",
    "\n",
    "fig = go.Figure()\n",
    "Plotters.scatter3d(fig,pxls[idx,:],'red',3)\n"
   ]
  },
  {
   "cell_type": "code",
   "execution_count": 23,
   "metadata": {},
   "outputs": [
    {
     "data": {
      "text/plain": [
       "<matplotlib.collections.PathCollection at 0x1aa5577d1e0>"
      ]
     },
     "execution_count": 23,
     "metadata": {},
     "output_type": "execute_result"
    }
   ],
   "source": [
    "pxls = np.hstack((np.round(projected),cam_c[:,2:]))\n",
    "\n",
    "\n"
   ]
  },
  {
   "cell_type": "code",
   "execution_count": 10,
   "metadata": {},
   "outputs": [],
   "source": [
    "im = images['P300CAM2.jpg']\n",
    "points = Points3D(path)\n",
    "points.get_frame(300)\n",
    "points.idx_to_real()\n",
    "projected,points3d = im.project_on_image(points.points_in_ew_frame,False)\n"
   ]
  },
  {
   "cell_type": "markdown",
   "metadata": {},
   "source": [
    "we need to map every 3d point to one 2d point, if we leave only the surface, there still can be a voxel that is reprojected to the same 2d point. we will need to keep the closest one. "
   ]
  },
  {
   "cell_type": "code",
   "execution_count": 13,
   "metadata": {},
   "outputs": [
    {
     "data": {
      "text/plain": [
       "<matplotlib.image.AxesImage at 0x1a517b5d630>"
      ]
     },
     "execution_count": 13,
     "metadata": {},
     "output_type": "execute_result"
    }
   ],
   "source": [
    "plt.figure()\n",
    "plt.imshow(im.croped_image)\n"
   ]
  },
  {
   "cell_type": "code",
   "execution_count": 11,
   "metadata": {},
   "outputs": [
    {
     "ename": "ValueError",
     "evalue": "s must be a scalar, or float array-like with the same size as x and y",
     "output_type": "error",
     "traceback": [
      "\u001b[1;31m---------------------------------------------------------------------------\u001b[0m",
      "\u001b[1;31mValueError\u001b[0m                                Traceback (most recent call last)",
      "Cell \u001b[1;32mIn[11], line 2\u001b[0m\n\u001b[0;32m      1\u001b[0m plt\u001b[38;5;241m.\u001b[39mimshow(im\u001b[38;5;241m.\u001b[39mcroped_image)\n\u001b[1;32m----> 2\u001b[0m \u001b[43mplt\u001b[49m\u001b[38;5;241;43m.\u001b[39;49m\u001b[43mscatter\u001b[49m\u001b[43m(\u001b[49m\u001b[43mim\u001b[49m\u001b[38;5;241;43m.\u001b[39;49m\u001b[43mcroped_pixels\u001b[49m\u001b[43m[\u001b[49m\u001b[43m:\u001b[49m\u001b[43m,\u001b[49m\u001b[38;5;241;43m1\u001b[39;49m\u001b[43m]\u001b[49m\u001b[43m,\u001b[49m\u001b[43mim\u001b[49m\u001b[38;5;241;43m.\u001b[39;49m\u001b[43mcroped_pixels\u001b[49m\u001b[43m[\u001b[49m\u001b[43m:\u001b[49m\u001b[43m,\u001b[49m\u001b[38;5;241;43m0\u001b[39;49m\u001b[43m]\u001b[49m\u001b[43m)\u001b[49m\n\u001b[0;32m      3\u001b[0m plt\u001b[38;5;241m.\u001b[39mscatter(projected[:,\u001b[38;5;241m0\u001b[39m],projected[:,\u001b[38;5;241m1\u001b[39m])\n\u001b[0;32m      5\u001b[0m \u001b[38;5;28mprint\u001b[39m(projected\u001b[38;5;241m.\u001b[39mshape,points\u001b[38;5;241m.\u001b[39mpoints_in_ew_frame\u001b[38;5;241m.\u001b[39mshape)\n",
      "File \u001b[1;32mc:\\Users\\Roni\\anaconda3\\lib\\site-packages\\matplotlib\\pyplot.py:2835\u001b[0m, in \u001b[0;36mscatter\u001b[1;34m(x, y, s, c, marker, cmap, norm, vmin, vmax, alpha, linewidths, edgecolors, plotnonfinite, data, **kwargs)\u001b[0m\n\u001b[0;32m   2830\u001b[0m \u001b[38;5;129m@_copy_docstring_and_deprecators\u001b[39m(Axes\u001b[38;5;241m.\u001b[39mscatter)\n\u001b[0;32m   2831\u001b[0m \u001b[38;5;28;01mdef\u001b[39;00m \u001b[38;5;21mscatter\u001b[39m(\n\u001b[0;32m   2832\u001b[0m         x, y, s\u001b[38;5;241m=\u001b[39m\u001b[38;5;28;01mNone\u001b[39;00m, c\u001b[38;5;241m=\u001b[39m\u001b[38;5;28;01mNone\u001b[39;00m, marker\u001b[38;5;241m=\u001b[39m\u001b[38;5;28;01mNone\u001b[39;00m, cmap\u001b[38;5;241m=\u001b[39m\u001b[38;5;28;01mNone\u001b[39;00m, norm\u001b[38;5;241m=\u001b[39m\u001b[38;5;28;01mNone\u001b[39;00m,\n\u001b[0;32m   2833\u001b[0m         vmin\u001b[38;5;241m=\u001b[39m\u001b[38;5;28;01mNone\u001b[39;00m, vmax\u001b[38;5;241m=\u001b[39m\u001b[38;5;28;01mNone\u001b[39;00m, alpha\u001b[38;5;241m=\u001b[39m\u001b[38;5;28;01mNone\u001b[39;00m, linewidths\u001b[38;5;241m=\u001b[39m\u001b[38;5;28;01mNone\u001b[39;00m, \u001b[38;5;241m*\u001b[39m,\n\u001b[0;32m   2834\u001b[0m         edgecolors\u001b[38;5;241m=\u001b[39m\u001b[38;5;28;01mNone\u001b[39;00m, plotnonfinite\u001b[38;5;241m=\u001b[39m\u001b[38;5;28;01mFalse\u001b[39;00m, data\u001b[38;5;241m=\u001b[39m\u001b[38;5;28;01mNone\u001b[39;00m, \u001b[38;5;241m*\u001b[39m\u001b[38;5;241m*\u001b[39mkwargs):\n\u001b[1;32m-> 2835\u001b[0m     __ret \u001b[38;5;241m=\u001b[39m gca()\u001b[38;5;241m.\u001b[39mscatter(\n\u001b[0;32m   2836\u001b[0m         x, y, s\u001b[38;5;241m=\u001b[39ms, c\u001b[38;5;241m=\u001b[39mc, marker\u001b[38;5;241m=\u001b[39mmarker, cmap\u001b[38;5;241m=\u001b[39mcmap, norm\u001b[38;5;241m=\u001b[39mnorm,\n\u001b[0;32m   2837\u001b[0m         vmin\u001b[38;5;241m=\u001b[39mvmin, vmax\u001b[38;5;241m=\u001b[39mvmax, alpha\u001b[38;5;241m=\u001b[39malpha, linewidths\u001b[38;5;241m=\u001b[39mlinewidths,\n\u001b[0;32m   2838\u001b[0m         edgecolors\u001b[38;5;241m=\u001b[39medgecolors, plotnonfinite\u001b[38;5;241m=\u001b[39mplotnonfinite,\n\u001b[0;32m   2839\u001b[0m         \u001b[38;5;241m*\u001b[39m\u001b[38;5;241m*\u001b[39m({\u001b[38;5;124m\"\u001b[39m\u001b[38;5;124mdata\u001b[39m\u001b[38;5;124m\"\u001b[39m: data} \u001b[38;5;28;01mif\u001b[39;00m data \u001b[38;5;129;01mis\u001b[39;00m \u001b[38;5;129;01mnot\u001b[39;00m \u001b[38;5;28;01mNone\u001b[39;00m \u001b[38;5;28;01melse\u001b[39;00m {}), \u001b[38;5;241m*\u001b[39m\u001b[38;5;241m*\u001b[39mkwargs)\n\u001b[0;32m   2840\u001b[0m     sci(__ret)\n\u001b[0;32m   2841\u001b[0m     \u001b[38;5;28;01mreturn\u001b[39;00m __ret\n",
      "File \u001b[1;32mc:\\Users\\Roni\\anaconda3\\lib\\site-packages\\matplotlib\\__init__.py:1442\u001b[0m, in \u001b[0;36m_preprocess_data.<locals>.inner\u001b[1;34m(ax, data, *args, **kwargs)\u001b[0m\n\u001b[0;32m   1439\u001b[0m \u001b[38;5;129m@functools\u001b[39m\u001b[38;5;241m.\u001b[39mwraps(func)\n\u001b[0;32m   1440\u001b[0m \u001b[38;5;28;01mdef\u001b[39;00m \u001b[38;5;21minner\u001b[39m(ax, \u001b[38;5;241m*\u001b[39margs, data\u001b[38;5;241m=\u001b[39m\u001b[38;5;28;01mNone\u001b[39;00m, \u001b[38;5;241m*\u001b[39m\u001b[38;5;241m*\u001b[39mkwargs):\n\u001b[0;32m   1441\u001b[0m     \u001b[38;5;28;01mif\u001b[39;00m data \u001b[38;5;129;01mis\u001b[39;00m \u001b[38;5;28;01mNone\u001b[39;00m:\n\u001b[1;32m-> 1442\u001b[0m         \u001b[38;5;28;01mreturn\u001b[39;00m func(ax, \u001b[38;5;241m*\u001b[39m\u001b[38;5;28mmap\u001b[39m(sanitize_sequence, args), \u001b[38;5;241m*\u001b[39m\u001b[38;5;241m*\u001b[39mkwargs)\n\u001b[0;32m   1444\u001b[0m     bound \u001b[38;5;241m=\u001b[39m new_sig\u001b[38;5;241m.\u001b[39mbind(ax, \u001b[38;5;241m*\u001b[39margs, \u001b[38;5;241m*\u001b[39m\u001b[38;5;241m*\u001b[39mkwargs)\n\u001b[0;32m   1445\u001b[0m     auto_label \u001b[38;5;241m=\u001b[39m (bound\u001b[38;5;241m.\u001b[39marguments\u001b[38;5;241m.\u001b[39mget(label_namer)\n\u001b[0;32m   1446\u001b[0m                   \u001b[38;5;129;01mor\u001b[39;00m bound\u001b[38;5;241m.\u001b[39mkwargs\u001b[38;5;241m.\u001b[39mget(label_namer))\n",
      "File \u001b[1;32mc:\\Users\\Roni\\anaconda3\\lib\\site-packages\\mpl_toolkits\\mplot3d\\axes3d.py:2275\u001b[0m, in \u001b[0;36mAxes3D.scatter\u001b[1;34m(self, xs, ys, zs, zdir, s, c, depthshade, *args, **kwargs)\u001b[0m\n\u001b[0;32m   2272\u001b[0m \u001b[38;5;28;01mif\u001b[39;00m np\u001b[38;5;241m.\u001b[39mmay_share_memory(zs_orig, zs):  \u001b[38;5;66;03m# Avoid unnecessary copies.\u001b[39;00m\n\u001b[0;32m   2273\u001b[0m     zs \u001b[38;5;241m=\u001b[39m zs\u001b[38;5;241m.\u001b[39mcopy()\n\u001b[1;32m-> 2275\u001b[0m patches \u001b[38;5;241m=\u001b[39m \u001b[38;5;28msuper\u001b[39m()\u001b[38;5;241m.\u001b[39mscatter(xs, ys, s\u001b[38;5;241m=\u001b[39ms, c\u001b[38;5;241m=\u001b[39mc, \u001b[38;5;241m*\u001b[39margs, \u001b[38;5;241m*\u001b[39m\u001b[38;5;241m*\u001b[39mkwargs)\n\u001b[0;32m   2276\u001b[0m art3d\u001b[38;5;241m.\u001b[39mpatch_collection_2d_to_3d(patches, zs\u001b[38;5;241m=\u001b[39mzs, zdir\u001b[38;5;241m=\u001b[39mzdir,\n\u001b[0;32m   2277\u001b[0m                                 depthshade\u001b[38;5;241m=\u001b[39mdepthshade)\n\u001b[0;32m   2279\u001b[0m \u001b[38;5;28;01mif\u001b[39;00m \u001b[38;5;28mself\u001b[39m\u001b[38;5;241m.\u001b[39m_zmargin \u001b[38;5;241m<\u001b[39m \u001b[38;5;241m0.05\u001b[39m \u001b[38;5;129;01mand\u001b[39;00m xs\u001b[38;5;241m.\u001b[39msize \u001b[38;5;241m>\u001b[39m \u001b[38;5;241m0\u001b[39m:\n",
      "File \u001b[1;32mc:\\Users\\Roni\\anaconda3\\lib\\site-packages\\matplotlib\\__init__.py:1442\u001b[0m, in \u001b[0;36m_preprocess_data.<locals>.inner\u001b[1;34m(ax, data, *args, **kwargs)\u001b[0m\n\u001b[0;32m   1439\u001b[0m \u001b[38;5;129m@functools\u001b[39m\u001b[38;5;241m.\u001b[39mwraps(func)\n\u001b[0;32m   1440\u001b[0m \u001b[38;5;28;01mdef\u001b[39;00m \u001b[38;5;21minner\u001b[39m(ax, \u001b[38;5;241m*\u001b[39margs, data\u001b[38;5;241m=\u001b[39m\u001b[38;5;28;01mNone\u001b[39;00m, \u001b[38;5;241m*\u001b[39m\u001b[38;5;241m*\u001b[39mkwargs):\n\u001b[0;32m   1441\u001b[0m     \u001b[38;5;28;01mif\u001b[39;00m data \u001b[38;5;129;01mis\u001b[39;00m \u001b[38;5;28;01mNone\u001b[39;00m:\n\u001b[1;32m-> 1442\u001b[0m         \u001b[38;5;28;01mreturn\u001b[39;00m func(ax, \u001b[38;5;241m*\u001b[39m\u001b[38;5;28mmap\u001b[39m(sanitize_sequence, args), \u001b[38;5;241m*\u001b[39m\u001b[38;5;241m*\u001b[39mkwargs)\n\u001b[0;32m   1444\u001b[0m     bound \u001b[38;5;241m=\u001b[39m new_sig\u001b[38;5;241m.\u001b[39mbind(ax, \u001b[38;5;241m*\u001b[39margs, \u001b[38;5;241m*\u001b[39m\u001b[38;5;241m*\u001b[39mkwargs)\n\u001b[0;32m   1445\u001b[0m     auto_label \u001b[38;5;241m=\u001b[39m (bound\u001b[38;5;241m.\u001b[39marguments\u001b[38;5;241m.\u001b[39mget(label_namer)\n\u001b[0;32m   1446\u001b[0m                   \u001b[38;5;129;01mor\u001b[39;00m bound\u001b[38;5;241m.\u001b[39mkwargs\u001b[38;5;241m.\u001b[39mget(label_namer))\n",
      "File \u001b[1;32mc:\\Users\\Roni\\anaconda3\\lib\\site-packages\\matplotlib\\axes\\_axes.py:4593\u001b[0m, in \u001b[0;36mAxes.scatter\u001b[1;34m(self, x, y, s, c, marker, cmap, norm, vmin, vmax, alpha, linewidths, edgecolors, plotnonfinite, **kwargs)\u001b[0m\n\u001b[0;32m   4589\u001b[0m s \u001b[38;5;241m=\u001b[39m np\u001b[38;5;241m.\u001b[39mma\u001b[38;5;241m.\u001b[39mravel(s)\n\u001b[0;32m   4590\u001b[0m \u001b[38;5;28;01mif\u001b[39;00m (\u001b[38;5;28mlen\u001b[39m(s) \u001b[38;5;129;01mnot\u001b[39;00m \u001b[38;5;129;01min\u001b[39;00m (\u001b[38;5;241m1\u001b[39m, x\u001b[38;5;241m.\u001b[39msize) \u001b[38;5;129;01mor\u001b[39;00m\n\u001b[0;32m   4591\u001b[0m         (\u001b[38;5;129;01mnot\u001b[39;00m np\u001b[38;5;241m.\u001b[39missubdtype(s\u001b[38;5;241m.\u001b[39mdtype, np\u001b[38;5;241m.\u001b[39mfloating) \u001b[38;5;129;01mand\u001b[39;00m\n\u001b[0;32m   4592\u001b[0m          \u001b[38;5;129;01mnot\u001b[39;00m np\u001b[38;5;241m.\u001b[39missubdtype(s\u001b[38;5;241m.\u001b[39mdtype, np\u001b[38;5;241m.\u001b[39minteger))):\n\u001b[1;32m-> 4593\u001b[0m     \u001b[38;5;28;01mraise\u001b[39;00m \u001b[38;5;167;01mValueError\u001b[39;00m(\n\u001b[0;32m   4594\u001b[0m         \u001b[38;5;124m\"\u001b[39m\u001b[38;5;124ms must be a scalar, \u001b[39m\u001b[38;5;124m\"\u001b[39m\n\u001b[0;32m   4595\u001b[0m         \u001b[38;5;124m\"\u001b[39m\u001b[38;5;124mor float array-like with the same size as x and y\u001b[39m\u001b[38;5;124m\"\u001b[39m)\n\u001b[0;32m   4597\u001b[0m \u001b[38;5;66;03m# get the original edgecolor the user passed before we normalize\u001b[39;00m\n\u001b[0;32m   4598\u001b[0m orig_edgecolor \u001b[38;5;241m=\u001b[39m edgecolors\n",
      "\u001b[1;31mValueError\u001b[0m: s must be a scalar, or float array-like with the same size as x and y"
     ]
    }
   ],
   "source": [
    "plt.imshow(im.croped_image)\n",
    "plt.scatter(im.croped_pixels[:,1],im.croped_pixels[:,0])\n",
    "plt.scatter(projected[:,0],projected[:,1])\n",
    "\n",
    "print(projected.shape,points.points_in_ew_frame.shape)"
   ]
  },
  {
   "cell_type": "code",
   "execution_count": 5,
   "metadata": {},
   "outputs": [
    {
     "data": {
      "text/plain": [
       "<matplotlib.image.AxesImage at 0x13b65ce02e0>"
      ]
     },
     "execution_count": 5,
     "metadata": {},
     "output_type": "execute_result"
    },
    {
     "data": {
      "image/png": "[encoded data removed]",
      "text/plain": [
       "<Figure size 640x480 with 1 Axes>"
      ]
     },
     "metadata": {},
     "output_type": "display_data"
    }
   ],
   "source": [
    "cam = 'cam1'\n",
    "plt.imshow(image[cam].image )\n"
   ]
  },
  {
   "cell_type": "code",
   "execution_count": 2,
   "metadata": {},
   "outputs": [
    {
     "data": {
      "text/plain": [
       "<matplotlib.collections.PathCollection at 0x1a4b58303a0>"
      ]
     },
     "execution_count": 2,
     "metadata": {},
     "output_type": "execute_result"
    },
    {
     "data": {
      "image/png": "[encoded data removed]",
      "text/plain": [
       "<Figure size 640x480 with 1 Axes>"
      ]
     },
     "metadata": {},
     "output_type": "display_data"
    },
    {
     "data": {
      "image/png": "[encoded data removed]",
      "text/plain": [
       "<Figure size 640x480 with 1 Axes>"
      ]
     },
     "metadata": {},
     "output_type": "display_data"
    }
   ],
   "source": [
    "cam = 'cam3'\n",
    "proj = cameras[cam].project_on_cam(points.points_in_ew_frame_homo,cameras[cam].camera_matrix)\n",
    "px = image[cam].pixels\n",
    "\n",
    "top_left = image[cam].crop_image()\n",
    "cameras[cam].camera_calibration_crop(top_left)\n",
    "proj_crop = cameras[cam].project_on_cam(points.points_in_ew_frame,cameras[cam].croped_camera_matrix)\n",
    "\n",
    "plt.imshow(image[cam].image )\n",
    "plt.scatter(px[:,1],px[:,0])\n",
    "plt.scatter(proj[:,0] ,proj[:,1],s = 3,c='r')\n",
    "plt.figure()\n",
    "plt.imshow(image[cam].croped_image)\n",
    "plt.scatter(proj_crop[:,0],proj_crop[:,1],s = 3,c='r')"
   ]
  },
  {
   "cell_type": "code",
   "execution_count": 22,
   "metadata": {},
   "outputs": [
    {
     "data": {
      "image/png": "[encoded data removed]",
      "text/plain": [
       "<PIL.Image.Image image mode=L size=160x160>"
      ]
     },
     "execution_count": 22,
     "metadata": {},
     "output_type": "execute_result"
    }
   ],
   "source": [
    "image[f'cam1'].croped_image"
   ]
  },
  {
   "cell_type": "code",
   "execution_count": 3,
   "metadata": {},
   "outputs": [],
   "source": [
    "\n",
    "\n",
    "gen_gs_data = GenerateGsInput(path,image,cameras)\n",
    "gen_gs_data.generate_camera_text()\n",
    "gen_gs_data.save_croped_images()\n"
   ]
  },
  {
   "cell_type": "code",
   "execution_count": 4,
   "metadata": {},
   "outputs": [],
   "source": [
    "image[cam].croped_image.save(f'{image[cam].path}/input_data_for_gs/images/P{image[cam].frame}CAM{image[cam].cam}.jpg')\n"
   ]
  },
  {
   "cell_type": "code",
   "execution_count": 5,
   "metadata": {},
   "outputs": [
    {
     "ename": "AttributeError",
     "evalue": "'ImageFly' object has no attribute 'croped_image'",
     "output_type": "error",
     "traceback": [
      "\u001b[1;31m---------------------------------------------------------------------------\u001b[0m",
      "\u001b[1;31mAttributeError\u001b[0m                            Traceback (most recent call last)",
      "\u001b[1;32m<ipython-input-5-2d28c616fa23>\u001b[0m in \u001b[0;36m<module>\u001b[1;34m\u001b[0m\n\u001b[1;32m----> 1\u001b[1;33m \u001b[1;33m[\u001b[0m\u001b[0mimage\u001b[0m\u001b[1;33m[\u001b[0m\u001b[0mcam\u001b[0m\u001b[1;33m]\u001b[0m\u001b[1;33m.\u001b[0m\u001b[0mcroped_image\u001b[0m\u001b[1;33m.\u001b[0m\u001b[0msave\u001b[0m\u001b[1;33m(\u001b[0m\u001b[1;34mf'{path}/images/P{cam}{im_idx}.jpg'\u001b[0m\u001b[1;33m)\u001b[0m \u001b[1;32mfor\u001b[0m \u001b[0mim_idx\u001b[0m\u001b[1;33m,\u001b[0m\u001b[0mcam\u001b[0m \u001b[1;32min\u001b[0m \u001b[0menumerate\u001b[0m\u001b[1;33m(\u001b[0m\u001b[0mcameras\u001b[0m\u001b[1;33m.\u001b[0m\u001b[0mkeys\u001b[0m\u001b[1;33m(\u001b[0m\u001b[1;33m)\u001b[0m\u001b[1;33m)\u001b[0m\u001b[1;33m]\u001b[0m\u001b[1;33m\u001b[0m\u001b[1;33m\u001b[0m\u001b[0m\n\u001b[0m",
      "\u001b[1;32m<ipython-input-5-2d28c616fa23>\u001b[0m in \u001b[0;36m<listcomp>\u001b[1;34m(.0)\u001b[0m\n\u001b[1;32m----> 1\u001b[1;33m \u001b[1;33m[\u001b[0m\u001b[0mimage\u001b[0m\u001b[1;33m[\u001b[0m\u001b[0mcam\u001b[0m\u001b[1;33m]\u001b[0m\u001b[1;33m.\u001b[0m\u001b[0mcroped_image\u001b[0m\u001b[1;33m.\u001b[0m\u001b[0msave\u001b[0m\u001b[1;33m(\u001b[0m\u001b[1;34mf'{path}/images/P{cam}{im_idx}.jpg'\u001b[0m\u001b[1;33m)\u001b[0m \u001b[1;32mfor\u001b[0m \u001b[0mim_idx\u001b[0m\u001b[1;33m,\u001b[0m\u001b[0mcam\u001b[0m \u001b[1;32min\u001b[0m \u001b[0menumerate\u001b[0m\u001b[1;33m(\u001b[0m\u001b[0mcameras\u001b[0m\u001b[1;33m.\u001b[0m\u001b[0mkeys\u001b[0m\u001b[1;33m(\u001b[0m\u001b[1;33m)\u001b[0m\u001b[1;33m)\u001b[0m\u001b[1;33m]\u001b[0m\u001b[1;33m\u001b[0m\u001b[1;33m\u001b[0m\u001b[0m\n\u001b[0m",
      "\u001b[1;31mAttributeError\u001b[0m: 'ImageFly' object has no attribute 'croped_image'"
     ]
    }
   ],
   "source": [
    "[image[cam].croped_image.save(f'{path}/images/P{cam}{im_idx}.jpg') for im_idx,cam in enumerate(cameras.keys())]"
   ]
  },
  {
   "cell_type": "code",
   "execution_count": 4,
   "metadata": {},
   "outputs": [
    {
     "data": {
      "text/plain": [
       "array([ 4.99659604e-03, -9.99900683e-01, -3.64675249e-04, -1.31729114e-02])"
      ]
     },
     "execution_count": 4,
     "metadata": {},
     "output_type": "execute_result"
    }
   ],
   "source": [
    "cameras['cam4'].rotmat2qvec()\n",
    "cameras['cam4'].qvec"
   ]
  },
  {
   "cell_type": "code",
   "execution_count": null,
   "metadata": {},
   "outputs": [],
   "source": [
    "# Image list with two lines of data per image:\n",
    "#   IMAGE_ID, QW, QX, QY, QZ, TX, TY, TZ, CAMERA_ID, NAME\n",
    "#   POINTS2D[] as (X, Y, POINT3D_ID)\n",
    "# Number of images: 2, mean observations per image: 2\n",
    "1 0.851773 0.0165051 0.503764 -0.142941 -0.737434 1.02973 3.74354 1 P1180141.JPG\n",
    "2362.39 248.498 58396 1784.7 268.254 59027 1784.7 268.254 -1\n",
    "2 0.851773 0.0165051 0.503764 -0.142941 -0.737434 1.02973 3.74354 1 P1180142.JPG\n",
    "1190.83 663.957 23056 1258.77 640.354 59070"
   ]
  },
  {
   "cell_type": "code",
   "execution_count": 6,
   "metadata": {},
   "outputs": [
    {
     "data": {
      "text/plain": [
       "array([[491.42585268, 317.8091548 ],\n",
       "       [502.13323285, 323.73585245],\n",
       "       [491.17388637, 317.67233787],\n",
       "       ...,\n",
       "       [477.40529575, 336.66660918],\n",
       "       [476.95713036, 337.48289853],\n",
       "       [477.389475  , 337.72869366]])"
      ]
     },
     "execution_count": 6,
     "metadata": {},
     "output_type": "execute_result"
    }
   ],
   "source": []
  },
  {
   "cell_type": "code",
   "execution_count": 16,
   "metadata": {},
   "outputs": [
    {
     "ename": "NameError",
     "evalue": "name 'flatten' is not defined",
     "output_type": "error",
     "traceback": [
      "\u001b[1;31m---------------------------------------------------------------------------\u001b[0m",
      "\u001b[1;31mNameError\u001b[0m                                 Traceback (most recent call last)",
      "Cell \u001b[1;32mIn[16], line 1\u001b[0m\n\u001b[1;32m----> 1\u001b[0m \u001b[43mflatten\u001b[49m([idx, \u001b[38;5;28mlist\u001b[39m(image\u001b[38;5;241m.\u001b[39mqvec), image\u001b[38;5;241m.\u001b[39mt\u001b[38;5;241m.\u001b[39mT, image\u001b[38;5;241m.\u001b[39mcamera_number,frames_name])\n",
      "\u001b[1;31mNameError\u001b[0m: name 'flatten' is not defined"
     ]
    }
   ],
   "source": [
    "flatten([idx, list(image.qvec), image.t.T, image.camera_number,frames_name])"
   ]
  },
  {
   "cell_type": "code",
   "execution_count": 16,
   "metadata": {},
   "outputs": [
    {
     "data": {
      "text/plain": [
       "(2464, 2)"
      ]
     },
     "execution_count": 16,
     "metadata": {},
     "output_type": "execute_result"
    }
   ],
   "source": [
    "images['P300CAM1.jpg'].croped_pixels.shape"
   ]
  },
  {
   "cell_type": "code",
   "execution_count": null,
   "metadata": {},
   "outputs": [],
   "source": []
  },
  {
   "cell_type": "code",
   "execution_count": 38,
   "metadata": {},
   "outputs": [
    {
     "name": "stdout",
     "output_type": "stream",
     "text": [
      "[0, 0.40141820283900637, -0.7619356013643706, 0.4480877832223714, -0.2398643456828853, -0.0009995330536695464, -0.000963379647275542, -0.27667278893559305, 1, 'P300CAM1.jpg']\n",
      "[1, 0.010196539225855067, 0.49418003263308263, -0.4900952552178714, 0.7179754638896167, -2.3405244476857152e-06, 0.003103373568684653, -0.19604126118852686, 2, 'P300CAM2.jpg']\n",
      "[2, 0.005566844212601766, -0.5137344711486188, -0.4945975830212957, 0.7010129344517506, 0.0018709171011325818, 0.0016270343699767798, -0.19135574843655634, 3, 'P300CAM3.jpg']\n",
      "[3, 0.004996596039281802, -0.9999006827911814, -0.00036467524885919173, -0.013172911360534499, -0.002034118658308913, 0.002187200103057826, -0.19123460135434145, 4, 'P300CAM4.jpg']\n",
      "[4, 0.40141820283900637, -0.7619356013643706, 0.4480877832223714, -0.2398643456828853, -0.0009995330536695464, -0.000963379647275542, -0.27667278893559305, 1, 'P400CAM1.jpg']\n",
      "[5, 0.010196539225855067, 0.49418003263308263, -0.4900952552178714, 0.7179754638896167, -2.3405244476857152e-06, 0.003103373568684653, -0.19604126118852686, 2, 'P400CAM2.jpg']\n",
      "[6, 0.005566844212601766, -0.5137344711486188, -0.4945975830212957, 0.7010129344517506, 0.0018709171011325818, 0.0016270343699767798, -0.19135574843655634, 3, 'P400CAM3.jpg']\n",
      "[7, 0.004996596039281802, -0.9999006827911814, -0.00036467524885919173, -0.013172911360534499, -0.002034118658308913, 0.002187200103057826, -0.19123460135434145, 4, 'P400CAM4.jpg']\n"
     ]
    }
   ],
   "source": [
    "import os\n",
    "path = 'I:/My Drive/Research/gs_data/mov19_2022_03_03'\n",
    "\n",
    "images_folder = f'{path}/input_data_for_gs/sparse/' \n",
    "if not os.path.exists(f'{path}/input_data_for_gs/sparse/'):\n",
    "    os.makedirs(images_folder)\n",
    "\n",
    "\n",
    "with open(f'{images_folder}/images.txt', \"w\") as file:\n",
    "    file.write(\"# Image list with two lines of data per image:\\n#\")\n",
    "    file.write(\"#   IMAGE_ID, QW, QX, QY, QZ, TX, TY, TZ, CAMERA_ID, NAME\\n\")\n",
    "    file.write(\"#   POINTS2D[] as (X, Y, POINT3D_ID)\\n\")\n",
    "    file.write(f\"# Number of images: {len(images)}, mean observations per image: 2 \\n\")\n",
    "\n",
    "    for idx,(frames_name,image) in enumerate(images.items()): \n",
    "\n",
    "        camera_data = [idx] + list(image.qvec) + list(image.t.T[0]) + [image.camera_number] + [frames_name]\n",
    "        print(camera_data)\n",
    "        file.write(\" \".join(map(str, camera_data)) + \"\\n\")\n",
    "        ponts2d = [image.croped_pixels]\n",
    "        file.write(\" \".join(map(str, camera_data)) + \"\\n\")"
   ]
  },
  {
   "cell_type": "code",
   "execution_count": 40,
   "metadata": {},
   "outputs": [
    {
     "data": {
      "text/plain": [
       "array([[ 72, 600],\n",
       "       [ 72, 602],\n",
       "       [ 72, 603],\n",
       "       ...,\n",
       "       [159, 600],\n",
       "       [159, 602],\n",
       "       [159, 607]], dtype=int64)"
      ]
     },
     "execution_count": 40,
     "metadata": {},
     "output_type": "execute_result"
    }
   ],
   "source": [
    "image.pixels"
   ]
  },
  {
   "cell_type": "code",
   "execution_count": 17,
   "metadata": {},
   "outputs": [],
   "source": [
    "import os\n",
    "path = 'G:/My Drive/Research/gs_data/mov19_2022_03_03'\n",
    "\n",
    "sparse_folder = f'{path}/input_data_for_gs/sparse/' \n",
    "if not os.path.exists(f'{path}/input_data_for_gs/sparse/'):\n",
    "    os.makedirs(sparse_folder)\n",
    "\n",
    "\n",
    "with open(f'{sparse_folder}/cameras.txt', \"w\") as file:\n",
    "    file.write(\"# Camera list with one line of data per camera:\\n#   CAMERA_ID, MODEL, WIDTH, HEIGHT, PARAMS[]\\n\")\n",
    "    file.write(f\"# Number of cameras: {len(cameras)}\\n\")\n",
    "    for camera in cameras.values(): \n",
    "        intrinsic = np.round(np.array(camera.K),2)\n",
    "        camera_data = [camera.camera_number, \"PINHOLE\", 1280, 800, intrinsic[0,0], intrinsic[1,1], intrinsic[0,2], intrinsic[1,2]]\n",
    "        file.write(\" \".join(map(str, camera_data)) + \"\\n\")\n"
   ]
  },
  {
   "cell_type": "code",
   "execution_count": null,
   "metadata": {},
   "outputs": [],
   "source": []
  },
  {
   "cell_type": "code",
   "execution_count": 18,
   "metadata": {},
   "outputs": [
    {
     "data": {
      "text/plain": [
       "<matplotlib.collections.PathCollection at 0x14b089a2080>"
      ]
     },
     "execution_count": 18,
     "metadata": {},
     "output_type": "execute_result"
    }
   ],
   "source": [
    "import matplotlib.pyplot as plt\n",
    "cam = 'cam4'\n",
    "\n",
    "path = 'D:/Documents/mov19_2022_03_03/'\n",
    "image = {f'cam{cam + 1}':ImageFly(path,frame,cam) for cam in range(4)}\n",
    "px = image[cam].pixels\n",
    "\n",
    "proj = cameras[cam].project_on_cam(points.points_in_ew_frame,cameras[cam].camera_matrix)\n",
    "plt.imshow(image[cam].image)\n",
    "plt.scatter(px[:,0],px[:,1])\n",
    "\n",
    "plt.scatter(proj[:,0],proj[:,1])\n"
   ]
  },
  {
   "cell_type": "code",
   "execution_count": 19,
   "metadata": {},
   "outputs": [
    {
     "data": {
      "text/plain": [
       "<matplotlib.collections.PathCollection at 0x14b0650beb0>"
      ]
     },
     "execution_count": 19,
     "metadata": {},
     "output_type": "execute_result"
    }
   ],
   "source": [
    "plt.figure();plt.scatter(px[:,0],px[:,1])\n",
    "\n",
    "plt.scatter(proj[:,0],proj[:,1])"
   ]
  },
  {
   "cell_type": "code",
   "execution_count": 20,
   "metadata": {},
   "outputs": [],
   "source": [
    "path = 'D:/Documents/mov19_2022_03_03/'\n",
    "\n",
    "points.idx_to_real()\n"
   ]
  },
  {
   "cell_type": "code",
   "execution_count": 21,
   "metadata": {},
   "outputs": [
    {
     "ename": "AttributeError",
     "evalue": "'dict' object has no attribute 'image'",
     "output_type": "error",
     "traceback": [
      "\u001b[1;31m---------------------------------------------------------------------------\u001b[0m",
      "\u001b[1;31mAttributeError\u001b[0m                            Traceback (most recent call last)",
      "Cell \u001b[1;32mIn[21], line 7\u001b[0m\n\u001b[0;32m      3\u001b[0m frame \u001b[38;5;241m=\u001b[39m \u001b[38;5;241m360\u001b[39m\n\u001b[0;32m      5\u001b[0m cam \u001b[38;5;241m=\u001b[39m \u001b[38;5;241m1\u001b[39m\n\u001b[1;32m----> 7\u001b[0m plt\u001b[38;5;241m.\u001b[39mimshow(\u001b[43mimage\u001b[49m\u001b[38;5;241;43m.\u001b[39;49m\u001b[43mimage\u001b[49m)\n",
      "\u001b[1;31mAttributeError\u001b[0m: 'dict' object has no attribute 'image'"
     ]
    }
   ],
   "source": [
    "from ImageFly import ImageFly\n",
    "path = 'D:/Documents/mov19_2022_03_03/'\n",
    "frame = 360\n",
    "\n",
    "cam = 1\n",
    "\n",
    "plt.imshow(image.image)\n",
    "\n"
   ]
  },
  {
   "cell_type": "code",
   "execution_count": 1,
   "metadata": {},
   "outputs": [
    {
     "ename": "NameError",
     "evalue": "name 'np' is not defined",
     "output_type": "error",
     "traceback": [
      "\u001b[1;31m---------------------------------------------------------------------------\u001b[0m",
      "\u001b[1;31mNameError\u001b[0m                                 Traceback (most recent call last)",
      "Cell \u001b[1;32mIn[1], line 8\u001b[0m\n\u001b[0;32m      5\u001b[0m frame \u001b[38;5;241m=\u001b[39m \u001b[38;5;241m360\u001b[39m\n\u001b[0;32m      7\u001b[0m cam \u001b[38;5;241m=\u001b[39m \u001b[38;5;241m1\u001b[39m\n\u001b[1;32m----> 8\u001b[0m im \u001b[38;5;241m=\u001b[39m \u001b[43mnp\u001b[49m\u001b[38;5;241m.\u001b[39mstack([np\u001b[38;5;241m.\u001b[39marray(Image\u001b[38;5;241m.\u001b[39mopen(\u001b[38;5;124mf\u001b[39m\u001b[38;5;124m'\u001b[39m\u001b[38;5;132;01m{\u001b[39;00mpath\u001b[38;5;132;01m}\u001b[39;00m\u001b[38;5;124mimages/P\u001b[39m\u001b[38;5;132;01m{\u001b[39;00mframe\u001b[38;5;132;01m}\u001b[39;00m\u001b[38;5;124mCAM\u001b[39m\u001b[38;5;132;01m{\u001b[39;00mcam \u001b[38;5;241m+\u001b[39m \u001b[38;5;241m1\u001b[39m\u001b[38;5;132;01m}\u001b[39;00m\u001b[38;5;124m.jpg\u001b[39m\u001b[38;5;124m'\u001b[39m)) \u001b[38;5;28;01mfor\u001b[39;00m cam \u001b[38;5;129;01min\u001b[39;00m \u001b[38;5;28mrange\u001b[39m(\u001b[38;5;241m4\u001b[39m)])\n\u001b[0;32m      9\u001b[0m im_num,y,x \u001b[38;5;241m=\u001b[39m np\u001b[38;5;241m.\u001b[39mwhere(im \u001b[38;5;241m>\u001b[39m \u001b[38;5;241m0\u001b[39m)\n\u001b[0;32m     14\u001b[0m plt\u001b[38;5;241m.\u001b[39mimshow(im[\u001b[38;5;241m2\u001b[39m])\n",
      "\u001b[1;31mNameError\u001b[0m: name 'np' is not defined"
     ]
    }
   ],
   "source": [
    "from PIL import Image\n",
    "import matplotlib.pyplot as plt\n",
    "from ImageFly import ImageFly\n",
    "path = 'D:/Documents/mov19_2022_03_03/'\n",
    "frame = 360\n",
    "\n",
    "cam = 1\n",
    "im = np.stack([np.array(Image.open(f'{path}images/P{frame}CAM{cam + 1}.jpg')) for cam in range(4)])\n",
    "im_num,y,x = np.where(im > 0)\n",
    "\n",
    "\n",
    "\n",
    "\n",
    "plt.imshow(im[2])\n",
    "plt.scatter(x,y)"
   ]
  },
  {
   "cell_type": "code",
   "execution_count": 7,
   "metadata": {},
   "outputs": [
    {
     "data": {
      "text/plain": [
       "[array([-0.00025, -0.00025, -0.00025, ...,  0.00145,  0.0014 ,  0.0013 ]),\n",
       " array([-0.01335, -0.01325, -0.0132 , ..., -0.0145 , -0.01445, -0.0144 ]),\n",
       " array([0.0016 , 0.00165, 0.0017 , ..., 0.0032 , 0.0032 , 0.0032 ])]"
      ]
     },
     "execution_count": 7,
     "metadata": {},
     "output_type": "execute_result"
    }
   ],
   "source": [
    "import scipy.io\n",
    "import pandas as pd\n",
    "import numpy as np\n",
    "from Points3D import Points3D\n",
    "path = 'G:/My Drive/Research/gs_data/mov19_2022_03_03'\n",
    "\n",
    "point = Points3D(path)\n",
    "pts = point.get_frame(73)\n",
    "np.array([point.real_coord[point.frame[ax],idx] for idx,ax in enumerate(['X','Y','Z'])])"
   ]
  }
 ],
 "metadata": {
  "kernelspec": {
   "display_name": "base",
   "language": "python",
   "name": "python3"
  },
  "language_info": {
   "codemirror_mode": {
    "name": "ipython",
    "version": 3
   },
   "file_extension": ".py",
   "mimetype": "text/x-python",
   "name": "python",
   "nbconvert_exporter": "python",
   "pygments_lexer": "ipython3",
   "version": "3.10.9"
  }
 },
 "nbformat": 4,
 "nbformat_minor": 2
}
