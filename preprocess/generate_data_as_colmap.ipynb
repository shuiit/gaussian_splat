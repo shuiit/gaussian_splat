{
 "cells": [
  {
   "cell_type": "code",
   "execution_count": 1,
   "metadata": {},
   "outputs": [],
   "source": [
    "from Camera import Camera\n",
    "import numpy as np\n",
    "from Points3D import Points3D\n",
    "from ImageFly import ImageFly\n",
    "import matplotlib.pyplot as plt\n",
    "%matplotlib qt\n",
    "\n",
    "path = 'G:/My Drive/Research/gs_data/mov19_2022_03_03'\n",
    "\n",
    "frame = 450\n",
    "\n",
    "cameras = {f'cam{cam + 1}':Camera(path,cam) for cam in range(4)}\n",
    "points = Points3D(path)\n",
    "points.get_frame(frame)\n",
    "points.idx_to_real()\n",
    "\n",
    "path = 'D:/Documents/mov19_2022_03_03/'\n",
    "frame = 450\n",
    "image = {f'cam{cam + 1}':ImageFly(path,frame,cam) for cam in range(4)}\n",
    "\n",
    "proj = cameras['cam1'].project_on_cam(points.points_in_ew_frame,cameras['cam1'].camera_matrix)"
   ]
  },
  {
   "cell_type": "code",
   "execution_count": 6,
   "metadata": {},
   "outputs": [
    {
     "data": {
      "text/plain": [
       "<matplotlib.collections.PathCollection at 0x26ff12d9870>"
      ]
     },
     "execution_count": 6,
     "metadata": {},
     "output_type": "execute_result"
    }
   ],
   "source": [
    "cam = 'cam4'\n",
    "proj = cameras[cam].project_on_cam(points.points_in_ew_frame,cameras[cam].camera_matrix)\n",
    "px = image[cam].pixels\n",
    "\n",
    "plt.imshow(image[cam].image )\n",
    "# plt.scatter(px[:,0],px[:,1])\n",
    "\n",
    "plt.scatter(proj[:,0] ,proj[:,1],s = 3,c='r')\n"
   ]
  },
  {
   "cell_type": "code",
   "execution_count": 5,
   "metadata": {},
   "outputs": [
    {
     "data": {
      "text/plain": [
       "array([533,  56])"
      ]
     },
     "execution_count": 5,
     "metadata": {},
     "output_type": "execute_result"
    }
   ],
   "source": [
    "cm - 80"
   ]
  },
  {
   "cell_type": "code",
   "execution_count": 3,
   "metadata": {},
   "outputs": [
    {
     "data": {
      "text/plain": [
       "array([[-4.48346283e+03,  6.28893425e-11,  1.12128004e+02],\n",
       "       [ 0.00000000e+00, -4.49103767e+03,  2.99307693e+02],\n",
       "       [ 0.00000000e+00,  0.00000000e+00,  1.00000000e+00]])"
      ]
     },
     "execution_count": 3,
     "metadata": {},
     "output_type": "execute_result"
    }
   ],
   "source": [
    "cameras['cam4'].K_crop"
   ]
  },
  {
   "cell_type": "code",
   "execution_count": 4,
   "metadata": {},
   "outputs": [
    {
     "data": {
      "text/plain": [
       "array([[-4.48346283e+03,  6.28893425e-11,  6.45128004e+02],\n",
       "       [ 0.00000000e+00, -4.49103767e+03,  3.55307693e+02],\n",
       "       [ 0.00000000e+00,  0.00000000e+00,  1.00000000e+00]])"
      ]
     },
     "execution_count": 4,
     "metadata": {},
     "output_type": "execute_result"
    }
   ],
   "source": [
    "cameras['cam4'].K"
   ]
  },
  {
   "cell_type": "code",
   "execution_count": 4,
   "metadata": {},
   "outputs": [
    {
     "name": "stdout",
     "output_type": "stream",
     "text": [
      "533 -56\n"
     ]
    }
   ],
   "source": [
    "px = image['cam4'].pixels\n",
    "cm = np.mean(px,0).astype(int)\n",
    "\n",
    "wakk = image['cam4'].image[cm[1]-80 : cm[1] + 80,cm[0] - 80: cm[0] + 80]\n",
    "\n",
    "plt.figure()\n",
    "cameras['cam4'].camera_calibration_crop([cm[0]-80  ,cm[1]-80 ])\n",
    "proj2 = cameras['cam4'].project_on_cam(points.points_in_ew_frame,cameras['cam4'].croped_camera_matrix)\n",
    "plt.imshow(wakk)\n",
    "plt.scatter(proj2[:,0],proj2[:,1])\n",
    "print(cm[0] - 80,160-cm[1] - 80)"
   ]
  },
  {
   "cell_type": "code",
   "execution_count": 11,
   "metadata": {},
   "outputs": [
    {
     "data": {
      "text/plain": [
       "array([428, 253])"
      ]
     },
     "execution_count": 11,
     "metadata": {},
     "output_type": "execute_result"
    }
   ],
   "source": [
    "cm - 80"
   ]
  },
  {
   "cell_type": "code",
   "execution_count": 12,
   "metadata": {},
   "outputs": [
    {
     "data": {
      "text/plain": [
       "array([[520, 296],\n",
       "       [522, 296],\n",
       "       [524, 296],\n",
       "       ...,\n",
       "       [523, 375],\n",
       "       [524, 375],\n",
       "       [526, 375]], dtype=int64)"
      ]
     },
     "execution_count": 12,
     "metadata": {},
     "output_type": "execute_result"
    }
   ],
   "source": [
    "px"
   ]
  },
  {
   "cell_type": "code",
   "execution_count": 8,
   "metadata": {},
   "outputs": [
    {
     "data": {
      "text/plain": [
       "<matplotlib.collections.PathCollection at 0x2b8abecd120>"
      ]
     },
     "execution_count": 8,
     "metadata": {},
     "output_type": "execute_result"
    }
   ],
   "source": [
    "import matplotlib.pyplot as plt\n",
    "px = image['cam4'].pixels\n",
    "plt.imshow(image['cam4'].image)\n",
    "\n",
    "plt.scatter(proj[:,0],proj[:,1])\n",
    "plt.scatter(px[:,0],px[:,1])\n",
    "\n",
    "cm = np.mean(px,0).astype(int)\n",
    "\n",
    "\n",
    "plt.scatter(cm[0] - 80,cm[1] - 80)"
   ]
  },
  {
   "cell_type": "code",
   "execution_count": 14,
   "metadata": {},
   "outputs": [
    {
     "data": {
      "text/plain": [
       "array([[ 616.86506501, -521.54482326],\n",
       "       [ 616.90262211, -520.29571962],\n",
       "       [ 616.82530904, -520.43879805],\n",
       "       ...,\n",
       "       [ 602.81731872, -494.32113482],\n",
       "       [ 602.77499063, -494.38582484],\n",
       "       [ 602.77386475, -493.20850601]])"
      ]
     },
     "execution_count": 14,
     "metadata": {},
     "output_type": "execute_result"
    }
   ],
   "source": [
    "proj"
   ]
  },
  {
   "cell_type": "code",
   "execution_count": 15,
   "metadata": {},
   "outputs": [
    {
     "data": {
      "text/plain": [
       "array([[520, 296],\n",
       "       [522, 296],\n",
       "       [524, 296],\n",
       "       ...,\n",
       "       [523, 375],\n",
       "       [524, 375],\n",
       "       [526, 375]], dtype=int64)"
      ]
     },
     "execution_count": 15,
     "metadata": {},
     "output_type": "execute_result"
    }
   ],
   "source": [
    "px"
   ]
  },
  {
   "cell_type": "code",
   "execution_count": 16,
   "metadata": {},
   "outputs": [
    {
     "data": {
      "text/plain": [
       "<matplotlib.collections.PathCollection at 0x14b0832b550>"
      ]
     },
     "execution_count": 16,
     "metadata": {},
     "output_type": "execute_result"
    }
   ],
   "source": [
    "plt.figure()\n",
    "plt.scatter(px[:,0],px[:,1])\n",
    "plt.scatter(proj[:,0],proj[:,1])\n"
   ]
  },
  {
   "cell_type": "code",
   "execution_count": 17,
   "metadata": {},
   "outputs": [],
   "source": [
    "import os\n",
    "path = 'G:/My Drive/Research/gs_data/mov19_2022_03_03'\n",
    "\n",
    "sparse_folder = f'{path}/input_data_for_gs/sparse/' \n",
    "if not os.path.exists(f'{path}/input_data_for_gs/sparse/'):\n",
    "    os.makedirs(sparse_folder)\n",
    "\n",
    "\n",
    "with open(f'{sparse_folder}/cameras.txt', \"w\") as file:\n",
    "    file.write(\"# Camera list with one line of data per camera:\\n#   CAMERA_ID, MODEL, WIDTH, HEIGHT, PARAMS[]\\n\")\n",
    "    file.write(f\"# Number of cameras: {len(cameras)}\\n\")\n",
    "    for camera in cameras.values(): \n",
    "        intrinsic = np.round(np.array(camera.K),2)\n",
    "        camera_data = [camera.camera_number, \"PINHOLE\", 1280, 800, intrinsic[0,0], intrinsic[1,1], intrinsic[0,2], intrinsic[1,2]]\n",
    "        file.write(\" \".join(map(str, camera_data)) + \"\\n\")\n"
   ]
  },
  {
   "cell_type": "code",
   "execution_count": null,
   "metadata": {},
   "outputs": [],
   "source": []
  },
  {
   "cell_type": "code",
   "execution_count": 18,
   "metadata": {},
   "outputs": [
    {
     "data": {
      "text/plain": [
       "<matplotlib.collections.PathCollection at 0x14b089a2080>"
      ]
     },
     "execution_count": 18,
     "metadata": {},
     "output_type": "execute_result"
    }
   ],
   "source": [
    "import matplotlib.pyplot as plt\n",
    "cam = 'cam4'\n",
    "\n",
    "path = 'D:/Documents/mov19_2022_03_03/'\n",
    "image = {f'cam{cam + 1}':ImageFly(path,frame,cam) for cam in range(4)}\n",
    "px = image[cam].pixels\n",
    "\n",
    "proj = cameras[cam].project_on_cam(points.points_in_ew_frame,cameras[cam].camera_matrix)\n",
    "plt.imshow(image[cam].image)\n",
    "plt.scatter(px[:,0],px[:,1])\n",
    "\n",
    "plt.scatter(proj[:,0],proj[:,1])\n"
   ]
  },
  {
   "cell_type": "code",
   "execution_count": 19,
   "metadata": {},
   "outputs": [
    {
     "data": {
      "text/plain": [
       "<matplotlib.collections.PathCollection at 0x14b0650beb0>"
      ]
     },
     "execution_count": 19,
     "metadata": {},
     "output_type": "execute_result"
    }
   ],
   "source": [
    "plt.figure();plt.scatter(px[:,0],px[:,1])\n",
    "\n",
    "plt.scatter(proj[:,0],proj[:,1])"
   ]
  },
  {
   "cell_type": "code",
   "execution_count": 20,
   "metadata": {},
   "outputs": [],
   "source": [
    "path = 'D:/Documents/mov19_2022_03_03/'\n",
    "\n",
    "points.idx_to_real()\n"
   ]
  },
  {
   "cell_type": "code",
   "execution_count": 21,
   "metadata": {},
   "outputs": [
    {
     "ename": "AttributeError",
     "evalue": "'dict' object has no attribute 'image'",
     "output_type": "error",
     "traceback": [
      "\u001b[1;31m---------------------------------------------------------------------------\u001b[0m",
      "\u001b[1;31mAttributeError\u001b[0m                            Traceback (most recent call last)",
      "Cell \u001b[1;32mIn[21], line 7\u001b[0m\n\u001b[0;32m      3\u001b[0m frame \u001b[38;5;241m=\u001b[39m \u001b[38;5;241m360\u001b[39m\n\u001b[0;32m      5\u001b[0m cam \u001b[38;5;241m=\u001b[39m \u001b[38;5;241m1\u001b[39m\n\u001b[1;32m----> 7\u001b[0m plt\u001b[38;5;241m.\u001b[39mimshow(\u001b[43mimage\u001b[49m\u001b[38;5;241;43m.\u001b[39;49m\u001b[43mimage\u001b[49m)\n",
      "\u001b[1;31mAttributeError\u001b[0m: 'dict' object has no attribute 'image'"
     ]
    }
   ],
   "source": [
    "from ImageFly import ImageFly\n",
    "path = 'D:/Documents/mov19_2022_03_03/'\n",
    "frame = 360\n",
    "\n",
    "cam = 1\n",
    "\n",
    "plt.imshow(image.image)\n",
    "\n"
   ]
  },
  {
   "cell_type": "code",
   "execution_count": 1,
   "metadata": {},
   "outputs": [
    {
     "ename": "NameError",
     "evalue": "name 'np' is not defined",
     "output_type": "error",
     "traceback": [
      "\u001b[1;31m---------------------------------------------------------------------------\u001b[0m",
      "\u001b[1;31mNameError\u001b[0m                                 Traceback (most recent call last)",
      "Cell \u001b[1;32mIn[1], line 8\u001b[0m\n\u001b[0;32m      5\u001b[0m frame \u001b[38;5;241m=\u001b[39m \u001b[38;5;241m360\u001b[39m\n\u001b[0;32m      7\u001b[0m cam \u001b[38;5;241m=\u001b[39m \u001b[38;5;241m1\u001b[39m\n\u001b[1;32m----> 8\u001b[0m im \u001b[38;5;241m=\u001b[39m \u001b[43mnp\u001b[49m\u001b[38;5;241m.\u001b[39mstack([np\u001b[38;5;241m.\u001b[39marray(Image\u001b[38;5;241m.\u001b[39mopen(\u001b[38;5;124mf\u001b[39m\u001b[38;5;124m'\u001b[39m\u001b[38;5;132;01m{\u001b[39;00mpath\u001b[38;5;132;01m}\u001b[39;00m\u001b[38;5;124mimages/P\u001b[39m\u001b[38;5;132;01m{\u001b[39;00mframe\u001b[38;5;132;01m}\u001b[39;00m\u001b[38;5;124mCAM\u001b[39m\u001b[38;5;132;01m{\u001b[39;00mcam \u001b[38;5;241m+\u001b[39m \u001b[38;5;241m1\u001b[39m\u001b[38;5;132;01m}\u001b[39;00m\u001b[38;5;124m.jpg\u001b[39m\u001b[38;5;124m'\u001b[39m)) \u001b[38;5;28;01mfor\u001b[39;00m cam \u001b[38;5;129;01min\u001b[39;00m \u001b[38;5;28mrange\u001b[39m(\u001b[38;5;241m4\u001b[39m)])\n\u001b[0;32m      9\u001b[0m im_num,y,x \u001b[38;5;241m=\u001b[39m np\u001b[38;5;241m.\u001b[39mwhere(im \u001b[38;5;241m>\u001b[39m \u001b[38;5;241m0\u001b[39m)\n\u001b[0;32m     14\u001b[0m plt\u001b[38;5;241m.\u001b[39mimshow(im[\u001b[38;5;241m2\u001b[39m])\n",
      "\u001b[1;31mNameError\u001b[0m: name 'np' is not defined"
     ]
    }
   ],
   "source": [
    "from PIL import Image\n",
    "import matplotlib.pyplot as plt\n",
    "from ImageFly import ImageFly\n",
    "path = 'D:/Documents/mov19_2022_03_03/'\n",
    "frame = 360\n",
    "\n",
    "cam = 1\n",
    "im = np.stack([np.array(Image.open(f'{path}images/P{frame}CAM{cam + 1}.jpg')) for cam in range(4)])\n",
    "im_num,y,x = np.where(im > 0)\n",
    "\n",
    "\n",
    "\n",
    "\n",
    "plt.imshow(im[2])\n",
    "plt.scatter(x,y)"
   ]
  },
  {
   "cell_type": "code",
   "execution_count": 7,
   "metadata": {},
   "outputs": [
    {
     "data": {
      "text/plain": [
       "[array([-0.00025, -0.00025, -0.00025, ...,  0.00145,  0.0014 ,  0.0013 ]),\n",
       " array([-0.01335, -0.01325, -0.0132 , ..., -0.0145 , -0.01445, -0.0144 ]),\n",
       " array([0.0016 , 0.00165, 0.0017 , ..., 0.0032 , 0.0032 , 0.0032 ])]"
      ]
     },
     "execution_count": 7,
     "metadata": {},
     "output_type": "execute_result"
    }
   ],
   "source": [
    "import scipy.io\n",
    "import pandas as pd\n",
    "import numpy as np\n",
    "from Points3D import Points3D\n",
    "path = 'G:/My Drive/Research/gs_data/mov19_2022_03_03'\n",
    "\n",
    "point = Points3D(path)\n",
    "pts = point.get_frame(73)\n",
    "np.array([point.real_coord[point.frame[ax],idx] for idx,ax in enumerate(['X','Y','Z'])])"
   ]
  }
 ],
 "metadata": {
  "kernelspec": {
   "display_name": "base",
   "language": "python",
   "name": "python3"
  },
  "language_info": {
   "codemirror_mode": {
    "name": "ipython",
    "version": 3
   },
   "file_extension": ".py",
   "mimetype": "text/x-python",
   "name": "python",
   "nbconvert_exporter": "python",
   "pygments_lexer": "ipython3",
   "version": "3.10.9"
  }
 },
 "nbformat": 4,
 "nbformat_minor": 2
}
