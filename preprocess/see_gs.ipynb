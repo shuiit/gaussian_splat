{
 "cells": [
  {
   "cell_type": "code",
   "execution_count": 6,
   "metadata": {},
   "outputs": [],
   "source": [
    "from Camera import Camera\n",
    "import numpy as np\n",
    "from Frame import Frame\n",
    "from plyfile import PlyData\n",
    "import numpy as np\n",
    "import argparse\n",
    "from io import BytesIO\n",
    "import matplotlib.pyplot as plt\n",
    "import Plotters\n",
    "import plotly\n",
    "import plotly.graph_objects as go\n",
    "import scipy.io\n",
    "import pandas as pd\n",
    "import Utils\n",
    "from GaussianSplat import GaussianSplat\n",
    "import Plotters\n",
    "\n",
    "%matplotlib qt\n",
    "\n",
    "# load hull\n",
    "path = 'I:/My Drive/Research/gs_data/mov19_2022_03_03/'\n",
    "real_coord = scipy.io.loadmat(f'{path}/3d_pts/real_coord.mat')['all_coords']\n",
    "points_3d = {body_wing : pd.DataFrame(Utils.load_hull(body_wing,path),columns = ['X','Y','Z','frame']) for body_wing in ['body','rwing','lwing']}\n",
    "# initilize objects\n",
    "frames = [1520]#list(range(500,700,13))\n",
    "\n",
    "image_name,points_in_idx = Utils.define_frames(frames,points_3d)\n",
    "cameras = {f'cam{cam + 1}':Camera(path,cam) for cam in range(4)}\n",
    "frames = {f'{im_name}.jpg':Frame(path,im_name,points_in_idx[im_name.split('CAM')[0]],real_coord,idx) for idx,im_name in enumerate(image_name)}\n",
    "# map 3d voxels to 2d pixels\n",
    "[frames[im_name].map_3d_2d(croped_image = True) for im_name in frames.keys()]\n",
    "voxel_dict,colors_dict = Utils.get_dict_for_points3d(frames)\n"
   ]
  },
  {
   "cell_type": "code",
   "execution_count": 14,
   "metadata": {},
   "outputs": [],
   "source": [
    "\n",
    "input_file = \"I:/My Drive/Research/gs_data/mov19_2022_03_03/output/scaling_lr0.005_percent_dense0.001_densify_grad_threshold0.0002_position_lr_init1.6e-07/point_cloud/iteration_30000/point_cloud.ply\"\n",
    "input_file ='C:/Users/Roni/Documents/frame1520/iteration_30000/point_cloud.ply'\n",
    "gs = GaussianSplat(input_file)  \n",
    "gs_filtered = gs.filter(gs.projection_filter(frames,gs.xyz,croped_image = True),path = gs.path)\n",
    "gs_filtered.save_gs()\n",
    "gs_filtered.calc_cov3d()\n",
    "gs_filtered.calc_cov2d(frames['P1520CAM1.jpg'])\n",
    "\n",
    "\n"
   ]
  },
  {
   "cell_type": "code",
   "execution_count": 15,
   "metadata": {},
   "outputs": [],
   "source": [
    "# Plots\n",
    "\n",
    "\n",
    "hover_text = [f\"Color: {color}\" for color in gs.color[:,2]]\n",
    "\n",
    "fig = go.Figure()\n",
    "Plotters.scatter3d(fig,gs.xyz,gs.color[:,2],3)\n",
    "fig.update_traces(hovertext=hover_text, hoverinfo='text')\n",
    "\n",
    "[Plotters.scatter3d(fig,frames[list(frames.keys())[cam]].voxels_with_idx,'red',3,opa = 0.2) for cam in range(4)]\n",
    "fig.show()\n",
    "Plotters.scatter_projections_from_gs(frames,gs, plot_image = False)\n",
    "\n",
    "fig = go.Figure()\n",
    "Plotters.scatter3d(fig,gs_filtered.xyz,gs_filtered.color[:,2],3,opa = 0.5)\n",
    "fig.update_traces(hovertext=hover_text, hoverinfo='text')\n",
    "fig.show()\n",
    "fig.write_html(f\"I:/My Drive/Research/gs_data/mov19_2022_03_03/output/ptcloud.html\")\n",
    "Plotters.scatter_projections_from_gs(frames,gs_filtered, plot_image = False)\n",
    "#\n"
   ]
  },
  {
   "cell_type": "code",
   "execution_count": 17,
   "metadata": {},
   "outputs": [],
   "source": [
    "[Plotters.scatter3d(fig,frames[list(frames.keys())[cam]].voxels_with_idx,'red',3,opa = 0.2) for cam in range(4)]\n",
    "fig.show()\n"
   ]
  },
  {
   "cell_type": "markdown",
   "metadata": {},
   "source": []
  },
  {
   "cell_type": "markdown",
   "metadata": {},
   "source": [
    "## Elliptical Gaussian (from EWA article)\n",
    "\n",
    "\n",
    "we define an elliptical gaussian: \n",
    "\n",
    "$G_\\mathbf{V}(\\mathbf{x} - \\mathbf{p}) = \\frac{1}{2 \\pi |\\mathbf{V}|} \\frac{1}{2} e^{-\\frac{1}{2} (\\mathbf{x} - \\mathbf{p})^T \\mathbf{V}^{-1} (\\mathbf{x} - \\mathbf{p})}.$\n",
    "\n",
    "* $V$ is the covariance matrix\n",
    "* $\\mathbf{x}$ - a 3d coordinate (in gaussian axes)\n",
    "* $\\mathbf{p}$ - the mean of the gaussian \n",
    "### Projecting to Camera\n",
    "\n",
    "We define an arbitrary affine mapping $\\mathbf{u}=\\Phi(X)$, $ \\Phi(X) = \\mathbf{Mx + c}$ and we substitute $\\mathbf{x}=\\Phi^{-1}(\\mathbf{u})$\n",
    "and we get: \n",
    "\n",
    "$G \\mathbf{V}(\\Phi^{-1}(u) - \\mathbf{p}) = \\frac{1}{|\\mathbf{M}^{-1}|} G_{ \\mathbf{M} \\mathbf{V} \\mathbf{M}^T} (u - \\Phi(\\mathbf{p})).$\n",
    "* $\\mathbf{u}$ is the coordinates in world FoR ($\\mathbf{x}=\\Phi^{-1}(\\mathbf{u})$)\n",
    "* $\\Phi(\\mathbf{p})$ transforms the mean of the gaussian to world coordinates ($M$ is the rotation matrix from \"object\" to camera and $c$ is translation)\n",
    "\n",
    "#### The covariance matrix\n",
    "$V$, the covariance matrix is a symetrix matrix that can be ragarded as a transformation. it scales and shears the data (thus defining the orientation and ratio between the gaussian principal axes). \n",
    "As mentioned above, the gaussian is transformed using an affine mapping $\\Phi(X)$. Usually we use this kind of mapping to transform a vector or a 3D point to a new FoR (change basis). Because the covariance matrix is a transformation, in order to change its FoR (basis), we will perform $\\mathbf{V_{1}} = MVM^{T}$. We first multiply $VM^{T}$  - transform (whatever xyz we multiply) from camera to body ($M^{T}$) and then multiply by $V$ which is in object coordinates - now we have coordinates in object basis after shear and scale. we then multiply by $M$ again to transform back to camera coordinates. \n",
    "\n",
    "\n",
    "### Projection\n",
    "\n",
    "\n",
    "![alt text](ray_ewa.png)\n",
    "#### Ray space\n",
    "\n",
    "We converted to camera space, now we want to convert to ray space. The coordinates in ray space are defined such that $x_0, x_1$ are the coordinates on the image plane and the devision by $u_2$ adds prespective. $u_3$ is then defined as the euclidean distance from the point to the origin (camera). \n",
    "\n",
    "\n",
    "$$ \\text{ray space to camera: }\n",
    "\\begin{pmatrix}\n",
    "x_0 \\\\\n",
    "x_1 \\\\\n",
    "x_2 \\\\\n",
    "\n",
    "\\end{pmatrix} = m(u) = \\begin{pmatrix}\n",
    "u_0 / u_2 \\\\\n",
    "u_1/u_2 \\\\\n",
    "||(u_0, u_1, u_2)||^{T} \\\\\n",
    "\\end{pmatrix}\n",
    "\n",
    "\\text{,camera to ray space: }\n",
    "\\begin{pmatrix}\n",
    "u_0 \\\\\n",
    "u_1 \\\\\n",
    "u_2 \\\\\n",
    "\n",
    "\\end{pmatrix} = m^{-1}(x) = \\begin{pmatrix}\n",
    "x_0/||(x_0,x_1,1)^T|| \\cdot x_2 \\\\\n",
    "x_1/||(x_0,x_1,1)^T|| \\cdot x_2 \\\\\n",
    "1/||(x_0,x_1,1)^T|| \\cdot x_2 \\\\\n",
    "\n",
    "\\end{pmatrix}\n",
    "\n",
    "\n",
    "$$\n",
    "  \n",
    "Ray space is defined with 3 coordinates $(x_0,x_1,x_2)$ where $x_0$ and $x_1$ represents the location of the pixel and $x_3$ is the euclidean distance from the camera origin to $(x_1,x_2). This transformation is not affine due to the devision by $u_2$, parallel lines are not preserved and the shape of the gaussian will be distorted. (in addition, the dimention is problematic).\n",
    "In order to solve this a local affine approximation $\\mathbf{m_{u_k}}$ of the projection transformation is defined. The approximation is the first to terms of the Tayor expansion of $\\mathbf{m}$ at point $\\mathbf{u}_{k}$:\n",
    "$$\\mathbf{m_{u_k}\\mathbf(u)} = \\mathbf x_k+\\mathbf J_{\\mathbf{u}_k}\\cdot ( \\mathbf u-\\mathbf u_k )$$\n",
    "where $\\mathbf x_k=\\mathbf m(\\mathbf(u)_k)$ is the mean of the gaussian in ray space (can be transformed using the mapping m, the projection matrix) and the Jacobian $ J_{u_k} = \\frac{\\partial m}{\\partial u}(u_k) $\n",
    "\n",
    "we now get the new mapping of the gaussian: \n",
    "\n",
    "\n",
    "\n",
    "\n",
    "\n",
    "\n",
    "### Perspective Projection and Jacobian Derivation\n",
    "\n",
    "In a pinhole camera model, the perspective projection of a 3D point \\((X, Y, Z)\\) into 2D image coordinates \\((x, y)\\) can be expressed as:\n",
    "\n",
    "$$\n",
    "\\begin{bmatrix}\n",
    "x \\\\\n",
    "y \\\\\n",
    "1\n",
    "\\end{bmatrix} = \\frac{1}{Z} \\cdot\n",
    "\\begin{bmatrix}\n",
    "f_x \\cdot X + c_x \\cdot Z \\\\\n",
    "f_y \\cdot Y + c_y \\cdot Z \\\\\n",
    "Z\n",
    "\\end{bmatrix}\n",
    "$$\n",
    "\n",
    "Where:\n",
    "\n",
    "* $(x, y)$  : are the projected 2D coordinates on the image plane.\n",
    "* $(X, Y, Z)$  : are the coordinates in the 3D space. \n",
    "* $f_x , f_y$  : are the focal lengths in the x and y directions, respectively. \n",
    "* $c_x , c_y$  : are the coordinates of the principal point (optical center) in the image. \n",
    "\n",
    "### Derivation of the Jacobian\n",
    "\n",
    "To derive the Jacobian, we compute the partial derivatives of the projected 2D coordinates \\((x, y)\\) with respect to the 3D coordinates \\((X, Y, Z)\\).\n",
    "\n",
    "1. **From the perspective projection equations**:\n",
    "   - For \\(x\\):\n",
    "   $$\n",
    "   x = \\frac{f_x \\cdot X + c_x \\cdot Z}{Z}\n",
    "   $$\n",
    "   - For \\(y\\):\n",
    "   $$\n",
    "   y = \\frac{f_y \\cdot Y + c_y \\cdot Z}{Z}\n",
    "   $$\n",
    "\n",
    "2. **Calculating the derivatives**:\n",
    "   - The derivatives with respect to \\(Z\\) yield:\n",
    "     - For \\(x\\):\n",
    "     $$\n",
    "     \\frac{\\partial x}{\\partial X} = \\frac{f_x}{Z}, \\quad \\frac{\\partial x}{\\partial Y} = 0, \\quad \\frac{\\partial x}{\\partial Z} = -\\frac{f_x \\cdot X}{Z^2}\n",
    "     $$\n",
    "     - For \\(y\\):\n",
    "     $$\n",
    "     \\frac{\\partial y}{\\partial X} = 0, \\quad \\frac{\\partial y}{\\partial Y} = \\frac{f_y}{Z}, \\quad \\frac{\\partial y}{\\partial Z} = -\\frac{f_y \\cdot Y}{Z^2}\n",
    "     $$\n",
    "\n",
    "3. **Forming the Jacobian**:\n",
    "   Using the derivatives calculated above, the Jacobian matrix \\(J\\) becomes:\n",
    "   $$\n",
    "   J = \\begin{bmatrix}\n",
    "   \\frac{f_x}{Z} & 0 & -\\frac{f_x \\cdot X}{Z^2} \\\\\n",
    "   0 & \\frac{f_y}{Z} & -\\frac{f_y \\cdot Y}{Z^2}\n",
    "   \\end{bmatrix}\n",
    "   $$\n",
    "\n",
    "To optimize the coordinates of the 3D points, we minimize the reprojection error. The reprojection is calculated using the projection matrix. By utilizing the Jacobian of the projection matrix, we can update the current 3D point in the direction that minimizes the error, following the gradient.\n",
    "\n",
    "\n",
    "$p$ - the observed 2D point\n",
    "\n",
    "$\\mathbf{P}(\\mathbf{X})$ - the projected 2D point \n",
    "Calculate the error vector:\n",
    "\n",
    "$error = \\mathbf{p} - \\mathbf{P}(\\mathbf{X}) $\n",
    "Update the gradient of the error function:  \n",
    "\n",
    "$ \\nabla E = \\mathbf{J}^T \\cdot \\text{error} $\n",
    "Update the 3d point:  \n",
    "\n",
    "$ X_{new} = X_{old} - \\alpha\\cdot\\nabla E $\n",
    "\n"
   ]
  },
  {
   "cell_type": "code",
   "execution_count": 84,
   "metadata": {},
   "outputs": [
    {
     "data": {
      "text/plain": [
       "array([-0.03918006, -0.03918006, -0.03918006, ..., -0.03918006,\n",
       "       -0.03918006, -0.03918006])"
      ]
     },
     "execution_count": 84,
     "metadata": {},
     "output_type": "execute_result"
    }
   ],
   "source": [
    "frames['P1407CAM1.jpg']"
   ]
  },
  {
   "cell_type": "code",
   "execution_count": 91,
   "metadata": {},
   "outputs": [
    {
     "data": {
      "text/plain": [
       "array([-0.03918006, -0.03918006, -0.03918006, ..., -0.03918006,\n",
       "       -0.03918006, -0.03918006])"
      ]
     },
     "execution_count": 91,
     "metadata": {},
     "output_type": "execute_result"
    }
   ],
   "source": [
    "t[:,0] / t[:,2]"
   ]
  },
  {
   "cell_type": "code",
   "execution_count": 89,
   "metadata": {},
   "outputs": [
    {
     "data": {
      "text/plain": [
       "[<matplotlib.lines.Line2D at 0x19f03694460>]"
      ]
     },
     "execution_count": 89,
     "metadata": {},
     "output_type": "execute_result"
    }
   ],
   "source": [
    "plt.plot(tnorm[:,0])"
   ]
  },
  {
   "cell_type": "code",
   "execution_count": 101,
   "metadata": {},
   "outputs": [],
   "source": [
    "\n",
    "t = np.matmul(viewmat , np.column_stack((gs_filtered.xyz,np.ones(gs_filtered.xyz.shape[0]))).T).T\n",
    "\n",
    "limx = np.array([1.3 * tan_fovx]*t.shape[0])\n",
    "limy = np.array([1.3 * tan_fovy]*t.shape[0])\n",
    "\n",
    "tnorm = t[:,0:2]/t[:,2:]\n",
    "t[:, :2] = np.minimum(np.column_stack((limx, limy)), np.maximum(-np.column_stack((limx, limy)), tnorm)) * t[:, 2, np.newaxis]\n",
    "\n",
    "# txtz = t[:,0] / t[:,2]\n",
    "# tytz = t[:,1] / t[:,2]\n",
    "# t[:,0] = np.minimum(limx, np.maximum(-limx, tnorm[:,0])) * t[:,2]\n",
    "# t[:,1] = np.minimum(limy, np.maximum(-limy, tnorm[:,1])) * t[:,2]\n",
    "# zero_np = np.zeros((t.shape[0],1))"
   ]
  },
  {
   "cell_type": "code",
   "execution_count": 103,
   "metadata": {},
   "outputs": [
    {
     "data": {
      "text/plain": [
       "array([[-0.03918006, -0.03897505],\n",
       "       [-0.03918006, -0.03897505],\n",
       "       [-0.03918006, -0.03897505],\n",
       "       ...,\n",
       "       [-0.03918006, -0.03897505],\n",
       "       [-0.03918006, -0.03897505],\n",
       "       [-0.03918006, -0.03897505]])"
      ]
     },
     "execution_count": 103,
     "metadata": {},
     "output_type": "execute_result"
    }
   ],
   "source": [
    "np.minimum(np.column_stack((limx, limy)), np.maximum(-np.column_stack((limx, limy)), tnorm))"
   ]
  },
  {
   "cell_type": "code",
   "execution_count": 99,
   "metadata": {},
   "outputs": [
    {
     "data": {
      "text/plain": [
       "array([[0.03918006, 0.03918006, 0.03918006, ..., 0.03918006, 0.03918006,\n",
       "        0.03918006],\n",
       "       [0.03897505, 0.03897505, 0.03897505, ..., 0.03897505, 0.03897505,\n",
       "        0.03897505]])"
      ]
     },
     "execution_count": 99,
     "metadata": {},
     "output_type": "execute_result"
    }
   ],
   "source": [
    "np.maximum([-limx, -limy], tnorm.T)"
   ]
  },
  {
   "cell_type": "code",
   "execution_count": 95,
   "metadata": {},
   "outputs": [
    {
     "data": {
      "text/plain": [
       "array([[-0.0111304 , -0.01107216,  0.28408332],\n",
       "       [-0.01112868, -0.01107045,  0.28403931],\n",
       "       [-0.01113343, -0.01107517,  0.28416048],\n",
       "       ...,\n",
       "       [-0.01114488, -0.01108656,  0.28445279],\n",
       "       [-0.01111012, -0.01105198,  0.28356559],\n",
       "       [-0.01114014, -0.01108184,  0.28433177]])"
      ]
     },
     "execution_count": 95,
     "metadata": {},
     "output_type": "execute_result"
    }
   ],
   "source": [
    "t = np.minimum(limx, np.maximum(-limx, tnorm[:,0])) * t[:,2]\n",
    "\n"
   ]
  },
  {
   "cell_type": "code",
   "execution_count": 108,
   "metadata": {},
   "outputs": [],
   "source": [
    "scale = gs.scale[0]\n",
    "scale\n",
    "\n",
    "import numpy as np\n",
    "mod = 1\n",
    "S = np.eye(3) * gs_filtered.scale[:,np.newaxis,:]\n",
    "S\n",
    "\n",
    "rot = gs_filtered.rot\n",
    "q = (rot.T / np.linalg.norm(rot,axis =1)).T# r, x, y, z = q\n",
    "R = np.column_stack(\n",
    "    [1.0 - 2.0 * (q[:,2] * q[:,2] + q[:,3] * q[:,3]), 2.0 * (q[:,1]  * q[:,2] - q[:,0] * q[:,3] ), 2.0 * (q[:,1] * q[:,3]  + q[:,0] * q[:,2]),\n",
    "    2.0 * (q[:,1] * q[:,2] + q[:,0] * q[:,3] ), 1.0 - 2.0 * (q[:,1] * q[:,1] + q[:,3]  * q[:,3] ), 2.0 * (q[:,2] * q[:,3]  - q[:,0] * q[:,1]),\n",
    "    2.0 * (q[:,1] * q[:,3]  - q[:,0] * q[:,2]), 2.0 * (q[:,2] * q[:,3]  + q[:,0] * q[:,1]), 1.0 - 2.0 * (q[:,1] * q[:,1] + q[:,2] * q[:,2])])\n",
    "R = R.reshape(R.shape[0],3,3)\n",
    "M = S @ R  # Matrix multiplication\n",
    "Sigma = M.transpose(0,2,1) @ M\n",
    "\n",
    "image_width = 160\n",
    "image_height = 160\n",
    "image = 'P1407CAM1.jpg'\n",
    "import math\n",
    "def focal2fov(focal, pixels):\n",
    "    return 2*math.atan(pixels/(2*focal))\n",
    "\n",
    "fx = frames[image].K_crop[0,0]\n",
    "fy = frames[image].K_crop[1,1]\n",
    "\n",
    "tan_fovx = focal2fov(fx, image_width)\n",
    "tan_fovy = focal2fov(fy, image_height)\n",
    "viewmat = frames[image].world_to_cam\n",
    "\n",
    "\n",
    "\n",
    "t = np.matmul(viewmat , np.column_stack((gs_filtered.xyz,np.ones(gs_filtered.xyz.shape[0]))).T).T\n",
    "limxy = np.column_stack((np.array([1.3 * tan_fovx]*t.shape[0]), np.array([1.3 * tan_fovy]*t.shape[0])))\n",
    "t[:, :2] = np.minimum(limxy, np.maximum(-limxy, t[:,0:2]/t[:,2:])) \n",
    "zero_np = np.zeros((t.shape[0],1))\n",
    "\n",
    "\n",
    "J = np.column_stack((\n",
    "    fx / t[:,2:], zero_np, - (fx * t[:,0:1]) / (t[:,2:] ** 2),\n",
    "    zero_np, fy / t[:,2:], - (fy * t[:,1:2]) / (t[:,2:] ** 2),\n",
    "    zero_np, zero_np, zero_np\n",
    "))\n",
    "\n",
    "J = J.reshape((J.shape[0],3,3))\n",
    "\n",
    "W = np.tile(viewmat[0:3,0:3].T,(J.shape[0],1,1))\n",
    "T = W @ J\n",
    "cov = T.transpose(0,2,1) @ Sigma @ T\n",
    "\n",
    "cov = np.squeeze(np.dstack((cov[:,0,0],cov[:,0,1],cov[:,1,1])))"
   ]
  },
  {
   "cell_type": "code",
   "execution_count": 50,
   "metadata": {},
   "outputs": [
    {
     "data": {
      "text/plain": [
       "(16484, 3)"
      ]
     },
     "execution_count": 50,
     "metadata": {},
     "output_type": "execute_result"
    }
   ],
   "source": [
    "np.squeeze(np.dstack((cov[:,0,0],cov[:,0,1],cov[:,1,1])))"
   ]
  },
  {
   "cell_type": "code",
   "execution_count": 43,
   "metadata": {},
   "outputs": [
    {
     "data": {
      "text/plain": [
       "(16484, 3, 3)"
      ]
     },
     "execution_count": 43,
     "metadata": {},
     "output_type": "execute_result"
    }
   ],
   "source": [
    "cov.shape"
   ]
  },
  {
   "cell_type": "code",
   "execution_count": 29,
   "metadata": {},
   "outputs": [
    {
     "data": {
      "text/plain": [
       "array([[ 0.96445376, -0.08434534, -0.06010166, -0.24311022],\n",
       "       [ 0.99281603, -0.10408249, -0.04416541, -0.03914728],\n",
       "       [ 0.9234634 , -0.3006936 , -0.11951439,  0.2061917 ],\n",
       "       ...,\n",
       "       [ 0.6595076 ,  0.18798089, -0.72526795,  0.06082167],\n",
       "       [ 0.74300337,  0.5309335 , -0.07509685,  0.40051985],\n",
       "       [ 0.7351371 ,  0.14402883,  0.44993064, -0.48620126]],\n",
       "      dtype=float32)"
      ]
     },
     "execution_count": 29,
     "metadata": {},
     "output_type": "execute_result"
    }
   ],
   "source": [
    "q = (rot.T / np.linalg.norm(rot,axis =1)).T\n",
    "q"
   ]
  },
  {
   "cell_type": "code",
   "execution_count": 36,
   "metadata": {},
   "outputs": [
    {
     "data": {
      "text/plain": [
       "array([[ 0.27606161, -0.3983559 , -0.00470983],\n",
       "       [-0.3983559 ,  2.07604314,  0.06530628],\n",
       "       [-0.00470983,  0.06530628,  0.00236078]])"
      ]
     },
     "execution_count": 36,
     "metadata": {},
     "output_type": "execute_result"
    }
   ],
   "source": [
    "cov[0]\n"
   ]
  },
  {
   "cell_type": "code",
   "execution_count": 34,
   "metadata": {},
   "outputs": [
    {
     "data": {
      "text/plain": [
       "array([ 0.2760616 , -0.39835588,  2.07604308])"
      ]
     },
     "execution_count": 34,
     "metadata": {},
     "output_type": "execute_result"
    }
   ],
   "source": [
    "covs[0][0]"
   ]
  },
  {
   "cell_type": "code",
   "execution_count": 175,
   "metadata": {},
   "outputs": [
    {
     "data": {
      "text/plain": [
       "array([[ 9.9999857e-01, -7.5298308e-06, -9.4716688e-07],\n",
       "       [ 1.8136902e-06,  9.9998641e-01, -1.9317500e-05],\n",
       "       [ 7.3692609e-06,  1.7881750e-05,  9.9998659e-01]], dtype=float32)"
      ]
     },
     "execution_count": 175,
     "metadata": {},
     "output_type": "execute_result"
    }
   ],
   "source": [
    "bla = R[0].copy()\n",
    "bla"
   ]
  },
  {
   "cell_type": "code",
   "execution_count": 19,
   "metadata": {},
   "outputs": [
    {
     "data": {
      "text/plain": [
       "array([array([ 0.2760616 , -0.39835588,  2.07604308]),\n",
       "       array([ 5.64345323e-09,  1.76841623e-09, -6.62277013e-10,  3.47003664e-09,\n",
       "               1.88305455e-10,  1.42008109e-10])                                 ,\n",
       "       array([ 0.96445376, -0.08434534, -0.06010166, -0.24311022], dtype=float32)],\n",
       "      dtype=object)"
      ]
     },
     "execution_count": 19,
     "metadata": {},
     "output_type": "execute_result"
    }
   ],
   "source": [
    "covs[0]"
   ]
  },
  {
   "cell_type": "code",
   "execution_count": 10,
   "metadata": {},
   "outputs": [
    {
     "ename": "NameError",
     "evalue": "name 'im_name' is not defined",
     "output_type": "error",
     "traceback": [
      "\u001b[1;31m---------------------------------------------------------------------------\u001b[0m",
      "\u001b[1;31mNameError\u001b[0m                                 Traceback (most recent call last)",
      "Cell \u001b[1;32mIn[10], line 1\u001b[0m\n\u001b[1;32m----> 1\u001b[0m \u001b[43mim_name\u001b[49m\n",
      "\u001b[1;31mNameError\u001b[0m: name 'im_name' is not defined"
     ]
    }
   ],
   "source": [
    "Sigma[0]"
   ]
  },
  {
   "cell_type": "code",
   "execution_count": 65,
   "metadata": {},
   "outputs": [
    {
     "ename": "ValueError",
     "evalue": "operands could not be broadcast together with remapped shapes [original->remapped]: (12365,3,3)->(12365,newaxis,newaxis) (16484,3,3)->(16484,newaxis,newaxis)  and requested shape (3,3)",
     "output_type": "error",
     "traceback": [
      "\u001b[1;31m---------------------------------------------------------------------------\u001b[0m",
      "\u001b[1;31mValueError\u001b[0m                                Traceback (most recent call last)",
      "Cell \u001b[1;32mIn[65], line 37\u001b[0m\n\u001b[0;32m     35\u001b[0m W \u001b[38;5;241m=\u001b[39m np\u001b[38;5;241m.\u001b[39mtile(viewmat[\u001b[38;5;241m0\u001b[39m:\u001b[38;5;241m3\u001b[39m,\u001b[38;5;241m0\u001b[39m:\u001b[38;5;241m3\u001b[39m]\u001b[38;5;241m.\u001b[39mT,(J\u001b[38;5;241m.\u001b[39mshape[\u001b[38;5;241m0\u001b[39m],\u001b[38;5;241m1\u001b[39m,\u001b[38;5;241m1\u001b[39m))\n\u001b[0;32m     36\u001b[0m T \u001b[38;5;241m=\u001b[39m W \u001b[38;5;241m@\u001b[39m J\n\u001b[1;32m---> 37\u001b[0m cov \u001b[38;5;241m=\u001b[39m \u001b[43mT\u001b[49m\u001b[38;5;241;43m.\u001b[39;49m\u001b[43mtranspose\u001b[49m\u001b[43m(\u001b[49m\u001b[38;5;241;43m0\u001b[39;49m\u001b[43m,\u001b[49m\u001b[38;5;241;43m2\u001b[39;49m\u001b[43m,\u001b[49m\u001b[38;5;241;43m1\u001b[39;49m\u001b[43m)\u001b[49m\u001b[43m \u001b[49m\u001b[38;5;241;43m@\u001b[39;49m\u001b[43m \u001b[49m\u001b[43mSigma\u001b[49m \u001b[38;5;241m@\u001b[39m T\n",
      "\u001b[1;31mValueError\u001b[0m: operands could not be broadcast together with remapped shapes [original->remapped]: (12365,3,3)->(12365,newaxis,newaxis) (16484,3,3)->(16484,newaxis,newaxis)  and requested shape (3,3)"
     ]
    }
   ],
   "source": [
    "image_width = 160\n",
    "image_height = 160\n",
    "image = 'P1407CAM1.jpg'\n",
    "import math\n",
    "def focal2fov(focal, pixels):\n",
    "    return 2*math.atan(pixels/(2*focal))\n",
    "\n",
    "fx = frames[image].K_crop[0,0]\n",
    "fy = frames[image].K_crop[1,1]\n",
    "\n",
    "tan_fovx = focal2fov(fx, image_width)\n",
    "tan_fovy = focal2fov(fy, image_height)\n",
    "\n",
    "viewmat = frames[image].world_to_cam\n",
    "t = np.matmul(viewmat , np.column_stack((gs_filtered.xyz,np.ones(gs_filtered.xyz.shape[0]))).T).T\n",
    "\n",
    "limx = np.array([1.3 * tan_fovx]*t.shape[0])\n",
    "limy = np.array([1.3 * tan_fovy]*t.shape[0])\n",
    "\n",
    "txtz = t[:,0] / t[:,2]\n",
    "tytz = t[:,1] / t[:,2]\n",
    "t[:,0] = np.minimum(limx, np.maximum(-limx, txtz)) * t[:,2]\n",
    "t[:,1] = np.minimum(limy, np.maximum(-limy, tytz)) * t[:,2]\n",
    "zero_np = np.zeros((t.shape[0],1))\n",
    "\n",
    "\n",
    "J = np.column_stack((\n",
    "    fx / t[:,2:], zero_np, - (fx * t[:,0:1]) / (t[:,2:] ** 2),\n",
    "    zero_np, fy / t[:,2:], - (fy * t[:,1:2]) / (t[:,2:] ** 2),\n",
    "    zero_np, zero_np, zero_np\n",
    "))\n",
    "\n",
    "J = J.reshape((J.shape[0],3,3))\n",
    "\n",
    "W = np.tile(viewmat[0:3,0:3].T,(J.shape[0],1,1))\n",
    "T = W @ J\n",
    "cov = T.transpose(0,2,1) @ Sigma @ T\n",
    "\n",
    "# np.array([float(cov[0, 0]), float(cov[0, 1]), float(cov[1, 1])])"
   ]
  },
  {
   "cell_type": "code",
   "execution_count": 13,
   "metadata": {},
   "outputs": [],
   "source": [
    "import math\n",
    "\n",
    "def compute_cov_3d(scale, mod, rot):\n",
    "    # Create scaling matrix\n",
    "    S = np.eye(3) * mod * scale\n",
    "\n",
    "    # Normalize quaternion to get a valid rotation\n",
    "    q = rot / np.linalg.norm(rot)\n",
    "    r, x, y, z = q\n",
    "\n",
    "    # Compute rotation matrix from quaternion\n",
    "    R = np.array([\n",
    "        [1.0 - 2.0 * (y * y + z * z), 2.0 * (x * y - r * z), 2.0 * (x * z + r * y)],\n",
    "        [2.0 * (x * y + r * z), 1.0 - 2.0 * (x * x + z * z), 2.0 * (y * z - r * x)],\n",
    "        [2.0 * (x * z - r * y), 2.0 * (y * z + r * x), 1.0 - 2.0 * (x * x + y * y)]\n",
    "    ])\n",
    "\n",
    "    M = S @ R  # Matrix multiplication\n",
    "\n",
    "    # Compute 3D world covariance matrix Sigma\n",
    "    Sigma = M.T @ M\n",
    "    cov_3d = np.zeros(6, dtype=float)\n",
    "    # Covariance is symmetric; store upper right\n",
    "    cov_3d[0] = Sigma[0, 0]\n",
    "    cov_3d[1] = Sigma[0, 1]\n",
    "    cov_3d[2] = Sigma[0, 2]\n",
    "    cov_3d[3] = Sigma[1, 1]\n",
    "    cov_3d[4] = Sigma[1, 2]\n",
    "    cov_3d[5] = Sigma[2, 2]\n",
    "\n",
    "    # Covariance is symmetric; store upper right\n",
    "    return cov_3d,q\n",
    "\n",
    "def compute_cov_2d(mean,fx,fy,tan_fovx,tan_fovy,cov_3d,viewmat):\n",
    "\n",
    "    t = np.matmul(viewmat , np.append(mean,1)).T\n",
    "\n",
    " \n",
    "    limx = 1.3 * tan_fovx\n",
    "    limy = 1.3 * tan_fovy\n",
    "    txtz = t[0] / t[2]\n",
    "    tytz = t[1] / t[2]\n",
    "    t[0] = min(limx, max(-limx, txtz)) * t[2]\n",
    "    t[1] = min(limy, max(-limy, tytz)) * t[2]\n",
    "\n",
    "    # Compute Jacobian matrix J\n",
    "    J = np.array([\n",
    "        [fx / t[2], 0.0, - (fx * t[0]) / (t[2] ** 2)],\n",
    "        [0.0, fy / t[2], - (fy * t[1]) / (t[2] ** 2)],\n",
    "        [0, 0, 0]\n",
    "    ])\n",
    "\n",
    "\n",
    "    W = viewmat[0:3,0:3].T\n",
    "    # Compute T matrix\n",
    "    T = W @ J  # Matrix multiplication\n",
    "    # Construct Vk matrix (3D covariance matrix)\n",
    "    Vrk = np.array([\n",
    "        [cov_3d[0], cov_3d[1], cov_3d[2]],\n",
    "        [cov_3d[1], cov_3d[3], cov_3d[4]],\n",
    "        [cov_3d[2], cov_3d[4], cov_3d[5]]\n",
    "    ])\n",
    "\n",
    " \n",
    "\n",
    "    # Compute the covariance matrix\n",
    "    cov = T.T @ Vrk.T @ T\n",
    "\n",
    "    # Apply low-pass filter: ensure Gaussian is at least one pixel wide/high\n",
    "    # cov[0, 0] += 0.3\n",
    "    # cov[1, 1] += 0.3\n",
    "\n",
    "    return np.array([float(cov[0, 0]), float(cov[0, 1]), float(cov[1, 1])])\n",
    "\n",
    "\n",
    "\n",
    "def focal2fov(focal, pixels):\n",
    "    return 2*math.atan(pixels/(2*focal))\n",
    "\n",
    "def calc_det(cov):\n",
    "    return (cov[0] * cov[2] - cov[1] * cov[1])\n",
    "\n",
    "def calc_conic(cov,det):\n",
    "    det_inv = 1 / det\n",
    "    return  [cov[2] * det_inv, -cov[1] * det_inv, cov[0] * det_inv ]"
   ]
  },
  {
   "cell_type": "code",
   "execution_count": 8,
   "metadata": {},
   "outputs": [
    {
     "ename": "NameError",
     "evalue": "name 'image' is not defined",
     "output_type": "error",
     "traceback": [
      "\u001b[1;31m---------------------------------------------------------------------------\u001b[0m",
      "\u001b[1;31mNameError\u001b[0m                                 Traceback (most recent call last)",
      "Cell \u001b[1;32mIn[8], line 4\u001b[0m\n\u001b[0;32m      1\u001b[0m image_width \u001b[38;5;241m=\u001b[39m \u001b[38;5;241m160\u001b[39m\n\u001b[0;32m      2\u001b[0m image_height \u001b[38;5;241m=\u001b[39m \u001b[38;5;241m160\u001b[39m\n\u001b[1;32m----> 4\u001b[0m fx \u001b[38;5;241m=\u001b[39m frames[\u001b[43mimage\u001b[49m]\u001b[38;5;241m.\u001b[39mK_crop[\u001b[38;5;241m0\u001b[39m,\u001b[38;5;241m0\u001b[39m]\n\u001b[0;32m      5\u001b[0m fy \u001b[38;5;241m=\u001b[39m frames[image]\u001b[38;5;241m.\u001b[39mK_crop[\u001b[38;5;241m1\u001b[39m,\u001b[38;5;241m1\u001b[39m]\n\u001b[0;32m      7\u001b[0m tan_fovx \u001b[38;5;241m=\u001b[39m focal2fov(fx, image_width)\n",
      "\u001b[1;31mNameError\u001b[0m: name 'image' is not defined"
     ]
    }
   ],
   "source": [
    "\n",
    "image_width = 160\n",
    "image_height = 160\n",
    "\n",
    "fx = frames[image].K_crop[0,0]\n",
    "fy = frames[image].K_crop[1,1]\n",
    "\n",
    "tan_fovx = focal2fov(fx, image_width)\n",
    "tan_fovy = focal2fov(fy, image_height)\n",
    "viewmat = frames[image].world_to_cam\n",
    "\n",
    "\n",
    "\n",
    "input_file = \"D:/Documents/gray_dense_grad/output2/position_lr_init_1.6e-05_scaling_lr0.01_dens_iter500_featur0.0025/point_cloud/iteration_15000/point_cloud.ply\"\n",
    "pos = gs_filtered.xyz\n",
    "color = gs_filtered.color\n",
    "scale = gs_filtered.scale\n",
    "rot = gs_filtered.rot\n",
    "\n"
   ]
  },
  {
   "cell_type": "code",
   "execution_count": 44,
   "metadata": {},
   "outputs": [
    {
     "data": {
      "text/plain": [
       "array([[ 0.48336487, -0.49025624,  0.72526355,  0.00099953],\n",
       "       [-0.8753999 , -0.27616153,  0.39674907,  0.00096338],\n",
       "       [ 0.00578118, -0.82667021, -0.56265704,  0.27667279]])"
      ]
     },
     "execution_count": 44,
     "metadata": {},
     "output_type": "execute_result"
    }
   ],
   "source": [
    "viewmat"
   ]
  },
  {
   "cell_type": "code",
   "execution_count": 17,
   "metadata": {},
   "outputs": [
    {
     "name": "stderr",
     "output_type": "stream",
     "text": [
      "c:\\Users\\Roni\\anaconda3\\lib\\site-packages\\numpy\\core\\shape_base.py:121: VisibleDeprecationWarning:\n",
      "\n",
      "Creating an ndarray from ragged nested sequences (which is a list-or-tuple of lists-or-tuples-or ndarrays with different lengths or shapes) is deprecated. If you meant to do this, you must specify 'dtype=object' when creating the ndarray.\n",
      "\n"
     ]
    }
   ],
   "source": [
    "\n",
    "mod = 1.0\n",
    "\n",
    "idx = -1\n",
    "mean = pos\n",
    "\n",
    "def get_cov(scale,rot,mean,viewmat,fx,fy,tan_fovx,tan_fovy):\n",
    "    cov_3d,q = compute_cov_3d(scale, 1, rot)\n",
    "    cov = compute_cov_2d(mean,fx,fy,tan_fovx,tan_fovy,cov_3d,viewmat)\n",
    "    return cov,cov_3d,q\n",
    "\n",
    "# det = calc_det(cov)\n",
    "# conic = calc_conic(cov,det)\n",
    "\n",
    "# covs = np.vstack([get_cov(scale,rot,mean,viewmat,fx,fy,tan_fovx,tan_fovy) for scale,rot,mean in zip(scale,rot,mean)])\n",
    "\n",
    "homo_pos = frames[image].add_homo_coords(pos)\n",
    "proj = frames[image].project_on_image(homo_pos,croped_camera_matrix = True)\n"
   ]
  },
  {
   "cell_type": "code",
   "execution_count": 18,
   "metadata": {},
   "outputs": [
    {
     "data": {
      "text/plain": [
       "array([array([ 0.2760616 , -0.39835588,  2.07604308]),\n",
       "       array([ 5.64345323e-09,  1.76841623e-09, -6.62277013e-10,  3.47003664e-09,\n",
       "               1.88305455e-10,  1.42008109e-10])                                 ,\n",
       "       array([ 0.96445376, -0.08434534, -0.06010166, -0.24311022], dtype=float32)],\n",
       "      dtype=object)"
      ]
     },
     "execution_count": 18,
     "metadata": {},
     "output_type": "execute_result"
    }
   ],
   "source": [
    "covs[0]"
   ]
  },
  {
   "cell_type": "code",
   "execution_count": 10,
   "metadata": {},
   "outputs": [],
   "source": [
    "\n",
    "image = 'P1407CAM1.jpg'\n",
    "\n",
    "\n",
    "pos = gs_filtered.xyz\n",
    "color = gs_filtered.color\n",
    "scale = gs_filtered.scale\n",
    "rot = gs_filtered.rot\n",
    "indices1 = (color[:,2] >= 0.1) & (color[:,2] < 0.98) & (color[:,3] < 1)\n",
    "cov = gs_filtered.cov2d\n",
    "indices = (np.abs(cov[:,1])>1) & (np.abs(cov[:,2])>1) & (np.abs(cov[:,0])>1) & (color[:,2] >= 0.1) & (color[:,2] < 0.98) & (color[:,3] < 1) & (np.abs(cov[:,1])<100) & (np.abs(cov[:,2])<100) & (np.abs(cov[:,0])<100)\n",
    "for_ell = gs_filtered.cov2d[indices]\n",
    "homo_pos = frames[image].add_homo_coords(gs_filtered.xyz)\n",
    "proj = frames[image].project_on_image(homo_pos,croped_camera_matrix = True)\n",
    "\n",
    "\n",
    "for_ell_proj = proj[indices]\n",
    "color_ell = gs_filtered.color[indices]"
   ]
  },
  {
   "cell_type": "code",
   "execution_count": 71,
   "metadata": {},
   "outputs": [
    {
     "data": {
      "text/plain": [
       "array([[-0.00471224, -0.00875376, -0.00031085],\n",
       "       [-0.00471327, -0.00877849, -0.00027387],\n",
       "       [-0.0046862 , -0.00846439, -0.00037821],\n",
       "       ...,\n",
       "       [-0.00077174, -0.00744362, -0.00139848],\n",
       "       [-0.00078346, -0.00743715, -0.0013813 ],\n",
       "       [-0.00430325, -0.00926331, -0.00026157]], dtype=float32)"
      ]
     },
     "execution_count": 71,
     "metadata": {},
     "output_type": "execute_result"
    }
   ],
   "source": [
    "for_ell_proj"
   ]
  },
  {
   "cell_type": "code",
   "execution_count": 11,
   "metadata": {},
   "outputs": [
    {
     "name": "stderr",
     "output_type": "stream",
     "text": [
      "C:\\Users\\Roni\\AppData\\Local\\Temp\\ipykernel_25800\\586283624.py:24: RuntimeWarning:\n",
      "\n",
      "invalid value encountered in sqrt\n",
      "\n"
     ]
    }
   ],
   "source": [
    "import numpy as np\n",
    "import matplotlib.pyplot as plt\n",
    "from matplotlib.patches import Ellipse\n",
    "\n",
    "def plot_gaussian_ellipse(mean, cov_2d, ax=None, n_std=1.0, **kwargs):\n",
    "    \"\"\"Plot a 2D Gaussian as an ellipse.\"\"\"\n",
    "    if ax is None:\n",
    "        ax = plt.gca()\n",
    "\n",
    "    # Covariance matrix as 2x2\n",
    "    cov_matrix = np.array([[cov_2d[0], cov_2d[1]], \n",
    "                           [cov_2d[1], cov_2d[2]]])\n",
    "\n",
    "    # Eigenvalues and eigenvectors for the orientation and size\n",
    "    eigenvals, eigenvecs = np.linalg.eigh(cov_matrix)\n",
    "    order = eigenvals.argsort()[::-1]\n",
    "    eigenvals, eigenvecs = eigenvals[order], eigenvecs[:, order]\n",
    "\n",
    "    # Calculate the angle of the ellipse (in degrees)\n",
    "    vx, vy = eigenvecs[:, 0]\n",
    "    theta = np.degrees(np.arctan2(vy, vx))\n",
    "\n",
    "    # Ellipse parameters\n",
    "    width, height = 2 * n_std * np.sqrt(eigenvals)\n",
    "    \n",
    "    # Create the ellipse\n",
    "    ell = Ellipse(xy=mean, width=width, height=height, angle=theta, **kwargs)\n",
    "    \n",
    "    ax.add_patch(ell)\n",
    "    return width, height,theta\n",
    "\n",
    "\n",
    "# Plot the Gaussian as an ellipse\n",
    "fig, ax = plt.subplots()\n",
    "ax.set_xlim(0, 160)\n",
    "ax.set_ylim(0,160)\n",
    "# plt.scatter(proj[:,0],proj[:,1],s = 1)\n",
    "\n",
    "# Plot the Gaussian with 1 standard deviation\n",
    "b = [plot_gaussian_ellipse(for_ell_proj, for_ell, ax=ax, facecolor = color_ell[0:3], alpha=color_ell[3]) for for_ell_proj,for_ell,color_ell in zip(for_ell_proj[0:1500],for_ell[0:1500],color_ell[0:1500])]\n",
    "# Show the plot\n",
    "plt.grid(True)\n",
    "plt.show()"
   ]
  },
  {
   "cell_type": "code",
   "execution_count": 122,
   "metadata": {},
   "outputs": [
    {
     "data": {
      "text/plain": [
       "array([[ 1.31638512e+02,  5.60281618e+01,  1.20569344e+02],\n",
       "       [ 1.73860418e+02, -6.57871162e+01,  7.50580432e+01],\n",
       "       [ 1.04310354e+02,  3.11110422e+01,  6.51293764e+01],\n",
       "       ...,\n",
       "       [ 5.11134414e-01, -1.07170627e-01,  3.54871447e-01],\n",
       "       [ 4.21098920e+00,  9.85440507e+00,  2.51314231e+01],\n",
       "       [ 1.18874675e+00,  2.02123437e+00,  4.89711273e+00]])"
      ]
     },
     "execution_count": 122,
     "metadata": {},
     "output_type": "execute_result"
    }
   ],
   "source": [
    "for_ell[:,0]*for_ell[:,2] - for_ell[:,1]*for_ell[:,1] "
   ]
  },
  {
   "cell_type": "code",
   "execution_count": 277,
   "metadata": {},
   "outputs": [
    {
     "ename": "IndexError",
     "evalue": "index 0 is out of bounds for axis 0 with size 0",
     "output_type": "error",
     "traceback": [
      "\u001b[1;31m---------------------------------------------------------------------------\u001b[0m",
      "\u001b[1;31mIndexError\u001b[0m                                Traceback (most recent call last)",
      "Cell \u001b[1;32mIn[277], line 4\u001b[0m\n\u001b[0;32m      2\u001b[0m cov_2d \u001b[38;5;241m=\u001b[39m for_ell\n\u001b[0;32m      3\u001b[0m \u001b[38;5;66;03m# Covariance matrix as 2x2\u001b[39;00m\n\u001b[1;32m----> 4\u001b[0m cov_matrix \u001b[38;5;241m=\u001b[39m np\u001b[38;5;241m.\u001b[39marray([[\u001b[43mcov_2d\u001b[49m\u001b[43m[\u001b[49m\u001b[38;5;241;43m0\u001b[39;49m\u001b[43m]\u001b[49m, cov_2d[\u001b[38;5;241m1\u001b[39m]], \n\u001b[0;32m      5\u001b[0m                         [cov_2d[\u001b[38;5;241m1\u001b[39m], cov_2d[\u001b[38;5;241m2\u001b[39m]]])\n\u001b[0;32m      7\u001b[0m \u001b[38;5;66;03m# Eigenvalues and eigenvectors for the orientation and size\u001b[39;00m\n\u001b[0;32m      8\u001b[0m eigenvals, eigenvecs \u001b[38;5;241m=\u001b[39m np\u001b[38;5;241m.\u001b[39mlinalg\u001b[38;5;241m.\u001b[39meigh(cov_matrix)\n",
      "\u001b[1;31mIndexError\u001b[0m: index 0 is out of bounds for axis 0 with size 0"
     ]
    }
   ],
   "source": [
    "n_std = 1\n",
    "cov_2d = for_ell\n",
    "# Covariance matrix as 2x2\n",
    "cov_matrix = np.array([[cov_2d[0], cov_2d[1]], \n",
    "                        [cov_2d[1], cov_2d[2]]])\n",
    "\n",
    "# Eigenvalues and eigenvectors for the orientation and size\n",
    "eigenvals, eigenvecs = np.linalg.eigh(cov_matrix)\n",
    "order = eigenvals.argsort()[::-1]\n",
    "eigenvals, eigenvecs = eigenvals[order], eigenvecs[:, order]\n",
    "\n",
    "# Calculate the angle of the ellipse (in degrees)\n",
    "vx, vy = eigenvecs[:, 0]\n",
    "theta = np.degrees(np.arctan2(vy, vx))\n",
    "\n",
    "# Ellipse parameters\n",
    "width, height = 2 * n_std * np.sqrt(eigenvals)"
   ]
  },
  {
   "cell_type": "code",
   "execution_count": 119,
   "metadata": {},
   "outputs": [
    {
     "data": {
      "text/plain": [
       "array([[ 84.19078169,  47.06180881],\n",
       "       [ 76.25174261,  87.23355188],\n",
       "       [ 84.18230826,  47.46902143],\n",
       "       ...,\n",
       "       [ 44.42871227,  63.13493924],\n",
       "       [117.26919451,  99.38322307],\n",
       "       [117.19633068,  99.37221166]])"
      ]
     },
     "execution_count": 119,
     "metadata": {},
     "output_type": "execute_result"
    }
   ],
   "source": [
    "for_ell_proj"
   ]
  },
  {
   "cell_type": "code",
   "execution_count": 275,
   "metadata": {},
   "outputs": [
    {
     "data": {
      "text/plain": [
       "'P1407CAM1.jpg'"
      ]
     },
     "execution_count": 275,
     "metadata": {},
     "output_type": "execute_result"
    }
   ],
   "source": [
    "im_name"
   ]
  },
  {
   "cell_type": "code",
   "execution_count": 281,
   "metadata": {},
   "outputs": [],
   "source": [
    "plydata = PlyData.read(input_file)\n",
    "im_name = list(frames.keys())[0]\n",
    "color = gs.color\n",
    "pos = gs.xyz\n",
    "\n",
    "# projection\n",
    "fig,axs = plt.subplots(2,2)\n",
    "for cam in range(4):\n",
    "    image = f'{im_name.split(\"CAM\")[0]}CAM{cam+1}.jpg'\n",
    "    indices =(color[:,0] < 0.2) & (color[:,1] < 1) &(color[:,2] < 1) & (color[:,3] < 1) & (color[:,0] > 0) & (color[:,1] > 0) &(color[:,2] > 0) \n",
    "\n",
    "    splat = pos[indices,:]\n",
    "    colors = color[indices, :]  # Filtered colors (RGB or RGBA)\n",
    "    colors[:,3] = colors[:,3]\n",
    "    homo_voxels_with_idx = frames[image].add_homo_coords(splat[:,0:3])\n",
    "    proj = frames[image].project_on_image(homo_voxels_with_idx,croped_camera_matrix = True)\n",
    "    axs[cam // 2,cam % 2].imshow(frames[image].croped_image)\n",
    "    axs[cam // 2,cam % 2].scatter(proj[:,0],proj[:,1],s = 10,c = colors)\n",
    "    # axs[cam // 2,cam % 2].scatter(proj[:,0],proj[:,1],s = 10,c = 'red')"
   ]
  }
 ],
 "metadata": {
  "kernelspec": {
   "display_name": "base",
   "language": "python",
   "name": "python3"
  },
  "language_info": {
   "codemirror_mode": {
    "name": "ipython",
    "version": 3
   },
   "file_extension": ".py",
   "mimetype": "text/x-python",
   "name": "python",
   "nbconvert_exporter": "python",
   "pygments_lexer": "ipython3",
   "version": "3.10.9"
  }
 },
 "nbformat": 4,
 "nbformat_minor": 2
}
