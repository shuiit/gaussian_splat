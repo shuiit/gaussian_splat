{
 "cells": [
  {
   "cell_type": "code",
   "execution_count": 207,
   "metadata": {},
   "outputs": [],
   "source": [
    "from Camera import Camera\n",
    "import numpy as np\n",
    "from Frame import Frame\n",
    "from plyfile import PlyData\n",
    "import numpy as np\n",
    "import argparse\n",
    "from io import BytesIO\n",
    "import matplotlib.pyplot as plt\n",
    "import Plotters\n",
    "import plotly.graph_objects as go\n",
    "import scipy.io\n",
    "import pandas as pd\n",
    "import Utils\n",
    "from GaussianSplat import GaussianSplat\n",
    "\n",
    "%matplotlib qt\n",
    "\n",
    "# load hull\n",
    "path = 'G:/My Drive/Research/gs_data/mov19_2022_03_03/'\n",
    "real_coord = scipy.io.loadmat(f'{path}/3d_pts/real_coord.mat')['all_coords']\n",
    "points_3d = {body_wing : pd.DataFrame(Utils.load_hull(body_wing,path),columns = ['X','Y','Z','frame']) for body_wing in ['body','rwing','lwing']}\n",
    "# initilize objects\n",
    "frames = [1407]#list(range(500,700,13))\n",
    "\n",
    "image_name,points_in_idx = Utils.define_frames(frames,points_3d)\n",
    "cameras = {f'cam{cam + 1}':Camera(path,cam) for cam in range(4)}\n",
    "frames = {f'{im_name}.jpg':Frame(path,im_name,points_in_idx[im_name.split('CAM')[0]],real_coord,idx) for idx,im_name in enumerate(image_name)}\n",
    "# map 3d voxels to 2d pixels\n",
    "[frames[im_name].map_3d_2d(croped_image = True) for im_name in frames.keys()]\n",
    "voxel_dict,colors_dict = Utils.get_dict_for_points3d(frames)\n"
   ]
  },
  {
   "cell_type": "code",
   "execution_count": 268,
   "metadata": {},
   "outputs": [
    {
     "data": {
      "text/plain": [
       "array([[0.73406726, 0.7341023 , 0.7342073 , 0.04463575],\n",
       "       [0.2884794 , 0.28853446, 0.28841653, 0.23641579],\n",
       "       [0.80745226, 0.80754125, 0.80756724, 0.3365896 ],\n",
       "       ...,\n",
       "       [0.9365481 , 0.93629587, 0.93635774, 0.12860788],\n",
       "       [0.8508673 , 0.8518721 , 0.85179234, 0.46187872],\n",
       "       [0.8400322 , 0.839985  , 0.8398861 , 0.17159091]], dtype=float32)"
      ]
     },
     "execution_count": 268,
     "metadata": {},
     "output_type": "execute_result"
    }
   ],
   "source": [
    "gs.color"
   ]
  },
  {
   "cell_type": "code",
   "execution_count": 288,
   "metadata": {},
   "outputs": [],
   "source": [
    "from GaussianSplat import GaussianSplat\n",
    "import Plotters\n",
    "\n",
    "import plotly\n",
    "import plotly.graph_objects as go\n",
    "input_file = \"D:/Documents/gray_dense_grad/frame1407/new_bg/output/bg_densify_grad_threshold0.005_percent_dense1.6e-07/point_cloud/iteration_15000/point_cloud.ply\"\n",
    "gs = GaussianSplat(input_file)\n",
    "filter_gauss_by = (np.abs(gs.color[:,0] - gs.color[:,1]) < 0.3) & (np.abs(gs.color[:,0] - gs.color[:,2]) < 0.3)\n",
    "filter_gauss_by = np.abs(gs.color[:,0] ) < 0.5\n",
    "\n",
    "gs_filtered = gs.filter(filter_gauss_by,path = gs.path)\n",
    "\n",
    "hover_text = [f\"Color: {color}\" for color in gs_filtered.color[:,2]]\n",
    "\n",
    "fig = go.Figure()\n",
    "Plotters.scatter3d(fig,gs_filtered.xyz,gs_filtered.color[:,3],3)\n",
    "fig.update_traces(hovertext=hover_text, hoverinfo='text')\n",
    "\n",
    "# # Show the plot\n",
    "for cam in range(4):\n",
    "    image = list(frames.keys())[cam]\n",
    "\n",
    "    Plotters.scatter3d(fig,frames[image].voxels_with_idx,'red',3,opa = 0.2)\n",
    "\n",
    "fig.show()\n",
    "gs_filtered.save_gs()\n"
   ]
  },
  {
   "cell_type": "code",
   "execution_count": null,
   "metadata": {},
   "outputs": [],
   "source": []
  },
  {
   "cell_type": "code",
   "execution_count": 153,
   "metadata": {},
   "outputs": [],
   "source": [
    "\n",
    "\n",
    "def process_ply_to_splat(ply_file_path):\n",
    "    pos = []\n",
    "    color = []\n",
    "    rot = []\n",
    "    scales = []\n",
    "\n",
    "    plydata = PlyData.read(ply_file_path)\n",
    "    vert = plydata[\"vertex\"]\n",
    "    sorted_indices = np.argsort(\n",
    "        -np.exp(vert[\"scale_0\"] + vert[\"scale_1\"] + vert[\"scale_2\"])\n",
    "        / (1 + np.exp(-vert[\"opacity\"]))\n",
    "    )\n",
    "    buffer = BytesIO()\n",
    "    for idx in sorted_indices:\n",
    "        v = plydata[\"vertex\"][idx]\n",
    "        pos.append(np.array([v[\"x\"], v[\"y\"], v[\"z\"]], dtype=np.float32))\n",
    "        scales.append(np.exp(\n",
    "            np.array(\n",
    "                [v[\"scale_0\"], v[\"scale_1\"], v[\"scale_2\"]],\n",
    "                dtype=np.float32,\n",
    "            )\n",
    "        ))\n",
    "        rot.append(np.array(\n",
    "            [v[\"rot_0\"], v[\"rot_1\"], v[\"rot_2\"], v[\"rot_3\"]],\n",
    "            dtype=np.float32,\n",
    "        ))\n",
    "        SH_C0 = 0.28209479177387814\n",
    "        color.append(np.array(\n",
    "            [\n",
    "                0.5 + SH_C0 * v[\"f_dc_0\"],\n",
    "                0.5 + SH_C0 * v[\"f_dc_1\"],\n",
    "                0.5 + SH_C0 * v[\"f_dc_2\"],\n",
    "                1 / (1 + np.exp(-v[\"opacity\"])),\n",
    "            ]\n",
    "        ))\n",
    "       \n",
    "        \n",
    "\n",
    "    return np.vstack(pos),np.vstack(scales),np.vstack(color),np.vstack(rot)\n",
    "\n"
   ]
  },
  {
   "cell_type": "code",
   "execution_count": 23,
   "metadata": {},
   "outputs": [
    {
     "ename": "ValueError",
     "evalue": "too many values to unpack (expected 4)",
     "output_type": "error",
     "traceback": [
      "\u001b[1;31m---------------------------------------------------------------------------\u001b[0m",
      "\u001b[1;31mValueError\u001b[0m                                Traceback (most recent call last)",
      "Cell \u001b[1;32mIn[23], line 3\u001b[0m\n\u001b[0;32m      1\u001b[0m S \u001b[38;5;241m=\u001b[39m np\u001b[38;5;241m.\u001b[39meye(\u001b[38;5;241m3\u001b[39m) \u001b[38;5;241m*\u001b[39m gs\u001b[38;5;241m.\u001b[39mscale[:,np\u001b[38;5;241m.\u001b[39mnewaxis,:]\n\u001b[0;32m      2\u001b[0m S\u001b[38;5;241m.\u001b[39mshape\n\u001b[1;32m----> 3\u001b[0m r, x, y, z \u001b[38;5;241m=\u001b[39m gs\u001b[38;5;241m.\u001b[39mrot \u001b[38;5;241m/\u001b[39m np\u001b[38;5;241m.\u001b[39mlinalg\u001b[38;5;241m.\u001b[39mnorm(gs\u001b[38;5;241m.\u001b[39mrot)\n\u001b[0;32m      4\u001b[0m r\n",
      "\u001b[1;31mValueError\u001b[0m: too many values to unpack (expected 4)"
     ]
    }
   ],
   "source": [
    "S.shape\n",
    "q = gs.rot / np.linalg.norm(gs.rot)\n"
   ]
  },
  {
   "cell_type": "code",
   "execution_count": 182,
   "metadata": {},
   "outputs": [
    {
     "data": {
      "text/plain": [
       "array([115.3501  ,  38.349434,  32.34482 ,  37.555866], dtype=float32)"
      ]
     },
     "execution_count": 182,
     "metadata": {},
     "output_type": "execute_result"
    }
   ],
   "source": [
    "np.linalg.norm(rot,axis =0)"
   ]
  },
  {
   "cell_type": "code",
   "execution_count": 190,
   "metadata": {},
   "outputs": [],
   "source": [
    "scale = gs.scale[0]\n",
    "scale\n",
    "\n",
    "import numpy as np\n",
    "mod = 1\n",
    "S = np.eye(3) * gs.scale[:,np.newaxis,:]\n",
    "S\n",
    "\n",
    "rot = gs.rot\n",
    "q = rot / np.linalg.norm(rot,axis =0)\n",
    "# r, x, y, z = q\n",
    "R = np.column_stack(\n",
    "    [1.0 - 2.0 * (q[:,2] * q[:,2] + q[:,3] * q[:,3]), 2.0 * (q[:,1]  * q[:,2] - q[:,0] * q[:,3] ), 2.0 * (q[:,1] * q[:,3]  + q[:,0] * q[:,2]),\n",
    "    2.0 * (q[:,1] * q[:,2] + q[:,0] * q[:,3] ), 1.0 - 2.0 * (q[:,1] * q[:,1] + q[:,3]  * q[:,3] ), 2.0 * (q[:,2] * q[:,3]  - q[:,0] * q[:,1]),\n",
    "    2.0 * (q[:,1] * q[:,3]  - q[:,0] * q[:,2]), 2.0 * (q[:,2] * q[:,3]  + q[:,0] * q[:,1]), 1.0 - 2.0 * (q[:,1] * q[:,1] + q[:,2] * q[:,2])])\n",
    "R = R.reshape(R.shape[0],3,3)\n",
    "M = S @ R  # Matrix multiplication\n",
    "Sigma = M.transpose(0,2,1) @ M\n",
    "\n"
   ]
  },
  {
   "cell_type": "code",
   "execution_count": 185,
   "metadata": {},
   "outputs": [
    {
     "data": {
      "text/plain": [
       "array([ 0.00418616,  0.00865448, -0.00229402,  0.00221972], dtype=float32)"
      ]
     },
     "execution_count": 185,
     "metadata": {},
     "output_type": "execute_result"
    }
   ],
   "source": [
    "q[0]"
   ]
  },
  {
   "cell_type": "code",
   "execution_count": 189,
   "metadata": {},
   "outputs": [
    {
     "data": {
      "text/plain": [
       "array([array([ 1.48573886e-01, -1.20484010e-09,  1.50141262e-01]),\n",
       "       array([ 4.24053555e-10,  3.96802757e-18, -1.74444477e-18,  4.24053567e-10,\n",
       "               2.75390399e-18,  4.24053534e-10])                                 ,\n",
       "       array([ 0.8095531 ,  0.5564311 , -0.12439819,  0.1397616 ], dtype=float32)],\n",
       "      dtype=object)"
      ]
     },
     "execution_count": 189,
     "metadata": {},
     "output_type": "execute_result"
    }
   ],
   "source": [
    "covs[0]"
   ]
  },
  {
   "cell_type": "code",
   "execution_count": 175,
   "metadata": {},
   "outputs": [
    {
     "data": {
      "text/plain": [
       "array([[ 9.9999857e-01, -7.5298308e-06, -9.4716688e-07],\n",
       "       [ 1.8136902e-06,  9.9998641e-01, -1.9317500e-05],\n",
       "       [ 7.3692609e-06,  1.7881750e-05,  9.9998659e-01]], dtype=float32)"
      ]
     },
     "execution_count": 175,
     "metadata": {},
     "output_type": "execute_result"
    }
   ],
   "source": [
    "bla = R[0].copy()\n",
    "bla"
   ]
  },
  {
   "cell_type": "code",
   "execution_count": 177,
   "metadata": {},
   "outputs": [
    {
     "data": {
      "text/plain": [
       "array([array([ 105.02570875, -117.22318674,  137.98725653]),\n",
       "       array([6.43161405e-07, 4.37900157e-07, 4.65507577e-07, 3.09853107e-07,\n",
       "              3.21288932e-07, 3.51046651e-07])                               ,\n",
       "       array([[ 0.70454738,  0.48586136,  0.51725405],\n",
       "              [-0.47124851,  0.86528723, -0.17088842],\n",
       "              [-0.53060144, -0.12335619,  0.83859728]])], dtype=object)"
      ]
     },
     "execution_count": 177,
     "metadata": {},
     "output_type": "execute_result"
    }
   ],
   "source": [
    "covs[0]"
   ]
  },
  {
   "cell_type": "code",
   "execution_count": 167,
   "metadata": {},
   "outputs": [
    {
     "data": {
      "text/plain": [
       "array([[ 4.24052345e-10,  1.53202206e-14,  7.46515193e-16],\n",
       "       [ 1.53202206e-14,  1.02073635e-08, -1.94396497e-13],\n",
       "       [ 7.46515193e-16, -1.94396497e-13,  1.55850958e-10]])"
      ]
     },
     "execution_count": 167,
     "metadata": {},
     "output_type": "execute_result"
    }
   ],
   "source": [
    "Sigma[0]"
   ]
  },
  {
   "cell_type": "code",
   "execution_count": 192,
   "metadata": {},
   "outputs": [],
   "source": [
    "image_width = 160\n",
    "image_height = 160\n",
    "import math\n",
    "def focal2fov(focal, pixels):\n",
    "    return 2*math.atan(pixels/(2*focal))\n",
    "\n",
    "fx = frames['P1520CAM1.jpg'].K_crop[0,0]\n",
    "fy = frames['P1520CAM1.jpg'].K_crop[1,1]\n",
    "\n",
    "tan_fovx = focal2fov(fx, image_width)\n",
    "tan_fovy = focal2fov(fy, image_height)\n",
    "\n",
    "viewmat = frames['P1520CAM1.jpg'].world_to_cam\n",
    "t = np.matmul(viewmat , np.column_stack((gs.xyz,np.ones(gs.xyz.shape[0]))).T).T\n",
    "\n",
    "limx = np.array([1.3 * tan_fovx]*t.shape[0])\n",
    "limy = np.array([1.3 * tan_fovy]*t.shape[0])\n",
    "\n",
    "txtz = t[:,0] / t[:,2]\n",
    "tytz = t[:,1] / t[:,2]\n",
    "t[:,0] = np.minimum(limx, np.maximum(-limx, txtz)) * t[:,2]\n",
    "t[:,1] = np.minimum(limy, np.maximum(-limy, tytz)) * t[:,2]\n",
    "zero_np = np.zeros((t.shape[0],1))\n",
    "\n",
    "\n",
    "J = np.column_stack((\n",
    "    fx / t[:,2:], zero_np, - (fx * t[:,0:1]) / (t[:,2:] ** 2),\n",
    "    zero_np, fy / t[:,2:], - (fy * t[:,1:2]) / (t[:,2:] ** 2),\n",
    "    zero_np, zero_np, zero_np\n",
    "))\n",
    "\n",
    "J = J.reshape((J.shape[0],3,3))\n",
    "\n",
    "W = np.tile(viewmat[0:3,0:3].T,(J.shape[0],1,1))\n",
    "T = W @ J\n",
    "cov = T.transpose(0,2,1) @ Sigma @ T\n",
    "\n",
    "# np.array([float(cov[0, 0]), float(cov[0, 1]), float(cov[1, 1])])"
   ]
  },
  {
   "cell_type": "code",
   "execution_count": 198,
   "metadata": {},
   "outputs": [
    {
     "data": {
      "text/plain": [
       "46795.05777943926"
      ]
     },
     "execution_count": 198,
     "metadata": {},
     "output_type": "execute_result"
    }
   ],
   "source": []
  },
  {
   "cell_type": "code",
   "execution_count": 131,
   "metadata": {},
   "outputs": [
    {
     "data": {
      "text/plain": [
       "array([-18677.97943397, -18683.56080406, -18682.39380258, ...,\n",
       "       -18736.17649454, -18637.08887459, -18757.78466857])"
      ]
     },
     "execution_count": 131,
     "metadata": {},
     "output_type": "execute_result"
    }
   ],
   "source": [
    "\n",
    "\n",
    "\n"
   ]
  },
  {
   "cell_type": "code",
   "execution_count": 115,
   "metadata": {},
   "outputs": [
    {
     "name": "stderr",
     "output_type": "stream",
     "text": [
      "C:\\Users\\Roni\\AppData\\Local\\Temp\\ipykernel_20884\\699277400.py:1: VisibleDeprecationWarning:\n",
      "\n",
      "Creating an ndarray from ragged nested sequences (which is a list-or-tuple of lists-or-tuples-or ndarrays with different lengths or shapes) is deprecated. If you meant to do this, you must specify 'dtype=object' when creating the ndarray.\n",
      "\n"
     ]
    },
    {
     "data": {
      "text/plain": [
       "(1, 9)"
      ]
     },
     "execution_count": 115,
     "metadata": {},
     "output_type": "execute_result"
    }
   ],
   "source": [
    "\n",
    "J = np.array([\n",
    "    [fx / t[:,2], 0.0, - (fx * t[:,0]) / (t[:,2] ** 2),\n",
    "    0.0, fy / t[:,2], - (fy * t[:,1]) / (t[:,2] ** 2),\n",
    "    t[:,2]*0, 0, 0]\n",
    "])\n",
    "\n",
    "J.shape"
   ]
  },
  {
   "cell_type": "code",
   "execution_count": 186,
   "metadata": {},
   "outputs": [],
   "source": [
    "import math\n",
    "\n",
    "def compute_cov_3d(scale, mod, rot):\n",
    "    # Create scaling matrix\n",
    "    S = np.eye(3) * mod * scale\n",
    "\n",
    "    # Normalize quaternion to get a valid rotation\n",
    "    q = rot / np.linalg.norm(rot)\n",
    "    r, x, y, z = q\n",
    "\n",
    "    # Compute rotation matrix from quaternion\n",
    "    R = np.array([\n",
    "        [1.0 - 2.0 * (y * y + z * z), 2.0 * (x * y - r * z), 2.0 * (x * z + r * y)],\n",
    "        [2.0 * (x * y + r * z), 1.0 - 2.0 * (x * x + z * z), 2.0 * (y * z - r * x)],\n",
    "        [2.0 * (x * z - r * y), 2.0 * (y * z + r * x), 1.0 - 2.0 * (x * x + y * y)]\n",
    "    ])\n",
    "\n",
    "    M = S @ R  # Matrix multiplication\n",
    "\n",
    "    # Compute 3D world covariance matrix Sigma\n",
    "    Sigma = M.T @ M\n",
    "    cov_3d = np.zeros(6, dtype=float)\n",
    "    # Covariance is symmetric; store upper right\n",
    "    cov_3d[0] = Sigma[0, 0]\n",
    "    cov_3d[1] = Sigma[0, 1]\n",
    "    cov_3d[2] = Sigma[0, 2]\n",
    "    cov_3d[3] = Sigma[1, 1]\n",
    "    cov_3d[4] = Sigma[1, 2]\n",
    "    cov_3d[5] = Sigma[2, 2]\n",
    "\n",
    "    # Covariance is symmetric; store upper right\n",
    "    return cov_3d,q\n",
    "\n",
    "def compute_cov_2d(mean,fx,fy,tan_fovx,tan_fovy,cov_3d,viewmat):\n",
    "\n",
    "    t = np.matmul(viewmat , np.append(mean,1)).T\n",
    "\n",
    " \n",
    "    limx = 1.3 * tan_fovx\n",
    "    limy = 1.3 * tan_fovy\n",
    "    txtz = t[0] / t[2]\n",
    "    tytz = t[1] / t[2]\n",
    "    t[0] = min(limx, max(-limx, txtz)) * t[2]\n",
    "    t[1] = min(limy, max(-limy, tytz)) * t[2]\n",
    "\n",
    "    # Compute Jacobian matrix J\n",
    "    J = np.array([\n",
    "        [fx / t[2], 0.0, - (fx * t[0]) / (t[2] ** 2)],\n",
    "        [0.0, fy / t[2], - (fy * t[1]) / (t[2] ** 2)],\n",
    "        [0, 0, 0]\n",
    "    ])\n",
    "\n",
    "\n",
    "    W = viewmat[0:3,0:3].T\n",
    "    # Compute T matrix\n",
    "    T = W @ J  # Matrix multiplication\n",
    "    # Construct Vk matrix (3D covariance matrix)\n",
    "    Vrk = np.array([\n",
    "        [cov_3d[0], cov_3d[1], cov_3d[2]],\n",
    "        [cov_3d[1], cov_3d[3], cov_3d[4]],\n",
    "        [cov_3d[2], cov_3d[4], cov_3d[5]]\n",
    "    ])\n",
    "\n",
    " \n",
    "\n",
    "    # Compute the covariance matrix\n",
    "    cov = T.T @ Vrk.T @ T\n",
    "\n",
    "    # Apply low-pass filter: ensure Gaussian is at least one pixel wide/high\n",
    "    # cov[0, 0] += 0.3\n",
    "    # cov[1, 1] += 0.3\n",
    "\n",
    "    return np.array([float(cov[0, 0]), float(cov[0, 1]), float(cov[1, 1])])\n",
    "\n",
    "\n",
    "\n",
    "def focal2fov(focal, pixels):\n",
    "    return 2*math.atan(pixels/(2*focal))\n",
    "\n",
    "def calc_det(cov):\n",
    "    return (cov[0] * cov[2] - cov[1] * cov[1])\n",
    "\n",
    "def calc_conic(cov,det):\n",
    "    det_inv = 1 / det\n",
    "    return  [cov[2] * det_inv, -cov[1] * det_inv, cov[0] * det_inv ]"
   ]
  },
  {
   "cell_type": "code",
   "execution_count": 155,
   "metadata": {},
   "outputs": [],
   "source": [
    "\n",
    "image_width = 160\n",
    "image_height = 160\n",
    "\n",
    "fx = frames['P1520CAM1.jpg'].K_crop[0,0]\n",
    "fy = frames['P1520CAM1.jpg'].K_crop[1,1]\n",
    "\n",
    "tan_fovx = focal2fov(fx, image_width)\n",
    "tan_fovy = focal2fov(fy, image_height)\n",
    "viewmat = frames['P1520CAM1.jpg'].world_to_cam\n",
    "\n",
    "\n",
    "\n",
    "input_file = \"D:/Documents/gray_dense_grad/output2/position_lr_init_1.6e-05_scaling_lr0.01_dens_iter500_featur0.0025/point_cloud/iteration_15000/point_cloud.ply\"\n",
    "pos,scale,color,rot = process_ply_to_splat(input_file)"
   ]
  },
  {
   "cell_type": "code",
   "execution_count": 44,
   "metadata": {},
   "outputs": [
    {
     "data": {
      "text/plain": [
       "array([[ 0.48336487, -0.49025624,  0.72526355,  0.00099953],\n",
       "       [-0.8753999 , -0.27616153,  0.39674907,  0.00096338],\n",
       "       [ 0.00578118, -0.82667021, -0.56265704,  0.27667279]])"
      ]
     },
     "execution_count": 44,
     "metadata": {},
     "output_type": "execute_result"
    }
   ],
   "source": [
    "viewmat"
   ]
  },
  {
   "cell_type": "code",
   "execution_count": 273,
   "metadata": {},
   "outputs": [
    {
     "name": "stderr",
     "output_type": "stream",
     "text": [
      "c:\\Users\\Roni\\anaconda3\\lib\\site-packages\\numpy\\core\\shape_base.py:121: VisibleDeprecationWarning:\n",
      "\n",
      "Creating an ndarray from ragged nested sequences (which is a list-or-tuple of lists-or-tuples-or ndarrays with different lengths or shapes) is deprecated. If you meant to do this, you must specify 'dtype=object' when creating the ndarray.\n",
      "\n"
     ]
    },
    {
     "ename": "KeyError",
     "evalue": "'P1520CAM1.jpg'",
     "output_type": "error",
     "traceback": [
      "\u001b[1;31m---------------------------------------------------------------------------\u001b[0m",
      "\u001b[1;31mKeyError\u001b[0m                                  Traceback (most recent call last)",
      "Cell \u001b[1;32mIn[273], line 16\u001b[0m\n\u001b[0;32m     11\u001b[0m \u001b[38;5;66;03m# det = calc_det(cov)\u001b[39;00m\n\u001b[0;32m     12\u001b[0m \u001b[38;5;66;03m# conic = calc_conic(cov,det)\u001b[39;00m\n\u001b[0;32m     14\u001b[0m covs \u001b[38;5;241m=\u001b[39m np\u001b[38;5;241m.\u001b[39mvstack([get_cov(scale,rot,mean,viewmat,fx,fy,tan_fovx,tan_fovy) \u001b[38;5;28;01mfor\u001b[39;00m scale,rot,mean \u001b[38;5;129;01min\u001b[39;00m \u001b[38;5;28mzip\u001b[39m(scale,rot,mean)])\n\u001b[1;32m---> 16\u001b[0m homo_pos \u001b[38;5;241m=\u001b[39m \u001b[43mframes\u001b[49m\u001b[43m[\u001b[49m\u001b[38;5;124;43m'\u001b[39;49m\u001b[38;5;124;43mP1520CAM1.jpg\u001b[39;49m\u001b[38;5;124;43m'\u001b[39;49m\u001b[43m]\u001b[49m\u001b[38;5;241m.\u001b[39madd_homo_coords(pos)\n\u001b[0;32m     17\u001b[0m proj \u001b[38;5;241m=\u001b[39m frames[\u001b[38;5;124m'\u001b[39m\u001b[38;5;124mP1520CAM1.jpg\u001b[39m\u001b[38;5;124m'\u001b[39m]\u001b[38;5;241m.\u001b[39mproject_on_image(homo_pos,croped_camera_matrix \u001b[38;5;241m=\u001b[39m \u001b[38;5;28;01mTrue\u001b[39;00m)\n",
      "\u001b[1;31mKeyError\u001b[0m: 'P1520CAM1.jpg'"
     ]
    }
   ],
   "source": [
    "\n",
    "mod = 1.0\n",
    "\n",
    "idx = -1\n",
    "mean = pos\n",
    "\n",
    "def get_cov(scale,rot,mean,viewmat,fx,fy,tan_fovx,tan_fovy):\n",
    "    cov_3d,q = compute_cov_3d(scale, 1, rot)\n",
    "    cov = compute_cov_2d(mean,fx,fy,tan_fovx,tan_fovy,cov_3d,viewmat)\n",
    "    return cov,cov_3d,q\n",
    "\n",
    "# det = calc_det(cov)\n",
    "# conic = calc_conic(cov,det)\n",
    "\n",
    "covs = np.vstack([get_cov(scale,rot,mean,viewmat,fx,fy,tan_fovx,tan_fovy) for scale,rot,mean in zip(scale,rot,mean)])\n",
    "\n",
    "homo_pos = frames['P1520CAM1.jpg'].add_homo_coords(pos)\n",
    "proj = frames['P1520CAM1.jpg'].project_on_image(homo_pos,croped_camera_matrix = True)\n"
   ]
  },
  {
   "cell_type": "code",
   "execution_count": 188,
   "metadata": {},
   "outputs": [
    {
     "data": {
      "text/plain": [
       "array([array([ 1.48573886e-01, -1.20484010e-09,  1.50141262e-01]),\n",
       "       array([ 4.24053555e-10,  3.96802757e-18, -1.74444477e-18,  4.24053567e-10,\n",
       "               2.75390399e-18,  4.24053534e-10])                                 ,\n",
       "       array([ 0.8095531 ,  0.5564311 , -0.12439819,  0.1397616 ], dtype=float32)],\n",
       "      dtype=object)"
      ]
     },
     "execution_count": 188,
     "metadata": {},
     "output_type": "execute_result"
    }
   ],
   "source": [
    "covs[0]"
   ]
  },
  {
   "cell_type": "code",
   "execution_count": 35,
   "metadata": {},
   "outputs": [],
   "source": [
    "indices1 = (color[:,2] >= 0.1) & (color[:,2] < 0.98) & (color[:,3] < 1)\n",
    "\n",
    "indices = (np.abs(covs[:,1])>1) & (np.abs(covs[:,2])>1) & (np.abs(covs[:,0])>1) & (color[:,2] >= 0.1) & (color[:,2] < 0.98) & (color[:,3] < 1) & (np.abs(covs[:,1])<100) & (np.abs(covs[:,2])<100) & (np.abs(covs[:,0])<100)\n",
    "for_ell = covs[indices]\n",
    "for_ell_proj = proj[indices]\n",
    "color_ell = color[indices]"
   ]
  },
  {
   "cell_type": "code",
   "execution_count": 39,
   "metadata": {},
   "outputs": [
    {
     "data": {
      "text/plain": [
       "(6.0487278158360915, 3.9870407806776527, -140.0505474908273)"
      ]
     },
     "execution_count": 39,
     "metadata": {},
     "output_type": "execute_result"
    }
   ],
   "source": [
    "b[0]"
   ]
  },
  {
   "cell_type": "code",
   "execution_count": 37,
   "metadata": {},
   "outputs": [],
   "source": [
    "import numpy as np\n",
    "import matplotlib.pyplot as plt\n",
    "from matplotlib.patches import Ellipse\n",
    "\n",
    "def plot_gaussian_ellipse(mean, cov_2d, ax=None, n_std=1.0, **kwargs):\n",
    "    \"\"\"Plot a 2D Gaussian as an ellipse.\"\"\"\n",
    "    if ax is None:\n",
    "        ax = plt.gca()\n",
    "\n",
    "    # Covariance matrix as 2x2\n",
    "    cov_matrix = np.array([[cov_2d[0], cov_2d[1]], \n",
    "                           [cov_2d[1], cov_2d[2]]])\n",
    "\n",
    "    # Eigenvalues and eigenvectors for the orientation and size\n",
    "    eigenvals, eigenvecs = np.linalg.eigh(cov_matrix)\n",
    "    order = eigenvals.argsort()[::-1]\n",
    "    eigenvals, eigenvecs = eigenvals[order], eigenvecs[:, order]\n",
    "\n",
    "    # Calculate the angle of the ellipse (in degrees)\n",
    "    vx, vy = eigenvecs[:, 0]\n",
    "    theta = np.degrees(np.arctan2(vy, vx))\n",
    "\n",
    "    # Ellipse parameters\n",
    "    width, height = 2 * n_std * np.sqrt(eigenvals)\n",
    "    \n",
    "    # Create the ellipse\n",
    "    ell = Ellipse(xy=mean, width=width, height=height, angle=theta, **kwargs)\n",
    "    \n",
    "    ax.add_patch(ell)\n",
    "    return width, height,theta\n",
    "\n",
    "\n",
    "# Plot the Gaussian as an ellipse\n",
    "fig, ax = plt.subplots()\n",
    "ax.set_xlim(0, 160)\n",
    "ax.set_ylim(0,160)\n",
    "# plt.scatter(proj[:,0],proj[:,1],s = 1)\n",
    "\n",
    "# Plot the Gaussian with 1 standard deviation\n",
    "b = [plot_gaussian_ellipse(for_ell_proj, for_ell, ax=ax, facecolor = color_ell[0:3], alpha=color_ell[3]) for for_ell_proj,for_ell,color_ell in zip(for_ell_proj[0:1500],for_ell[0:1500],color_ell[0:1500])]\n",
    "# Show the plot\n",
    "plt.grid(True)\n",
    "plt.show()"
   ]
  },
  {
   "cell_type": "code",
   "execution_count": 122,
   "metadata": {},
   "outputs": [
    {
     "data": {
      "text/plain": [
       "array([[ 1.31638512e+02,  5.60281618e+01,  1.20569344e+02],\n",
       "       [ 1.73860418e+02, -6.57871162e+01,  7.50580432e+01],\n",
       "       [ 1.04310354e+02,  3.11110422e+01,  6.51293764e+01],\n",
       "       ...,\n",
       "       [ 5.11134414e-01, -1.07170627e-01,  3.54871447e-01],\n",
       "       [ 4.21098920e+00,  9.85440507e+00,  2.51314231e+01],\n",
       "       [ 1.18874675e+00,  2.02123437e+00,  4.89711273e+00]])"
      ]
     },
     "execution_count": 122,
     "metadata": {},
     "output_type": "execute_result"
    }
   ],
   "source": [
    "for_ell[:,0]*for_ell[:,2] - for_ell[:,1]*for_ell[:,1] "
   ]
  },
  {
   "cell_type": "code",
   "execution_count": 277,
   "metadata": {},
   "outputs": [
    {
     "ename": "IndexError",
     "evalue": "index 0 is out of bounds for axis 0 with size 0",
     "output_type": "error",
     "traceback": [
      "\u001b[1;31m---------------------------------------------------------------------------\u001b[0m",
      "\u001b[1;31mIndexError\u001b[0m                                Traceback (most recent call last)",
      "Cell \u001b[1;32mIn[277], line 4\u001b[0m\n\u001b[0;32m      2\u001b[0m cov_2d \u001b[38;5;241m=\u001b[39m for_ell\n\u001b[0;32m      3\u001b[0m \u001b[38;5;66;03m# Covariance matrix as 2x2\u001b[39;00m\n\u001b[1;32m----> 4\u001b[0m cov_matrix \u001b[38;5;241m=\u001b[39m np\u001b[38;5;241m.\u001b[39marray([[\u001b[43mcov_2d\u001b[49m\u001b[43m[\u001b[49m\u001b[38;5;241;43m0\u001b[39;49m\u001b[43m]\u001b[49m, cov_2d[\u001b[38;5;241m1\u001b[39m]], \n\u001b[0;32m      5\u001b[0m                         [cov_2d[\u001b[38;5;241m1\u001b[39m], cov_2d[\u001b[38;5;241m2\u001b[39m]]])\n\u001b[0;32m      7\u001b[0m \u001b[38;5;66;03m# Eigenvalues and eigenvectors for the orientation and size\u001b[39;00m\n\u001b[0;32m      8\u001b[0m eigenvals, eigenvecs \u001b[38;5;241m=\u001b[39m np\u001b[38;5;241m.\u001b[39mlinalg\u001b[38;5;241m.\u001b[39meigh(cov_matrix)\n",
      "\u001b[1;31mIndexError\u001b[0m: index 0 is out of bounds for axis 0 with size 0"
     ]
    }
   ],
   "source": [
    "n_std = 1\n",
    "cov_2d = for_ell\n",
    "# Covariance matrix as 2x2\n",
    "cov_matrix = np.array([[cov_2d[0], cov_2d[1]], \n",
    "                        [cov_2d[1], cov_2d[2]]])\n",
    "\n",
    "# Eigenvalues and eigenvectors for the orientation and size\n",
    "eigenvals, eigenvecs = np.linalg.eigh(cov_matrix)\n",
    "order = eigenvals.argsort()[::-1]\n",
    "eigenvals, eigenvecs = eigenvals[order], eigenvecs[:, order]\n",
    "\n",
    "# Calculate the angle of the ellipse (in degrees)\n",
    "vx, vy = eigenvecs[:, 0]\n",
    "theta = np.degrees(np.arctan2(vy, vx))\n",
    "\n",
    "# Ellipse parameters\n",
    "width, height = 2 * n_std * np.sqrt(eigenvals)"
   ]
  },
  {
   "cell_type": "code",
   "execution_count": 119,
   "metadata": {},
   "outputs": [
    {
     "data": {
      "text/plain": [
       "array([[ 84.19078169,  47.06180881],\n",
       "       [ 76.25174261,  87.23355188],\n",
       "       [ 84.18230826,  47.46902143],\n",
       "       ...,\n",
       "       [ 44.42871227,  63.13493924],\n",
       "       [117.26919451,  99.38322307],\n",
       "       [117.19633068,  99.37221166]])"
      ]
     },
     "execution_count": 119,
     "metadata": {},
     "output_type": "execute_result"
    }
   ],
   "source": [
    "for_ell_proj"
   ]
  },
  {
   "cell_type": "code",
   "execution_count": 275,
   "metadata": {},
   "outputs": [
    {
     "data": {
      "text/plain": [
       "'P1407CAM1.jpg'"
      ]
     },
     "execution_count": 275,
     "metadata": {},
     "output_type": "execute_result"
    }
   ],
   "source": [
    "im_name"
   ]
  },
  {
   "cell_type": "code",
   "execution_count": 281,
   "metadata": {},
   "outputs": [],
   "source": [
    "plydata = PlyData.read(input_file)\n",
    "im_name = list(frames.keys())[0]\n",
    "color = gs.color\n",
    "pos = gs.xyz\n",
    "\n",
    "# projection\n",
    "fig,axs = plt.subplots(2,2)\n",
    "for cam in range(4):\n",
    "    image = f'{im_name.split(\"CAM\")[0]}CAM{cam+1}.jpg'\n",
    "    indices =(color[:,0] < 0.2) & (color[:,1] < 1) &(color[:,2] < 1) & (color[:,3] < 1) & (color[:,0] > 0) & (color[:,1] > 0) &(color[:,2] > 0) \n",
    "\n",
    "    splat = pos[indices,:]\n",
    "    colors = color[indices, :]  # Filtered colors (RGB or RGBA)\n",
    "    colors[:,3] = colors[:,3]\n",
    "    homo_voxels_with_idx = frames[image].add_homo_coords(splat[:,0:3])\n",
    "    proj = frames[image].project_on_image(homo_voxels_with_idx,croped_camera_matrix = True)\n",
    "    axs[cam // 2,cam % 2].imshow(frames[image].croped_image)\n",
    "    axs[cam // 2,cam % 2].scatter(proj[:,0],proj[:,1],s = 10,c = colors)\n",
    "    # axs[cam // 2,cam % 2].scatter(proj[:,0],proj[:,1],s = 10,c = 'red')"
   ]
  }
 ],
 "metadata": {
  "kernelspec": {
   "display_name": "base",
   "language": "python",
   "name": "python3"
  },
  "language_info": {
   "codemirror_mode": {
    "name": "ipython",
    "version": 3
   },
   "file_extension": ".py",
   "mimetype": "text/x-python",
   "name": "python",
   "nbconvert_exporter": "python",
   "pygments_lexer": "ipython3",
   "version": "3.10.9"
  }
 },
 "nbformat": 4,
 "nbformat_minor": 2
}
