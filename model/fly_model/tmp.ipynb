{
 "cells": [
  {
   "cell_type": "code",
   "execution_count": 63,
   "metadata": {},
   "outputs": [],
   "source": [
    "import open3d as o3d\n",
    "\n",
    "\n",
    "from os import listdir\n",
    "from os.path import isfile, join\n",
    "\n",
    "mypath = 'D:/Documents/gaussian_splat/model/NeuroMechFly/data/design/meshes/stl'\n",
    "mypath = 'D:/Documents/gaussian_splat/model/body_wings'\n",
    "onlyfiles = [f for f in listdir(mypath) if isfile(join(mypath, f))]\n",
    "onlyfiles\n",
    "mesh_list = [o3d.io.read_triangle_mesh(f'{mypath}/{mesh}') for mesh in onlyfiles]\n"
   ]
  },
  {
   "cell_type": "code",
   "execution_count": 65,
   "metadata": {},
   "outputs": [],
   "source": [
    "import numpy as np\n",
    "mesh = mesh_list[1]\n",
    "mesh.compute_vertex_normals()\n",
    "\n",
    "# Visualize the original mesh\n",
    "# vertices = np.asarray(mesh.vertices)\n",
    "\n",
    "\n",
    "\n",
    "# Convert vertices to a NumPy array for manipulation\n",
    "vertices = np.asarray(mesh.vertices)\n",
    "\n",
    "# Create a color array for the vertices\n",
    "vertex_colors = np.zeros((len(vertices), 3))  # Initialize with zeros (black)\n",
    "\n",
    "# Color the entire mesh green\n",
    "vertex_colors[:, :] = [0, 1, 0]  # RGB for green\n",
    "\n",
    "# Vertices to color red\n",
    "vertices_to_color = range(1000)\n",
    "vertex_colors[vertices_to_color] = [1, 0, 0]  # RGB for red\n",
    "\n",
    "# Assign the colors to the mesh\n",
    "mesh.vertex_colors = o3d.utility.Vector3dVector(vertex_colors)\n",
    "\n",
    "# Visualize the mesh\n",
    "o3d.visualization.draw_geometries([mesh])\n"
   ]
  }
 ],
 "metadata": {
  "kernelspec": {
   "display_name": "base",
   "language": "python",
   "name": "python3"
  },
  "language_info": {
   "codemirror_mode": {
    "name": "ipython",
    "version": 3
   },
   "file_extension": ".py",
   "mimetype": "text/x-python",
   "name": "python",
   "nbconvert_exporter": "python",
   "pygments_lexer": "ipython3",
   "version": "3.10.9"
  }
 },
 "nbformat": 4,
 "nbformat_minor": 2
}
