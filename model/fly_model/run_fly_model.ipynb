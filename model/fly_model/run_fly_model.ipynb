{
 "cells": [
  {
   "cell_type": "code",
   "execution_count": 1,
   "metadata": {},
   "outputs": [
    {
     "name": "stdout",
     "output_type": "stream",
     "text": [
      "Jupyter environment detected. Enabling Open3D WebVisualizer.\n",
      "[Open3D INFO] WebRTC GUI backend enabled.\n",
      "[Open3D INFO] WebRTCWindowSystem: HTTP handshake server disabled.\n"
     ]
    }
   ],
   "source": [
    "\n",
    "\n",
    "\n",
    "import open3d as o3d\n",
    "from Joint import Joint\n",
    "import numpy as np\n",
    "# import matplotlib.pyplot as plt\n",
    "from Skeleton import Skeleton\n",
    "import Plotter\n",
    "import plotly.graph_objects as go\n",
    "\n",
    "# \n",
    "from os import listdir\n",
    "from os.path import isfile, join\n",
    "from Skin import Skin\n",
    "import Plotter\n",
    "\n",
    "mypath = 'D:/Documents/gaussian_splat/model/NeuroMechFly/data/design/meshes/stl'\n",
    "path_to_mesh = 'I:/My Drive/Research/gaussian_splatting/mesh'\n",
    "parts = ['body','right_wing','left_wing']\n",
    "\n",
    "translation = [-0.1,0,1]\n",
    "\n",
    "skin = Skin(parts,path_to_mesh,scale = 1000)\n",
    "skin.translate_ptcloud_skin(translation)\n",
    "\n"
   ]
  },
  {
   "cell_type": "code",
   "execution_count": 2,
   "metadata": {},
   "outputs": [],
   "source": [
    "from Joint import Joint\n",
    "import numpy as np\n",
    "# import matplotlib.pyplot as plt\n",
    "from Skeleton import Skeleton\n",
    "import Plotter\n",
    "import plotly.graph_objects as go\n",
    "\n",
    "# %matplotlib qt\n",
    "\n",
    "pitch_body = 0\n",
    "joints = {'root_no_bone':[0,0,0],\n",
    "          'neck':[0.6,0,0.3],\n",
    "          'neck_thorax': [0.6,0,0.3],\n",
    "          'head':[0.3,0,0],\n",
    "          'thorax':[-1,0,0],\n",
    "          'abdomen':[-1.3,0,0] ,\n",
    "          'right_sp_no_bone': [-0,0,0.3],\n",
    "          'right_wing_root':[0,-0.3,0],\n",
    "          'right_wing_tip':[0,-2.2,0],\n",
    "          'left_sp_no_bone':[0,0,0.3],\n",
    "          'left_wing_root':[0,0.3,0],\n",
    "          'left_wing_tip':[0,2.2,0]\n",
    "          }\n",
    "\n",
    "local_rotation = {'root_no_bone':[0,-pitch_body,0],\n",
    "          'neck':[0,pitch_body,0],\n",
    "          'neck_thorax': [0,-25,0],\n",
    "          'head':[0,0,0],\n",
    "          'thorax':[0,25,0],\n",
    "          'abdomen':[0,0,0] ,\n",
    "          'right_sp_no_bone': [0,pitch_body,0],\n",
    "          'right_wing_root':[0,0,0],\n",
    "          'right_wing_tip':[0,0,0],\n",
    "          'left_sp_no_bone':[0,pitch_body,0],\n",
    "          'left_wing_root':[-0,0,0],\n",
    "          'left_wing_tip':[0,0,0]\n",
    "          }\n",
    "\n",
    "parent_child = {'root_no_bone':['neck','neck_thorax','right_sp_no_bone','left_sp_no_bone'],\n",
    "                      'neck':['head'],\n",
    "                      'neck_thorax':['thorax'],\n",
    "                      'thorax':['abdomen'],\n",
    "                      'right_sp_no_bone':['right_wing_root'],\n",
    "                      'right_wing_root': ['right_wing_tip'],\n",
    "                      'left_sp_no_bone': ['left_wing_root'],\n",
    "                      'left_wing_root':['left_wing_tip']}\n",
    "\n",
    "skeleton = Skeleton()\n",
    "skeleton.initilize_joints(joints)\n",
    "skeleton.connect_parent_child(parent_child)\n",
    "\n",
    "skeleton.update_local_roattion(local_rotation)\n",
    "skeleton.update_global_rotation(rest_bind = True)\n",
    "skeleton.get_global_point_skeleton_branch()\n",
    "skeleton.add_bone_to_joint()\n",
    "\n",
    "skin.calculate_weights(skeleton,constant_weight = [None,'right_wing_root','left_wing_root'],th = 10)\n",
    "\n",
    "\n"
   ]
  },
  {
   "cell_type": "code",
   "execution_count": 13,
   "metadata": {},
   "outputs": [
    {
     "data": {
      "text/plain": [
       "(757106, 3)"
      ]
     },
     "execution_count": 13,
     "metadata": {},
     "output_type": "execute_result"
    }
   ],
   "source": [
    "skin.ptcloud_skin.shape"
   ]
  },
  {
   "cell_type": "code",
   "execution_count": 12,
   "metadata": {},
   "outputs": [
    {
     "data": {
      "text/plain": [
       "(757106, 5)"
      ]
     },
     "execution_count": 12,
     "metadata": {},
     "output_type": "execute_result"
    }
   ],
   "source": [
    "skin.weight.shape"
   ]
  },
  {
   "cell_type": "code",
   "execution_count": 29,
   "metadata": {},
   "outputs": [
    {
     "name": "stdout",
     "output_type": "stream",
     "text": [
      "[[-0.04019238  0.         -0.66961524  1.        ]\n",
      " [-0.19019238  0.         -0.92942286  1.        ]]\n",
      "[[-0.04019238  0.         -0.66961524  1.        ]\n",
      " [ 0.04696336  0.          0.32657946  1.        ]]\n",
      "[[0.04696336 0.         0.32657946 1.        ]\n",
      " [0.69696336 0.         1.45241248 1.        ]]\n",
      "[[-1.17786897 -0.3        -0.04097293  1.        ]\n",
      " [-1.17786897 -2.5        -0.04097293  1.        ]]\n",
      "[[-1.17786897  0.3        -0.04097293  1.        ]\n",
      " [-1.17786897  2.5        -0.04097293  1.        ]]\n"
     ]
    }
   ],
   "source": [
    "pitch_body=40\n",
    "local_rotation = {'root_no_bone':[0,-pitch_body,0],\n",
    "          'neck':[0,0,0],\n",
    "          'neck_thorax': [0,-25,0],\n",
    "          'head':[0,0,0],\n",
    "          'thorax':[0,25,0],\n",
    "          'abdomen':[0,-0,0] ,\n",
    "          'right_sp_no_bone': [0,pitch_body,0],\n",
    "          'right_wing_root':[0,0,0],\n",
    "          'right_wing_tip':[0,0,0],\n",
    "          'left_sp_no_bone':[0,pitch_body,0],\n",
    "          'left_wing_root':[0,0,0],\n",
    "          'left_wing_tip':[0,0,0]\n",
    "          }\n",
    "\n",
    "\n",
    "# for joint in skeleton.joints.values():     \n",
    "#         if joint.bone != None:    \n",
    "        #     print(joint.bone.bone_points)\n",
    "        # print(joint.global_transformation)\n",
    "skeleton.update_local_roattion(local_rotation)\n",
    "skeleton.update_global_rotation()\n",
    "skeleton.get_global_point_skeleton_branch()\n",
    "# skeleton.add_bone_to_joint()\n",
    "\n",
    "for joint in skeleton.joints.values():     \n",
    "    if joint.bone != None:    \n",
    "        points_homo = np.hstack((skeleton.joints[joint.name].bone.bone_points,np.array([[1,1]]).T))\n",
    "        transformation_rest = np.linalg.inv(skeleton.joints[joint.name].bind_transformation)\n",
    "        rotated_points = np.dot(transformation_rest,points_homo.T)\n",
    "        skeleton.joints[joint.name].bone.bone_points =  np.dot(skeleton.joints[joint.name].global_transformation,rotated_points).T[:,0:3]\n",
    "        \n",
    "        # joint.bone.direction = joint.rotate_to_new_position(1,np.append(joint.bone.direction,1))[0:3]\n",
    "        # joint.bone.bone_points = joint.rotate_to_new_position(1,np.hstack((joint.bone.bone_points,np.array([[1,1]]).T)))[:,0:3]\n",
    "        print(points_homo)\n",
    "        # print(joint.bone.bone_points)\n",
    "        # print(points_homo)\n",
    "\n",
    "\n",
    "# points = skin.ptcloud_skin\n",
    "# points_homo = np.column_stack([points,points[:,0]*0+1])\n"
   ]
  },
  {
   "cell_type": "code",
   "execution_count": 30,
   "metadata": {},
   "outputs": [
    {
     "data": {
      "text/plain": [
       "array([[1. , 0. , 0. , 0. ],\n",
       "       [0. , 1. , 0. , 2.5],\n",
       "       [0. , 0. , 1. , 0.3],\n",
       "       [0. , 0. , 0. , 1. ]])"
      ]
     },
     "execution_count": 30,
     "metadata": {},
     "output_type": "execute_result"
    }
   ],
   "source": [
    "skeleton.joints[joint.name].bind_transformation"
   ]
  },
  {
   "cell_type": "code",
   "execution_count": 30,
   "metadata": {},
   "outputs": [],
   "source": [
    "\n",
    "marker_dict_skin = {'size':4,'color':skin.weight[::10,0],  # Set color to distances\n",
    "                'colorscale':'Viridis','opacity':0.3}\n",
    "\n",
    "marker_dict_skeleton = {'size': 10}\n",
    "line_dict_skeleton = {'width': 10}\n",
    "fig = go.Figure()\n",
    "\n",
    "skin.plot_skin(fig,'skin',skip = 10,marker_dict = marker_dict_skin)\n",
    "skeleton.plot_skeleton(fig,marker_dict_skeleton,line_dict_skeleton)\n",
    "fig.show()\n"
   ]
  },
  {
   "cell_type": "code",
   "execution_count": 26,
   "metadata": {},
   "outputs": [
    {
     "data": {
      "text/plain": [
       "array([[-0.31897284,  0.04370395,  0.235494  ,  1.        ],\n",
       "       [-0.37353335, -0.01589741,  0.26317774,  1.        ],\n",
       "       [-0.28442915,  0.24834745,  0.16488848,  1.        ],\n",
       "       ...,\n",
       "       [-0.0474212 ,  2.32181144,  1.14415993,  1.        ],\n",
       "       [-0.04660189,  2.31800402,  1.14295539,  1.        ],\n",
       "       [-0.0443925 ,  2.31654753,  1.14398488,  1.        ]])"
      ]
     },
     "execution_count": 26,
     "metadata": {},
     "output_type": "execute_result"
    }
   ],
   "source": [
    "\n",
    "import plotly.graph_objects as go\n",
    "import numpy as np\n",
    "\n",
    "from plotly.subplots import make_subplots\n",
    "\n",
    "import Plotter\n",
    "points = skin.ptcloud_skin[::10,:]\n",
    "pitch_body=0\n",
    "local_rotation = {'root_no_bone':[0,-pitch_body,20],\n",
    "          'neck':[0,0,0],\n",
    "          'neck_thorax': [0,-25,0],\n",
    "          'head':[0,0,0],\n",
    "          'thorax':[0,25,0],\n",
    "          'abdomen':[0,-0,0] ,\n",
    "          'right_sp_no_bone': [0,pitch_body,0],\n",
    "          'right_wing_root':[0,0,0],\n",
    "          'right_wing_tip':[0,0,0],\n",
    "          'left_sp_no_bone':[0,pitch_body,0],\n",
    "          'left_wing_root':[0,0,0],\n",
    "          'left_wing_tip':[0,0,0]\n",
    "          }\n",
    "skeleton.update_local_roattion(local_rotation)\n",
    "skeleton.update_global_rotation()\n",
    "skeleton.get_global_point_skeleton_branch()\n",
    "skeleton.add_bone_to_joint()\n",
    "\n",
    "\n",
    "\n",
    "\n",
    "points_homo = np.column_stack([points,points[:,0]*0+1])\n",
    "\n",
    "\n",
    "idx = 0\n",
    "rotated_points_per_bone = points_homo*0\n",
    "for joint_name in skeleton.joints.keys():\n",
    "     if skeleton.joints[joint_name].bone is not None:\n",
    "        \n",
    "        \n",
    "        # [skeleton.joints[joint_name].rotate_to_new_position(weight[:,idx:idx + 1],points_homo) for joint_name in skeleton.joints.keys() if skeleton.joints[joint_name].bone is not None]\n",
    "\n",
    "        transformation_rest = np.linalg.inv(skeleton.joints[joint_name].bind_transformation)\n",
    "        rotated_points = np.dot(transformation_rest,points_homo.T)\n",
    "        rotated_points_per_bone +=  skin.weight[::10,idx:idx + 1]*np.dot(skeleton.joints[joint_name].global_transformation,rotated_points).T\n",
    "        idx += 1\n",
    "rotated_points_per_bone\n"
   ]
  },
  {
   "cell_type": "code",
   "execution_count": 8,
   "metadata": {},
   "outputs": [
    {
     "data": {
      "text/plain": [
       "(757106, 5)"
      ]
     },
     "execution_count": 8,
     "metadata": {},
     "output_type": "execute_result"
    }
   ],
   "source": [
    "skin.weight.shape"
   ]
  },
  {
   "cell_type": "code",
   "execution_count": 18,
   "metadata": {},
   "outputs": [],
   "source": [
    "\n",
    "import plotly.graph_objects as go\n",
    "import numpy as np\n",
    "from plotly.subplots import make_subplots\n",
    "\n",
    "import Plotter\n",
    "\n",
    "\n",
    "\n",
    "\n",
    "fig = go.Figure()\n",
    "marker_dict = {'color':'black','size':3,'opacity':0.5}\n",
    "Plotter.scatter3d(fig,rotated_points_per_bone[::1,:],'fly',marker_dict = marker_dict)\n",
    "\n",
    "\n",
    "line_dict = {'width': 5,'color': 'green'}\n",
    "marker_dict = {'color':'green','size':10}\n",
    "\n",
    "for joint_name in skeleton.joints.keys():\n",
    "    if 'right' in joint_name: \n",
    "        marker_dict['color'] = 'red'\n",
    "        line_dict['color'] = 'red'\n",
    "\n",
    "    elif 'left' in joint_name: \n",
    "        marker_dict['color'] = 'blue'\n",
    "        line_dict['color'] = 'blue'\n",
    "\n",
    "    else:\n",
    "        marker_dict['color'] = 'green'\n",
    "        line_dict['color'] = 'green'\n",
    "\n",
    "\n",
    "\n",
    "\n",
    "    bone = skeleton.joints[joint_name].bone\n",
    "    if bone is not None:\n",
    "        Plotter.scatter3d(fig,bone.bone_points,bone.bone_points_names[0],mode = 'lines',line_dict= line_dict)\n",
    "        Plotter.scatter3d(fig,bone.bone_points,bone.bone_points_names[0],mode = 'markers',marker_dict= marker_dict)\n",
    "\n",
    "fig.show()"
   ]
  },
  {
   "cell_type": "code",
   "execution_count": 21,
   "metadata": {},
   "outputs": [
    {
     "data": {
      "text/plain": [
       "array([[ 0. , -0.4,  0.3],\n",
       "       [ 0. , -2.6,  0.3]])"
      ]
     },
     "execution_count": 21,
     "metadata": {},
     "output_type": "execute_result"
    }
   ],
   "source": [
    "bones = [skeleton.joints[joint_name].bone for joint_name in skeleton.joints.keys() if skeleton.joints[joint_name].bone != None]\n",
    "bones[4].bone_points_names"
   ]
  },
  {
   "cell_type": "code",
   "execution_count": 5,
   "metadata": {},
   "outputs": [
    {
     "data": {
      "text/plain": [
       "array([0., 1., 0.])"
      ]
     },
     "execution_count": 5,
     "metadata": {},
     "output_type": "execute_result"
    }
   ],
   "source": [
    "(skeleton.joints[joint_name].parent.global_origin - skeleton.joints[joint_name].global_origin)/np.abs(np.sum(skeleton.joints[joint_name].parent.global_origin - skeleton.joints[joint_name].global_origin))"
   ]
  },
  {
   "cell_type": "code",
   "execution_count": 2,
   "metadata": {},
   "outputs": [
    {
     "data": {
      "text/plain": [
       "array([0., 1., 0.])"
      ]
     },
     "execution_count": 2,
     "metadata": {},
     "output_type": "execute_result"
    }
   ],
   "source": [
    "from Bone import Bone\n",
    "joint_name = 'right_wing_root'\n",
    "\n",
    "bones = Bone(skeleton.joints[joint_name].parent,skeleton.joints[joint_name])\n",
    "bones.direction"
   ]
  },
  {
   "cell_type": "code",
   "execution_count": 38,
   "metadata": {},
   "outputs": [
    {
     "data": {
      "text/plain": [
       "array([ 0. , -0.4,  0. ])"
      ]
     },
     "execution_count": 38,
     "metadata": {},
     "output_type": "execute_result"
    }
   ],
   "source": [
    "\n",
    "\n",
    "\n",
    "skeleton.joints[joint_name].global_origin - skeleton.joints[joint_name].parent.global_origin\n"
   ]
  },
  {
   "cell_type": "code",
   "execution_count": 36,
   "metadata": {},
   "outputs": [
    {
     "name": "stdout",
     "output_type": "stream",
     "text": [
      "neck head\n",
      "neck_thorax thorax\n",
      "thorax abdomen\n",
      "right_sp right_wing_root\n",
      "right_wing_root right_wing_tip\n",
      "left_sp left_wing_root\n",
      "left_wing_root left_wing_tip\n"
     ]
    }
   ],
   "source": [
    "for branch in skeleton.hirarchy:\n",
    "    for idx,joint_name in enumerate(branch): \n",
    "        if (len(joint_name.split('no_bone')) < 2) & len(skeleton.joints[joint_name].child) > 0:\n",
    "            print(joint_name,branch[idx + 1])"
   ]
  },
  {
   "cell_type": "code",
   "execution_count": 4,
   "metadata": {},
   "outputs": [
    {
     "data": {
      "text/plain": [
       "<Joint.Joint at 0x15eee5629b0>"
      ]
     },
     "execution_count": 4,
     "metadata": {},
     "output_type": "execute_result"
    }
   ],
   "source": [
    "skeleton.joints['right_wing_root'].parent"
   ]
  },
  {
   "cell_type": "code",
   "execution_count": 9,
   "metadata": {},
   "outputs": [
    {
     "data": {
      "text/plain": [
       "[<Joint.Joint at 0x2414f77a890>,\n",
       " <Joint.Joint at 0x2414f77aaa0>,\n",
       " <Joint.Joint at 0x2414f77a8c0>,\n",
       " <Joint.Joint at 0x2414f77a5f0>]"
      ]
     },
     "execution_count": 9,
     "metadata": {},
     "output_type": "execute_result"
    }
   ],
   "source": [
    "skeleton.joints['root_virtual'].child"
   ]
  },
  {
   "cell_type": "code",
   "execution_count": 16,
   "metadata": {},
   "outputs": [
    {
     "data": {
      "text/plain": [
       "[]"
      ]
     },
     "execution_count": 16,
     "metadata": {},
     "output_type": "execute_result"
    }
   ],
   "source": [
    "skeleton.joints['right_wing_root'].global_origin \n",
    "skeleton.joints['right_wing_root'].child[0].global_origin \n",
    "\n",
    "bone = []\n",
    "joint = skeleton.joints['root_no_bone']\n",
    "for child in joint.child:\n",
    "        if joint.joint_without_bone == False:\n",
    "                bone = (joint.global_origin - child.global_origin)/np.abs(np.sum(joint.global_origin - child.global_origin))\n",
    "bone\n"
   ]
  },
  {
   "cell_type": "code",
   "execution_count": 27,
   "metadata": {},
   "outputs": [
    {
     "data": {
      "text/plain": [
       "['root_', '']"
      ]
     },
     "execution_count": 27,
     "metadata": {},
     "output_type": "execute_result"
    }
   ],
   "source": [
    "branch = skeleton.hirarchy[0]\n",
    "branch[0].split('no_bone')"
   ]
  },
  {
   "cell_type": "code",
   "execution_count": 20,
   "metadata": {},
   "outputs": [
    {
     "data": {
      "text/plain": [
       "False"
      ]
     },
     "execution_count": 20,
     "metadata": {},
     "output_type": "execute_result"
    }
   ],
   "source": [
    "branch = skeleton.hirarchy[0]\n",
    "joint_name.split['no_bone'] for joint_name in  branch "
   ]
  },
  {
   "cell_type": "code",
   "execution_count": null,
   "metadata": {},
   "outputs": [],
   "source": []
  },
  {
   "cell_type": "code",
   "execution_count": 31,
   "metadata": {},
   "outputs": [
    {
     "name": "stdout",
     "output_type": "stream",
     "text": [
      "['right_wing_root', 'right_wing_tip']\n"
     ]
    }
   ],
   "source": [
    "\n",
    "def get_global_transformation( joint,rest_bind = False):\n",
    "    if joint.parent == None:\n",
    "        return []\n",
    "\n",
    "\n",
    "    joint.parent.get_global_transformation()\n",
    "    print([joint.parent.name,joint.name])\n",
    "\n",
    "\n",
    "\n",
    "get_global_transformation( skeleton.joints['right_wing_tip'],rest_bind = False)"
   ]
  },
  {
   "cell_type": "code",
   "execution_count": 18,
   "metadata": {},
   "outputs": [
    {
     "data": {
      "text/plain": [
       "[['root_no_bone', 'neck', 'head'],\n",
       " ['root_no_bone', 'neck_thorax', 'thorax', 'abdomen'],\n",
       " ['root_no_bone', 'right_sp', 'right_wing_root', 'right_wing_tip'],\n",
       " ['root_no_bone', 'left_sp', 'left_wing_root', 'left_wing_tip']]"
      ]
     },
     "execution_count": 18,
     "metadata": {},
     "output_type": "execute_result"
    }
   ],
   "source": [
    "for branch in skeleton.hirarchy:\n",
    "    \n",
    "        "
   ]
  },
  {
   "cell_type": "code",
   "execution_count": 11,
   "metadata": {},
   "outputs": [],
   "source": [
    "import plotly\n",
    "\n",
    "\n",
    "\n",
    "import plotly.graph_objects as go\n",
    "import plotly.io as pio\n",
    "import plotly.express as px\n",
    "import matplotlib.cm\n",
    "import numpy as np\n",
    "import matplotlib.pyplot as plt\n",
    "import pandas as pd\n",
    "from plotly.subplots import make_subplots\n",
    "\n",
    "import Plotter\n",
    "\n",
    "\n",
    "\n",
    "points = np.asarray(mesh_list[1].vertices)\n",
    "points = np.asarray(mesh_list[1].vertices)[::10,:]*1000\n",
    "fig = go.Figure()\n",
    "\n",
    "points[:,2] = points[:,2] - 1\n",
    "points[:,0] = points[:,0] + 0.1\n",
    "\n",
    "marker_dict = {'color':'black','size':3,'opacity':0.5}\n",
    "Plotter.scatter3d(fig,points[::10,:],'fly', show_colorbar=False,marker_dict = marker_dict)\n",
    "\n",
    "\n",
    "line_dict = {'width': 5,'color': 'green'}\n",
    "marker_dict = {'color':'green','size':10}\n",
    "\n",
    "\n",
    "Plotter.scatter3d(fig,all_points_per_branch[0][1:],'head_nech',mode = 'lines',line_dict= line_dict, show_colorbar=False)\n",
    "Plotter.scatter3d(fig,all_points_per_branch[1][1:],'neck_thorax',mode = 'lines',line_dict= line_dict, show_colorbar=False)\n",
    "\n",
    "Plotter.scatter3d(fig,all_points_per_branch[0][1:],'head_nech',mode = 'markers', show_colorbar=False,marker_dict = marker_dict)\n",
    "Plotter.scatter3d(fig,all_points_per_branch[1][1:],'neck_thorax',mode = 'markers', show_colorbar=False,marker_dict = marker_dict)\n",
    "\n",
    "\n",
    "line_dict_rw = {'width': 5,'color': 'red'}\n",
    "marker_dict_rw = {'color':'red','size':10}\n",
    "\n",
    "\n",
    "line_dict_lw = {'width': 5,'color': 'blue'}\n",
    "marker_dict_lw = {'color':'blue','size':10}\n",
    "\n",
    "\n",
    "Plotter.scatter3d(fig,all_points_per_branch[2][1:],'right wing',mode = 'lines',line_dict= line_dict_rw, show_colorbar=False)\n",
    "Plotter.scatter3d(fig,all_points_per_branch[3][1:],'left wing',mode = 'lines',line_dict = line_dict_lw, show_colorbar=False)\n",
    "\n",
    "Plotter.scatter3d(fig,all_points_per_branch[2][1:],'right wing',mode = 'markers', show_colorbar=False,marker_dict = marker_dict_rw)\n",
    "Plotter.scatter3d(fig,all_points_per_branch[3][1:],'left wing',mode = 'markers', show_colorbar=False,marker_dict = marker_dict_lw)\n"
   ]
  },
  {
   "cell_type": "code",
   "execution_count": 10,
   "metadata": {},
   "outputs": [
    {
     "data": {
      "text/plain": [
       "array([[0. , 0. , 0. ],\n",
       "       [0.1, 0. , 0. ],\n",
       "       [0.2, 0. , 0. ]])"
      ]
     },
     "execution_count": 10,
     "metadata": {},
     "output_type": "execute_result"
    }
   ],
   "source": [
    "all_points_per_branch[0]"
   ]
  },
  {
   "cell_type": "code",
   "execution_count": null,
   "metadata": {},
   "outputs": [
    {
     "ename": "IndexError",
     "evalue": "index 3 is out of bounds for axis 1 with size 3",
     "output_type": "error",
     "traceback": [
      "\u001b[1;31m---------------------------------------------------------------------------\u001b[0m",
      "\u001b[1;31mIndexError\u001b[0m                                Traceback (most recent call last)",
      "Cell \u001b[1;32mIn[17], line 4\u001b[0m\n\u001b[0;32m      1\u001b[0m points \u001b[38;5;241m=\u001b[39m np\u001b[38;5;241m.\u001b[39masarray(mesh_list[\u001b[38;5;241m0\u001b[39m]\u001b[38;5;241m.\u001b[39mvertices)\u001b[38;5;241m*\u001b[39m\u001b[38;5;241m1000\u001b[39m\n\u001b[0;32m      2\u001b[0m fig \u001b[38;5;241m=\u001b[39m go\u001b[38;5;241m.\u001b[39mFigure()\n\u001b[1;32m----> 4\u001b[0m points[:,\u001b[38;5;241m3\u001b[39m] \u001b[38;5;241m=\u001b[39m \u001b[43mpoints\u001b[49m\u001b[43m[\u001b[49m\u001b[43m:\u001b[49m\u001b[43m,\u001b[49m\u001b[38;5;241;43m3\u001b[39;49m\u001b[43m]\u001b[49m \u001b[38;5;241m-\u001b[39m \u001b[38;5;241m1\u001b[39m\n\u001b[0;32m      5\u001b[0m Plotter\u001b[38;5;241m.\u001b[39mscatter3d(fig,points[::\u001b[38;5;241m10\u001b[39m,:],[\u001b[38;5;241m1\u001b[39m,\u001b[38;5;241m0\u001b[39m,\u001b[38;5;241m0\u001b[39m],\u001b[38;5;241m3\u001b[39m,\u001b[38;5;124m'\u001b[39m\u001b[38;5;124mfly\u001b[39m\u001b[38;5;124m'\u001b[39m)\n",
      "\u001b[1;31mIndexError\u001b[0m: index 3 is out of bounds for axis 1 with size 3"
     ]
    }
   ],
   "source": [
    "points = np.asarray(mesh_list[0].vertices)*1000\n",
    "fig = go.Figure()\n",
    "\n",
    "points[:,2] = points[:,2] - 1\n",
    "Plotter.scatter3d(fig,points[::10,:],[1,0,0],3,'fly')\n",
    "\n"
   ]
  }
 ],
 "metadata": {
  "kernelspec": {
   "display_name": "open3d_env",
   "language": "python",
   "name": "python3"
  },
  "language_info": {
   "codemirror_mode": {
    "name": "ipython",
    "version": 3
   },
   "file_extension": ".py",
   "mimetype": "text/x-python",
   "name": "python",
   "nbconvert_exporter": "python",
   "pygments_lexer": "ipython3",
   "version": "3.9.21"
  }
 },
 "nbformat": 4,
 "nbformat_minor": 2
}
