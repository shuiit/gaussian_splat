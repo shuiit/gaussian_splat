{
 "cells": [
  {
   "cell_type": "code",
   "execution_count": 1,
   "metadata": {},
   "outputs": [],
   "source": [
    "from Joint import Joint\n",
    "import numpy as np\n",
    "import matplotlib.pyplot as plt\n",
    "from Skeleton import Skeleton\n",
    "import Plotter\n",
    "%matplotlib qt\n",
    "\n",
    "\n",
    "joints = {'root':[0,0,0],\n",
    "          'neck':[0.1,0,0],\n",
    "          'head':[0.1,0,0],\n",
    "          'thorax':[-1.5,0,0],\n",
    "          'abdomen':[-1,0,0] ,\n",
    "          'right_sp': [0,0.1,0],\n",
    "          'right_wing_root':[0,0.5,0],\n",
    "          'right_wing_tip':[0,1.5,0],\n",
    "          'left_sp':[0,-0.1,0],\n",
    "          'left_wing_root':[0,-0.5,0],\n",
    "          'left_wing_tip':[0,-1.5,0]\n",
    "          }\n",
    "\n",
    "\n",
    "parent_child = {'root':['neck','thorax','right_sp','left_sp'],\n",
    "                      'neck':['head'],\n",
    "                      'thorax':['abdomen'],\n",
    "                      'right_sp':['right_wing_root'],\n",
    "                      'right_wing_root': ['right_wing_tip'],\n",
    "                      'left_sp': ['left_wing_root'],\n",
    "                      'left_wing_root':['left_wing_tip']}\n",
    "\n",
    "skeleton = Skeleton(joints,parent_child)\n"
   ]
  },
  {
   "cell_type": "code",
   "execution_count": 2,
   "metadata": {},
   "outputs": [],
   "source": [
    "local_rotation = {'root':[0,-45,0],\n",
    "          'neck':[0,45,0],\n",
    "          'head':[0,0,0],\n",
    "          'thorax':[0,-30,0],\n",
    "          'abdomen':[0,0,0] ,\n",
    "          'right_sp': [0,45,0],\n",
    "          'right_wing_root':[30,0,0],\n",
    "          'right_wing_tip':[0,0,0],\n",
    "          'left_sp':[0,45,0],\n",
    "          'left_wing_root':[-30,0,0],\n",
    "          'left_wing_tip':[0,0,0]\n",
    "          }\n",
    "skeleton.update_local_roattion(local_rotation)\n",
    "skeleton.update_global_rotation()\n",
    "all_points_per_branch = skeleton.get_global_point_skeleton_branch()\n",
    "\n"
   ]
  },
  {
   "cell_type": "code",
   "execution_count": 3,
   "metadata": {},
   "outputs": [],
   "source": [
    "local_rotation = {'root':[0,-0,0],\n",
    "          'neck':[0,0,0],\n",
    "          'head':[0,0,0],\n",
    "          'thorax':[0,-0,0],\n",
    "          'abdomen':[0,0,0] ,\n",
    "          'right_sp': [0,0,0],\n",
    "          'right_wing_root':[0,0,0],\n",
    "          'right_wing_tip':[0,0,0],\n",
    "          'left_sp':[0,0,0],\n",
    "          'left_wing_root':[-0,0,0],\n",
    "          'left_wing_tip':[0,0,0]\n",
    "          }\n",
    "\n",
    "skeleton.update_local_roattion(local_rotation)\n",
    "skeleton.update_global_rotation()\n",
    "all_points_per_branch = skeleton.get_global_point_skeleton_branch()\n",
    "\n"
   ]
  },
  {
   "cell_type": "code",
   "execution_count": 4,
   "metadata": {},
   "outputs": [],
   "source": [
    "ax = Plotter.plot_branch(all_points_per_branch[0],'g')\n",
    "Plotter.plot_branch(all_points_per_branch[1],'g',ax)\n",
    "Plotter.plot_branch(all_points_per_branch[2],'r',ax)\n",
    "Plotter.plot_branch(all_points_per_branch[3],'b',ax)\n",
    "ax.invert_yaxis()\n"
   ]
  },
  {
   "cell_type": "code",
   "execution_count": null,
   "metadata": {},
   "outputs": [
    {
     "name": "stdout",
     "output_type": "stream",
     "text": [
      "[Open3D WARNING] Read PLY failed: A polygon in the mesh could not be decomposed into triangles.\n",
      "[Open3D WARNING] Read PLY failed: unable to read file: D:/Documents/gaussian_splat/model/mesh/all_fly_no_legs.ply\n",
      "[Open3D WARNING] Read PLY failed: A polygon in the mesh could not be decomposed into triangles.\n",
      "[Open3D WARNING] Read PLY failed: unable to read file: D:/Documents/gaussian_splat/model/mesh/body_mesh_no_legs.ply\n"
     ]
    }
   ],
   "source": [
    "\n",
    "\n",
    "\n",
    "import open3d as o3d\n",
    "\n",
    "\n",
    "from os import listdir\n",
    "from os.path import isfile, join\n",
    "\n",
    "mypath = 'D:/Documents/gaussian_splat/model/NeuroMechFly/data/design/meshes/stl'\n",
    "mypath = 'D:/Documents/gaussian_splat/model/mesh'\n",
    "onlyfiles = [f for f in listdir(mypath) if isfile(join(mypath, f))]\n",
    "onlyfiles\n",
    "mesh_list = [o3d.io.read_triangle_mesh(f'{mypath}/{mesh}') for mesh in onlyfiles]\n",
    "\n",
    "\n",
    "local_rotation = {'root':[0,-0,0],\n",
    "          'neck':[0.1,0,0],\n",
    "          'head':[0,0,0],\n",
    "          'thorax':[0,-0,0],\n",
    "          'abdomen':[0,0,0] ,\n",
    "          'right_sp': [0,0,0],\n",
    "          'right_wing_root':[0,0,0],\n",
    "          'right_wing_tip':[0,0,0],\n",
    "          'left_sp':[0,0,0],\n",
    "          'left_wing_root':[-0,0,0],\n",
    "          'left_wing_tip':[0,0,0]\n",
    "          }\n",
    "\n",
    "skeleton.update_local_roattion(local_rotation)\n",
    "skeleton.update_global_rotation()\n",
    "all_points_per_branch = skeleton.get_global_point_skeleton_branch()\n"
   ]
  },
  {
   "cell_type": "code",
   "execution_count": 199,
   "metadata": {},
   "outputs": [],
   "source": [
    "\n",
    "joints = {'root':[0,0,0],\n",
    "          'neck':[0.7,0,0],\n",
    "          'head':[0.3,0,0],\n",
    "          'thorax':[-0.3,0,0],\n",
    "          'abdomen':[-1.4,0,0] ,\n",
    "          'right_sp': [-0.25*np.sin(-30*np.pi/180),0,0.25],\n",
    "          'right_wing_root':[0,-0.4,0],\n",
    "          'right_wing_tip':[0,-2.2,0],\n",
    "          'left_sp':[0.25*np.sin(30*np.pi/180),0,0.25],\n",
    "          'left_wing_root':[0,0.4,0],\n",
    "          'left_wing_tip':[0,2.2,0]\n",
    "          }\n",
    "\n",
    "\n",
    "parent_child = {'root':['neck','thorax','right_sp','left_sp'],\n",
    "                      'neck':['head'],\n",
    "                      'thorax':['abdomen'],\n",
    "                      'right_sp':['right_wing_root'],\n",
    "                      'right_wing_root': ['right_wing_tip'],\n",
    "                      'left_sp': ['left_wing_root'],\n",
    "                      'left_wing_root':['left_wing_tip']}\n",
    "\n",
    "skeleton = Skeleton(joints,parent_child)\n",
    "\n",
    "local_rotation = {'root':[0,-30,0],\n",
    "          'neck':[0,30,0],\n",
    "          'head':[0,0,0],\n",
    "          'thorax':[0,30,0],\n",
    "          'abdomen':[0,0,0] ,\n",
    "          'right_sp': [0,30,0],\n",
    "          'right_wing_root':[0,0,0],\n",
    "          'right_wing_tip':[0,0,0],\n",
    "          'left_sp':[0,30,0],\n",
    "          'left_wing_root':[-0,0,0],\n",
    "          'left_wing_tip':[0,0,0]\n",
    "          }\n",
    "\n",
    "skeleton.update_local_roattion(local_rotation)\n",
    "skeleton.update_global_rotation()\n",
    "all_points_per_branch = skeleton.get_global_point_skeleton_branch()\n",
    "\n",
    "\n"
   ]
  },
  {
   "cell_type": "code",
   "execution_count": 200,
   "metadata": {},
   "outputs": [],
   "source": [
    "import plotly\n",
    "\n",
    "\n",
    "\n",
    "import plotly.graph_objects as go\n",
    "import plotly.io as pio\n",
    "import plotly.express as px\n",
    "import matplotlib.cm\n",
    "import numpy as np\n",
    "import matplotlib.pyplot as plt\n",
    "import pandas as pd\n",
    "from plotly.subplots import make_subplots\n",
    "\n",
    "import Plotter\n",
    "\n",
    "\n",
    "\n",
    "points = np.asarray(mesh_list[0].vertices)\n",
    "points = np.asarray(mesh_list[0].vertices)*1000\n",
    "fig = go.Figure()\n",
    "\n",
    "points[:,2] = points[:,2] - 1\n",
    "points[:,0] = points[:,0] + 0.1\n",
    "\n",
    "marker_dict = {'color':'black','size':3,'opacity':0.5}\n",
    "Plotter.scatter3d(fig,points[::10,:],'fly', show_colorbar=False,marker_dict = marker_dict)\n",
    "\n",
    "\n",
    "line_dict = {'width': 5,'color': 'green'}\n",
    "marker_dict = {'color':'green','size':10}\n",
    "\n",
    "\n",
    "Plotter.scatter3d(fig,all_points_per_branch[0],'body',mode = 'lines',line_dict= line_dict, show_colorbar=False)\n",
    "Plotter.scatter3d(fig,all_points_per_branch[1],'body2',mode = 'lines',line_dict = line_dict, show_colorbar=False)\n",
    "\n",
    "Plotter.scatter3d(fig,all_points_per_branch[0],'body',mode = 'markers', show_colorbar=False,marker_dict = marker_dict)\n",
    "Plotter.scatter3d(fig,all_points_per_branch[1],'body2',mode = 'markers', show_colorbar=False,marker_dict = marker_dict)\n",
    "\n",
    "\n",
    "line_dict_rw = {'width': 5,'color': 'red'}\n",
    "marker_dict_rw = {'color':'red','size':10}\n",
    "\n",
    "\n",
    "line_dict_lw = {'width': 5,'color': 'blue'}\n",
    "marker_dict_lw = {'color':'blue','size':10}\n",
    "\n",
    "\n",
    "Plotter.scatter3d(fig,all_points_per_branch[2],'right wing',mode = 'lines',line_dict= line_dict_rw, show_colorbar=False)\n",
    "Plotter.scatter3d(fig,all_points_per_branch[3],'left wing',mode = 'lines',line_dict = line_dict_lw, show_colorbar=False)\n",
    "\n",
    "Plotter.scatter3d(fig,all_points_per_branch[2],'right wing',mode = 'markers', show_colorbar=False,marker_dict = marker_dict_rw)\n",
    "Plotter.scatter3d(fig,all_points_per_branch[3],'left wing',mode = 'markers', show_colorbar=False,marker_dict = marker_dict_lw)\n"
   ]
  },
  {
   "cell_type": "code",
   "execution_count": 10,
   "metadata": {},
   "outputs": [
    {
     "data": {
      "text/plain": [
       "array([[0. , 0. , 0. ],\n",
       "       [0.1, 0. , 0. ],\n",
       "       [0.2, 0. , 0. ]])"
      ]
     },
     "execution_count": 10,
     "metadata": {},
     "output_type": "execute_result"
    }
   ],
   "source": [
    "all_points_per_branch[0]"
   ]
  },
  {
   "cell_type": "code",
   "execution_count": null,
   "metadata": {},
   "outputs": [
    {
     "ename": "IndexError",
     "evalue": "index 3 is out of bounds for axis 1 with size 3",
     "output_type": "error",
     "traceback": [
      "\u001b[1;31m---------------------------------------------------------------------------\u001b[0m",
      "\u001b[1;31mIndexError\u001b[0m                                Traceback (most recent call last)",
      "Cell \u001b[1;32mIn[17], line 4\u001b[0m\n\u001b[0;32m      1\u001b[0m points \u001b[38;5;241m=\u001b[39m np\u001b[38;5;241m.\u001b[39masarray(mesh_list[\u001b[38;5;241m0\u001b[39m]\u001b[38;5;241m.\u001b[39mvertices)\u001b[38;5;241m*\u001b[39m\u001b[38;5;241m1000\u001b[39m\n\u001b[0;32m      2\u001b[0m fig \u001b[38;5;241m=\u001b[39m go\u001b[38;5;241m.\u001b[39mFigure()\n\u001b[1;32m----> 4\u001b[0m points[:,\u001b[38;5;241m3\u001b[39m] \u001b[38;5;241m=\u001b[39m \u001b[43mpoints\u001b[49m\u001b[43m[\u001b[49m\u001b[43m:\u001b[49m\u001b[43m,\u001b[49m\u001b[38;5;241;43m3\u001b[39;49m\u001b[43m]\u001b[49m \u001b[38;5;241m-\u001b[39m \u001b[38;5;241m1\u001b[39m\n\u001b[0;32m      5\u001b[0m Plotter\u001b[38;5;241m.\u001b[39mscatter3d(fig,points[::\u001b[38;5;241m10\u001b[39m,:],[\u001b[38;5;241m1\u001b[39m,\u001b[38;5;241m0\u001b[39m,\u001b[38;5;241m0\u001b[39m],\u001b[38;5;241m3\u001b[39m,\u001b[38;5;124m'\u001b[39m\u001b[38;5;124mfly\u001b[39m\u001b[38;5;124m'\u001b[39m)\n",
      "\u001b[1;31mIndexError\u001b[0m: index 3 is out of bounds for axis 1 with size 3"
     ]
    }
   ],
   "source": [
    "points = np.asarray(mesh_list[0].vertices)*1000\n",
    "fig = go.Figure()\n",
    "\n",
    "points[:,2] = points[:,2] - 1\n",
    "Plotter.scatter3d(fig,points[::10,:],[1,0,0],3,'fly')\n",
    "\n"
   ]
  }
 ],
 "metadata": {
  "kernelspec": {
   "display_name": "base",
   "language": "python",
   "name": "python3"
  },
  "language_info": {
   "codemirror_mode": {
    "name": "ipython",
    "version": 3
   },
   "file_extension": ".py",
   "mimetype": "text/x-python",
   "name": "python",
   "nbconvert_exporter": "python",
   "pygments_lexer": "ipython3",
   "version": "3.10.9"
  }
 },
 "nbformat": 4,
 "nbformat_minor": 2
}
