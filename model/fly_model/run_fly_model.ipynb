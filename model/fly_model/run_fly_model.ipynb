{
 "cells": [
  {
   "cell_type": "code",
   "execution_count": 2,
   "metadata": {},
   "outputs": [
    {
     "name": "stdout",
     "output_type": "stream",
     "text": [
      "Jupyter environment detected. Enabling Open3D WebVisualizer.\n",
      "[Open3D INFO] WebRTC GUI backend enabled.\n",
      "[Open3D INFO] WebRTCWindowSystem: HTTP handshake server disabled.\n"
     ]
    },
    {
     "ename": "ModuleNotFoundError",
     "evalue": "No module named 'fly_model'",
     "output_type": "error",
     "traceback": [
      "\u001b[1;31m---------------------------------------------------------------------------\u001b[0m",
      "\u001b[1;31mModuleNotFoundError\u001b[0m                       Traceback (most recent call last)",
      "Cell \u001b[1;32mIn[2], line 7\u001b[0m\n\u001b[0;32m      5\u001b[0m \u001b[38;5;28;01mfrom\u001b[39;00m \u001b[38;5;21;01mos\u001b[39;00m\u001b[38;5;21;01m.\u001b[39;00m\u001b[38;5;21;01mpath\u001b[39;00m \u001b[38;5;28;01mimport\u001b[39;00m isfile, join\n\u001b[0;32m      6\u001b[0m \u001b[38;5;28;01mimport\u001b[39;00m \u001b[38;5;21;01mPlotter\u001b[39;00m\n\u001b[1;32m----> 7\u001b[0m \u001b[38;5;28;01mfrom\u001b[39;00m \u001b[38;5;21;01mSkeleton\u001b[39;00m \u001b[38;5;28;01mimport\u001b[39;00m Skeleton\n\u001b[0;32m      8\u001b[0m \u001b[38;5;28;01mfrom\u001b[39;00m \u001b[38;5;21;01mJoint\u001b[39;00m \u001b[38;5;28;01mimport\u001b[39;00m Joint\n\u001b[0;32m      9\u001b[0m \u001b[38;5;28;01mfrom\u001b[39;00m \u001b[38;5;21;01mSkin\u001b[39;00m \u001b[38;5;28;01mimport\u001b[39;00m Skin\n",
      "File \u001b[1;32md:\\Documents\\gaussian_splat\\model\\fly_model\\Skeleton.py:2\u001b[0m\n\u001b[1;32m----> 2\u001b[0m \u001b[38;5;28;01mfrom\u001b[39;00m \u001b[38;5;21;01mfly_model\u001b[39;00m\u001b[38;5;21;01m.\u001b[39;00m\u001b[38;5;21;01mJoint\u001b[39;00m \u001b[38;5;28;01mimport\u001b[39;00m Joint\n\u001b[0;32m      3\u001b[0m \u001b[38;5;28;01mimport\u001b[39;00m \u001b[38;5;21;01mnumpy\u001b[39;00m \u001b[38;5;28;01mas\u001b[39;00m \u001b[38;5;21;01mnp\u001b[39;00m\n\u001b[0;32m      4\u001b[0m \u001b[38;5;28;01mfrom\u001b[39;00m \u001b[38;5;21;01mfly_model\u001b[39;00m\u001b[38;5;21;01m.\u001b[39;00m\u001b[38;5;21;01mBone\u001b[39;00m \u001b[38;5;28;01mimport\u001b[39;00m Bone\n",
      "\u001b[1;31mModuleNotFoundError\u001b[0m: No module named 'fly_model'"
     ]
    }
   ],
   "source": [
    "\n",
    "import numpy as np\n",
    "import plotly.graph_objects as go\n",
    "import open3d as o3d\n",
    "from os import listdir\n",
    "from os.path import isfile, join\n",
    "import Plotter\n",
    "from Skeleton import Skeleton\n",
    "from Joint import Joint\n",
    "from Skin import Skin\n",
    "\n",
    "\n",
    "\n",
    "path_to_mesh = 'G:/My Drive/Research/gaussian_splatting/mesh'\n",
    "parts = ['body','right_wing','left_wing']\n",
    "translation = [-0.1-1,0,1]\n",
    "skin = Skin(parts,path_to_mesh,scale = 1000)\n",
    "skin.translate_ptcloud_skin(translation)\n",
    "\n"
   ]
  },
  {
   "cell_type": "code",
   "execution_count": 1,
   "metadata": {},
   "outputs": [
    {
     "ename": "NameError",
     "evalue": "name 'Skeleton' is not defined",
     "output_type": "error",
     "traceback": [
      "\u001b[1;31m---------------------------------------------------------------------------\u001b[0m",
      "\u001b[1;31mNameError\u001b[0m                                 Traceback (most recent call last)",
      "Cell \u001b[1;32mIn[1], line 40\u001b[0m\n\u001b[0;32m     17\u001b[0m bone_rotation \u001b[38;5;241m=\u001b[39m {\u001b[38;5;124m'\u001b[39m\u001b[38;5;124mroot_no_bone\u001b[39m\u001b[38;5;124m'\u001b[39m:[\u001b[38;5;241m0\u001b[39m,\u001b[38;5;241m-\u001b[39mpitch_body,\u001b[38;5;241m0\u001b[39m],\n\u001b[0;32m     18\u001b[0m           \u001b[38;5;124m'\u001b[39m\u001b[38;5;124mneck\u001b[39m\u001b[38;5;124m'\u001b[39m:[\u001b[38;5;241m0\u001b[39m,pitch_body,\u001b[38;5;241m0\u001b[39m],\n\u001b[0;32m     19\u001b[0m           \u001b[38;5;124m'\u001b[39m\u001b[38;5;124mneck_thorax\u001b[39m\u001b[38;5;124m'\u001b[39m: [\u001b[38;5;241m0\u001b[39m,\u001b[38;5;241m-\u001b[39m\u001b[38;5;241m25\u001b[39m,\u001b[38;5;241m0\u001b[39m],\n\u001b[1;32m   (...)\u001b[0m\n\u001b[0;32m     28\u001b[0m           \u001b[38;5;124m'\u001b[39m\u001b[38;5;124mleft_wing_tip\u001b[39m\u001b[38;5;124m'\u001b[39m:[\u001b[38;5;241m0\u001b[39m,\u001b[38;5;241m0\u001b[39m,\u001b[38;5;241m0\u001b[39m]\n\u001b[0;32m     29\u001b[0m           }\n\u001b[0;32m     31\u001b[0m parent_child \u001b[38;5;241m=\u001b[39m {\u001b[38;5;124m'\u001b[39m\u001b[38;5;124mroot_no_bone\u001b[39m\u001b[38;5;124m'\u001b[39m:[\u001b[38;5;124m'\u001b[39m\u001b[38;5;124mneck\u001b[39m\u001b[38;5;124m'\u001b[39m,\u001b[38;5;124m'\u001b[39m\u001b[38;5;124mneck_thorax\u001b[39m\u001b[38;5;124m'\u001b[39m,\u001b[38;5;124m'\u001b[39m\u001b[38;5;124mright_sp_no_bone\u001b[39m\u001b[38;5;124m'\u001b[39m,\u001b[38;5;124m'\u001b[39m\u001b[38;5;124mleft_sp_no_bone\u001b[39m\u001b[38;5;124m'\u001b[39m],\n\u001b[0;32m     32\u001b[0m                       \u001b[38;5;124m'\u001b[39m\u001b[38;5;124mneck\u001b[39m\u001b[38;5;124m'\u001b[39m:[\u001b[38;5;124m'\u001b[39m\u001b[38;5;124mhead\u001b[39m\u001b[38;5;124m'\u001b[39m],\n\u001b[0;32m     33\u001b[0m                       \u001b[38;5;124m'\u001b[39m\u001b[38;5;124mneck_thorax\u001b[39m\u001b[38;5;124m'\u001b[39m:[\u001b[38;5;124m'\u001b[39m\u001b[38;5;124mthorax\u001b[39m\u001b[38;5;124m'\u001b[39m],\n\u001b[1;32m   (...)\u001b[0m\n\u001b[0;32m     37\u001b[0m                       \u001b[38;5;124m'\u001b[39m\u001b[38;5;124mleft_sp_no_bone\u001b[39m\u001b[38;5;124m'\u001b[39m: [\u001b[38;5;124m'\u001b[39m\u001b[38;5;124mleft_wing_root\u001b[39m\u001b[38;5;124m'\u001b[39m],\n\u001b[0;32m     38\u001b[0m                       \u001b[38;5;124m'\u001b[39m\u001b[38;5;124mleft_wing_root\u001b[39m\u001b[38;5;124m'\u001b[39m:[\u001b[38;5;124m'\u001b[39m\u001b[38;5;124mleft_wing_tip\u001b[39m\u001b[38;5;124m'\u001b[39m]}\n\u001b[1;32m---> 40\u001b[0m skeleton \u001b[38;5;241m=\u001b[39m \u001b[43mSkeleton\u001b[49m(parent_child,joints,bone_rotation,skin)\n",
      "\u001b[1;31mNameError\u001b[0m: name 'Skeleton' is not defined"
     ]
    }
   ],
   "source": [
    "# initilize skeletone, joints and bones\n",
    "pitch_body = 0\n",
    "joints = {'root_no_bone':[1,0,0],\n",
    "          'neck':[0.6,0,0.3],\n",
    "          'neck_thorax': [0.6,0,0.3],\n",
    "          'head':[0.3,0,0],\n",
    "          'thorax':[-1,0,0],\n",
    "          'abdomen':[-1.3,0,0] ,\n",
    "          'right_sp_no_bone': [-0,0,0.3],\n",
    "          'right_wing_root':[0,-0.3,0],\n",
    "          'right_wing_tip':[0,-2.2,0],\n",
    "          'left_sp_no_bone':[0,0,0.3],\n",
    "          'left_wing_root':[0,0.3,0],\n",
    "          'left_wing_tip':[0,2.2,0]\n",
    "          }\n",
    "\n",
    "bone_rotation = {'root_no_bone':[0,-pitch_body,0],\n",
    "          'neck':[0,pitch_body,0],\n",
    "          'neck_thorax': [0,-25,0],\n",
    "          'head':[0,0,0],\n",
    "          'thorax':[0,25,0],\n",
    "          'abdomen':[0,0,0] ,\n",
    "          'right_sp_no_bone': [0,pitch_body,0],\n",
    "          'right_wing_root':[0,0,0],\n",
    "          'right_wing_tip':[0,0,0],\n",
    "          'left_sp_no_bone':[0,pitch_body,0],\n",
    "          'left_wing_root':[-0,0,0],\n",
    "          'left_wing_tip':[0,0,0]\n",
    "          }\n",
    "\n",
    "parent_child = {'root_no_bone':['neck','neck_thorax','right_sp_no_bone','left_sp_no_bone'],\n",
    "                      'neck':['head'],\n",
    "                      'neck_thorax':['thorax'],\n",
    "                      'thorax':['abdomen'],\n",
    "                      'right_sp_no_bone':['right_wing_root'],\n",
    "                      'right_wing_root': ['right_wing_tip'],\n",
    "                      'left_sp_no_bone': ['left_wing_root'],\n",
    "                      'left_wing_root':['left_wing_tip']}\n",
    "\n",
    "skeleton = Skeleton(parent_child,joints,bone_rotation,skin)\n",
    "# skeleton.initilize_joints(joints)\n",
    "# skeleton.connect_parent_child(parent_child)\n",
    "# skeleton.update_local_roattion(local_rotation)\n",
    "# skeleton.update_global_rotation(rest_bind = True)\n",
    "# skeleton.get_global_point_skeleton_branch()\n",
    "# skeleton.add_bone_to_joint()\n",
    "\n",
    "# skin.calculate_weights(skeleton,constant_weight = [None,'right_wing_root','left_wing_root'],th = 10)\n",
    "\n",
    "\n"
   ]
  },
  {
   "cell_type": "code",
   "execution_count": 3,
   "metadata": {},
   "outputs": [],
   "source": [
    "Plotter.plot_skeleton_and_skin_weight(skin.ptcloud_skin,skin,skeleton)"
   ]
  },
  {
   "cell_type": "code",
   "execution_count": 4,
   "metadata": {},
   "outputs": [],
   "source": [
    "Plotter.plot_skeleton_and_skin_hull(skin.ptcloud_skin,skin,skeleton,opacity = 0.2)"
   ]
  },
  {
   "cell_type": "code",
   "execution_count": 5,
   "metadata": {},
   "outputs": [],
   "source": [
    "# transform the joints, bones and skin\n",
    "pitch_body=45\n",
    "local_rotation = {'root_no_bone':[0,-pitch_body,20],\n",
    "          'neck':[0,0,0],\n",
    "          'neck_thorax': [0,-25,0],\n",
    "          'head':[0,0,0],\n",
    "          'thorax':[0,25,0],\n",
    "          'abdomen':[0,-0,0] ,\n",
    "          'right_sp_no_bone': [0,pitch_body,0],\n",
    "          'right_wing_root':[30,0,0],\n",
    "          'right_wing_tip':[0,0,0],\n",
    "          'left_sp_no_bone':[0,pitch_body,0],\n",
    "          'left_wing_root':[0,0,0],\n",
    "          'left_wing_tip':[0,0,0]\n",
    "          }\n",
    "skeleton.update_local_roattion(local_rotation)\n",
    "skeleton.update_global_rotation()\n",
    "skeleton.get_global_point_skeleton_branch()\n",
    "skeleton.update_bone()\n",
    "\n",
    "\n",
    "transformed_points, transformed_normals = skin.rotate_skin(skeleton)"
   ]
  },
  {
   "cell_type": "code",
   "execution_count": 6,
   "metadata": {},
   "outputs": [],
   "source": [
    "Plotter.plot_skeleton_and_skin_hull(transformed_points,skin,skeleton,opacity = 0.1)"
   ]
  },
  {
   "cell_type": "code",
   "execution_count": 8,
   "metadata": {},
   "outputs": [],
   "source": [
    "Plotter.plot_skeleton_and_skin_normals(transformed_points,skin,skeleton,normals = transformed_normals)\n",
    "Plotter.plot_skeleton_and_skin_weight(transformed_points,skin,skeleton)"
   ]
  }
 ],
 "metadata": {
  "kernelspec": {
   "display_name": "base",
   "language": "python",
   "name": "python3"
  },
  "language_info": {
   "codemirror_mode": {
    "name": "ipython",
    "version": 3
   },
   "file_extension": ".py",
   "mimetype": "text/x-python",
   "name": "python",
   "nbconvert_exporter": "python",
   "pygments_lexer": "ipython3",
   "version": "3.10.9"
  }
 },
 "nbformat": 4,
 "nbformat_minor": 2
}
