{
 "cells": [
  {
   "cell_type": "code",
   "execution_count": 1,
   "metadata": {},
   "outputs": [],
   "source": [
    "from Joint import Joint\n",
    "import numpy as np\n",
    "import matplotlib.pyplot as plt\n",
    "from Skeleton import Skeleton\n",
    "import Plotter\n",
    "%matplotlib qt\n",
    "\n",
    "\n",
    "joints = {'root':[0,0,0],\n",
    "          'neck':[0.1,0,0],\n",
    "          'head':[0.1,0,0],\n",
    "          'thorax':[-1.5,0,0],\n",
    "          'abdomen':[-1,0,0] ,\n",
    "          'right_sp': [0,0.1,0],\n",
    "          'right_wing_root':[0,0.5,0],\n",
    "          'right_wing_tip':[0,1.5,0],\n",
    "          'left_sp':[0,-0.1,0],\n",
    "          'left_wing_root':[0,-0.5,0],\n",
    "          'left_wing_tip':[0,-1.5,0]\n",
    "          }\n",
    "\n",
    "\n",
    "parent_child = {'root':['neck','thorax','right_sp','left_sp'],\n",
    "                      'neck':['head'],\n",
    "                      'thorax':['abdomen'],\n",
    "                      'right_sp':['right_wing_root'],\n",
    "                      'right_wing_root': ['right_wing_tip'],\n",
    "                      'left_sp': ['left_wing_root'],\n",
    "                      'left_wing_root':['left_wing_tip']}\n",
    "\n",
    "skeleton = Skeleton(joints,parent_child)\n"
   ]
  },
  {
   "cell_type": "code",
   "execution_count": 2,
   "metadata": {},
   "outputs": [],
   "source": [
    "local_rotation = {'root':[0,-45,0],\n",
    "          'neck':[0,45,0],\n",
    "          'head':[0,0,0],\n",
    "          'thorax':[0,-30,0],\n",
    "          'abdomen':[0,0,0] ,\n",
    "          'right_sp': [0,45,0],\n",
    "          'right_wing_root':[30,0,0],\n",
    "          'right_wing_tip':[0,0,0],\n",
    "          'left_sp':[0,45,0],\n",
    "          'left_wing_root':[-30,0,0],\n",
    "          'left_wing_tip':[0,0,0]\n",
    "          }\n",
    "skeleton.update_local_roattion(local_rotation)\n",
    "skeleton.update_global_rotation()\n",
    "all_points_per_branch = skeleton.get_global_point_skeleton_branch()\n",
    "\n"
   ]
  },
  {
   "cell_type": "code",
   "execution_count": 3,
   "metadata": {},
   "outputs": [],
   "source": [
    "local_rotation = {'root':[0,-0,0],\n",
    "          'neck':[0,0,0],\n",
    "          'head':[0,0,0],\n",
    "          'thorax':[0,-0,0],\n",
    "          'abdomen':[0,0,0] ,\n",
    "          'right_sp': [0,0,0],\n",
    "          'right_wing_root':[0,0,0],\n",
    "          'right_wing_tip':[0,0,0],\n",
    "          'left_sp':[0,0,0],\n",
    "          'left_wing_root':[-0,0,0],\n",
    "          'left_wing_tip':[0,0,0]\n",
    "          }\n",
    "\n",
    "skeleton.update_local_roattion(local_rotation)\n",
    "skeleton.update_global_rotation()\n",
    "all_points_per_branch = skeleton.get_global_point_skeleton_branch()\n",
    "\n"
   ]
  },
  {
   "cell_type": "code",
   "execution_count": 4,
   "metadata": {},
   "outputs": [],
   "source": [
    "ax = Plotter.plot_branch(all_points_per_branch[0],'g')\n",
    "Plotter.plot_branch(all_points_per_branch[1],'g',ax)\n",
    "Plotter.plot_branch(all_points_per_branch[2],'r',ax)\n",
    "Plotter.plot_branch(all_points_per_branch[3],'b',ax)\n",
    "ax.invert_yaxis()\n"
   ]
  },
  {
   "cell_type": "code",
   "execution_count": 3,
   "metadata": {},
   "outputs": [
    {
     "name": "stdout",
     "output_type": "stream",
     "text": [
      "Jupyter environment detected. Enabling Open3D WebVisualizer.\n",
      "[Open3D INFO] WebRTC GUI backend enabled.\n",
      "[Open3D INFO] WebRTCWindowSystem: HTTP handshake server disabled.\n",
      "[Open3D WARNING] Read PLY failed: A polygon in the mesh could not be decomposed into triangles.\n",
      "[Open3D WARNING] Read PLY failed: unable to read file: D:/Documents/gaussian_splat/model/mesh/all_fly_no_legs.ply\n",
      "[Open3D WARNING] Read PLY failed: A polygon in the mesh could not be decomposed into triangles.\n",
      "[Open3D WARNING] Read PLY failed: unable to read file: D:/Documents/gaussian_splat/model/mesh/body_mesh_no_legs.ply\n"
     ]
    }
   ],
   "source": [
    "\n",
    "\n",
    "\n",
    "import open3d as o3d\n",
    "\n",
    "\n",
    "from os import listdir\n",
    "from os.path import isfile, join\n",
    "\n",
    "mypath = 'D:/Documents/gaussian_splat/model/NeuroMechFly/data/design/meshes/stl'\n",
    "mypath = 'D:/Documents/gaussian_splat/model/mesh'\n",
    "onlyfiles = [f for f in listdir(mypath) if isfile(join(mypath, f))]\n",
    "onlyfiles\n",
    "mesh_list = [o3d.io.read_triangle_mesh(f'{mypath}/{mesh}') for mesh in onlyfiles]\n",
    "\n",
    "\n"
   ]
  },
  {
   "cell_type": "code",
   "execution_count": 1,
   "metadata": {},
   "outputs": [],
   "source": [
    "from Joint import Joint\n",
    "import numpy as np\n",
    "import matplotlib.pyplot as plt\n",
    "from Skeleton import Skeleton\n",
    "import Plotter\n",
    "%matplotlib qt\n",
    "\n",
    "pitch_body = 0\n",
    "joints = {'root_no_bone':[0,0,0],\n",
    "          'neck':[0.6,0,0.3],\n",
    "          'neck_thorax': [0.6,0,0.3],\n",
    "          'head':[0.3,0,0],\n",
    "          'thorax':[-1,0,0],\n",
    "          'abdomen':[-1.4,0,0] ,\n",
    "          'right_sp': [-0,0,0.3],\n",
    "          'right_wing_root':[0,-0.4,0],\n",
    "          'right_wing_tip':[0,-2.2,0],\n",
    "          'left_sp':[0,0,0.3],\n",
    "          'left_wing_root':[0,0.4,0],\n",
    "          'left_wing_tip':[0,2.2,0]\n",
    "          }\n",
    "\n",
    "local_rotation = {'root_no_bone':[0,-pitch_body,0],\n",
    "          'neck':[0,pitch_body,0],\n",
    "          'neck_thorax': [0,-25,0],\n",
    "          'head':[0,0,0],\n",
    "          'thorax':[0,25,0],\n",
    "          'abdomen':[0,0,0] ,\n",
    "          'right_sp': [0,pitch_body,0],\n",
    "          'right_wing_root':[0,0,0],\n",
    "          'right_wing_tip':[0,0,0],\n",
    "          'left_sp':[0,pitch_body,0],\n",
    "          'left_wing_root':[-0,0,0],\n",
    "          'left_wing_tip':[0,0,0]\n",
    "          }\n",
    "\n",
    "parent_child = {'root_no_bone':['neck','neck_thorax','right_sp','left_sp'],\n",
    "                      'neck':['head'],\n",
    "                      'neck_thorax':['thorax'],\n",
    "                      'thorax':['abdomen'],\n",
    "                      'right_sp':['right_wing_root'],\n",
    "                      'right_wing_root': ['right_wing_tip'],\n",
    "                      'left_sp': ['left_wing_root'],\n",
    "                      'left_wing_root':['left_wing_tip']}\n",
    "\n",
    "skeleton = Skeleton()\n",
    "skeleton.initilize_joints(joints)\n",
    "skeleton.connect_parent_child(parent_child)\n",
    "\n",
    "\n",
    "\n",
    "skeleton.update_local_roattion(local_rotation)\n",
    "skeleton.update_global_rotation(rest_bind = True)\n",
    "skeleton.get_global_point_skeleton_branch()\n",
    "skeleton.add_bone_to_joint()\n",
    "\n",
    "# skeleton.joints['abdomen'].bone\n"
   ]
  },
  {
   "cell_type": "code",
   "execution_count": 31,
   "metadata": {},
   "outputs": [
    {
     "data": {
      "text/plain": [
       "[array([0.93170378, 0.97756656, 0.95868493, ..., 0.68655532, 0.67865198,\n",
       "        0.67808037]),\n",
       " array([0.32695258, 0.37617137, 0.33361326, ..., 0.59940501, 0.59655926,\n",
       "        0.59620047]),\n",
       " array([0.35072192, 0.38279551, 0.34863488, ..., 0.89544153, 0.90192326,\n",
       "        0.90208933]),\n",
       " array([0.35398379, 0.38392234, 0.46664956, ..., 0.86704831, 0.86791166,\n",
       "        0.86757343]),\n",
       " array([0.61854191, 0.60618074, 0.78075231, ..., 1.03955657, 1.03693187,\n",
       "        1.03707449]),\n",
       " array([0.33243804, 0.37651075, 0.36578382, ..., 0.84094964, 0.84397047,\n",
       "        0.84335706]),\n",
       " array([0.4336069 , 0.49733051, 0.38203332, ..., 0.86189771, 0.86678349,\n",
       "        0.86593523])]"
      ]
     },
     "execution_count": 31,
     "metadata": {},
     "output_type": "execute_result"
    }
   ],
   "source": [
    "[ skeleton.joints[joint_name].bone.calculate_dist_from_bone(points) for joint_name in skeleton.joints.keys() if skeleton.joints[joint_name].bone is not None]"
   ]
  },
  {
   "cell_type": "code",
   "execution_count": 32,
   "metadata": {},
   "outputs": [],
   "source": []
  },
  {
   "cell_type": "code",
   "execution_count": null,
   "metadata": {},
   "outputs": [
    {
     "data": {
      "text/plain": [
       "array([1., 1., 1., ..., 1., 1., 1.])"
      ]
     },
     "execution_count": 39,
     "metadata": {},
     "output_type": "execute_result"
    }
   ],
   "source": [
    "weight =np.vstack([ skeleton.joints[joint_name].bone.calculate_dist_from_bone(points) for joint_name in skeleton.joints.keys() if skeleton.joints[joint_name].bone is not None]).T\n",
    "weight = weight/np.sum(weight,1)[:,np.newaxis]\n"
   ]
  },
  {
   "cell_type": "code",
   "execution_count": null,
   "metadata": {},
   "outputs": [],
   "source": [
    "import plotly.graph_objects as go\n",
    "import numpy as np\n",
    "\n",
    "# Sample Data\n",
    "points = np.asarray(mesh_list[1].vertices)[::10, :] * 1000\n",
    "points[:,2] = points[:,2] - 1\n",
    "points[:,0] = points[:,0] + 0.1\n",
    "\n",
    "bone = skeleton.joints['right_wing_root'].bone\n",
    "\n",
    "# Compute projected points and distances\n",
    "\n",
    "\n",
    "color = bone.calculate_dist_from_bone(points)\n",
    "\n",
    "\n",
    "# Create 3D scatter plot\n",
    "fig = go.Figure(\n",
    "    data=[\n",
    "        go.Scatter3d(\n",
    "            x=points[:, 0], \n",
    "            y=points[:, 1], \n",
    "            z=points[:, 2], \n",
    "            mode='markers',\n",
    "            marker=dict(\n",
    "                size=5,\n",
    "                color=color,  # Set color to distances\n",
    "                colorscale='Viridis',  # Choose a colorscale\n",
    "                colorbar=dict(title=\"Distance\"),  # Add colorbar\n",
    "            ),\n",
    "        )\n",
    "    ]\n",
    ")\n",
    "\n",
    "# Set plot layout\n",
    "fig.update_layout(\n",
    "    title=\"Points with Colorbar\",\n",
    "    scene=dict(\n",
    "        xaxis_title=\"X\",\n",
    "        yaxis_title=\"Y\",\n",
    "        zaxis_title=\"Z\",\n",
    "    ),\n",
    ")\n",
    "\n",
    "# Show plot\n",
    "fig.update_layout(scene=dict(\n",
    "    aspectmode='data'  # Ensures x, y, z axes have the same scale\n",
    "))\n",
    "fig.show()\n"
   ]
  },
  {
   "cell_type": "code",
   "execution_count": 23,
   "metadata": {},
   "outputs": [],
   "source": [
    "\n",
    "import plotly.graph_objects as go\n",
    "import plotly.io as pio\n",
    "import plotly.express as px\n",
    "import matplotlib.cm\n",
    "import numpy as np\n",
    "import matplotlib.pyplot as plt\n",
    "import pandas as pd\n",
    "from plotly.subplots import make_subplots\n",
    "\n",
    "import Plotter\n",
    "\n",
    "\n",
    "\n",
    "points = np.asarray(mesh_list[1].vertices)\n",
    "points = np.asarray(mesh_list[1].vertices)[::10,:]*1000\n",
    "# fig = go.Figure()\n",
    "\n",
    "points[:,2] = points[:,2] - 1\n",
    "points[:,0] = points[:,0] + 0.1\n",
    "\n",
    "marker_dict = {'color':'black','size':3,'opacity':0.5}\n",
    "Plotter.scatter3d(fig,points[::10,:],'fly', show_colorbar=False,marker_dict = marker_dict)\n",
    "\n",
    "\n",
    "line_dict = {'width': 5,'color': 'green'}\n",
    "marker_dict = {'color':'green','size':10}\n",
    "\n",
    "for joint_name in skeleton.joints.keys():\n",
    "    if 'right' in joint_name: \n",
    "        marker_dict['color'] = 'red'\n",
    "        line_dict['color'] = 'red'\n",
    "\n",
    "    elif 'left' in joint_name: \n",
    "        marker_dict['color'] = 'blue'\n",
    "        line_dict['color'] = 'blue'\n",
    "\n",
    "    else:\n",
    "        marker_dict['color'] = 'green'\n",
    "        line_dict['color'] = 'green'\n",
    "\n",
    "\n",
    "\n",
    "\n",
    "    bone = skeleton.joints[joint_name].bone\n",
    "    if bone is not None:\n",
    "        Plotter.scatter3d(fig,bone.bone_points,bone.bone_points_names[0],mode = 'lines',line_dict= line_dict, show_colorbar=False)\n",
    "        Plotter.scatter3d(fig,bone.bone_points,bone.bone_points_names[0],mode = 'markers',marker_dict= marker_dict, show_colorbar=False)\n",
    "\n",
    "fig.show()"
   ]
  },
  {
   "cell_type": "code",
   "execution_count": 17,
   "metadata": {},
   "outputs": [
    {
     "data": {
      "text/plain": [
       "True"
      ]
     },
     "execution_count": 17,
     "metadata": {},
     "output_type": "execute_result"
    }
   ],
   "source": [
    "'left' in joint_name"
   ]
  },
  {
   "cell_type": "code",
   "execution_count": 21,
   "metadata": {},
   "outputs": [
    {
     "data": {
      "text/plain": [
       "array([[ 0. , -0.4,  0.3],\n",
       "       [ 0. , -2.6,  0.3]])"
      ]
     },
     "execution_count": 21,
     "metadata": {},
     "output_type": "execute_result"
    }
   ],
   "source": [
    "bones = [skeleton.joints[joint_name].bone for joint_name in skeleton.joints.keys() if skeleton.joints[joint_name].bone != None]\n",
    "bones[4].bone_points_names"
   ]
  },
  {
   "cell_type": "code",
   "execution_count": 5,
   "metadata": {},
   "outputs": [
    {
     "data": {
      "text/plain": [
       "array([0., 1., 0.])"
      ]
     },
     "execution_count": 5,
     "metadata": {},
     "output_type": "execute_result"
    }
   ],
   "source": [
    "(skeleton.joints[joint_name].parent.global_origin - skeleton.joints[joint_name].global_origin)/np.abs(np.sum(skeleton.joints[joint_name].parent.global_origin - skeleton.joints[joint_name].global_origin))"
   ]
  },
  {
   "cell_type": "code",
   "execution_count": 2,
   "metadata": {},
   "outputs": [
    {
     "data": {
      "text/plain": [
       "array([0., 1., 0.])"
      ]
     },
     "execution_count": 2,
     "metadata": {},
     "output_type": "execute_result"
    }
   ],
   "source": [
    "from Bone import Bone\n",
    "joint_name = 'right_wing_root'\n",
    "\n",
    "bones = Bone(skeleton.joints[joint_name].parent,skeleton.joints[joint_name])\n",
    "bones.direction"
   ]
  },
  {
   "cell_type": "code",
   "execution_count": 38,
   "metadata": {},
   "outputs": [
    {
     "data": {
      "text/plain": [
       "array([ 0. , -0.4,  0. ])"
      ]
     },
     "execution_count": 38,
     "metadata": {},
     "output_type": "execute_result"
    }
   ],
   "source": [
    "\n",
    "\n",
    "\n",
    "skeleton.joints[joint_name].global_origin - skeleton.joints[joint_name].parent.global_origin\n"
   ]
  },
  {
   "cell_type": "code",
   "execution_count": 36,
   "metadata": {},
   "outputs": [
    {
     "name": "stdout",
     "output_type": "stream",
     "text": [
      "neck head\n",
      "neck_thorax thorax\n",
      "thorax abdomen\n",
      "right_sp right_wing_root\n",
      "right_wing_root right_wing_tip\n",
      "left_sp left_wing_root\n",
      "left_wing_root left_wing_tip\n"
     ]
    }
   ],
   "source": [
    "for branch in skeleton.hirarchy:\n",
    "    for idx,joint_name in enumerate(branch): \n",
    "        if (len(joint_name.split('no_bone')) < 2) & len(skeleton.joints[joint_name].child) > 0:\n",
    "            print(joint_name,branch[idx + 1])"
   ]
  },
  {
   "cell_type": "code",
   "execution_count": 4,
   "metadata": {},
   "outputs": [
    {
     "data": {
      "text/plain": [
       "<Joint.Joint at 0x15eee5629b0>"
      ]
     },
     "execution_count": 4,
     "metadata": {},
     "output_type": "execute_result"
    }
   ],
   "source": [
    "skeleton.joints['right_wing_root'].parent"
   ]
  },
  {
   "cell_type": "code",
   "execution_count": 9,
   "metadata": {},
   "outputs": [
    {
     "data": {
      "text/plain": [
       "[<Joint.Joint at 0x2414f77a890>,\n",
       " <Joint.Joint at 0x2414f77aaa0>,\n",
       " <Joint.Joint at 0x2414f77a8c0>,\n",
       " <Joint.Joint at 0x2414f77a5f0>]"
      ]
     },
     "execution_count": 9,
     "metadata": {},
     "output_type": "execute_result"
    }
   ],
   "source": [
    "skeleton.joints['root_virtual'].child"
   ]
  },
  {
   "cell_type": "code",
   "execution_count": 16,
   "metadata": {},
   "outputs": [
    {
     "data": {
      "text/plain": [
       "[]"
      ]
     },
     "execution_count": 16,
     "metadata": {},
     "output_type": "execute_result"
    }
   ],
   "source": [
    "skeleton.joints['right_wing_root'].global_origin \n",
    "skeleton.joints['right_wing_root'].child[0].global_origin \n",
    "\n",
    "bone = []\n",
    "joint = skeleton.joints['root_no_bone']\n",
    "for child in joint.child:\n",
    "        if joint.joint_without_bone == False:\n",
    "                bone = (joint.global_origin - child.global_origin)/np.abs(np.sum(joint.global_origin - child.global_origin))\n",
    "bone\n"
   ]
  },
  {
   "cell_type": "code",
   "execution_count": 27,
   "metadata": {},
   "outputs": [
    {
     "data": {
      "text/plain": [
       "['root_', '']"
      ]
     },
     "execution_count": 27,
     "metadata": {},
     "output_type": "execute_result"
    }
   ],
   "source": [
    "branch = skeleton.hirarchy[0]\n",
    "branch[0].split('no_bone')"
   ]
  },
  {
   "cell_type": "code",
   "execution_count": 20,
   "metadata": {},
   "outputs": [
    {
     "data": {
      "text/plain": [
       "False"
      ]
     },
     "execution_count": 20,
     "metadata": {},
     "output_type": "execute_result"
    }
   ],
   "source": [
    "branch = skeleton.hirarchy[0]\n",
    "joint_name.split['no_bone'] for joint_name in  branch "
   ]
  },
  {
   "cell_type": "code",
   "execution_count": null,
   "metadata": {},
   "outputs": [],
   "source": []
  },
  {
   "cell_type": "code",
   "execution_count": 31,
   "metadata": {},
   "outputs": [
    {
     "name": "stdout",
     "output_type": "stream",
     "text": [
      "['right_wing_root', 'right_wing_tip']\n"
     ]
    }
   ],
   "source": [
    "\n",
    "def get_global_transformation( joint,rest_bind = False):\n",
    "    if joint.parent == None:\n",
    "        return []\n",
    "\n",
    "\n",
    "    joint.parent.get_global_transformation()\n",
    "    print([joint.parent.name,joint.name])\n",
    "\n",
    "\n",
    "\n",
    "get_global_transformation( skeleton.joints['right_wing_tip'],rest_bind = False)"
   ]
  },
  {
   "cell_type": "code",
   "execution_count": 18,
   "metadata": {},
   "outputs": [
    {
     "data": {
      "text/plain": [
       "[['root_no_bone', 'neck', 'head'],\n",
       " ['root_no_bone', 'neck_thorax', 'thorax', 'abdomen'],\n",
       " ['root_no_bone', 'right_sp', 'right_wing_root', 'right_wing_tip'],\n",
       " ['root_no_bone', 'left_sp', 'left_wing_root', 'left_wing_tip']]"
      ]
     },
     "execution_count": 18,
     "metadata": {},
     "output_type": "execute_result"
    }
   ],
   "source": [
    "for branch in skeleton.hirarchy:\n",
    "    \n",
    "        "
   ]
  },
  {
   "cell_type": "code",
   "execution_count": 11,
   "metadata": {},
   "outputs": [],
   "source": [
    "import plotly\n",
    "\n",
    "\n",
    "\n",
    "import plotly.graph_objects as go\n",
    "import plotly.io as pio\n",
    "import plotly.express as px\n",
    "import matplotlib.cm\n",
    "import numpy as np\n",
    "import matplotlib.pyplot as plt\n",
    "import pandas as pd\n",
    "from plotly.subplots import make_subplots\n",
    "\n",
    "import Plotter\n",
    "\n",
    "\n",
    "\n",
    "points = np.asarray(mesh_list[1].vertices)\n",
    "points = np.asarray(mesh_list[1].vertices)[::10,:]*1000\n",
    "fig = go.Figure()\n",
    "\n",
    "points[:,2] = points[:,2] - 1\n",
    "points[:,0] = points[:,0] + 0.1\n",
    "\n",
    "marker_dict = {'color':'black','size':3,'opacity':0.5}\n",
    "Plotter.scatter3d(fig,points[::10,:],'fly', show_colorbar=False,marker_dict = marker_dict)\n",
    "\n",
    "\n",
    "line_dict = {'width': 5,'color': 'green'}\n",
    "marker_dict = {'color':'green','size':10}\n",
    "\n",
    "\n",
    "Plotter.scatter3d(fig,all_points_per_branch[0][1:],'head_nech',mode = 'lines',line_dict= line_dict, show_colorbar=False)\n",
    "Plotter.scatter3d(fig,all_points_per_branch[1][1:],'neck_thorax',mode = 'lines',line_dict= line_dict, show_colorbar=False)\n",
    "\n",
    "Plotter.scatter3d(fig,all_points_per_branch[0][1:],'head_nech',mode = 'markers', show_colorbar=False,marker_dict = marker_dict)\n",
    "Plotter.scatter3d(fig,all_points_per_branch[1][1:],'neck_thorax',mode = 'markers', show_colorbar=False,marker_dict = marker_dict)\n",
    "\n",
    "\n",
    "line_dict_rw = {'width': 5,'color': 'red'}\n",
    "marker_dict_rw = {'color':'red','size':10}\n",
    "\n",
    "\n",
    "line_dict_lw = {'width': 5,'color': 'blue'}\n",
    "marker_dict_lw = {'color':'blue','size':10}\n",
    "\n",
    "\n",
    "Plotter.scatter3d(fig,all_points_per_branch[2][1:],'right wing',mode = 'lines',line_dict= line_dict_rw, show_colorbar=False)\n",
    "Plotter.scatter3d(fig,all_points_per_branch[3][1:],'left wing',mode = 'lines',line_dict = line_dict_lw, show_colorbar=False)\n",
    "\n",
    "Plotter.scatter3d(fig,all_points_per_branch[2][1:],'right wing',mode = 'markers', show_colorbar=False,marker_dict = marker_dict_rw)\n",
    "Plotter.scatter3d(fig,all_points_per_branch[3][1:],'left wing',mode = 'markers', show_colorbar=False,marker_dict = marker_dict_lw)\n"
   ]
  },
  {
   "cell_type": "code",
   "execution_count": 10,
   "metadata": {},
   "outputs": [
    {
     "data": {
      "text/plain": [
       "array([[0. , 0. , 0. ],\n",
       "       [0.1, 0. , 0. ],\n",
       "       [0.2, 0. , 0. ]])"
      ]
     },
     "execution_count": 10,
     "metadata": {},
     "output_type": "execute_result"
    }
   ],
   "source": [
    "all_points_per_branch[0]"
   ]
  },
  {
   "cell_type": "code",
   "execution_count": null,
   "metadata": {},
   "outputs": [
    {
     "ename": "IndexError",
     "evalue": "index 3 is out of bounds for axis 1 with size 3",
     "output_type": "error",
     "traceback": [
      "\u001b[1;31m---------------------------------------------------------------------------\u001b[0m",
      "\u001b[1;31mIndexError\u001b[0m                                Traceback (most recent call last)",
      "Cell \u001b[1;32mIn[17], line 4\u001b[0m\n\u001b[0;32m      1\u001b[0m points \u001b[38;5;241m=\u001b[39m np\u001b[38;5;241m.\u001b[39masarray(mesh_list[\u001b[38;5;241m0\u001b[39m]\u001b[38;5;241m.\u001b[39mvertices)\u001b[38;5;241m*\u001b[39m\u001b[38;5;241m1000\u001b[39m\n\u001b[0;32m      2\u001b[0m fig \u001b[38;5;241m=\u001b[39m go\u001b[38;5;241m.\u001b[39mFigure()\n\u001b[1;32m----> 4\u001b[0m points[:,\u001b[38;5;241m3\u001b[39m] \u001b[38;5;241m=\u001b[39m \u001b[43mpoints\u001b[49m\u001b[43m[\u001b[49m\u001b[43m:\u001b[49m\u001b[43m,\u001b[49m\u001b[38;5;241;43m3\u001b[39;49m\u001b[43m]\u001b[49m \u001b[38;5;241m-\u001b[39m \u001b[38;5;241m1\u001b[39m\n\u001b[0;32m      5\u001b[0m Plotter\u001b[38;5;241m.\u001b[39mscatter3d(fig,points[::\u001b[38;5;241m10\u001b[39m,:],[\u001b[38;5;241m1\u001b[39m,\u001b[38;5;241m0\u001b[39m,\u001b[38;5;241m0\u001b[39m],\u001b[38;5;241m3\u001b[39m,\u001b[38;5;124m'\u001b[39m\u001b[38;5;124mfly\u001b[39m\u001b[38;5;124m'\u001b[39m)\n",
      "\u001b[1;31mIndexError\u001b[0m: index 3 is out of bounds for axis 1 with size 3"
     ]
    }
   ],
   "source": [
    "points = np.asarray(mesh_list[0].vertices)*1000\n",
    "fig = go.Figure()\n",
    "\n",
    "points[:,2] = points[:,2] - 1\n",
    "Plotter.scatter3d(fig,points[::10,:],[1,0,0],3,'fly')\n",
    "\n"
   ]
  }
 ],
 "metadata": {
  "kernelspec": {
   "display_name": "base",
   "language": "python",
   "name": "python3"
  },
  "language_info": {
   "codemirror_mode": {
    "name": "ipython",
    "version": 3
   },
   "file_extension": ".py",
   "mimetype": "text/x-python",
   "name": "python",
   "nbconvert_exporter": "python",
   "pygments_lexer": "ipython3",
   "version": "3.10.9"
  }
 },
 "nbformat": 4,
 "nbformat_minor": 2
}
