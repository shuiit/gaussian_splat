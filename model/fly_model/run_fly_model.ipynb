{
 "cells": [
  {
   "cell_type": "code",
   "execution_count": 1,
   "metadata": {},
   "outputs": [
    {
     "name": "stdout",
     "output_type": "stream",
     "text": [
      "Jupyter environment detected. Enabling Open3D WebVisualizer.\n",
      "[Open3D INFO] WebRTC GUI backend enabled.\n",
      "[Open3D INFO] WebRTCWindowSystem: HTTP handshake server disabled.\n"
     ]
    },
    {
     "name": "stderr",
     "output_type": "stream",
     "text": [
      "d:\\Documents\\gaussian_splat\\model\\fly_model\\Skin.py:19: RuntimeWarning:\n",
      "\n",
      "invalid value encountered in divide\n",
      "\n"
     ]
    }
   ],
   "source": [
    "\n",
    "import numpy as np\n",
    "import plotly.graph_objects as go\n",
    "import open3d as o3d\n",
    "from os import listdir\n",
    "from os.path import isfile, join\n",
    "import Plotter\n",
    "from Skeleton import Skeleton\n",
    "from Joint import Joint\n",
    "from Skin import Skin\n",
    "\n",
    "\n",
    "\n",
    "path_to_mesh = 'G:/My Drive/Research/gaussian_splatting/mesh'\n",
    "parts = ['body','right_wing','left_wing']\n",
    "translation = [-0.1,0,1]\n",
    "skin = Skin(parts,path_to_mesh,scale = 1000)\n",
    "skin.translate_ptcloud_skin(translation)\n",
    "\n"
   ]
  },
  {
   "cell_type": "code",
   "execution_count": 2,
   "metadata": {},
   "outputs": [],
   "source": [
    "# initilize skeletone, joints and bones\n",
    "pitch_body = 0\n",
    "joints = {'root_no_bone':[0,0,0],\n",
    "          'neck':[0.6,0,0.3],\n",
    "          'neck_thorax': [0.6,0,0.3],\n",
    "          'head':[0.3,0,0],\n",
    "          'thorax':[-1,0,0],\n",
    "          'abdomen':[-1.3,0,0] ,\n",
    "          'right_sp_no_bone': [-0,0,0.3],\n",
    "          'right_wing_root':[0,-0.3,0],\n",
    "          'right_wing_tip':[0,-2.2,0],\n",
    "          'left_sp_no_bone':[0,0,0.3],\n",
    "          'left_wing_root':[0,0.3,0],\n",
    "          'left_wing_tip':[0,2.2,0]\n",
    "          }\n",
    "\n",
    "local_rotation = {'root_no_bone':[0,-pitch_body,0],\n",
    "          'neck':[0,pitch_body,0],\n",
    "          'neck_thorax': [0,-25,0],\n",
    "          'head':[0,0,0],\n",
    "          'thorax':[0,25,0],\n",
    "          'abdomen':[0,0,0] ,\n",
    "          'right_sp_no_bone': [0,pitch_body,0],\n",
    "          'right_wing_root':[0,0,0],\n",
    "          'right_wing_tip':[0,0,0],\n",
    "          'left_sp_no_bone':[0,pitch_body,0],\n",
    "          'left_wing_root':[-0,0,0],\n",
    "          'left_wing_tip':[0,0,0]\n",
    "          }\n",
    "\n",
    "parent_child = {'root_no_bone':['neck','neck_thorax','right_sp_no_bone','left_sp_no_bone'],\n",
    "                      'neck':['head'],\n",
    "                      'neck_thorax':['thorax'],\n",
    "                      'thorax':['abdomen'],\n",
    "                      'right_sp_no_bone':['right_wing_root'],\n",
    "                      'right_wing_root': ['right_wing_tip'],\n",
    "                      'left_sp_no_bone': ['left_wing_root'],\n",
    "                      'left_wing_root':['left_wing_tip']}\n",
    "\n",
    "skeleton = Skeleton()\n",
    "skeleton.initilize_joints(joints)\n",
    "skeleton.connect_parent_child(parent_child)\n",
    "skeleton.update_local_roattion(local_rotation)\n",
    "skeleton.update_global_rotation(rest_bind = True)\n",
    "skeleton.get_global_point_skeleton_branch()\n",
    "skeleton.add_bone_to_joint()\n",
    "\n",
    "skin.calculate_weights(skeleton,constant_weight = [None,'right_wing_root','left_wing_root'],th = 10)\n",
    "\n",
    "\n"
   ]
  },
  {
   "cell_type": "code",
   "execution_count": 3,
   "metadata": {},
   "outputs": [],
   "source": [
    "# transform the joints, bones and skin\n",
    "pitch_body=45\n",
    "local_rotation = {'root_no_bone':[0,-pitch_body,20],\n",
    "          'neck':[0,0,0],\n",
    "          'neck_thorax': [0,-25,0],\n",
    "          'head':[0,0,0],\n",
    "          'thorax':[0,25,0],\n",
    "          'abdomen':[0,-0,0] ,\n",
    "          'right_sp_no_bone': [0,pitch_body,0],\n",
    "          'right_wing_root':[30,0,0],\n",
    "          'right_wing_tip':[0,0,0],\n",
    "          'left_sp_no_bone':[0,pitch_body,0],\n",
    "          'left_wing_root':[0,0,0],\n",
    "          'left_wing_tip':[0,0,0]\n",
    "          }\n",
    "skeleton.update_local_roattion(local_rotation)\n",
    "skeleton.update_global_rotation()\n",
    "skeleton.get_global_point_skeleton_branch()\n",
    "skeleton.update_bone()\n",
    "\n",
    "\n",
    "transformed_points, transformed_normals = skin.rotate_skin(skeleton)"
   ]
  },
  {
   "cell_type": "code",
   "execution_count": 5,
   "metadata": {},
   "outputs": [],
   "source": [
    "Plotter.plot_skeleton_and_skin(transformed_points,skin,skeleton,normals = transformed_normals)\n",
    "Plotter.plot_skeleton_and_skin(transformed_points,skin,skeleton)"
   ]
  }
 ],
 "metadata": {
  "kernelspec": {
   "display_name": "base",
   "language": "python",
   "name": "python3"
  },
  "language_info": {
   "codemirror_mode": {
    "name": "ipython",
    "version": 3
   },
   "file_extension": ".py",
   "mimetype": "text/x-python",
   "name": "python",
   "nbconvert_exporter": "python",
   "pygments_lexer": "ipython3",
   "version": "3.10.9"
  }
 },
 "nbformat": 4,
 "nbformat_minor": 2
}
