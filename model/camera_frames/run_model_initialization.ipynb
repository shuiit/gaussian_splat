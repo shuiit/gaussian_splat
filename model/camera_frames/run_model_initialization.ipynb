{
 "cells": [
  {
   "cell_type": "code",
   "execution_count": 1,
   "metadata": {},
   "outputs": [
    {
     "name": "stdout",
     "output_type": "stream",
     "text": [
      "Jupyter environment detected. Enabling Open3D WebVisualizer.\n",
      "[Open3D INFO] WebRTC GUI backend enabled.\n",
      "[Open3D INFO] WebRTCWindowSystem: HTTP handshake server disabled.\n"
     ]
    }
   ],
   "source": [
    "from Frame import Frame\n",
    "from Camera import Camera\n",
    "import scipy\n",
    "import sys\n",
    "import os\n",
    "parent_dir = os.path.abspath(os.path.join(os.getcwd(), '..','fly_model'))\n",
    "sys.path.insert(0, parent_dir)\n",
    "import numpy as np\n",
    "import Plotter\n",
    "from Skeleton import Skeleton\n",
    "from Skin import Skin\n",
    "import plotly.graph_objects as go\n",
    "import Utils\n",
    "import pandas as pd\n",
    "%matplotlib qt\n",
    "\n",
    "path = 'G:/My Drive/Research/gaussian_splatting/gaussian_splatting_input/mov19_2022_03_03/'\n",
    "\n",
    "\n",
    "frames = list(range(900,910,1))\n",
    "\n",
    "image_name= []\n",
    "for frame in frames:\n",
    "    image_name += [f'P{frame}CAM{cam + 1}' for cam in range(4)]\n",
    "frames = {f'{im_name}.jpg':Frame(path,im_name,idx) for idx,im_name in enumerate(image_name)}\n",
    "\n",
    "\n",
    "points_3d = {body_wing : pd.DataFrame(Utils.load_hull(body_wing,path),columns = ['X','Y','Z','frame']) for body_wing in ['body','rwing','lwing']}\n",
    "real_coord = scipy.io.loadmat(f'{path}/3d_pts/real_coord.mat')['all_coords']\n"
   ]
  },
  {
   "cell_type": "code",
   "execution_count": 2,
   "metadata": {},
   "outputs": [],
   "source": [
    "\n",
    "\n",
    "def get_hull_part(part):\n",
    "    points_3d_frame = points_3d[part][points_3d[part]['frame'] == 900]\n",
    "    real_coord_frame = real_coord[real_coord[:,3] == 900,:]\n",
    "    points_in_ew_frame = np.array([real_coord_frame[points_3d_frame[ax] - 1,idx] for idx,ax in enumerate(['X','Y','Z'])]).T\n",
    "    points_in_ew_frame_homo = np.hstack((points_in_ew_frame,np.ones([points_in_ew_frame.shape[0],1])))\n",
    "    points_in_ew_frame  = np.column_stack((points_in_ew_frame,np.arange(1,points_in_ew_frame.shape[0] + 1)))\n",
    "    return points_in_ew_frame\n",
    "\n",
    "hull = [get_hull_part(part) for part in list(points_3d.keys())]"
   ]
  },
  {
   "cell_type": "code",
   "execution_count": 3,
   "metadata": {},
   "outputs": [],
   "source": [
    "frame_number = 900 \n",
    "frame_names = ['P900CAM1.jpg','P900CAM2.jpg','P900CAM3.jpg','P900CAM4.jpg']\n",
    "frame_names = [f'P{frame_number}CAM{idx}.jpg' for idx in range(1,5)]\n",
    "\n",
    "ray_world = np.vstack([frames[frame].camera_center_to_pixel_ray(frames[frame].cm) for frame in  frame_names])\n",
    "camera_center = np.vstack([frames[frame].X0.T for frame in  frame_names])\n",
    "point = Utils.triangulate_least_square(camera_center,ray_world)\n",
    "\n",
    "rot_mat_ew_to_lab = frames['P900CAM1.jpg'].rotation_matrix_from_vectors(frames['P900CAM1.jpg'].R[2,:], [0,0,1])\n",
    "\n"
   ]
  },
  {
   "cell_type": "code",
   "execution_count": 24,
   "metadata": {},
   "outputs": [],
   "source": [
    "\n",
    "path_to_mesh = 'G:/My Drive/Research/gaussian_splatting/mesh'\n",
    "parts = ['body','right_wing','left_wing']\n",
    "scale = 1/1000\n",
    "skin_translation = np.array([-0.1-1,0,1])*scale\n",
    "\n",
    "\n",
    "# initilize skeletone, joints and bones\n",
    "pitch_body = 0\n",
    "joints = {'root_no_bone':[1,0,0],\n",
    "          'neck':[0.6,0,0.3],\n",
    "          'neck_thorax': [0.6,0,0.3],\n",
    "          'head':[0.3,0,0],\n",
    "          'thorax':[-1,0,0],\n",
    "          'abdomen':[-1.3,0,0] ,\n",
    "          'right_sp_no_bone': [-0,0,0.3],\n",
    "          'right_wing_root':[0,0,0],\n",
    "          'right_wing_tip':[0,-2.2,0],\n",
    "          'left_sp_no_bone':[0,0,0.3],\n",
    "          'left_wing_root':[0,0.3,0],\n",
    "          'left_wing_tip':[0,2.2,0]\n",
    "          }\n",
    "\n",
    "joints = {joint_name: np.array(joint_translation)*scale  for joint_name,joint_translation in joints.items()}\n",
    "\n",
    "bone_rotation = {'root_no_bone':[0,-pitch_body,0],\n",
    "          'neck':[0,pitch_body,0],\n",
    "          'neck_thorax': [0,-25,0],\n",
    "          'head':[0,0,0],\n",
    "          'thorax':[0,25,0],\n",
    "          'abdomen':[0,0,0] ,\n",
    "          'right_sp_no_bone': [0,pitch_body,0],\n",
    "          'right_wing_root':[0,0,0],\n",
    "          'right_wing_tip':[0,0,0],\n",
    "          'left_sp_no_bone':[0,pitch_body,0],\n",
    "          'left_wing_root':[-0,0,0],\n",
    "          'left_wing_tip':[0,0,0]\n",
    "          }\n",
    "\n",
    "parent_child = {'root_no_bone':['neck','neck_thorax','right_sp_no_bone','left_sp_no_bone'],\n",
    "                      'neck':['head'],\n",
    "                      'neck_thorax':['thorax'],\n",
    "                      'thorax':['abdomen'],\n",
    "                      'right_sp_no_bone':['right_wing_root'],\n",
    "                      'right_wing_root': ['right_wing_tip'],\n",
    "                      'left_sp_no_bone': ['left_wing_root'],\n",
    "                      'left_wing_root':['left_wing_tip']}\n",
    "\n",
    "\n",
    "skin = Skin(parts,path_to_mesh,scale = 1)\n",
    "skin.translate_ptcloud_skin(skin_translation)\n",
    "skeleton = Skeleton(parent_child,joints,bone_rotation,skin)\n",
    "\n",
    "\n"
   ]
  },
  {
   "cell_type": "code",
   "execution_count": 25,
   "metadata": {},
   "outputs": [],
   "source": [
    "\n",
    "# initilize skeletone, joints and bones\n",
    "pitch_body = 40\n",
    "new_translation =  {'root_no_bone':[1,0,0],\n",
    "          'neck':[0.6,0,0.3],\n",
    "          'neck_thorax': [0.6,0,0.3],\n",
    "          'head':[0.3,0,0],\n",
    "          'thorax':[-1,0,0],\n",
    "          'abdomen':[-1.3,0,0] ,\n",
    "          'right_sp_no_bone': [-0,0,0.3],\n",
    "          'right_wing_root':[0,0,0],\n",
    "          'right_wing_tip':[0,-2.2,0],\n",
    "          'left_sp_no_bone':[0,0,0.3],\n",
    "          'left_wing_root':[0,0.3,0],\n",
    "          'left_wing_tip':[0,2.2,0]\n",
    "          }\n",
    "new_translation = {joint_name: np.array(joint_translation)*scale  for joint_name,joint_translation in new_translation.items()}\n",
    "\n",
    "new_rotation = {'root_no_bone':[0,-pitch_body,0],\n",
    "          'neck':[0,pitch_body,0],\n",
    "          'neck_thorax': [0,-25,0],\n",
    "          'head':[0,0,0],\n",
    "          'thorax':[0,25,0],\n",
    "          'abdomen':[0,0,0] ,\n",
    "          'right_sp_no_bone': [0,pitch_body,0],\n",
    "          'right_wing_root':[0,0,0],\n",
    "          'right_wing_tip':[0,0,0],\n",
    "          'left_sp_no_bone':[0,pitch_body,0],\n",
    "          'left_wing_root':[-0,0,0],\n",
    "          'left_wing_tip':[0,0,0]\n",
    "          }\n",
    "ls_rotated = np.dot(rot_mat_ew_to_lab,point[:,np.newaxis]).T\n",
    "\n",
    "new_translation['root_no_bone'] = ls_rotated[0] + new_translation['root_no_bone']\n",
    "skeleton.update_skeleton(new_rotation,new_translation)\n",
    "transformed_points, transformed_normals = skin.rotate_skin(skeleton)\n",
    "\n",
    "\n",
    "\n"
   ]
  },
  {
   "cell_type": "code",
   "execution_count": 26,
   "metadata": {},
   "outputs": [],
   "source": [
    "import matplotlib.pyplot as plt\n",
    "transformed_points_to_rotate = transformed_points - np.mean(transformed_points,axis = 0)\n",
    "transformed_points_ew = np.dot(rot_mat_ew_to_lab.T,transformed_points.T).T\n",
    "transformed_points_ew = transformed_points_ew \n",
    "frame_name = 'P900CAM4.jpg'\n",
    "transformed_points_homo = frames[frame_name].homogenize_coordinate(transformed_points_ew)\n",
    "projeced = frames[frame_name].project_on_image(transformed_points_homo)\n",
    "\n",
    "# plt.imshow(frames[frame_name].image_no_bg)\n",
    "# plt.scatter(projeced[:,0],projeced[:,1])"
   ]
  },
  {
   "cell_type": "code",
   "execution_count": 27,
   "metadata": {},
   "outputs": [],
   "source": [
    "\n",
    "\n",
    "camera_center_rotated = np.dot(rot_mat_ew_to_lab,camera_center.T).T\n",
    "ray_world_rotated = np.dot(rot_mat_ew_to_lab,ray_world.T).T\n",
    "points_in_ew_frame_rotated = [np.dot(rot_mat_ew_to_lab,part[:,0:3].T).T for part in hull]\n",
    "\n",
    "\n",
    "vector_dir = np.array(ray_world_rotated - camera_center_rotated )[:,0:3]\n",
    "vector_dir_norm= (vector_dir.T/np.linalg.norm(vector_dir,axis = 1)).T\n",
    "\n",
    "\n",
    "\n",
    "# new_point = np.dot(vector_dir[0][0:3],np.array([0,0,1])[:,np.newaxis]).T[0]\n",
    "# scales = np.dot(vector_dir[0][0:3],np.array([0,0,1]))\n",
    "ray_world2  = camera_center_rotated + vector_dir_norm*np.array([[0.3,0.22,0.22,0.22]]).T\n",
    "camera_center2  = camera_center_rotated + vector_dir_norm*np.array([[0.26,0.16,0.16,0.16]]).T\n"
   ]
  },
  {
   "cell_type": "code",
   "execution_count": 28,
   "metadata": {},
   "outputs": [],
   "source": [
    "fig = go.Figure()\n",
    "fig = Plotter.plot_skeleton_and_skin_hull(transformed_points,skin,skeleton,opacity = 0.1,marker_dict_skeleton = {'size': 3},line_dict_skeleton ={'width': 3})\n",
    "fig.show()"
   ]
  },
  {
   "cell_type": "code",
   "execution_count": 132,
   "metadata": {},
   "outputs": [],
   "source": [
    "fig = go.Figure()\n",
    "fig = Plotter.plot_skeleton_and_skin_hull(transformed_points,skin,skeleton,opacity = 0.1,marker_dict_skeleton = {'size': 3},line_dict_skeleton ={'width': 3})\n",
    "\n",
    "marker_dict = {'size': 5, 'color': 'red'}\n",
    "marker_dict_point = {'size': 5, 'color': 'blue'}\n",
    "\n",
    "line_dict = {'width': 3, 'color': 'red'}\n",
    "# fig = go.Figure()\n",
    "\n",
    "marker_dict = {'size': 5, 'color': [[255,0,0],[0,255,0]]}\n",
    "\n",
    "\n",
    "Plotter.scatter3d(fig,points_in_ew_frame_rotated[0],'hull_body', mode = 'markers',marker_dict =  {'color': 'blue'}) \n",
    "Plotter.scatter3d(fig,points_in_ew_frame_rotated[1],'hull_rwing', mode = 'markers',marker_dict = { 'color': 'magenta'}) \n",
    "Plotter.scatter3d(fig,points_in_ew_frame_rotated[2],'hull_lwing', mode = 'markers',marker_dict = {'color':'cyan'}) \n",
    "\n",
    "marker_dict_point = {'size': 5, 'color': 'magenta'}\n",
    "\n",
    "Plotter.scatter3d(fig,ls_rotated,'least square', mode = 'markers',marker_dict = marker_dict_point) \n",
    "\n",
    "fig.show()"
   ]
  },
  {
   "cell_type": "code",
   "execution_count": 54,
   "metadata": {},
   "outputs": [],
   "source": [
    "fig = go.Figure()\n",
    "fig = Plotter.plot_skeleton_and_skin_hull(transformed_points,skin,skeleton,opacity = 0.1,marker_dict_skeleton = {'size': 3},line_dict_skeleton ={'width': 3})\n",
    "\n",
    "marker_dict = {'size': 5, 'color': 'red'}\n",
    "marker_dict_point = {'size': 5, 'color': 'blue'}\n",
    "\n",
    "line_dict = {'width': 3, 'color': 'red'}\n",
    "# fig = go.Figure()\n",
    "\n",
    "marker_dict = {'size': 5, 'color': [[255,0,0],[0,255,0]]}\n",
    "\n",
    "[Plotter.scatter3d(fig,np.vstack((origin,end)),idx, mode = 'markers',marker_dict = marker_dict) for origin,end,idx in zip(camera_center2, ray_world2,range(4))]\n",
    "[Plotter.scatter3d(fig,np.vstack((origin,end)),idx, mode = 'lines',line_dict = line_dict) for origin,end,idx in zip(camera_center2, ray_world2,range(4))]\n",
    "\n",
    "Plotter.scatter3d(fig,points_in_ew_frame_rotated[0],'hull_body', mode = 'markers',marker_dict =  {'color': 'blue'}) \n",
    "Plotter.scatter3d(fig,points_in_ew_frame_rotated[1],'hull_rwing', mode = 'markers',marker_dict = { 'color': 'magenta'}) \n",
    "Plotter.scatter3d(fig,points_in_ew_frame_rotated[2],'hull_lwing', mode = 'markers',marker_dict = {'color':'cyan'}) \n",
    "\n",
    "marker_dict_point = {'size': 5, 'color': 'magenta'}\n",
    "\n",
    "Plotter.scatter3d(fig,ls_rotated,'least square', mode = 'markers',marker_dict = marker_dict_point) \n",
    "\n",
    "fig.show()"
   ]
  },
  {
   "cell_type": "code",
   "execution_count": 32,
   "metadata": {},
   "outputs": [],
   "source": [
    "\n",
    "fig = go.Figure()\n",
    "fig = Plotter.plot_skeleton_and_skin_hull(transformed_points,skin,skeleton,opacity = 0.1,marker_dict_skeleton = {'size': 3},line_dict_skeleton ={'width': 3})\n",
    "fig.show()"
   ]
  },
  {
   "cell_type": "code",
   "execution_count": 33,
   "metadata": {},
   "outputs": [],
   "source": []
  },
  {
   "cell_type": "code",
   "execution_count": 34,
   "metadata": {},
   "outputs": [
    {
     "data": {
      "text/plain": [
       "array([[-0.00123098, -0.0229936 , -0.00810553],\n",
       "       [ 0.00453605, -0.01595115,  0.00059876],\n",
       "       [-0.009139  , -0.01799263,  0.00017689],\n",
       "       [-0.00048583, -0.01106921, -0.01935558]])"
      ]
     },
     "execution_count": 34,
     "metadata": {},
     "output_type": "execute_result"
    }
   ],
   "source": [
    "ray_world2"
   ]
  },
  {
   "cell_type": "code",
   "execution_count": 129,
   "metadata": {},
   "outputs": [],
   "source": [
    "fig = go.Figure()\n",
    "\n",
    "marker_dict = {'size': 5, 'color': 'red'}\n",
    "marker_dict_point = {'size': 5, 'color': 'blue'}\n",
    "\n",
    "line_dict = {'width': 3, 'color': 'red'}\n",
    "# fig = go.Figure()\n",
    "\n",
    "[Plotter.scatter3d(fig,np.vstack((origin,end)),idx, mode = 'markers',marker_dict = marker_dict) for origin,end,idx in zip(camera_center, ray_world,range(4))]\n",
    "[Plotter.scatter3d(fig,np.vstack((origin,end)),idx, mode = 'lines',line_dict = line_dict) for origin,end,idx in zip(camera_center, ray_world,range(4))]\n",
    "\n",
    "\n",
    "marker_dict = {'size': 5, 'color': 'blue'}\n",
    "\n",
    "[Plotter.scatter3d(fig,np.vstack((origin,end)),idx, mode = 'markers',marker_dict = marker_dict) for origin,end,idx in zip(camera_center2, ray_world2,range(4))]\n",
    "[Plotter.scatter3d(fig,np.vstack((origin,end)),idx, mode = 'lines',line_dict = line_dict) for origin,end,idx in zip(camera_center2, ray_world2,range(4))]\n",
    "\n",
    "fig.show()\n"
   ]
  },
  {
   "cell_type": "code",
   "execution_count": 182,
   "metadata": {},
   "outputs": [
    {
     "data": {
      "text/plain": [
       "<matplotlib.collections.PathCollection at 0x1654e886e60>"
      ]
     },
     "execution_count": 182,
     "metadata": {},
     "output_type": "execute_result"
    }
   ],
   "source": [
    "\n",
    "transformed_points_to_rotate = transformed_points - np.mean(transformed_points,axis = 0)\n",
    "transformed_points_ew = np.dot(rot_mat.T,transformed_points_to_rotate.T).T\n",
    "transformed_points_ew = transformed_points_ew + np.mean(transformed_points,axis = 0)\n",
    "\n",
    "transformed_points_homo = frames['P900CAM4.jpg'].homogenize_coordinate(transformed_points_ew)\n",
    "projeced = frames['P900CAM4.jpg'].project_on_image(transformed_points_homo)\n",
    "\n",
    "plt.imshow(frames['P900CAM4.jpg'].image_no_bg)\n",
    "plt.scatter(projeced[:,1],projeced[:,0])"
   ]
  },
  {
   "cell_type": "code",
   "execution_count": 183,
   "metadata": {},
   "outputs": [],
   "source": [
    "\n",
    "fig = go.Figure()\n",
    "fig = Plotter.plot_skeleton_and_skin_hull(transformed_points_ew,skin,skeleton,opacity = 0.1,marker_dict_skeleton = {'size': 3},line_dict_skeleton ={'width': 3})\n",
    "\n",
    "marker_dict = {'size': 5, 'color': 'red'}\n",
    "marker_dict_point = {'size': 5, 'color': 'blue'}\n",
    "\n",
    "line_dict = {'width': 3, 'color': 'red'}\n",
    "# fig = go.Figure()\n",
    "\n",
    "marker_dict = {'size': 5, 'color': [[255,0,0],[0,255,0]]}\n",
    "\n",
    "[Plotter.scatter3d(fig,np.vstack((origin,end)),idx, mode = 'markers',marker_dict = marker_dict) for origin,end,idx in zip(camera_center2, ray_world2,range(4))]\n",
    "[Plotter.scatter3d(fig,np.vstack((origin,end)),idx, mode = 'lines',line_dict = line_dict) for origin,end,idx in zip(camera_center2, ray_world2,range(4))]\n",
    "\n",
    "\n",
    "Plotter.scatter3d(fig,point[:,np.newaxis].T,'least square', mode = 'markers',marker_dict = marker_dict_point) \n",
    "\n",
    "fig.show()"
   ]
  }
 ],
 "metadata": {
  "kernelspec": {
   "display_name": "base",
   "language": "python",
   "name": "python3"
  },
  "language_info": {
   "codemirror_mode": {
    "name": "ipython",
    "version": 3
   },
   "file_extension": ".py",
   "mimetype": "text/x-python",
   "name": "python",
   "nbconvert_exporter": "python",
   "pygments_lexer": "ipython3",
   "version": "3.10.9"
  }
 },
 "nbformat": 4,
 "nbformat_minor": 2
}
