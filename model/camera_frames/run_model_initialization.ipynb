{
 "cells": [
  {
   "cell_type": "code",
   "execution_count": 1,
   "metadata": {},
   "outputs": [],
   "source": [
    "from Frame import Frame\n",
    "from Camera import Camera\n",
    "import scipy\n",
    "import sys\n",
    "import os\n",
    "parent_dir = os.path.abspath(os.path.join(os.getcwd(), '..'))\n",
    "sys.path.insert(0, parent_dir)\n",
    "import numpy as np\n",
    "from fly_model import Plotter\n",
    "import plotly.graph_objects as go\n",
    "import Utils\n",
    "path = 'G:/My Drive/Research/gaussian_splatting/gaussian_splatting_input/mov19_2022_03_03/'\n",
    "\n",
    "\n",
    "frames = list(range(900,910,1))\n",
    "\n",
    "image_name= []\n",
    "for frame in frames:\n",
    "    image_name += [f'P{frame}CAM{cam + 1}' for cam in range(4)]\n",
    "cameras = {f'cam{cam + 1}':Camera(path,cam) for cam in range(4)}\n",
    "frames = {f'{im_name}.jpg':Frame(path,im_name,idx) for idx,im_name in enumerate(image_name)}"
   ]
  },
  {
   "cell_type": "code",
   "execution_count": 15,
   "metadata": {},
   "outputs": [],
   "source": [
    "frame_number = 900 \n",
    "frame_names = ['P900CAM1.jpg','P900CAM2.jpg','P900CAM3.jpg','P900CAM4.jpg']\n",
    "frame_names = [f'P{frame_number}CAM{idx}.jpg' for idx in range(1,5)]\n",
    "\n",
    "ray_world = np.vstack([frames[frame].camera_center_to_pixel_ray(frames[frame].cm) for frame in  frame_names])\n",
    "camera_center = np.vstack([frames[frame].X0.T for frame in  frame_names])\n",
    "point = Utils.triangulate_least_square(camera_center,ray_world)\n",
    "\n",
    "\n",
    "\n"
   ]
  },
  {
   "cell_type": "code",
   "execution_count": 16,
   "metadata": {},
   "outputs": [],
   "source": [
    "\n",
    "\n",
    "marker_dict = {'size': 5, 'color': 'red'}\n",
    "marker_dict_point = {'size': 5, 'color': 'blue'}\n",
    "\n",
    "line_dict = {'width': 3, 'color': 'red'}\n",
    "fig = go.Figure()\n",
    "\n",
    "[Plotter.scatter3d(fig,np.vstack((origin,end)),idx, mode = 'markers',marker_dict = marker_dict) for origin,end,idx in zip(camera_center, ray_world,range(4))]\n",
    "[Plotter.scatter3d(fig,np.vstack((origin,end)),idx, mode = 'lines',line_dict = line_dict) for origin,end,idx in zip(camera_center, ray_world,range(4))]\n",
    "Plotter.scatter3d(fig,point[:,np.newaxis].T,'least square', mode = 'markers',marker_dict = marker_dict_point) \n",
    "\n",
    "fig.show()"
   ]
  }
 ],
 "metadata": {
  "kernelspec": {
   "display_name": "base",
   "language": "python",
   "name": "python3"
  },
  "language_info": {
   "codemirror_mode": {
    "name": "ipython",
    "version": 3
   },
   "file_extension": ".py",
   "mimetype": "text/x-python",
   "name": "python",
   "nbconvert_exporter": "python",
   "pygments_lexer": "ipython3",
   "version": "3.10.9"
  }
 },
 "nbformat": 4,
 "nbformat_minor": 2
}
