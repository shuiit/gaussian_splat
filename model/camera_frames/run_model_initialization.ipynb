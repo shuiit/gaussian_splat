{
 "cells": [
  {
   "cell_type": "code",
   "execution_count": 9,
   "metadata": {},
   "outputs": [
    {
     "name": "stderr",
     "output_type": "stream",
     "text": [
      "d:\\Documents\\gaussian_splat\\model\\fly_model\\Skin.py:21: RuntimeWarning:\n",
      "\n",
      "invalid value encountered in divide\n",
      "\n"
     ]
    }
   ],
   "source": [
    "import sys\n",
    "import os\n",
    "parent_dir = os.path.abspath(os.path.join(os.getcwd(), '..','fly_model'))\n",
    "sys.path.insert(0, parent_dir)\n",
    "from Model import Model\n",
    "import matplotlib.pyplot as plt\n",
    "path_to_frame = 'G:/My Drive/Research/gaussian_splatting/gaussian_splatting_input/mov19_2022_03_03/'\n",
    "path_to_mesh = 'G:/My Drive/Research/gaussian_splatting/mesh'\n",
    "\n",
    "model = Model(path_to_mesh, path_to_frame)\n",
    "\n",
    "joint_to_update = [model.right_wing_skeleton_root,model.left_wing_skeleton_root]\n",
    "\n",
    "rotation = [[30,0,0],[-30,0,0]]\n",
    "[model.update_local_rotation(joint_to_update,rotation) for joint_to_update,rotation in zip(joint_to_update,rotation)]\n",
    "global_rotated,global_normals = model.update_skin_and_joints()\n"
   ]
  },
  {
   "cell_type": "code",
   "execution_count": 2,
   "metadata": {},
   "outputs": [],
   "source": [
    "import Plotter\n",
    "import plotly.graph_objects as go\n",
    "\n",
    "fig = go.Figure()\n",
    "Plotter.plot_skeleton(model.all_skin[0].bones,fig,marker_dict = {'size': 3},line_dict ={'width': 3})\n",
    "Plotter.plot_skin(fig,global_rotated,model.fly_skin,'body',color = model.fly_skin.weights[::10,3],skip_skin_points = 10)\n",
    "# Plotter.plot_skin(fig,all_skin,left_wing,'left wing')\n",
    "\n",
    "fig.show()"
   ]
  },
  {
   "cell_type": "code",
   "execution_count": 10,
   "metadata": {},
   "outputs": [
    {
     "data": {
      "text/plain": [
       "(123580, 3)"
      ]
     },
     "execution_count": 10,
     "metadata": {},
     "output_type": "execute_result"
    }
   ],
   "source": [
    "global_rotated.shape"
   ]
  },
  {
   "cell_type": "code",
   "execution_count": 1,
   "metadata": {},
   "outputs": [
    {
     "name": "stdout",
     "output_type": "stream",
     "text": [
      "Jupyter environment detected. Enabling Open3D WebVisualizer.\n",
      "[Open3D INFO] WebRTC GUI backend enabled.\n",
      "[Open3D INFO] WebRTCWindowSystem: HTTP handshake server disabled.\n"
     ]
    },
    {
     "name": "stderr",
     "output_type": "stream",
     "text": [
      "c:\\Users\\Roni\\Documents\\gaussian_splat\\gaussian_splat\\model\\fly_model\\Skin.py:21: RuntimeWarning:\n",
      "\n",
      "invalid value encountered in divide\n",
      "\n"
     ]
    }
   ],
   "source": [
    "\n",
    "# load model\n",
    "\n",
    "import sys\n",
    "import os\n",
    "parent_dir = os.path.abspath(os.path.join(os.getcwd(), '..','fly_model'))\n",
    "sys.path.insert(0, parent_dir)\n",
    "import numpy as np\n",
    "from Skin import Skin\n",
    "import plotly.graph_objects as go\n",
    "from Joint import Joint\n",
    "from Frame import Frame\n",
    "from Camera import Camera\n",
    "import scipy\n",
    "\n",
    "import numpy as np\n",
    "import Plotter\n",
    "from Skeleton import Skeleton\n",
    "from Skin import Skin\n",
    "import plotly.graph_objects as go\n",
    "import Utils\n",
    "import pandas as pd\n",
    "%matplotlib qt\n",
    "\n",
    "path_to_mesh = 'I:/My Drive/Research/gaussian_splatting/mesh'\n",
    "skin_parts = ['body','right_wing','left_wing']\n",
    "scale = 1/1000\n",
    "skin_translation = np.array([-0.1-1,0,1])*scale\n",
    "\n",
    "# initilize skeletone, joints and bones\n",
    "# body angles - yaw,pitch,roll\n",
    "# wing angles - phi, psi, theta\n",
    "pitch_body = 0\n",
    "\n",
    "\n",
    "root_no_bone = Joint([1,0,0],[0,-pitch_body,0],parent = None, end_joint_of_bone = False, scale = scale)\n",
    "neck = Joint([0.6,0,0.3],[0,pitch_body,0],parent = root_no_bone, end_joint_of_bone = False, scale = scale)\n",
    "neck_thorax =  Joint([0.6,0,0.3],[0,-25,0], parent = root_no_bone, end_joint_of_bone = False, scale = scale)\n",
    "head  =Joint([0.3,0,0],[0,0,0], parent = neck, scale = scale)\n",
    "thorax  =Joint([-1,0,0],[0,25,0], parent= neck_thorax ,scale = scale)\n",
    "abdomen = Joint([-1.3,0,0],[0,0,0], parent = thorax, scale = scale)\n",
    "right_sp_no_bone = Joint([0,0,0.3],[0,pitch_body,0],parent = root_no_bone, end_joint_of_bone = False , scale = scale, color = 'red', rotation_order = 'zxy')\n",
    "right_wing_root = Joint([0,-0.3,0],[0,0,0], parent = right_sp_no_bone, end_joint_of_bone = False, scale = scale, color = 'red',rotation_order = 'zxy')\n",
    "right_wing_tip = Joint([0,-2.2,0],[0,0,0], parent = right_wing_root, scale = scale, color = 'red',rotation_order = 'zxy')\n",
    "left_sp_no_bone = Joint([0,0,0.3],[0,pitch_body,0], parent = root_no_bone, end_joint_of_bone = False, scale = scale, color = 'blue',rotation_order = 'zxy')\n",
    "left_wing_root = Joint([0,0.3,0],[0,0,0],parent = left_sp_no_bone, end_joint_of_bone = False, scale = scale, color = 'blue',rotation_order = 'zxy')\n",
    "left_wing_tip = Joint([0,2.2,0],[0,0,0], parent =left_wing_root, scale = scale, color = 'blue',rotation_order = 'zxy')\n",
    "\n",
    "\n",
    "body = Skin(f'{path_to_mesh}/body.stl',scale = 1.05,color = 'lime')\n",
    "right_wing = Skin(f'{path_to_mesh}/right_wing.stl',scale = 1.05,constant_weight = right_wing_root,color = 'crimson')\n",
    "left_wing = Skin(f'{path_to_mesh}/left_wing.stl',scale = 1.05, constant_weight = left_wing_root,color = 'dodgerblue')\n"
   ]
  },
  {
   "cell_type": "code",
   "execution_count": 2,
   "metadata": {},
   "outputs": [],
   "source": [
    "# initilize joints\n",
    "joints_of_bone = root_no_bone.get_and_assign_bones()\n",
    "[skin.add_bones(joints_of_bone) for skin in  [body, right_wing,left_wing]]\n",
    "[skin.translate_ptcloud_skin(skin_translation) for skin in  [body, right_wing,left_wing]]\n",
    "body.calculate_weights_dist(body.bones[0:3])\n",
    "right_wing.calculate_weights_constant()\n",
    "left_wing.calculate_weights_constant()\n",
    "\n",
    "joint_list = root_no_bone.get_list_of_joints()\n",
    "list_joints_pitch_update = [neck,right_sp_no_bone,left_sp_no_bone]\n",
    "\n",
    "\n",
    "# all_skin_points = [skin.rotate_skin_points() for skin in [body,right_wing,left_wing]]\n",
    "# all_skin_normals = [skin.rotate_skin_normals() for skin in [body,right_wing,left_wing]]\n",
    "\n",
    "\n"
   ]
  },
  {
   "cell_type": "code",
   "execution_count": 3,
   "metadata": {},
   "outputs": [],
   "source": [
    "# load frames and cameras\n",
    "from Frame import Frame\n",
    "\n",
    "path = 'I:/My Drive/Research/gaussian_splatting/gaussian_splatting_input/mov19_2022_03_03/'\n",
    "frames = list(range(900,970,1))\n",
    "image_name= []\n",
    "for frame in frames:\n",
    "    image_name += [f'P{frame}CAM{cam + 1}' for cam in range(4)]\n",
    "\n",
    "frames = {f'{im_name}.jpg':Frame(path,im_name,idx) for idx,im_name in enumerate(image_name)}\n"
   ]
  },
  {
   "cell_type": "code",
   "execution_count": 5,
   "metadata": {},
   "outputs": [],
   "source": [
    "# hull reconstruction \n",
    "\n",
    "def get_hull_part(part,real_coord):\n",
    "    points_3d_frame = points_3d[part][points_3d[part]['frame'] == 900]\n",
    "    real_coord_frame = real_coord[real_coord[:,3] == 900,:]\n",
    "    points_in_ew_frame = np.array([real_coord_frame[points_3d_frame[ax] - 1,idx] for idx,ax in enumerate(['X','Y','Z'])]).T\n",
    "    points_in_ew_frame  = np.column_stack((points_in_ew_frame,np.arange(1,points_in_ew_frame.shape[0] + 1)))\n",
    "    return points_in_ew_frame\n",
    "points_3d = {body_wing : pd.DataFrame(Utils.load_hull(body_wing,path),columns = ['X','Y','Z','frame']) for body_wing in ['body','rwing','lwing']}\n",
    "real_coord = scipy.io.loadmat(f'{path}/3d_pts/real_coord.mat')['all_coords']\n",
    "\n",
    "hull = [get_hull_part(part,real_coord) for part in list(points_3d.keys())]"
   ]
  },
  {
   "cell_type": "code",
   "execution_count": 4,
   "metadata": {},
   "outputs": [],
   "source": [
    "frame_number = 910 \n",
    "frame_names = ['P900CAM1.jpg','P900CAM2.jpg','P900CAM3.jpg','P900CAM4.jpg']\n",
    "frame_names = [f'P{frame_number}CAM{idx}.jpg' for idx in range(1,5)]\n",
    "\n",
    "camera_pixel = np.vstack([frames[frame].camera_center_to_pixel_ray(frames[frame].cm) for frame in  frame_names])\n",
    "camera_center = np.vstack([frames[frame].X0.T for frame in  frame_names])\n",
    "rot_mat_ew_to_lab = frames['P900CAM1.jpg'].rotation_matrix_from_vectors(frames['P900CAM1.jpg'].R[2,:], [0,0,1])\n",
    "cm_point = Utils.triangulate_least_square(camera_center,camera_pixel)\n",
    "cm_point_lab = np.squeeze(np.dot(rot_mat_ew_to_lab,cm_point[:,np.newaxis]).T)\n",
    "\n",
    "\n"
   ]
  },
  {
   "cell_type": "code",
   "execution_count": 6,
   "metadata": {},
   "outputs": [],
   "source": [
    "\n",
    "fig = go.Figure()\n",
    "Plotter.plot_skeleton(body.bones,fig,marker_dict = {'size': 3},line_dict ={'width': 3})\n",
    "Plotter.plot_skin(fig,body.ptcloud_skin,body,'body',skip_skin_points = 1, size = 1)\n",
    "Plotter.plot_skin(fig,right_wing.ptcloud_skin,right_wing,'right wing',size = 1,skip_skin_points = 1)\n",
    "Plotter.plot_skin(fig,left_wing.ptcloud_skin,left_wing,'left wing',size = 1,skip_skin_points = 1)\n",
    "# Plotter.plot_skin(fig,all_skin,left_wing,'left wing')\n",
    "4\n",
    "fig.show()"
   ]
  },
  {
   "cell_type": "code",
   "execution_count": 11,
   "metadata": {},
   "outputs": [
    {
     "data": {
      "text/plain": [
       "array([-0.00154725,  0.00540915,  0.00833845])"
      ]
     },
     "execution_count": 11,
     "metadata": {},
     "output_type": "execute_result"
    }
   ],
   "source": [
    "cm_point_lab + np.array([-0.2,-0.4,0.22])*1/1000"
   ]
  },
  {
   "cell_type": "code",
   "execution_count": 8,
   "metadata": {},
   "outputs": [],
   "source": [
    "# update model position\n",
    "\n",
    "pitch = -47\n",
    "root_no_bone.set_local_translation([-0.0015,0.0053,0.0083])\n",
    "root_no_bone.set_local_rotation([244,pitch,-5])\n",
    "[joint.set_local_rotation([0,-pitch,0]) for joint in list_joints_pitch_update]\n",
    "# thorax.set_local_rotation([0,-10,0])\n",
    "right_wing_root.set_local_rotation([-17,-119,6])\n",
    "left_wing_root.set_local_rotation([33,-115,-6])\n",
    "[joint.update_rotation() for joint in joint_list]\n",
    "\n",
    "all_skin_points_parts = [skin.rotate_skin_points() for skin in [body,right_wing,left_wing]]\n",
    "all_skin_normals_parts = [skin.rotate_skin_normals() for skin in [body,right_wing,left_wing]]\n",
    "all_skin = np.unique(np.vstack(all_skin_points_parts),axis = 0)"
   ]
  },
  {
   "cell_type": "code",
   "execution_count": 10,
   "metadata": {},
   "outputs": [],
   "source": [
    "import matplotlib.pyplot as plt\n",
    "import pickle\n",
    "name_folder = f'model_pose_time_color_v2'\n",
    "key = 969\n",
    "model_path = os.path.join(f\"I:/My Drive/Research/gaussian_splatting/gaussian_splatting_output/gaussian_splattimg_output_model/{name_folder}/\", f'{key}/body_wing_pose.pkl')\n",
    "\n",
    "with open(model_path, 'rb') as file:\n",
    "    data_dict_original = pickle.load(file)\n",
    "\n",
    "plt.figure(),plt.plot(data_dict_original['right_wing'][:,0])\n",
    "plt.plot(data_dict_original['left_wing'][:,0])\n",
    "plt.figure(),plt.plot(data_dict_original['right_wing'][:,1])\n",
    "plt.plot(data_dict_original['left_wing'][:,1])\n",
    "plt.figure(),plt.plot(data_dict_original['right_wing'][:,2])\n",
    "plt.plot(data_dict_original['left_wing'][:,2])\n",
    "\n",
    "for k in range(3):\n",
    "    plt.figure(),plt.plot(data_dict_original['body_angle'][:,k])\n",
    "    plt.plot(data_dict_original['body_angle'][:,k])"
   ]
  },
  {
   "cell_type": "code",
   "execution_count": 12,
   "metadata": {},
   "outputs": [],
   "source": [
    "# update model position\n",
    "\n",
    "pitch = -47\n",
    "\n",
    "idx = 0\n",
    "root_no_bone.set_local_translation(data_dict_original['body_location'][idx])\n",
    "root_no_bone.set_local_rotation(data_dict_original['body_angle'][idx])\n",
    "[joint.set_local_rotation([0,-pitch,0]) for joint in list_joints_pitch_update]\n",
    "# thorax.set_local_rotation([0,-10,0])\n",
    "right_wing_root.set_local_rotation(data_dict_original['right_wing'][idx])\n",
    "left_wing_root.set_local_rotation(data_dict_original['left_wing'][idx])\n",
    "[joint.update_rotation() for joint in joint_list]\n",
    "\n",
    "all_skin_points_parts = [skin.rotate_skin_points() for skin in [body,right_wing,left_wing]]\n",
    "all_skin_normals_parts = [skin.rotate_skin_normals() for skin in [body,right_wing,left_wing]]\n",
    "all_skin = np.unique(np.vstack(all_skin_points_parts),axis = 0)\n",
    "\n"
   ]
  },
  {
   "cell_type": "code",
   "execution_count": 17,
   "metadata": {},
   "outputs": [],
   "source": [
    "\n",
    "fig = go.Figure()\n",
    "Plotter.plot_skeleton(body.bones,fig,marker_dict = {'size': 3},line_dict ={'width': 3})\n",
    "Plotter.plot_skin(fig,all_skin_points_parts[0],body,'body',skip_skin_points = 1)\n",
    "Plotter.plot_skin(fig,all_skin_points_parts[1],right_wing,'right wing',skip_skin_points = 1)\n",
    "Plotter.plot_skin(fig,all_skin_points_parts[2],left_wing,'left wing',skip_skin_points = 1)\n",
    "# Plotter.plot_skin(fig,all_skin,left_wing,'left wing')\n",
    "\n",
    "fig.show()"
   ]
  },
  {
   "cell_type": "code",
   "execution_count": 93,
   "metadata": {},
   "outputs": [
    {
     "data": {
      "text/plain": [
       "array([[-0.00097193,  0.00682449,  0.00753745],\n",
       "       [-0.00097616,  0.00682616,  0.00753807],\n",
       "       [-0.0010249 ,  0.00684294,  0.00753453],\n",
       "       ...,\n",
       "       [ 0.000551  ,  0.00596178,  0.00839313],\n",
       "       [ 0.0004502 ,  0.00595886,  0.00841551],\n",
       "       [ 0.00055223,  0.00595596,  0.0084    ]])"
      ]
     },
     "execution_count": 93,
     "metadata": {},
     "output_type": "execute_result"
    }
   ],
   "source": [
    "[-0.0015,0.0054,0.0083]\n",
    "[249,-25,0]\n",
    "[-27,-115,10]"
   ]
  },
  {
   "cell_type": "code",
   "execution_count": 13,
   "metadata": {},
   "outputs": [
    {
     "name": "stderr",
     "output_type": "stream",
     "text": [
      "C:\\Users\\Roni\\AppData\\Local\\Temp\\ipykernel_18496\\3991537193.py:14: UserWarning:\n",
      "\n",
      "No data for colormapping provided via 'c'. Parameters 'cmap' will be ignored\n",
      "\n"
     ]
    }
   ],
   "source": [
    "# rotate to easy wand and project to 2d\n",
    "import matplotlib.pyplot as plt\n",
    "frame_number = 900\n",
    "\n",
    "frame_name = f'P{frame_number}CAM4.jpg'\n",
    "all_skin_in_ew = np.dot(rot_mat_ew_to_lab.T,all_skin.T).T\n",
    "projeced = frames[frame_name].project_with_proj_mat(all_skin_in_ew)\n",
    "fig,ax = plt.subplots(2,2)\n",
    "\n",
    "for idx in range(4):\n",
    "    all_skin_in_ew = np.dot(rot_mat_ew_to_lab.T,all_skin.T).T\n",
    "    projeced = frames[f'P{frame_number}CAM{idx + 1}.jpg'].project_with_proj_mat(all_skin_in_ew)\n",
    "    ax[idx//2,np.mod(idx,2)].imshow(frames[f'P{frame_number}CAM{idx + 1}.jpg'].image_with_bg, cmap = 'gray')\n",
    "    ax[idx//2,np.mod(idx,2)].scatter(projeced[:,0],projeced[:,1],color = 'red', alpha = 0.05, s= 2,cmap = 'gray')\n"
   ]
  },
  {
   "cell_type": "code",
   "execution_count": null,
   "metadata": {},
   "outputs": [],
   "source": [
    "# generate frames dictionary\n",
    "\n",
    "\n",
    "\n",
    "frames_dict = {}\n",
    "for frame_number in range(900,970):\n",
    "    \n",
    "\n",
    "\n",
    "    cams,base_images = {},{}\n",
    "    for idx in range(4):\n",
    "        frame_name = f'P{frame_number}CAM{idx+1}.jpg'\n",
    "        frame = frames[frame_name]\n",
    "        all_skin_in_ew_homo = frame.homogenize_coordinate(all_skin_in_ew)\n",
    "        frame.map_3d_2d(all_skin_in_ew_homo, croped_image = False,use_zbuff = True)\n",
    "        base_images[frame.image_id] = frame.generate_base_image()\n",
    "        frame.save_croped_images()\n",
    "        cams[frame.camera_number] = frame.cams_for_gs()\n",
    "    frames_dict[frame_number] = [base_images,cams,[frame.voxels_with_idx[:,0:3],np.full(frame.voxels_with_idx[:,0:3].shape,int(100))]]\n",
    "\n",
    "Utils.pickle_file(frames_dict,f'{frame.path}/input_data_for_gs/sparse/frames_model.pkl' )\n"
   ]
  },
  {
   "cell_type": "code",
   "execution_count": null,
   "metadata": {},
   "outputs": [],
   "source": [
    "data_dict_original['']"
   ]
  },
  {
   "cell_type": "code",
   "execution_count": 80,
   "metadata": {},
   "outputs": [
    {
     "data": {
      "text/plain": [
       "array([  34.941555, -116.3183  ,   -6.587137], dtype=float32)"
      ]
     },
     "execution_count": 80,
     "metadata": {},
     "output_type": "execute_result"
    }
   ],
   "source": [
    "data_dict_original['left_wing'][0]"
   ]
  },
  {
   "cell_type": "code",
   "execution_count": 61,
   "metadata": {},
   "outputs": [
    {
     "data": {
      "text/plain": [
       "(<Figure size 640x480 with 1 Axes>,\n",
       " [<matplotlib.lines.Line2D at 0x14b20fb6020>])"
      ]
     },
     "execution_count": 61,
     "metadata": {},
     "output_type": "execute_result"
    }
   ],
   "source": [
    "plt.figure(),plt.plot(data_dict_original['right_wing'][:,1],data_dict_original['right_wing'][:,0])"
   ]
  },
  {
   "cell_type": "code",
   "execution_count": 53,
   "metadata": {},
   "outputs": [
    {
     "data": {
      "text/plain": [
       "array([-120.39326 , -128.65698 , -131.7047  , -131.86008 , -130.45741 ,\n",
       "       -129.21692 , -126.21735 , -125.73161 , -121.94799 , -119.584785,\n",
       "       -113.76786 , -109.58079 , -103.78034 , -100.68551 ,  -93.3805  ,\n",
       "        -91.32281 ,  -86.05099 ,  -85.56294 ,  -86.92758 ,  -90.72246 ,\n",
       "       -101.35927 , -108.77717 , -115.70123 , -116.01024 , -113.11601 ,\n",
       "       -103.35256 , -100.02493 ,  -98.59268 ,  -93.4529  ,  -92.16294 ,\n",
       "        -88.626945,  -85.65033 ,  -74.43937 ,  -65.00436 ,  -55.864788,\n",
       "        -51.943813,  -47.335247,  -43.23212 ,  -40.85217 ,  -35.941032,\n",
       "        -33.54621 ,  -32.977886,  -35.353325,  -39.722183,  -41.249855,\n",
       "        -43.374043,  -44.960377,  -46.315186,  -50.139603,  -54.086468,\n",
       "        -58.12327 ,  -61.566113,  -65.1902  ,  -70.096085,  -73.96886 ,\n",
       "        -80.13898 ,  -88.33187 ,  -92.247665,  -97.011856,  -99.53819 ,\n",
       "       -102.21485 , -106.91495 , -106.91686 , -110.81933 , -113.009056,\n",
       "       -118.42314 , -120.86291 , -132.27844 , -153.85031 , -165.0353  ],\n",
       "      dtype=float32)"
      ]
     },
     "execution_count": 53,
     "metadata": {},
     "output_type": "execute_result"
    }
   ],
   "source": [
    "data_dict_original['right_wing'][:,1]"
   ]
  },
  {
   "cell_type": "code",
   "execution_count": null,
   "metadata": {},
   "outputs": [],
   "source": [
    "# load frames and cameras\n",
    "\n",
    "path = 'G:/My Drive/Research/gaussian_splatting/gaussian_splatting_input/mov19_2022_03_03/'\n",
    "frames = list(range(900,910,1))\n",
    "image_name= []\n",
    "for frame in frames:\n",
    "    image_name += [f'P{frame}CAM{cam + 1}' for cam in range(4)]\n",
    "\n",
    "frames = {f'{im_name}.jpg':Frame(path,im_name,idx) for idx,im_name in enumerate(image_name)}\n"
   ]
  },
  {
   "cell_type": "code",
   "execution_count": null,
   "metadata": {},
   "outputs": [],
   "source": [
    "path = 'G:/My Drive/Research/gaussian_splatting/gaussian_splatting_input/mov19_2022_03_03/'\n",
    "# map 3d voxels to 2d pixels    \n",
    "\n",
    "[frames[im_name].map_3d_2d(croped_image = True, use_zbuff = True) for im_name in frames.keys()]\n",
    "voxel_dict,colors_dict = Utils.get_dict_for_points3d(frames)\n",
    "ggs = GenerateGsInput(path,frames)\n",
    "frames_dict = {}\n",
    "idx = 0\n",
    "for frame in range(1407,1430):\n",
    "    \n",
    "    image_name,points_in_idx = Utils.define_frames([frame],points_3d)\n",
    "    cameras = {f'cam{cam + 1}':Camera(path,cam) for cam in range(4)}\n",
    "    frames = {f'{im_name}.jpg':Frame(path,im_name,points_in_idx[im_name.split('CAM')[0]],real_coord,idx) for idx,im_name in enumerate(image_name)}\n",
    "    [frames[im_name].map_3d_2d(croped_image = True, use_zbuff = True) for im_name in frames.keys()]\n",
    "    voxel_dict,colors_dict = Utils.get_dict_for_points3d(frames)\n",
    "    ggs = GenerateGsInput(path,frames)\n",
    "    \n",
    "    ggs.save_croped_images(croped_image = True)\n",
    "    ggs.generate_camera_text(croped_image = True)\n",
    "    ggs.generate_image_text()\n",
    "    ggs.generate_points3d_text(voxel_dict,colors_dict)\n",
    "    base_images = ggs.generate_base_image()\n",
    "    cams = ggs.generate_cams(croped_image = True)\n",
    "    xyz,rgb = ggs.generate_xyz_rgb(voxel_dict,colors_dict)\n",
    "    frames_dict[frame] = [base_images,cams,[xyz,rgb]]\n",
    "    idx += 1\n",
    "\n",
    "\n",
    "Utils.pickle_file(frames_dict,f'{ggs.sparse_dir}/frames_zbuff.pkl' )\n"
   ]
  },
  {
   "cell_type": "code",
   "execution_count": 12,
   "metadata": {},
   "outputs": [
    {
     "data": {
      "text/plain": [
       "array([  3,   5,  11, ..., 124, 124, 124], dtype=uint16)"
      ]
     },
     "execution_count": 12,
     "metadata": {},
     "output_type": "execute_result"
    }
   ],
   "source": [
    "frames[frame_name].map_3d_2d(all_skin_in_ew_homo, croped_image = False,use_zbuff = True)\n",
    "frames[frame_name].color_of_pixel"
   ]
  },
  {
   "cell_type": "code",
   "execution_count": null,
   "metadata": {},
   "outputs": [],
   "source": []
  },
  {
   "cell_type": "code",
   "execution_count": 8,
   "metadata": {},
   "outputs": [
    {
     "ename": "AttributeError",
     "evalue": "'Frame' object has no attribute 'color_of_pixel'",
     "output_type": "error",
     "traceback": [
      "\u001b[1;31m---------------------------------------------------------------------------\u001b[0m",
      "\u001b[1;31mAttributeError\u001b[0m                            Traceback (most recent call last)",
      "Cell \u001b[1;32mIn[8], line 4\u001b[0m\n\u001b[0;32m      2\u001b[0m all_skin_in_ew_homo \u001b[38;5;241m=\u001b[39m frames[frame_name]\u001b[38;5;241m.\u001b[39mhomogenize_coordinate(all_skin_in_ew)\n\u001b[0;32m      3\u001b[0m frames[frame_name]\u001b[38;5;241m.\u001b[39mmap_3d_2d(all_skin_in_ew_homo, croped_image \u001b[38;5;241m=\u001b[39m \u001b[38;5;28;01mFalse\u001b[39;00m,use_zbuff \u001b[38;5;241m=\u001b[39m \u001b[38;5;28;01mTrue\u001b[39;00m)\n\u001b[1;32m----> 4\u001b[0m voxel_dict,colors_dict \u001b[38;5;241m=\u001b[39m \u001b[43mUtils\u001b[49m\u001b[38;5;241;43m.\u001b[39;49m\u001b[43mget_dict_for_points3d\u001b[49m\u001b[43m(\u001b[49m\u001b[43mframes\u001b[49m\u001b[43m)\u001b[49m\n",
      "File \u001b[1;32md:\\Documents\\gaussian_splat\\model\\camera_frames\\Utils.py:38\u001b[0m, in \u001b[0;36mget_dict_for_points3d\u001b[1;34m(frames)\u001b[0m\n\u001b[0;32m     20\u001b[0m \u001b[38;5;124;03m\"\"\"\u001b[39;00m\n\u001b[0;32m     21\u001b[0m \u001b[38;5;124;03mCreate dictionaries mapping 3D voxel positions and their mean colors.\u001b[39;00m\n\u001b[0;32m     22\u001b[0m \n\u001b[1;32m   (...)\u001b[0m\n\u001b[0;32m     34\u001b[0m \u001b[38;5;124;03m        - dict: A dictionary mapping voxel identifiers to their mean color values (list of floats).\u001b[39;00m\n\u001b[0;32m     35\u001b[0m \u001b[38;5;124;03m\"\"\"\u001b[39;00m\n\u001b[0;32m     37\u001b[0m \u001b[38;5;66;03m# generates the dictionary of all 3d-2d mappings from every frame. \u001b[39;00m\n\u001b[1;32m---> 38\u001b[0m colors \u001b[38;5;241m=\u001b[39m np\u001b[38;5;241m.\u001b[39mhstack([frames[im_name]\u001b[38;5;241m.\u001b[39mcolor_of_pixel \u001b[38;5;28;01mfor\u001b[39;00m im_name \u001b[38;5;129;01min\u001b[39;00m frames\u001b[38;5;241m.\u001b[39mkeys()])\n\u001b[0;32m     39\u001b[0m all_voxels \u001b[38;5;241m=\u001b[39m np\u001b[38;5;241m.\u001b[39mcolumn_stack((np\u001b[38;5;241m.\u001b[39mvstack(([(frames[im_name]\u001b[38;5;241m.\u001b[39mvoxels_with_idx) \u001b[38;5;28;01mfor\u001b[39;00m im_name \u001b[38;5;129;01min\u001b[39;00m frames\u001b[38;5;241m.\u001b[39mkeys()])),colors))\n\u001b[0;32m     40\u001b[0m unique_voxels  \u001b[38;5;241m=\u001b[39m np\u001b[38;5;241m.\u001b[39munique(all_voxels[:,\u001b[38;5;241m0\u001b[39m:\u001b[38;5;241m4\u001b[39m],axis \u001b[38;5;241m=\u001b[39m \u001b[38;5;241m0\u001b[39m)\n",
      "File \u001b[1;32md:\\Documents\\gaussian_splat\\model\\camera_frames\\Utils.py:38\u001b[0m, in \u001b[0;36m<listcomp>\u001b[1;34m(.0)\u001b[0m\n\u001b[0;32m     20\u001b[0m \u001b[38;5;124;03m\"\"\"\u001b[39;00m\n\u001b[0;32m     21\u001b[0m \u001b[38;5;124;03mCreate dictionaries mapping 3D voxel positions and their mean colors.\u001b[39;00m\n\u001b[0;32m     22\u001b[0m \n\u001b[1;32m   (...)\u001b[0m\n\u001b[0;32m     34\u001b[0m \u001b[38;5;124;03m        - dict: A dictionary mapping voxel identifiers to their mean color values (list of floats).\u001b[39;00m\n\u001b[0;32m     35\u001b[0m \u001b[38;5;124;03m\"\"\"\u001b[39;00m\n\u001b[0;32m     37\u001b[0m \u001b[38;5;66;03m# generates the dictionary of all 3d-2d mappings from every frame. \u001b[39;00m\n\u001b[1;32m---> 38\u001b[0m colors \u001b[38;5;241m=\u001b[39m np\u001b[38;5;241m.\u001b[39mhstack([\u001b[43mframes\u001b[49m\u001b[43m[\u001b[49m\u001b[43mim_name\u001b[49m\u001b[43m]\u001b[49m\u001b[38;5;241;43m.\u001b[39;49m\u001b[43mcolor_of_pixel\u001b[49m \u001b[38;5;28;01mfor\u001b[39;00m im_name \u001b[38;5;129;01min\u001b[39;00m frames\u001b[38;5;241m.\u001b[39mkeys()])\n\u001b[0;32m     39\u001b[0m all_voxels \u001b[38;5;241m=\u001b[39m np\u001b[38;5;241m.\u001b[39mcolumn_stack((np\u001b[38;5;241m.\u001b[39mvstack(([(frames[im_name]\u001b[38;5;241m.\u001b[39mvoxels_with_idx) \u001b[38;5;28;01mfor\u001b[39;00m im_name \u001b[38;5;129;01min\u001b[39;00m frames\u001b[38;5;241m.\u001b[39mkeys()])),colors))\n\u001b[0;32m     40\u001b[0m unique_voxels  \u001b[38;5;241m=\u001b[39m np\u001b[38;5;241m.\u001b[39munique(all_voxels[:,\u001b[38;5;241m0\u001b[39m:\u001b[38;5;241m4\u001b[39m],axis \u001b[38;5;241m=\u001b[39m \u001b[38;5;241m0\u001b[39m)\n",
      "\u001b[1;31mAttributeError\u001b[0m: 'Frame' object has no attribute 'color_of_pixel'"
     ]
    }
   ],
   "source": [
    "# get_color from image and plot\n",
    "all_skin_in_ew_homo = frames[frame_name].homogenize_coordinate(all_skin_in_ew)\n",
    "frames[frame_name].map_3d_2d(all_skin_in_ew_homo, croped_image = False,use_zbuff = True)\n",
    "voxel_dict,colors_dict = Utils.get_dict_for_points3d(frames)\n"
   ]
  },
  {
   "cell_type": "code",
   "execution_count": 13,
   "metadata": {},
   "outputs": [
    {
     "ename": "AttributeError",
     "evalue": "module 'Utils' has no attribute 'get_dict_for_points3d'",
     "output_type": "error",
     "traceback": [
      "\u001b[1;31m---------------------------------------------------------------------------\u001b[0m",
      "\u001b[1;31mAttributeError\u001b[0m                            Traceback (most recent call last)",
      "Cell \u001b[1;32mIn[13], line 1\u001b[0m\n\u001b[1;32m----> 1\u001b[0m voxel_dict,colors_dict \u001b[38;5;241m=\u001b[39m \u001b[43mUtils\u001b[49m\u001b[38;5;241;43m.\u001b[39;49m\u001b[43mget_dict_for_points3d\u001b[49m(frames)\n",
      "\u001b[1;31mAttributeError\u001b[0m: module 'Utils' has no attribute 'get_dict_for_points3d'"
     ]
    }
   ],
   "source": [
    "fig = go.Figure()\n",
    "Plotter.plot_skin(fig,all_skin[::,:],right_wing,'body', color = frames[frame_name].color_of_pixel[::10],colorscale = 'gray')\n",
    "fig.show()"
   ]
  },
  {
   "cell_type": "code",
   "execution_count": 100,
   "metadata": {},
   "outputs": [],
   "source": [
    "scale_camera_center = np.vstack((np.array([[0.26,0.16,0.16,0.16]]),np.array([[0.3,0.22,0.22,0.22]]))).T\n",
    "scale_vectors = np.vstack((np.array([[0.26,0.16,0.16,0.16]]),np.array([[0.3,0.22,0.22,0.22]]))).T\n",
    "\n",
    "\n",
    "rotated_vec = [Utils.rotate_vector_direction_and_clip(rot_mat_ew_to_lab, np.vstack((center,pixel)), scale[:,np.newaxis]) for center,pixel,scale in  zip(camera_center,camera_pixel,scale_vectors)]\n",
    "\n",
    "points_in_ew_frame_rotated = [np.dot(rot_mat_ew_to_lab,part[:,0:3].T).T for part in hull]\n"
   ]
  },
  {
   "cell_type": "code",
   "execution_count": 101,
   "metadata": {},
   "outputs": [],
   "source": [
    "\n",
    "fig = go.Figure()\n",
    "Plotter.scatter3d(fig,all_skin[::10,:],'skin', mode = 'markers',marker_dict =  {'color': 'black'}) \n",
    "\n",
    "Plotter.scatter3d(fig,points_in_ew_frame_rotated[0],'hull_body', mode = 'markers',marker_dict =  {'color': 'blue'}) \n",
    "Plotter.scatter3d(fig,points_in_ew_frame_rotated[1],'hull_rwing', mode = 'markers',marker_dict = { 'color': 'magenta'}) \n",
    "Plotter.scatter3d(fig,points_in_ew_frame_rotated[2],'hull_lwing', mode = 'markers',marker_dict = {'color':'cyan'}) \n",
    "\n",
    "marker_dict_point = {'size': 5, 'color': 'magenta'}\n",
    "\n",
    "Plotter.scatter3d(fig,cm_point_lab[np.newaxis],'least square', mode = 'markers',marker_dict = {'size': 5, 'color': 'blue'}) \n",
    "\n",
    "[Plotter.scatter3d(fig,rotated_vec,idx, mode = 'lines+markers',marker_dict = {'size': 5, 'color': [[255,0,0],[0,255,0]]}) for rotated_vec,idx in zip(rotated_vec,range(4))]\n",
    "# [Plotter.scatter3d(fig,np.vstack((origin,end)),idx, mode = 'lines',line_dict = {'width': 3, 'color': 'red'}) for origin,end,idx in zip(camera_center_lab, camera_pixel_lab,range(4))]\n",
    "\n",
    "fig.show()"
   ]
  }
 ],
 "metadata": {
  "kernelspec": {
   "display_name": "fly_model",
   "language": "python",
   "name": "python3"
  },
  "language_info": {
   "codemirror_mode": {
    "name": "ipython",
    "version": 3
   },
   "file_extension": ".py",
   "mimetype": "text/x-python",
   "name": "python",
   "nbconvert_exporter": "python",
   "pygments_lexer": "ipython3",
   "version": "3.10.16"
  }
 },
 "nbformat": 4,
 "nbformat_minor": 2
}
