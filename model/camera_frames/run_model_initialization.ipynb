{
 "cells": [
  {
   "cell_type": "code",
   "execution_count": 1,
   "metadata": {},
   "outputs": [
    {
     "name": "stdout",
     "output_type": "stream",
     "text": [
      "Jupyter environment detected. Enabling Open3D WebVisualizer.\n",
      "[Open3D INFO] WebRTC GUI backend enabled.\n",
      "[Open3D INFO] WebRTCWindowSystem: HTTP handshake server disabled.\n"
     ]
    },
    {
     "name": "stderr",
     "output_type": "stream",
     "text": [
      "d:\\Documents\\gaussian_splat\\model\\fly_model\\Skin.py:21: RuntimeWarning:\n",
      "\n",
      "invalid value encountered in divide\n",
      "\n"
     ]
    }
   ],
   "source": [
    "\n",
    "# load model\n",
    "\n",
    "import sys\n",
    "import os\n",
    "parent_dir = os.path.abspath(os.path.join(os.getcwd(), '..','fly_model'))\n",
    "sys.path.insert(0, parent_dir)\n",
    "import numpy as np\n",
    "from Skin import Skin\n",
    "import plotly.graph_objects as go\n",
    "from Joint import Joint\n",
    "from Frame import Frame\n",
    "from Camera import Camera\n",
    "import scipy\n",
    "\n",
    "import numpy as np\n",
    "import Plotter\n",
    "from Skeleton import Skeleton\n",
    "from Skin import Skin\n",
    "import plotly.graph_objects as go\n",
    "import Utils\n",
    "import pandas as pd\n",
    "%matplotlib qt\n",
    "\n",
    "path_to_mesh = 'G:/My Drive/Research/gaussian_splatting/mesh'\n",
    "skin_parts = ['body','right_wing','left_wing']\n",
    "scale = 1/1000\n",
    "skin_translation = np.array([-0.1-1,0,1])*scale\n",
    "\n",
    "# initilize skeletone, joints and bones\n",
    "# body angles - yaw,pitch,roll\n",
    "# wing angles - phi, psi, theta\n",
    "pitch_body = 0\n",
    "\n",
    "\n",
    "root_no_bone = Joint([1,0,0],[0,-pitch_body,0],parent = None, end_joint_of_bone = False, scale = scale)\n",
    "neck = Joint([0.6,0,0.3],[0,pitch_body,0],parent = root_no_bone, end_joint_of_bone = False, scale = scale)\n",
    "neck_thorax =  Joint([0.6,0,0.3],[0,-25,0], parent = root_no_bone, end_joint_of_bone = False, scale = scale)\n",
    "head  =Joint([0.3,0,0],[0,0,0], parent = neck, scale = scale)\n",
    "thorax  =Joint([-1,0,0],[0,25,0], parent= neck_thorax ,scale = scale)\n",
    "abdomen = Joint([-1.3,0,0],[0,0,0], parent = thorax, scale = scale)\n",
    "right_sp_no_bone = Joint([0,0,0.3],[0,pitch_body,0],parent = root_no_bone, end_joint_of_bone = False , scale = scale, color = 'red', rotation_order = 'zxy')\n",
    "right_wing_root = Joint([0,-0.3,0],[0,0,0], parent = right_sp_no_bone, end_joint_of_bone = False, scale = scale, color = 'red',rotation_order = 'zxy')\n",
    "right_wing_tip = Joint([0,-2.2,0],[0,0,0], parent = right_wing_root, scale = scale, color = 'red',rotation_order = 'zxy')\n",
    "left_sp_no_bone = Joint([0,0,0.3],[0,pitch_body,0], parent = root_no_bone, end_joint_of_bone = False, scale = scale, color = 'blue',rotation_order = 'zxy')\n",
    "left_wing_root = Joint([0,0.3,0],[0,0,0],parent = left_sp_no_bone, end_joint_of_bone = False, scale = scale, color = 'blue',rotation_order = 'zxy')\n",
    "left_wing_tip = Joint([0,2.2,0],[0,0,0], parent =left_wing_root, scale = scale, color = 'blue',rotation_order = 'zxy')\n",
    "\n",
    "\n",
    "body = Skin(f'{path_to_mesh}/body.stl',scale = 1.1,color = 'lime')\n",
    "right_wing = Skin(f'{path_to_mesh}/right_wing.stl',scale = 1.1,constant_weight = right_wing_root,color = 'crimson')\n",
    "left_wing = Skin(f'{path_to_mesh}/left_wing.stl',scale = 1.1, constant_weight = left_wing_root,color = 'dodgerblue')\n"
   ]
  },
  {
   "cell_type": "code",
   "execution_count": 2,
   "metadata": {},
   "outputs": [],
   "source": [
    "# initilize joints\n",
    "joints_of_bone = root_no_bone.get_and_assign_bones()\n",
    "[skin.add_bones(joints_of_bone) for skin in  [body, right_wing,left_wing]]\n",
    "[skin.translate_ptcloud_skin(skin_translation) for skin in  [body, right_wing,left_wing]]\n",
    "body.calculate_weights_dist(body.bones[0:3])\n",
    "right_wing.calculate_weights_constant()\n",
    "left_wing.calculate_weights_constant()\n",
    "\n",
    "joint_list = root_no_bone.get_list_of_joints()\n",
    "list_joints_pitch_update = [neck,right_sp_no_bone,left_sp_no_bone]\n",
    "\n",
    "\n",
    "all_skin_points = [skin.rotate_skin_points() for skin in [body,right_wing,left_wing]]\n",
    "all_skin_normals = [skin.rotate_skin_normals() for skin in [body,right_wing,left_wing]]\n",
    "\n",
    "\n"
   ]
  },
  {
   "cell_type": "code",
   "execution_count": 3,
   "metadata": {},
   "outputs": [],
   "source": [
    "# load frames and cameras\n",
    "\n",
    "path = 'G:/My Drive/Research/gaussian_splatting/gaussian_splatting_input/mov19_2022_03_03/'\n",
    "frames = list(range(900,910,1))\n",
    "image_name= []\n",
    "for frame in frames:\n",
    "    image_name += [f'P{frame}CAM{cam + 1}' for cam in range(4)]\n",
    "\n",
    "frames = {f'{im_name}.jpg':Frame(path,im_name,idx) for idx,im_name in enumerate(image_name)}\n",
    "real_coord = scipy.io.loadmat(f'{path}/3d_pts/real_coord.mat')['all_coords']\n"
   ]
  },
  {
   "cell_type": "code",
   "execution_count": 4,
   "metadata": {},
   "outputs": [],
   "source": [
    "# hull reconstruction \n",
    "\n",
    "def get_hull_part(part):\n",
    "    points_3d_frame = points_3d[part][points_3d[part]['frame'] == 900]\n",
    "    real_coord_frame = real_coord[real_coord[:,3] == 900,:]\n",
    "    points_in_ew_frame = np.array([real_coord_frame[points_3d_frame[ax] - 1,idx] for idx,ax in enumerate(['X','Y','Z'])]).T\n",
    "    points_in_ew_frame  = np.column_stack((points_in_ew_frame,np.arange(1,points_in_ew_frame.shape[0] + 1)))\n",
    "    return points_in_ew_frame\n",
    "points_3d = {body_wing : pd.DataFrame(Utils.load_hull(body_wing,path),columns = ['X','Y','Z','frame']) for body_wing in ['body','rwing','lwing']}\n",
    "\n",
    "hull = [get_hull_part(part) for part in list(points_3d.keys())]"
   ]
  },
  {
   "cell_type": "code",
   "execution_count": 5,
   "metadata": {},
   "outputs": [],
   "source": [
    "frame_number = 900 \n",
    "frame_names = ['P900CAM1.jpg','P900CAM2.jpg','P900CAM3.jpg','P900CAM4.jpg']\n",
    "frame_names = [f'P{frame_number}CAM{idx}.jpg' for idx in range(1,5)]\n",
    "\n",
    "camera_pixel = np.vstack([frames[frame].camera_center_to_pixel_ray(frames[frame].cm) for frame in  frame_names])\n",
    "camera_center = np.vstack([frames[frame].X0.T for frame in  frame_names])\n",
    "rot_mat_ew_to_lab = frames['P900CAM1.jpg'].rotation_matrix_from_vectors(frames['P900CAM1.jpg'].R[2,:], [0,0,1])\n",
    "cm_point = Utils.triangulate_least_square(camera_center,camera_pixel)\n",
    "cm_point_lab = np.squeeze(np.dot(rot_mat_ew_to_lab,cm_point[:,np.newaxis]).T)\n",
    "\n",
    "\n"
   ]
  },
  {
   "cell_type": "code",
   "execution_count": 8,
   "metadata": {},
   "outputs": [],
   "source": [
    "\n",
    "fig = go.Figure()\n",
    "Plotter.plot_skeleton(body.bones,fig,marker_dict = {'size': 3},line_dict ={'width': 3})\n",
    "Plotter.plot_skin(fig,all_skin_points[0],body,'body',color = body.weights[::10,0])\n",
    "Plotter.plot_skin(fig,all_skin_points[1],right_wing,'right wing')\n",
    "Plotter.plot_skin(fig,all_skin_points[2],left_wing,'left wing')\n",
    "\n",
    "fig.show()"
   ]
  },
  {
   "cell_type": "code",
   "execution_count": 7,
   "metadata": {},
   "outputs": [],
   "source": [
    "# update model position\n",
    "\n",
    "pitch = -25\n",
    "root_no_bone.set_local_translation(cm_point_lab + np.array([-0.2,-0.4,0.22])*1/1000)\n",
    "root_no_bone.set_local_rotation([249,pitch,0])\n",
    "[joint.set_local_rotation([0,-pitch,0]) for joint in list_joints_pitch_update]\n",
    "thorax.set_local_rotation([0,-10,0])\n",
    "right_wing_root.set_local_rotation([-27,-120,10])\n",
    "left_wing_root.set_local_rotation([27,-120,-15])\n",
    "[joint.update_rotation() for joint in joint_list]\n",
    "\n",
    "all_skin_points = [skin.rotate_skin_points() for skin in [body,right_wing,left_wing]]\n",
    "all_skin_normals = [skin.rotate_skin_normals() for skin in [body,right_wing,left_wing]]\n",
    "\n"
   ]
  },
  {
   "cell_type": "code",
   "execution_count": 9,
   "metadata": {},
   "outputs": [
    {
     "data": {
      "text/plain": [
       "<matplotlib.collections.PathCollection at 0x1bd80305f00>"
      ]
     },
     "execution_count": 9,
     "metadata": {},
     "output_type": "execute_result"
    }
   ],
   "source": [
    "# rotate to easy wand and project to 2d\n",
    "import matplotlib.pyplot as plt\n",
    "\n",
    "\n",
    "frame_name = 'P900CAM2.jpg'\n",
    "all_skin = np.vstack(all_skin_points)\n",
    "all_skin_in_ew = np.dot(rot_mat_ew_to_lab.T,all_skin.T).T\n",
    "all_skin_in_ew_homo = frames[frame_name].homogenize_coordinate(all_skin_in_ew)\n",
    "projeced = frames[frame_name].project_on_image(all_skin_in_ew_homo)\n",
    "\n",
    "plt.imshow(frames[frame_name].image_no_bg)\n",
    "plt.scatter(projeced[:,0],projeced[:,1],color = 'black')\n"
   ]
  },
  {
   "cell_type": "code",
   "execution_count": 17,
   "metadata": {},
   "outputs": [
    {
     "data": {
      "text/plain": [
       "array([[-0.00134725,  0.00580915,  0.00811845]])"
      ]
     },
     "execution_count": 17,
     "metadata": {},
     "output_type": "execute_result"
    }
   ],
   "source": [
    "cm_point_lab[np.newaxis]"
   ]
  },
  {
   "cell_type": "code",
   "execution_count": 18,
   "metadata": {},
   "outputs": [],
   "source": [
    "# rotate camera to lab\n",
    "camera_center_lab = np.dot(rot_mat_ew_to_lab,camera_center.T).T\n",
    "camera_pixel_lab = np.dot(rot_mat_ew_to_lab,camera_pixel.T).T\n",
    "\n",
    "\n",
    "vector_dir = np.array(camera_pixel_lab - camera_center_lab )[:,0:3]\n",
    "vector_dir_norm= (vector_dir.T/np.linalg.norm(vector_dir,axis = 1)).T\n",
    "\n",
    "\n",
    "camera_pixel_lab  = camera_center_lab + vector_dir_norm*np.array([[0.3,0.22,0.22,0.22]]).T\n",
    "camera_center_lab  = camera_center_lab + vector_dir_norm*np.array([[0.26,0.16,0.16,0.16]]).T\n",
    "points_in_ew_frame_rotated = [np.dot(rot_mat_ew_to_lab,part[:,0:3].T).T for part in hull]\n",
    "\n",
    "\n",
    "fig = go.Figure()\n",
    "\n",
    "\n",
    "\n",
    "\n",
    "\n",
    "Plotter.scatter3d(fig,all_skin[::10,:],'skin', mode = 'markers',marker_dict =  {'color': 'black'}) \n",
    "\n",
    "Plotter.scatter3d(fig,points_in_ew_frame_rotated[0],'hull_body', mode = 'markers',marker_dict =  {'color': 'blue'}) \n",
    "Plotter.scatter3d(fig,points_in_ew_frame_rotated[1],'hull_rwing', mode = 'markers',marker_dict = { 'color': 'magenta'}) \n",
    "Plotter.scatter3d(fig,points_in_ew_frame_rotated[2],'hull_lwing', mode = 'markers',marker_dict = {'color':'cyan'}) \n",
    "\n",
    "marker_dict_point = {'size': 5, 'color': 'magenta'}\n",
    "\n",
    "Plotter.scatter3d(fig,cm_point_lab[np.newaxis],'least square', mode = 'markers',marker_dict = {'size': 5, 'color': 'blue'}) \n",
    "\n",
    "[Plotter.scatter3d(fig,np.vstack((origin,end)),idx, mode = 'markers',marker_dict = {'size': 5, 'color': [[255,0,0],[0,255,0]]}) for origin,end,idx in zip(camera_center_lab, camera_pixel_lab,range(4))]\n",
    "[Plotter.scatter3d(fig,np.vstack((origin,end)),idx, mode = 'lines',line_dict = {'width': 3, 'color': 'red'}) for origin,end,idx in zip(camera_center_lab, camera_pixel_lab,range(4))]\n",
    "\n",
    "fig.show()\n",
    "\n"
   ]
  }
 ],
 "metadata": {
  "kernelspec": {
   "display_name": "open3d_env",
   "language": "python",
   "name": "python3"
  },
  "language_info": {
   "codemirror_mode": {
    "name": "ipython",
    "version": 3
   },
   "file_extension": ".py",
   "mimetype": "text/x-python",
   "name": "python",
   "nbconvert_exporter": "python",
   "pygments_lexer": "ipython3",
   "version": "3.9.21"
  }
 },
 "nbformat": 4,
 "nbformat_minor": 2
}
