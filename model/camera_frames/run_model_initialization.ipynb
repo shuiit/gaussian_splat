{
 "cells": [
  {
   "cell_type": "code",
   "execution_count": 1,
   "metadata": {},
   "outputs": [
    {
     "name": "stdout",
     "output_type": "stream",
     "text": [
      "Jupyter environment detected. Enabling Open3D WebVisualizer.\n",
      "[Open3D INFO] WebRTC GUI backend enabled.\n",
      "[Open3D INFO] WebRTCWindowSystem: HTTP handshake server disabled.\n"
     ]
    }
   ],
   "source": [
    "from Frame import Frame\n",
    "from Camera import Camera\n",
    "import scipy\n",
    "import sys\n",
    "import os\n",
    "parent_dir = os.path.abspath(os.path.join(os.getcwd(), '..','fly_model'))\n",
    "sys.path.insert(0, parent_dir)\n",
    "import numpy as np\n",
    "import Plotter\n",
    "from Skeleton import Skeleton\n",
    "from Skin import Skin\n",
    "import plotly.graph_objects as go\n",
    "import Utils\n",
    "import pandas as pd\n",
    "%matplotlib qt\n",
    "\n",
    "path = 'G:/My Drive/Research/gaussian_splatting/gaussian_splatting_input/mov19_2022_03_03/'\n",
    "\n",
    "\n",
    "frames = list(range(900,910,1))\n",
    "\n",
    "image_name= []\n",
    "for frame in frames:\n",
    "    image_name += [f'P{frame}CAM{cam + 1}' for cam in range(4)]\n",
    "frames = {f'{im_name}.jpg':Frame(path,im_name,idx) for idx,im_name in enumerate(image_name)}\n",
    "\n",
    "\n",
    "points_3d = {body_wing : pd.DataFrame(Utils.load_hull(body_wing,path),columns = ['X','Y','Z','frame']) for body_wing in ['body','rwing','lwing']}\n",
    "real_coord = scipy.io.loadmat(f'{path}/3d_pts/real_coord.mat')['all_coords']\n"
   ]
  },
  {
   "cell_type": "code",
   "execution_count": 2,
   "metadata": {},
   "outputs": [],
   "source": [
    "\n",
    "\n",
    "def get_hull_part(part):\n",
    "    points_3d_frame = points_3d[part][points_3d[part]['frame'] == 900]\n",
    "    real_coord_frame = real_coord[real_coord[:,3] == 900,:]\n",
    "    points_in_ew_frame = np.array([real_coord_frame[points_3d_frame[ax] - 1,idx] for idx,ax in enumerate(['X','Y','Z'])]).T\n",
    "    points_in_ew_frame_homo = np.hstack((points_in_ew_frame,np.ones([points_in_ew_frame.shape[0],1])))\n",
    "    points_in_ew_frame  = np.column_stack((points_in_ew_frame,np.arange(1,points_in_ew_frame.shape[0] + 1)))\n",
    "    return points_in_ew_frame\n",
    "\n",
    "hull = [get_hull_part(part) for part in list(points_3d.keys())]"
   ]
  },
  {
   "cell_type": "code",
   "execution_count": 3,
   "metadata": {},
   "outputs": [],
   "source": [
    "frame_number = 900 \n",
    "frame_names = ['P900CAM1.jpg','P900CAM2.jpg','P900CAM3.jpg','P900CAM4.jpg']\n",
    "frame_names = [f'P{frame_number}CAM{idx}.jpg' for idx in range(1,5)]\n",
    "\n",
    "ray_world = np.vstack([frames[frame].camera_center_to_pixel_ray(frames[frame].cm) for frame in  frame_names])\n",
    "camera_center = np.vstack([frames[frame].X0.T for frame in  frame_names])\n",
    "point = Utils.triangulate_least_square(camera_center,ray_world)\n",
    "\n",
    "rot_mat_ew_to_lab = frames['P900CAM1.jpg'].rotation_matrix_from_vectors(frames['P900CAM1.jpg'].R[2,:], [0,0,1])\n",
    "\n"
   ]
  },
  {
   "cell_type": "code",
   "execution_count": 17,
   "metadata": {},
   "outputs": [
    {
     "name": "stderr",
     "output_type": "stream",
     "text": [
      "d:\\Documents\\gaussian_splat\\model\\fly_model\\Skin.py:17: RuntimeWarning:\n",
      "\n",
      "invalid value encountered in divide\n",
      "\n"
     ]
    },
    {
     "data": {
      "text/plain": [
       "[array([0., 0., 0., ..., 0., 0., 0.]),\n",
       " array([0., 0., 0., ..., 0., 0., 0.]),\n",
       " array([0., 0., 0., ..., 0., 0., 0.]),\n",
       " array([0., 0., 0., ..., 0., 0., 0.]),\n",
       " array([0., 0., 0., ..., 0., 0., 0.]),\n",
       " array([0., 0., 0., ..., 0., 0., 0.]),\n",
       " array([0., 0., 0., ..., 0., 0., 0.]),\n",
       " array([0., 0., 0., ..., 0., 0., 0.]),\n",
       " array([0., 0., 0., ..., 0., 0., 0.]),\n",
       " array([0., 0., 0., ..., 0., 0., 0.]),\n",
       " array([1., 1., 1., ..., 1., 1., 1.]),\n",
       " array([0., 0., 0., ..., 0., 0., 0.])]"
      ]
     },
     "execution_count": 17,
     "metadata": {},
     "output_type": "execute_result"
    }
   ],
   "source": [
    "from Frame import Frame\n",
    "from Camera import Camera\n",
    "import scipy\n",
    "import sys\n",
    "import os\n",
    "parent_dir = os.path.abspath(os.path.join(os.getcwd(), '..','fly_model'))\n",
    "sys.path.insert(0, parent_dir)\n",
    "import numpy as np\n",
    "import Plotter\n",
    "from Skeleton import Skeleton\n",
    "from Skin import Skin\n",
    "import plotly.graph_objects as go\n",
    "import Utils\n",
    "import pandas as pd\n",
    "from Joint import Joint\n",
    "from Bone import Bone\n",
    "%matplotlib qt\n",
    "path_to_mesh = 'G:/My Drive/Research/gaussian_splatting/mesh'\n",
    "skin_parts = ['body','right_wing','left_wing']\n",
    "scale = 1/1000\n",
    "skin_translation = np.array([-0.1-1,0,1])*scale\n",
    "\n",
    "# initilize skeletone, joints and bones\n",
    "pitch_body = 0\n",
    "\n",
    "root_no_bone = Joint([1,0,0],[0,-pitch_body,0],parent = None, end_joint_of_bone = False, scale = scale)\n",
    "neck = Joint([0.6,0,0.3],[0,pitch_body,0],parent = root_no_bone, end_joint_of_bone = False, scale = scale)\n",
    "neck_thorax =  Joint([0.6,0,0.3],[0,-25,0], parent = root_no_bone, end_joint_of_bone = False, scale = scale)\n",
    "head  =Joint([0.3,0,0],[0,0,0], parent = neck, scale = scale)\n",
    "thorax  =Joint([-1,0,0],[0,25,0], parent= neck_thorax ,scale = scale)\n",
    "abdomen = Joint([-1.3,0,0],[0,0,0], parent = thorax, scale = scale)\n",
    "right_sp_no_bone = Joint([0,0,0.3],[0,pitch_body,0],parent = root_no_bone, end_joint_of_bone = False , scale = scale, color = 'red')\n",
    "right_wing_root = Joint([0,-0.3,0],[0,0,0], parent = right_sp_no_bone, end_joint_of_bone = False, scale = scale, color = 'red')\n",
    "right_wing_tip = Joint([0,-2.2,0],[0,0,0], parent = right_wing_root, scale = scale, color = 'red')\n",
    "left_sp_no_bone = Joint([0,0,0.3],[0,pitch_body,0], parent = root_no_bone, end_joint_of_bone = False, scale = scale, color = 'blue')\n",
    "left_wing_root = Joint([0,0.3,0],[0,0,0],parent = left_sp_no_bone, end_joint_of_bone = False, scale = scale, color = 'blue')\n",
    "left_wing_tip = Joint([0,2.2,0],[0,0,0], parent =left_wing_root, scale = scale, color = 'blue')\n",
    "\n",
    "root_no_bone.assign_bones()\n",
    "\n",
    "\n",
    "body = Skin(f'{path_to_mesh}/body.stl',scale = 1)\n",
    "right_wing = Skin(f'{path_to_mesh}/right_wing.stl',scale = 1,constant_weight = right_wing_root.bone)\n",
    "left_wing = Skin(f'{path_to_mesh}/left_wing.stl',scale = 1, constant_weight = left_wing_root.bone)\n",
    "\n",
    "root_no_bone.calculate_weight(body.ptcloud_skin,body.constant_weight)\n",
    "root_no_bone.calculate_weight(right_wing.ptcloud_skin,right_wing.constant_weight)\n",
    "root_no_bone.calculate_weight(left_wing.ptcloud_skin,left_wing.constant_weight)\n",
    "\n",
    "\n",
    "# skin.translate_ptcloud_skin(skin_translation)\n",
    "# skin.calculate_weights(constant_weight = [None,'right_wing_root','left_wing_root'],th = 10)\n",
    "# skeleton = Skeleton(parent_child,joints,bone_rotation,skin, scale = scale)\n",
    "\n",
    "\n"
   ]
  },
  {
   "cell_type": "code",
   "execution_count": null,
   "metadata": {},
   "outputs": [],
   "source": [
    "def rotate_skin():\n",
    "\n",
    "    if joint.bone:\n",
    "        joint.rotate_to_new_position(weight[:,np.newaxis],points_homo)\n",
    "\n"
   ]
  },
  {
   "cell_type": "code",
   "execution_count": 9,
   "metadata": {},
   "outputs": [
    {
     "data": {
      "text/plain": [
       "<Bone.Bone at 0x18652bcae00>"
      ]
     },
     "execution_count": 9,
     "metadata": {},
     "output_type": "execute_result"
    }
   ],
   "source": [
    "points_homo = np.column_stack([self.ptcloud_skin,np.ones(self.ptcloud_skin.shape[0])])\n",
    "normals_homo = np.column_stack([self.skin_normals,np.ones(self.skin_normals.shape[0])])\n",
    "\n",
    "# for every bone, rotate the skin to the joint coordinate systm (in bind position), (each bone is defined by the coordinates of the parent joint)\n",
    "# then rotate to the new position by multiplying by global_transformation (transforming from local joint coordinates to global) \n",
    "rotated_points = [skeleton.joints[joint_name].rotate_to_new_position(weight[:,np.newaxis],points_homo) for weight,joint_name in zip(self.weight.T,skeleton.bones)]\n",
    "normals_rotated = [skeleton.joints[joint_name].rotate_normal_to_new_position(weight[:,np.newaxis],normals_homo) for weight,joint_name in zip(self.weight.T,skeleton.bones)]\n",
    "normals_rotated = np.sum(normals_rotated,axis = 0)[:,0:3]\n",
    "        \n",
    "        "
   ]
  },
  {
   "cell_type": "code",
   "execution_count": 10,
   "metadata": {},
   "outputs": [
    {
     "data": {
      "text/plain": [
       "False"
      ]
     },
     "execution_count": 10,
     "metadata": {},
     "output_type": "execute_result"
    }
   ],
   "source": [
    "body = Skin(f'{path_to_mesh}/body.stl',scale = 1)\n",
    "body.constant_weight"
   ]
  },
  {
   "cell_type": "code",
   "execution_count": 12,
   "metadata": {},
   "outputs": [
    {
     "data": {
      "text/plain": [
       "<Bone.Bone at 0x18652bcae00>"
      ]
     },
     "execution_count": 12,
     "metadata": {},
     "output_type": "execute_result"
    }
   ],
   "source": [
    "right_wing.constant_weight"
   ]
  },
  {
   "cell_type": "code",
   "execution_count": 11,
   "metadata": {},
   "outputs": [
    {
     "data": {
      "text/plain": [
       "[array([0.00221642, 0.00218968, 0.0022693 , ..., 0.00124042, 0.00124369,\n",
       "        0.00124056]),\n",
       " array([0.00173751, 0.00170843, 0.00178861, ..., 0.00082024, 0.00081958,\n",
       "        0.00082021]),\n",
       " array([0.00133452, 0.00131674, 0.00136502, ..., 0.00077603, 0.00077323,\n",
       "        0.00077592]),\n",
       " array([0.00173571, 0.00172729, 0.00179698, ..., 0.00082675, 0.00082638,\n",
       "        0.00082681]),\n",
       " array([0.00169315, 0.0016487 , 0.00173817, ..., 0.00067796, 0.00068209,\n",
       "        0.00067807])]"
      ]
     },
     "execution_count": 11,
     "metadata": {},
     "output_type": "execute_result"
    }
   ],
   "source": [
    "root_no_bone.calculate_weight(body.ptcloud_skin,body.constant_weight)\n",
    "root_no_bone.calculate_weight(right_wing.ptcloud_skin,right_wing.constant_weight)\n",
    "root_no_bone.calculate_weight(left_wing.ptcloud_skin,left_wing.constant_weight)"
   ]
  },
  {
   "cell_type": "code",
   "execution_count": 6,
   "metadata": {},
   "outputs": [],
   "source": [
    "right_wing.constant_weight"
   ]
  },
  {
   "cell_type": "code",
   "execution_count": 13,
   "metadata": {},
   "outputs": [
    {
     "data": {
      "text/plain": [
       "[array([0., 0., 0., ..., 0., 0., 0.]),\n",
       " array([0., 0., 0., ..., 0., 0., 0.]),\n",
       " array([0., 0., 0., ..., 0., 0., 0.]),\n",
       " array([0., 0., 0., ..., 0., 0., 0.]),\n",
       " array([0., 0., 0., ..., 0., 0., 0.]),\n",
       " array([0., 0., 0., ..., 0., 0., 0.]),\n",
       " array([0., 0., 0., ..., 0., 0., 0.]),\n",
       " array([1., 1., 1., ..., 1., 1., 1.]),\n",
       " array([0., 0., 0., ..., 0., 0., 0.]),\n",
       " array([0., 0., 0., ..., 0., 0., 0.]),\n",
       " array([0., 0., 0., ..., 0., 0., 0.]),\n",
       " array([0., 0., 0., ..., 0., 0., 0.])]"
      ]
     },
     "execution_count": 13,
     "metadata": {},
     "output_type": "execute_result"
    }
   ],
   "source": [
    "root_no_bone.calculate_weight(right_wing.ptcloud_skin,right_wing.constant_weight)"
   ]
  },
  {
   "cell_type": "code",
   "execution_count": 16,
   "metadata": {},
   "outputs": [
    {
     "data": {
      "text/plain": [
       "[array([0., 0., 0., ..., 0., 0., 0.]),\n",
       " array([0., 0., 0., ..., 0., 0., 0.]),\n",
       " array([0., 0., 0., ..., 0., 0., 0.]),\n",
       " array([0., 0., 0., ..., 0., 0., 0.]),\n",
       " array([0., 0., 0., ..., 0., 0., 0.]),\n",
       " array([0., 0., 0., ..., 0., 0., 0.]),\n",
       " array([0., 0., 0., ..., 0., 0., 0.]),\n",
       " array([0., 0., 0., ..., 0., 0., 0.]),\n",
       " array([0., 0., 0., ..., 0., 0., 0.]),\n",
       " array([0., 0., 0., ..., 0., 0., 0.]),\n",
       " array([1., 1., 1., ..., 1., 1., 1.]),\n",
       " array([0., 0., 0., ..., 0., 0., 0.])]"
      ]
     },
     "execution_count": 16,
     "metadata": {},
     "output_type": "execute_result"
    }
   ],
   "source": [
    "root_no_bone.calculate_weight(left_wing.ptcloud_skin,left_wing.constant_weight)"
   ]
  },
  {
   "cell_type": "code",
   "execution_count": 4,
   "metadata": {},
   "outputs": [
    {
     "data": {
      "text/plain": [
       "array([[0.00221642, 0.00173751, 0.00133452, 0.00173571, 0.00169315],\n",
       "       [0.00218968, 0.00170843, 0.00131674, 0.00172729, 0.0016487 ],\n",
       "       [0.0022693 , 0.00178861, 0.00136502, 0.00179698, 0.00173817],\n",
       "       ...,\n",
       "       [0.00124042, 0.00082024, 0.00077603, 0.00082675, 0.00067796],\n",
       "       [0.00124369, 0.00081958, 0.00077323, 0.00082638, 0.00068209],\n",
       "       [0.00124056, 0.00082021, 0.00077592, 0.00082681, 0.00067807]])"
      ]
     },
     "execution_count": 4,
     "metadata": {},
     "output_type": "execute_result"
    }
   ],
   "source": [
    "np.vstack(root_no_bone.calculate_weight(body.ptcloud_skin,visited = None)).T"
   ]
  },
  {
   "cell_type": "code",
   "execution_count": 48,
   "metadata": {},
   "outputs": [
    {
     "data": {
      "text/plain": [
       "array([[0.00221642, 0.00173751, 0.00133452, 0.00173571, 0.00169315],\n",
       "       [0.00218968, 0.00170843, 0.00131674, 0.00172729, 0.0016487 ],\n",
       "       [0.0022693 , 0.00178861, 0.00136502, 0.00179698, 0.00173817],\n",
       "       ...,\n",
       "       [0.00124042, 0.00082024, 0.00077603, 0.00082675, 0.00067796],\n",
       "       [0.00124369, 0.00081958, 0.00077323, 0.00082638, 0.00068209],\n",
       "       [0.00124056, 0.00082021, 0.00077592, 0.00082681, 0.00067807]])"
      ]
     },
     "execution_count": 48,
     "metadata": {},
     "output_type": "execute_result"
    }
   ],
   "source": [
    "def calculate_weight(joint,skin,visited = None):\n",
    "\n",
    "    if visited is None:\n",
    "        visited = set()  \n",
    "        \n",
    "    if joint in visited:\n",
    "        return [] # on the way up, if reached an already visited parent, return an empty list\n",
    "    \n",
    "    visited.add(joint)\n",
    "    \n",
    "    # for each node on the way down add its wight to the list. \n",
    "    weight = [joint.bone.calculate_dist_from_bone(skin)] if joint.bone else []\n",
    "        \n",
    "    for child in joint.child:\n",
    "        weight += (calculate_weight(child,skin,visited))\n",
    "    return weight # while going up, return weight - thus adding all children eventually reaching a child we havvent visited yet, then call the function again to get the other branch\n",
    "                # if al childrens are visited we will add them until we got to the root. \n",
    "\n",
    "np.vstack(calculate_weight(root_no_bone,body.ptcloud_skin,visited = None)).T"
   ]
  },
  {
   "cell_type": "code",
   "execution_count": 29,
   "metadata": {},
   "outputs": [
    {
     "name": "stdout",
     "output_type": "stream",
     "text": [
      "[array([0.00221642, 0.00218968, 0.0022693 , ..., 0.00124042, 0.00124369,\n",
      "       0.00124056]), array([0.00173751, 0.00170843, 0.00178861, ..., 0.00082024, 0.00081958,\n",
      "       0.00082021]), array([0.00133452, 0.00131674, 0.00136502, ..., 0.00077603, 0.00077323,\n",
      "       0.00077592]), array([0.00173571, 0.00172729, 0.00179698, ..., 0.00082675, 0.00082638,\n",
      "       0.00082681]), array([0.00169315, 0.0016487 , 0.00173817, ..., 0.00067796, 0.00068209,\n",
      "       0.00067807])]\n"
     ]
    }
   ],
   "source": [
    "def calculate_weight(joint,skin,visited = None,weight = []):\n",
    "\n",
    "    if visited is None:\n",
    "        visited = set()  \n",
    "        \n",
    "    if joint not in visited:\n",
    "        visited.add(joint)\n",
    "\n",
    "    if joint.bone:\n",
    "        weight.append(joint.bone.calculate_dist_from_bone(skin))\n",
    "\n",
    "    for child in joint.child:\n",
    "        calculate_weight(child,skin,visited,weight)\n",
    "    return weight\n",
    "\n",
    "print(calculate_weight(root_no_bone,body.ptcloud_skin,visited = None,weight = []))"
   ]
  },
  {
   "cell_type": "code",
   "execution_count": null,
   "metadata": {},
   "outputs": [
    {
     "name": "stdout",
     "output_type": "stream",
     "text": [
      "[0.00221642 0.00218968 0.0022693  ... 0.00124042 0.00124369 0.00124056]\n",
      "[0.00173751 0.00170843 0.00178861 ... 0.00082024 0.00081958 0.00082021]\n",
      "[0.00133452 0.00131674 0.00136502 ... 0.00077603 0.00077323 0.00077592]\n",
      "[0.00173571 0.00172729 0.00179698 ... 0.00082675 0.00082638 0.00082681]\n",
      "[0.00169315 0.0016487  0.00173817 ... 0.00067796 0.00068209 0.00067807]\n"
     ]
    }
   ],
   "source": [
    "def calculate_weight(joint,skin,visited = None,weight = []):\n",
    "    \n",
    "    if visited is None:\n",
    "        visited = set()  \n",
    "    \n",
    "    if joint not in visited:\n",
    "        visited.add(joint)\n",
    "    \n",
    "        \n",
    "    for child in joint.child:   \n",
    "        if child.bone:\n",
    "            weight.append(child.bone.calculate_dist_from_bone(skin))\n",
    "\n",
    "        calculate_weight(child,body.ptcloud_skin)\n",
    "\n",
    "calculate_weight(root_no_bone,body.ptcloud_skin)"
   ]
  },
  {
   "cell_type": "code",
   "execution_count": 23,
   "metadata": {},
   "outputs": [
    {
     "name": "stdout",
     "output_type": "stream",
     "text": [
      "[]\n",
      "[array([0.00221642, 0.00218968, 0.0022693 , ..., 0.00124042, 0.00124369,\n",
      "       0.00124056])]\n",
      "[]\n",
      "[array([0.00133452, 0.00131674, 0.00136502, ..., 0.00077603, 0.00077323,\n",
      "       0.00077592])]\n",
      "[array([0.00221642, 0.00218968, 0.0022693 , ..., 0.00124042, 0.00124369,\n",
      "       0.00124056]), array([0.00173751, 0.00170843, 0.00178861, ..., 0.00082024, 0.00081958,\n",
      "       0.00082021]), array([0.00133452, 0.00131674, 0.00136502, ..., 0.00077603, 0.00077323,\n",
      "       0.00077592])]\n",
      "[]\n",
      "[array([0.00173571, 0.00172729, 0.00179698, ..., 0.00082675, 0.00082638,\n",
      "       0.00082681])]\n",
      "[array([0.00221642, 0.00218968, 0.0022693 , ..., 0.00124042, 0.00124369,\n",
      "       0.00124056]), array([0.00173751, 0.00170843, 0.00178861, ..., 0.00082024, 0.00081958,\n",
      "       0.00082021]), array([0.00133452, 0.00131674, 0.00136502, ..., 0.00077603, 0.00077323,\n",
      "       0.00077592]), array([0.00173571, 0.00172729, 0.00179698, ..., 0.00082675, 0.00082638,\n",
      "       0.00082681])]\n",
      "[]\n",
      "[array([0.00169315, 0.0016487 , 0.00173817, ..., 0.00067796, 0.00068209,\n",
      "       0.00067807])]\n",
      "[array([0.00221642, 0.00218968, 0.0022693 , ..., 0.00124042, 0.00124369,\n",
      "       0.00124056]), array([0.00173751, 0.00170843, 0.00178861, ..., 0.00082024, 0.00081958,\n",
      "       0.00082021]), array([0.00133452, 0.00131674, 0.00136502, ..., 0.00077603, 0.00077323,\n",
      "       0.00077592]), array([0.00173571, 0.00172729, 0.00179698, ..., 0.00082675, 0.00082638,\n",
      "       0.00082681]), array([0.00169315, 0.0016487 , 0.00173817, ..., 0.00067796, 0.00068209,\n",
      "       0.00067807])]\n"
     ]
    },
    {
     "data": {
      "text/plain": [
       "[array([0.00221642, 0.00218968, 0.0022693 , ..., 0.00124042, 0.00124369,\n",
       "        0.00124056]),\n",
       " array([0.00173751, 0.00170843, 0.00178861, ..., 0.00082024, 0.00081958,\n",
       "        0.00082021]),\n",
       " array([0.00133452, 0.00131674, 0.00136502, ..., 0.00077603, 0.00077323,\n",
       "        0.00077592]),\n",
       " array([0.00173571, 0.00172729, 0.00179698, ..., 0.00082675, 0.00082638,\n",
       "        0.00082681]),\n",
       " array([0.00169315, 0.0016487 , 0.00173817, ..., 0.00067796, 0.00068209,\n",
       "        0.00067807])]"
      ]
     },
     "execution_count": 23,
     "metadata": {},
     "output_type": "execute_result"
    }
   ],
   "source": [
    "def calculate_weight(joint, skin, visited=None):\n",
    "    if visited is None:\n",
    "        visited = set()\n",
    "        \n",
    "    if joint in visited:\n",
    "        return []  # Base case: if the joint has already been visited, return an empty list\n",
    "    \n",
    "    visited.add(joint)\n",
    "    weights = []  # Local weight list for this recursive call\n",
    "\n",
    "    for child in joint.child:\n",
    "        if child.bone:\n",
    "            # Add the weight for the current bone\n",
    "            weights.append(child.bone.calculate_dist_from_bone(skin))\n",
    "        \n",
    "        # Recursively calculate weights for the child joints and accumulate\n",
    "        weights.extend(calculate_weight(child, skin, visited))\n",
    "        print(weights)\n",
    "\n",
    "    return weights\n",
    "\n",
    "# Example usage\n",
    "weights = calculate_weight(root_no_bone, body.ptcloud_skin)\n",
    "weights"
   ]
  },
  {
   "cell_type": "code",
   "execution_count": 11,
   "metadata": {},
   "outputs": [
    {
     "name": "stdout",
     "output_type": "stream",
     "text": [
      "[0.00186642 0.00183742 0.00191938 ... 0.00087747 0.00087835 0.00087751]\n",
      "[0.00186642 0.00183742 0.00191938 ... 0.00087747 0.00087835 0.00087751]\n",
      "[0.00173751 0.00170843 0.00178861 ... 0.00082024 0.00081958 0.00082021]\n",
      "[0.00168812 0.00166159 0.00174218 ... 0.00069395 0.00069575 0.00069404]\n",
      "[0.00168812 0.00166159 0.00174218 ... 0.00069395 0.00069575 0.00069404]\n",
      "[0.00168373 0.00164681 0.00173355 ... 0.0006684  0.0006717  0.00066851]\n",
      "[0.00168373 0.00164681 0.00173355 ... 0.0006684  0.0006717  0.00066851]\n"
     ]
    }
   ],
   "source": [
    "def calculate_weight(joint,visited = []):\n",
    "    \n",
    "    if joint.bone != None:\n",
    "        print(joint.bone.calculate_dist_from_bone(body.ptcloud_skin))\n",
    "    for joint in joint.child:\n",
    "        if len(joint.child) == 0:\n",
    "            return \n",
    "\n",
    "        calculate_weight(joint,visited)\n",
    "\n",
    "calculate_weight(root_no_bone)"
   ]
  },
  {
   "cell_type": "code",
   "execution_count": 14,
   "metadata": {},
   "outputs": [
    {
     "data": {
      "text/plain": [
       "<Joint.Joint at 0x25f73257d00>"
      ]
     },
     "execution_count": 14,
     "metadata": {},
     "output_type": "execute_result"
    }
   ],
   "source": [
    "left_wing_tip"
   ]
  },
  {
   "cell_type": "code",
   "execution_count": 4,
   "metadata": {},
   "outputs": [
    {
     "data": {
      "text/plain": [
       "<Joint.Joint at 0x25f73257d90>"
      ]
     },
     "execution_count": 4,
     "metadata": {},
     "output_type": "execute_result"
    }
   ],
   "source": [
    "left_wing_tip.parent"
   ]
  },
  {
   "cell_type": "code",
   "execution_count": 2,
   "metadata": {},
   "outputs": [],
   "source": [
    "def update_child(joint):\n",
    "    if joint.parent == None:\n",
    "        return\n",
    "    update_child(joint.parent)\n",
    "    if joint not in joint.parent:\n",
    "        joint.parent.child.append(joint)\n",
    "\n",
    "\n",
    "update_child(left_wing_tip)"
   ]
  },
  {
   "cell_type": "code",
   "execution_count": 2,
   "metadata": {},
   "outputs": [
    {
     "data": {
      "text/plain": [
       "[<Joint.Joint at 0x25f6ec0f280>,\n",
       " <Joint.Joint at 0x25f7175ce50>,\n",
       " <Joint.Joint at 0x25f70b97520>,\n",
       " <Joint.Joint at 0x25f7223baf0>]"
      ]
     },
     "execution_count": 2,
     "metadata": {},
     "output_type": "execute_result"
    }
   ],
   "source": [
    "root_no_bone.child"
   ]
  },
  {
   "cell_type": "code",
   "execution_count": 4,
   "metadata": {},
   "outputs": [
    {
     "data": {
      "text/plain": [
       "[<Joint.Joint at 0x18598e1bb80>]"
      ]
     },
     "execution_count": 4,
     "metadata": {},
     "output_type": "execute_result"
    }
   ],
   "source": [
    "left_sp_no_bone.child"
   ]
  },
  {
   "cell_type": "code",
   "execution_count": null,
   "metadata": {},
   "outputs": [],
   "source": [
    "\n",
    "        if constant_weight in self.bones:\n",
    "            weight_map = np.zeros((points.shape[0],len(self.bones)))\n",
    "            weight_map[:,self.bones.index(constant_weight)] = 1\n",
    "        else:\n",
    "            weight = np.vstack([ self.joints[joint_name].bone.calculate_dist_from_bone(points[:,0:3], **kwargs) for joint_name in self.joints.keys() if self.joints[joint_name].bone is not None]).T\n",
    "            weight_map = (1/weight)/np.sum((1/weight),1)[:,np.newaxis]\n",
    "            weight_map[weight_map > th] = 1"
   ]
  },
  {
   "cell_type": "code",
   "execution_count": 5,
   "metadata": {},
   "outputs": [],
   "source": [
    "\n",
    "# initilize skeletone, joints and bones\n",
    "pitch_body = 40\n",
    "new_translation =  {'root_no_bone':[1,0,0],\n",
    "          'neck':[0.6,0,0.3],\n",
    "          'neck_thorax': [0.6,0,0.3],\n",
    "          'head':[0.3,0,0],\n",
    "          'thorax':[-1,0,0],\n",
    "          'abdomen':[-1.3,0,0] ,\n",
    "          'right_sp_no_bone': [-0,0,0.3],\n",
    "          'right_wing_root':[0,-0.3,0],\n",
    "          'right_wing_tip':[0,-2.2,0],\n",
    "          'left_sp_no_bone':[0,0,0.3],\n",
    "          'left_wing_root':[0,0.3,0],\n",
    "          'left_wing_tip':[0,2.2,0]\n",
    "          }\n",
    "new_translation = {joint_name: np.array(joint_translation)*scale  for joint_name,joint_translation in new_translation.items()}\n",
    "\n",
    "new_rotation = {'root_no_bone':[0,-pitch_body,0],\n",
    "          'neck':[0,pitch_body,0],\n",
    "          'neck_thorax': [0,-25,0],\n",
    "          'head':[0,0,0],\n",
    "          'thorax':[0,25,0],\n",
    "          'abdomen':[0,0,0] ,\n",
    "          'right_sp_no_bone': [0,pitch_body,0],\n",
    "          'right_wing_root':[0,0,0],\n",
    "          'right_wing_tip':[0,0,0],\n",
    "          'left_sp_no_bone':[0,pitch_body,0],\n",
    "          'left_wing_root':[-0,0,0],\n",
    "          'left_wing_tip':[0,0,0]\n",
    "          }\n",
    "ls_rotated = np.dot(rot_mat_ew_to_lab,point[:,np.newaxis]).T\n",
    "\n",
    "new_translation['root_no_bone'] = ls_rotated[0] + new_translation['root_no_bone']\n",
    "skeleton.update_skeleton(new_rotation,new_translation)\n",
    "transformed_points, transformed_normals = skin.rotate_skin(skeleton)\n",
    "\n",
    "\n",
    "\n"
   ]
  },
  {
   "cell_type": "code",
   "execution_count": 6,
   "metadata": {},
   "outputs": [],
   "source": [
    "import matplotlib.pyplot as plt\n",
    "transformed_points_to_rotate = transformed_points - np.mean(transformed_points,axis = 0)\n",
    "transformed_points_ew = np.dot(rot_mat_ew_to_lab.T,transformed_points.T).T\n",
    "transformed_points_ew = transformed_points_ew \n",
    "frame_name = 'P900CAM4.jpg'\n",
    "transformed_points_homo = frames[frame_name].homogenize_coordinate(transformed_points_ew)\n",
    "projeced = frames[frame_name].project_on_image(transformed_points_homo)\n",
    "\n",
    "# plt.imshow(frames[frame_name].image_no_bg)\n",
    "# plt.scatter(projeced[:,0],projeced[:,1])"
   ]
  },
  {
   "cell_type": "code",
   "execution_count": 7,
   "metadata": {},
   "outputs": [],
   "source": [
    "\n",
    "\n",
    "camera_center_rotated = np.dot(rot_mat_ew_to_lab,camera_center.T).T\n",
    "ray_world_rotated = np.dot(rot_mat_ew_to_lab,ray_world.T).T\n",
    "points_in_ew_frame_rotated = [np.dot(rot_mat_ew_to_lab,part[:,0:3].T).T for part in hull]\n",
    "\n",
    "\n",
    "vector_dir = np.array(ray_world_rotated - camera_center_rotated )[:,0:3]\n",
    "vector_dir_norm= (vector_dir.T/np.linalg.norm(vector_dir,axis = 1)).T\n",
    "\n",
    "\n",
    "\n",
    "# new_point = np.dot(vector_dir[0][0:3],np.array([0,0,1])[:,np.newaxis]).T[0]\n",
    "# scales = np.dot(vector_dir[0][0:3],np.array([0,0,1]))\n",
    "ray_world2  = camera_center_rotated + vector_dir_norm*np.array([[0.3,0.22,0.22,0.22]]).T\n",
    "camera_center2  = camera_center_rotated + vector_dir_norm*np.array([[0.26,0.16,0.16,0.16]]).T\n"
   ]
  },
  {
   "cell_type": "code",
   "execution_count": 8,
   "metadata": {},
   "outputs": [],
   "source": [
    "fig = go.Figure()\n",
    "fig = Plotter.plot_skeleton_and_skin_hull(transformed_points,skin,skeleton,opacity = 0.1,marker_dict_skeleton = {'size': 3},line_dict_skeleton ={'width': 3})\n",
    "fig.show()"
   ]
  },
  {
   "cell_type": "code",
   "execution_count": 132,
   "metadata": {},
   "outputs": [],
   "source": [
    "fig = go.Figure()\n",
    "fig = Plotter.plot_skeleton_and_skin_hull(transformed_points,skin,skeleton,opacity = 0.1,marker_dict_skeleton = {'size': 3},line_dict_skeleton ={'width': 3})\n",
    "\n",
    "marker_dict = {'size': 5, 'color': 'red'}\n",
    "marker_dict_point = {'size': 5, 'color': 'blue'}\n",
    "\n",
    "line_dict = {'width': 3, 'color': 'red'}\n",
    "# fig = go.Figure()\n",
    "\n",
    "marker_dict = {'size': 5, 'color': [[255,0,0],[0,255,0]]}\n",
    "\n",
    "\n",
    "Plotter.scatter3d(fig,points_in_ew_frame_rotated[0],'hull_body', mode = 'markers',marker_dict =  {'color': 'blue'}) \n",
    "Plotter.scatter3d(fig,points_in_ew_frame_rotated[1],'hull_rwing', mode = 'markers',marker_dict = { 'color': 'magenta'}) \n",
    "Plotter.scatter3d(fig,points_in_ew_frame_rotated[2],'hull_lwing', mode = 'markers',marker_dict = {'color':'cyan'}) \n",
    "\n",
    "marker_dict_point = {'size': 5, 'color': 'magenta'}\n",
    "\n",
    "Plotter.scatter3d(fig,ls_rotated,'least square', mode = 'markers',marker_dict = marker_dict_point) \n",
    "\n",
    "fig.show()"
   ]
  },
  {
   "cell_type": "code",
   "execution_count": 54,
   "metadata": {},
   "outputs": [],
   "source": [
    "fig = go.Figure()\n",
    "fig = Plotter.plot_skeleton_and_skin_hull(transformed_points,skin,skeleton,opacity = 0.1,marker_dict_skeleton = {'size': 3},line_dict_skeleton ={'width': 3})\n",
    "\n",
    "marker_dict = {'size': 5, 'color': 'red'}\n",
    "marker_dict_point = {'size': 5, 'color': 'blue'}\n",
    "\n",
    "line_dict = {'width': 3, 'color': 'red'}\n",
    "# fig = go.Figure()\n",
    "\n",
    "marker_dict = {'size': 5, 'color': [[255,0,0],[0,255,0]]}\n",
    "\n",
    "[Plotter.scatter3d(fig,np.vstack((origin,end)),idx, mode = 'markers',marker_dict = marker_dict) for origin,end,idx in zip(camera_center2, ray_world2,range(4))]\n",
    "[Plotter.scatter3d(fig,np.vstack((origin,end)),idx, mode = 'lines',line_dict = line_dict) for origin,end,idx in zip(camera_center2, ray_world2,range(4))]\n",
    "\n",
    "Plotter.scatter3d(fig,points_in_ew_frame_rotated[0],'hull_body', mode = 'markers',marker_dict =  {'color': 'blue'}) \n",
    "Plotter.scatter3d(fig,points_in_ew_frame_rotated[1],'hull_rwing', mode = 'markers',marker_dict = { 'color': 'magenta'}) \n",
    "Plotter.scatter3d(fig,points_in_ew_frame_rotated[2],'hull_lwing', mode = 'markers',marker_dict = {'color':'cyan'}) \n",
    "\n",
    "marker_dict_point = {'size': 5, 'color': 'magenta'}\n",
    "\n",
    "Plotter.scatter3d(fig,ls_rotated,'least square', mode = 'markers',marker_dict = marker_dict_point) \n",
    "\n",
    "fig.show()"
   ]
  },
  {
   "cell_type": "code",
   "execution_count": 32,
   "metadata": {},
   "outputs": [],
   "source": [
    "\n",
    "fig = go.Figure()\n",
    "fig = Plotter.plot_skeleton_and_skin_hull(transformed_points,skin,skeleton,opacity = 0.1,marker_dict_skeleton = {'size': 3},line_dict_skeleton ={'width': 3})\n",
    "fig.show()"
   ]
  },
  {
   "cell_type": "code",
   "execution_count": 33,
   "metadata": {},
   "outputs": [],
   "source": []
  },
  {
   "cell_type": "code",
   "execution_count": 34,
   "metadata": {},
   "outputs": [
    {
     "data": {
      "text/plain": [
       "array([[-0.00123098, -0.0229936 , -0.00810553],\n",
       "       [ 0.00453605, -0.01595115,  0.00059876],\n",
       "       [-0.009139  , -0.01799263,  0.00017689],\n",
       "       [-0.00048583, -0.01106921, -0.01935558]])"
      ]
     },
     "execution_count": 34,
     "metadata": {},
     "output_type": "execute_result"
    }
   ],
   "source": [
    "ray_world2"
   ]
  },
  {
   "cell_type": "code",
   "execution_count": 129,
   "metadata": {},
   "outputs": [],
   "source": [
    "fig = go.Figure()\n",
    "\n",
    "marker_dict = {'size': 5, 'color': 'red'}\n",
    "marker_dict_point = {'size': 5, 'color': 'blue'}\n",
    "\n",
    "line_dict = {'width': 3, 'color': 'red'}\n",
    "# fig = go.Figure()\n",
    "\n",
    "[Plotter.scatter3d(fig,np.vstack((origin,end)),idx, mode = 'markers',marker_dict = marker_dict) for origin,end,idx in zip(camera_center, ray_world,range(4))]\n",
    "[Plotter.scatter3d(fig,np.vstack((origin,end)),idx, mode = 'lines',line_dict = line_dict) for origin,end,idx in zip(camera_center, ray_world,range(4))]\n",
    "\n",
    "\n",
    "marker_dict = {'size': 5, 'color': 'blue'}\n",
    "\n",
    "[Plotter.scatter3d(fig,np.vstack((origin,end)),idx, mode = 'markers',marker_dict = marker_dict) for origin,end,idx in zip(camera_center2, ray_world2,range(4))]\n",
    "[Plotter.scatter3d(fig,np.vstack((origin,end)),idx, mode = 'lines',line_dict = line_dict) for origin,end,idx in zip(camera_center2, ray_world2,range(4))]\n",
    "\n",
    "fig.show()\n"
   ]
  },
  {
   "cell_type": "code",
   "execution_count": 182,
   "metadata": {},
   "outputs": [
    {
     "data": {
      "text/plain": [
       "<matplotlib.collections.PathCollection at 0x1654e886e60>"
      ]
     },
     "execution_count": 182,
     "metadata": {},
     "output_type": "execute_result"
    }
   ],
   "source": [
    "\n",
    "transformed_points_to_rotate = transformed_points - np.mean(transformed_points,axis = 0)\n",
    "transformed_points_ew = np.dot(rot_mat.T,transformed_points_to_rotate.T).T\n",
    "transformed_points_ew = transformed_points_ew + np.mean(transformed_points,axis = 0)\n",
    "\n",
    "transformed_points_homo = frames['P900CAM4.jpg'].homogenize_coordinate(transformed_points_ew)\n",
    "projeced = frames['P900CAM4.jpg'].project_on_image(transformed_points_homo)\n",
    "\n",
    "plt.imshow(frames['P900CAM4.jpg'].image_no_bg)\n",
    "plt.scatter(projeced[:,1],projeced[:,0])"
   ]
  },
  {
   "cell_type": "code",
   "execution_count": 183,
   "metadata": {},
   "outputs": [],
   "source": [
    "\n",
    "fig = go.Figure()\n",
    "fig = Plotter.plot_skeleton_and_skin_hull(transformed_points_ew,skin,skeleton,opacity = 0.1,marker_dict_skeleton = {'size': 3},line_dict_skeleton ={'width': 3})\n",
    "\n",
    "marker_dict = {'size': 5, 'color': 'red'}\n",
    "marker_dict_point = {'size': 5, 'color': 'blue'}\n",
    "\n",
    "line_dict = {'width': 3, 'color': 'red'}\n",
    "# fig = go.Figure()\n",
    "\n",
    "marker_dict = {'size': 5, 'color': [[255,0,0],[0,255,0]]}\n",
    "\n",
    "[Plotter.scatter3d(fig,np.vstack((origin,end)),idx, mode = 'markers',marker_dict = marker_dict) for origin,end,idx in zip(camera_center2, ray_world2,range(4))]\n",
    "[Plotter.scatter3d(fig,np.vstack((origin,end)),idx, mode = 'lines',line_dict = line_dict) for origin,end,idx in zip(camera_center2, ray_world2,range(4))]\n",
    "\n",
    "\n",
    "Plotter.scatter3d(fig,point[:,np.newaxis].T,'least square', mode = 'markers',marker_dict = marker_dict_point) \n",
    "\n",
    "fig.show()"
   ]
  }
 ],
 "metadata": {
  "kernelspec": {
   "display_name": "base",
   "language": "python",
   "name": "python3"
  },
  "language_info": {
   "codemirror_mode": {
    "name": "ipython",
    "version": 3
   },
   "file_extension": ".py",
   "mimetype": "text/x-python",
   "name": "python",
   "nbconvert_exporter": "python",
   "pygments_lexer": "ipython3",
   "version": "3.10.9"
  }
 },
 "nbformat": 4,
 "nbformat_minor": 2
}
