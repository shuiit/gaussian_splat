{
 "cells": [
  {
   "cell_type": "code",
   "execution_count": 1,
   "metadata": {},
   "outputs": [],
   "source": [
    "import os\n",
    "\n",
    "parent_dir = os.path.abspath(os.path.join(os.getcwd(), '..'))\n"
   ]
  },
  {
   "cell_type": "code",
   "execution_count": 1,
   "metadata": {},
   "outputs": [],
   "source": [
    "import os\n",
    "import sys\n",
    "sys.path.insert(0, os.path.abspath(os.path.join(os.getcwd(), '..')))\n",
    "\n",
    "from Camera import Camera\n",
    "import numpy as np\n",
    "from Frame import Frame\n",
    "\n",
    "\n",
    "import matplotlib.pyplot as plt\n",
    "from GenerateGsInput import GenerateGsInput\n",
    "import Plotters\n",
    "import plotly.graph_objects as go\n",
    "import scipy.io\n",
    "import pandas as pd\n",
    "import Utils\n",
    "\n",
    "%matplotlib qt\n",
    "\n",
    "# load hull\n",
    "path = 'G:/My Drive/Research/gaussian_splatting/gaussian_splatting_input/mov19_2022_03_03/'\n",
    "real_coord = scipy.io.loadmat(f'{path}/3d_pts/real_coord.mat')['all_coords']\n",
    "points_3d = {body_wing : pd.DataFrame(Utils.load_hull(body_wing,path),columns = ['X','Y','Z','frame']) for body_wing in ['body','rwing','lwing']}\n"
   ]
  },
  {
   "cell_type": "code",
   "execution_count": 63,
   "metadata": {},
   "outputs": [],
   "source": [
    "# initilize objects\n",
    "frames = list(range(900,930,1))\n",
    "\n",
    "image_name,points_in_idx = Utils.define_frames(frames,points_3d)\n",
    "cameras = {f'cam{cam + 1}':Camera(path,cam) for cam in range(4)}\n",
    "frames = {f'{im_name}.jpg':Frame(path,im_name,points_in_idx[im_name.split('CAM')[0]],real_coord,idx) for idx,im_name in enumerate(image_name)}"
   ]
  },
  {
   "cell_type": "code",
   "execution_count": 55,
   "metadata": {},
   "outputs": [
    {
     "data": {
      "text/plain": [
       "dict_keys(['P325CAM1.jpg', 'P325CAM2.jpg', 'P325CAM3.jpg', 'P325CAM4.jpg', 'P326CAM1.jpg', 'P326CAM2.jpg', 'P326CAM3.jpg', 'P326CAM4.jpg', 'P327CAM1.jpg', 'P327CAM2.jpg', 'P327CAM3.jpg', 'P327CAM4.jpg', 'P328CAM1.jpg', 'P328CAM2.jpg', 'P328CAM3.jpg', 'P328CAM4.jpg', 'P329CAM1.jpg', 'P329CAM2.jpg', 'P329CAM3.jpg', 'P329CAM4.jpg', 'P330CAM1.jpg', 'P330CAM2.jpg', 'P330CAM3.jpg', 'P330CAM4.jpg', 'P331CAM1.jpg', 'P331CAM2.jpg', 'P331CAM3.jpg', 'P331CAM4.jpg', 'P332CAM1.jpg', 'P332CAM2.jpg', 'P332CAM3.jpg', 'P332CAM4.jpg', 'P333CAM1.jpg', 'P333CAM2.jpg', 'P333CAM3.jpg', 'P333CAM4.jpg', 'P334CAM1.jpg', 'P334CAM2.jpg', 'P334CAM3.jpg', 'P334CAM4.jpg'])"
      ]
     },
     "execution_count": 55,
     "metadata": {},
     "output_type": "execute_result"
    }
   ],
   "source": [
    "frames.keys()"
   ]
  },
  {
   "cell_type": "code",
   "execution_count": 68,
   "metadata": {},
   "outputs": [],
   "source": [
    "# plots\n",
    "# camera ptcloud\n",
    "color_pts = ['red','green','blue','black']\n",
    "fig = go.Figure()\n",
    "im_name = list(frames.keys())[50]\n",
    "xyz = np.array(frames[im_name].points_in_idx[['X','Y','Z']])\n",
    "Plotters.scatter3d(fig,xyz,color_pts[0],3)\n",
    "fig.show()"
   ]
  },
  {
   "cell_type": "code",
   "execution_count": 8,
   "metadata": {},
   "outputs": [],
   "source": [
    "ref_image = frames['P1407CAM4.jpg'].croped_image\n",
    "im_name = list(frames.keys())[0]\n",
    "from PIL import Image\n",
    "\n",
    "# frames['P1407CAM2.jpg'].match_hist(ref_image)\n",
    "# frames['P1407CAM3.jpg'].match_hist(ref_image)\n",
    "# frames['P1407CAM1.jpg'].match_hist(ref_image)\n",
    "arr_im = np.array(frames['P1407CAM4.jpg'].croped_image)\n",
    "\n",
    "arr_im[arr_im > 0] = np.array(arr_im[arr_im > 0]) - 30\n",
    "subs = [47,35,35,0]\n",
    "# projection\n",
    "fig,axs = plt.subplots(2,2)\n",
    "for cam in range(4):\n",
    "    im_name = list(frames.keys())[cam]\n",
    "    image = f'{im_name.split(\"CAM\")[0]}CAM{cam+1}.jpg'\n",
    "    arr_im = np.array(frames[im_name].croped_image)\n",
    "    arr_im[arr_im > 0] = np.array(arr_im[arr_im > 0]) - subs[cam]*0 + 20*0\n",
    "    frames[im_name].croped_image = Image.fromarray(arr_im)\n",
    "    axs[cam // 2,cam % 2].imshow(arr_im,'gray')\n"
   ]
  },
  {
   "cell_type": "code",
   "execution_count": 30,
   "metadata": {},
   "outputs": [
    {
     "data": {
      "text/plain": [
       "'G:/My Drive/Research/gs_data/mov19_2022_03_03/'"
      ]
     },
     "execution_count": 30,
     "metadata": {},
     "output_type": "execute_result"
    }
   ],
   "source": [
    "ggs.path"
   ]
  },
  {
   "cell_type": "code",
   "execution_count": 3,
   "metadata": {},
   "outputs": [],
   "source": [
    "path = 'G:/My Drive/Research/gaussian_splatting/gaussian_splatting_input/mov19_2022_03_03/'\n",
    "# map 3d voxels to 2d pixels    \n",
    "\n",
    "[frames[im_name].map_3d_2d(croped_image = True, use_zbuff = True) for im_name in frames.keys()]\n",
    "voxel_dict,colors_dict = Utils.get_dict_for_points3d(frames)\n",
    "ggs = GenerateGsInput(path,frames)\n",
    "frames_dict = {}\n",
    "idx = 0\n",
    "for frame in range(1407,1430):\n",
    "    \n",
    "    image_name,points_in_idx = Utils.define_frames([frame],points_3d)\n",
    "    cameras = {f'cam{cam + 1}':Camera(path,cam) for cam in range(4)}\n",
    "    frames = {f'{im_name}.jpg':Frame(path,im_name,points_in_idx[im_name.split('CAM')[0]],real_coord,idx) for idx,im_name in enumerate(image_name)}\n",
    "    [frames[im_name].map_3d_2d(croped_image = True, use_zbuff = True) for im_name in frames.keys()]\n",
    "    voxel_dict,colors_dict = Utils.get_dict_for_points3d(frames)\n",
    "    ggs = GenerateGsInput(path,frames)\n",
    "    \n",
    "    ggs.save_croped_images(croped_image = True)\n",
    "    ggs.generate_camera_text(croped_image = True)\n",
    "    ggs.generate_image_text()\n",
    "    ggs.generate_points3d_text(voxel_dict,colors_dict)\n",
    "    base_images = ggs.generate_base_image()\n",
    "    cams = ggs.generate_cams(croped_image = True)\n",
    "    xyz,rgb = ggs.generate_xyz_rgb(voxel_dict,colors_dict)\n",
    "    frames_dict[frame] = [base_images,cams,[xyz,rgb]]\n",
    "    idx += 1\n",
    "\n",
    "\n",
    "Utils.pickle_file(frames_dict,f'{ggs.sparse_dir}/frames_zbuff.pkl' )\n"
   ]
  },
  {
   "cell_type": "code",
   "execution_count": 4,
   "metadata": {},
   "outputs": [],
   "source": [
    "# plots\n",
    "# camera ptcloud\n",
    "color_pts = ['red','green','blue','black']\n",
    "fig = go.Figure()\n",
    "im_name = list(frames.keys())[0]\n",
    "for cam in range(4):\n",
    "    image = f'{im_name.split(\"CAM\")[0]}CAM{cam+1}.jpg'\n",
    "    Plotters.scatter3d(fig,frames[image].voxels_with_idx,color_pts[cam],3)\n",
    "fig.show()"
   ]
  },
  {
   "cell_type": "code",
   "execution_count": 31,
   "metadata": {},
   "outputs": [],
   "source": [
    "Utils.pickle_file(frames_dict,f'{ggs.sparse_dir}/frames.pkl' )\n"
   ]
  },
  {
   "cell_type": "code",
   "execution_count": 5,
   "metadata": {},
   "outputs": [
    {
     "data": {
      "text/plain": [
       "'G:/My Drive/Research/gaussian_splatting/gaussian_splatting_input/mov19_2022_03_03//input_data_for_gs/sparse/'"
      ]
     },
     "execution_count": 5,
     "metadata": {},
     "output_type": "execute_result"
    }
   ],
   "source": [
    "ggs.sparse_dir"
   ]
  },
  {
   "cell_type": "code",
   "execution_count": 48,
   "metadata": {},
   "outputs": [
    {
     "data": {
      "text/plain": [
       "{'id': 1,\n",
       " 'qvec': array([ 0.0101965,  0.49418  , -0.4900953,  0.7179755]),\n",
       " 'tvec': array([ 2.34052445e-06, -3.10337357e-03,  1.96041261e-01]),\n",
       " 'camera_id': 1,\n",
       " 'name': 'P1407CAM2.jpg',\n",
       " 'xys': array([[ 25.,  60.],\n",
       "        [ 26.,  61.],\n",
       "        [ 27.,  61.],\n",
       "        ...,\n",
       "        [126., 110.],\n",
       "        [127., 108.],\n",
       "        [127., 109.]]),\n",
       " 'point3D_ids': array([16908, 16912, 16904, ...,    -1,    -1,    -1])}"
      ]
     },
     "execution_count": 48,
     "metadata": {},
     "output_type": "execute_result"
    }
   ],
   "source": [
    "base_images[1]"
   ]
  },
  {
   "cell_type": "code",
   "execution_count": 26,
   "metadata": {},
   "outputs": [
    {
     "data": {
      "text/plain": [
       "dict_keys([1407, 1408, 1409, 1410, 1411, 1412, 1413, 1414, 1415, 1416, 1417, 1418, 1419])"
      ]
     },
     "execution_count": 26,
     "metadata": {},
     "output_type": "execute_result"
    }
   ],
   "source": [
    "frames_num = list(range(1407,1430,1))\n",
    "frames_pkl = {}\n",
    "for frame in  frames_num:\n",
    "    frames_pkl[frame] = [base_images[4*idx]\n",
    "\n",
    "\n"
   ]
  },
  {
   "cell_type": "code",
   "execution_count": 15,
   "metadata": {},
   "outputs": [],
   "source": [
    "import pickle\n",
    "path = 'G:/My Drive/Research/gs_data/mov19_2022_03_03/input_data_for_gs/sparse/frames.pkl'\n",
    "with open(path, 'rb') as file:\n",
    "    data = pickle.load(file)\n"
   ]
  },
  {
   "cell_type": "code",
   "execution_count": 23,
   "metadata": {},
   "outputs": [
    {
     "data": {
      "text/plain": [
       "{'id': 90,\n",
       " 'qvec': array([ 0.0055668, -0.5137345, -0.4945976,  0.7010129]),\n",
       " 'tvec': array([-0.00187092, -0.00162703,  0.19135575]),\n",
       " 'camera_id': 90,\n",
       " 'name': 'P1429CAM3.jpg',\n",
       " 'xys': array([[ 41.,  70.],\n",
       "        [ 42.,  66.],\n",
       "        [ 42.,  67.],\n",
       "        ...,\n",
       "        [123.,  67.],\n",
       "        [123.,  68.],\n",
       "        [123.,  69.]]),\n",
       " 'point3D_ids': array([1068, 3352, 3392, ...,   -1,   -1,   -1])}"
      ]
     },
     "execution_count": 23,
     "metadata": {},
     "output_type": "execute_result"
    }
   ],
   "source": [
    "import pickle\n",
    "path = 'G:/My Drive/Research/gs_data/mov19_2022_03_03/input_data_for_gs/sparse/base_images.pkl'\n",
    "with open(path, 'rb') as file:\n",
    "    data = pickle.load(file)\n",
    "\n",
    "data[90]"
   ]
  },
  {
   "cell_type": "code",
   "execution_count": null,
   "metadata": {},
   "outputs": [],
   "source": [
    "\n",
    "\n",
    "# import pickle\n",
    "# with open(f'{ggs.sparse_dir}/base_images.pkl', 'wb') as f:\n",
    "#     pickle.dump(base_images, f)\n",
    "\n",
    "# Utils.pickle_file(base_images, f'{ggs.sparse_dir}/base_images.pkl')\n",
    "# Utils.pickle_file(cams, f'{ggs.sparse_dir}/cams.pkl')\n",
    "# Utils.pickle_file([xyz,rgb], f'{ggs.sparse_dir}/xyz_rgb.pkl')\n",
    "\n"
   ]
  },
  {
   "cell_type": "code",
   "execution_count": 12,
   "metadata": {},
   "outputs": [
    {
     "data": {
      "text/plain": [
       "{0: {'id': 0,\n",
       "  'qvec': array([ 0.4014182, -0.7619356,  0.4480878, -0.2398643]),\n",
       "  'tvec': array([0.00099953, 0.00096338, 0.27667279]),\n",
       "  'camera_id': 0,\n",
       "  'name': 'P1407CAM1.jpg',\n",
       "  'xys': array([[ 63., 120.],\n",
       "         [ 63., 121.],\n",
       "         [ 63., 122.],\n",
       "         ...,\n",
       "         [104.,  87.],\n",
       "         [104.,  88.],\n",
       "         [105.,  80.]]),\n",
       "  'point3D_ids': array([19611, 19641, 19669, ...,    -1,    -1,    -1])},\n",
       " 1: {'id': 1,\n",
       "  'qvec': array([ 0.0101965,  0.49418  , -0.4900953,  0.7179755]),\n",
       "  'tvec': array([ 2.34052445e-06, -3.10337357e-03,  1.96041261e-01]),\n",
       "  'camera_id': 1,\n",
       "  'name': 'P1407CAM2.jpg',\n",
       "  'xys': array([[ 25.,  60.],\n",
       "         [ 26.,  61.],\n",
       "         [ 27.,  61.],\n",
       "         ...,\n",
       "         [126., 110.],\n",
       "         [127., 108.],\n",
       "         [127., 109.]]),\n",
       "  'point3D_ids': array([16908, 16912, 16904, ...,    -1,    -1,    -1])},\n",
       " 2: {'id': 2,\n",
       "  'qvec': array([ 0.0055668, -0.5137345, -0.4945976,  0.7010129]),\n",
       "  'tvec': array([-0.00187092, -0.00162703,  0.19135575]),\n",
       "  'camera_id': 2,\n",
       "  'name': 'P1407CAM3.jpg',\n",
       "  'xys': array([[ 57.,  62.],\n",
       "         [ 57.,  63.],\n",
       "         [ 57.,  64.],\n",
       "         ...,\n",
       "         [106.,  48.],\n",
       "         [106.,  49.],\n",
       "         [106.,  50.]]),\n",
       "  'point3D_ids': array([3376, 2673, 2710, ...,   -1,   -1,   -1])},\n",
       " 3: {'id': 3,\n",
       "  'qvec': array([ 4.996600e-03, -9.999007e-01, -3.647000e-04, -1.317290e-02]),\n",
       "  'tvec': array([ 0.00203412, -0.0021872 ,  0.1912346 ]),\n",
       "  'camera_id': 3,\n",
       "  'name': 'P1407CAM4.jpg',\n",
       "  'xys': array([[ 18.,  91.],\n",
       "         [ 18.,  92.],\n",
       "         [ 18.,  93.],\n",
       "         ...,\n",
       "         [141.,  60.],\n",
       "         [141.,  61.],\n",
       "         [141.,  62.]]),\n",
       "  'point3D_ids': array([17828, 17868, 17316, ...,    -1,    -1,    -1])}}"
      ]
     },
     "execution_count": 12,
     "metadata": {},
     "output_type": "execute_result"
    }
   ],
   "source": [
    "base_images"
   ]
  },
  {
   "cell_type": "code",
   "execution_count": 5,
   "metadata": {},
   "outputs": [],
   "source": [
    "im_name = list(frames.keys())[0]\n",
    "fig = go.Figure()\n",
    "Plotters.scatter3d(fig,frames[im_name].points_in_ew_frame,'red',3)\n",
    "fig.show()\n"
   ]
  },
  {
   "cell_type": "code",
   "execution_count": 7,
   "metadata": {},
   "outputs": [],
   "source": [
    "# plots\n",
    "# camera ptcloud\n",
    "color_pts = ['red','green','blue','black']\n",
    "fig = go.Figure()\n",
    "im_name = list(frames.keys())[0]\n",
    "for cam in range(4):\n",
    "    image = f'{im_name.split(\"CAM\")[0]}CAM{cam+1}.jpg'\n",
    "    Plotters.scatter3d(fig,frames[image].voxels_with_idx,color_pts[cam],3)\n",
    "fig.show()\n",
    "\n",
    "\n",
    "\n",
    "# projection\n",
    "fig,axs = plt.subplots(2,2)\n",
    "for cam in range(4):\n",
    "    image = f'{im_name.split(\"CAM\")[0]}CAM{cam+1}.jpg'\n",
    "    homo_voxels_with_idx = frames[image].add_homo_coords(frames[image].voxels_with_idx[:,0:3])\n",
    "    proj = frames[image].project_on_image(homo_voxels_with_idx,croped_camera_matrix = True)\n",
    "    axs[cam // 2,cam % 2].imshow(frames[image].croped_image)\n",
    "    axs[cam // 2,cam % 2].scatter(proj[:,0],proj[:,1],s = 3,c = 'red')\n"
   ]
  },
  {
   "cell_type": "code",
   "execution_count": 13,
   "metadata": {},
   "outputs": [
    {
     "data": {
      "text/plain": [
       "'RGB'"
      ]
     },
     "execution_count": 13,
     "metadata": {},
     "output_type": "execute_result"
    }
   ],
   "source": [
    "from colmap_loader import read_extrinsics_text, read_intrinsics_text, qvec2rotmat, \\\n",
    "    read_extrinsics_binary, read_intrinsics_binary, read_points3D_binary, read_points3D_text\n",
    "\n",
    "\n",
    "cameras_extrinsic_file = f'{ggs.sparse_dir}/images.txt'\n",
    "cameras_intrinsic_file = f'{ggs.sparse_dir}/cameras.txt'\n",
    "txt_path =f'{ggs.sparse_dir}/points3D.txt'\n",
    "\n",
    "xyz, rgb, _ = read_points3D_text(txt_path)\n",
    "\n",
    "cam_extrinsics = read_extrinsics_text(cameras_extrinsic_file)\n",
    "cam_intrinsics = read_intrinsics_text(cameras_intrinsic_file)\n",
    "\n",
    "from PIL import Image\n",
    "\n",
    "image = Image.open(f'{ggs.image_dir}/{im_name}')\n",
    "image.mode\n"
   ]
  },
  {
   "cell_type": "code",
   "execution_count": 15,
   "metadata": {},
   "outputs": [
    {
     "data": {
      "text/plain": [
       "dict_keys(['P1407CAM1.jpg', 'P1407CAM2.jpg', 'P1407CAM3.jpg', 'P1407CAM4.jpg'])"
      ]
     },
     "execution_count": 15,
     "metadata": {},
     "output_type": "execute_result"
    }
   ],
   "source": [
    "frames.keys()"
   ]
  },
  {
   "cell_type": "code",
   "execution_count": 16,
   "metadata": {},
   "outputs": [],
   "source": [
    "import collections\n",
    "Camera = collections.namedtuple(\"Camera\", [\"id\", \"model\", \"width\", \"height\", \"params\"])\n",
    "\n",
    "camera_id = frames['P1407CAM1.jpg'].camera_number\n",
    "model = 'PINHOLE'\n",
    "width = frames['P1407CAM1.jpg'].crop_size\n",
    "height= frames['P1407CAM1.jpg'].crop_size\n",
    "intrinsic = frames['P1407CAM1.jpg'].K_crop \n",
    "\n",
    "\n",
    "params = intrinsic[0,0], intrinsic[1,1], intrinsic[0,2], intrinsic[1,2]\n",
    "cameras[camera_id] = Camera(id=camera_id, model=model,\n",
    "                                            width=width, height=height,\n",
    "                                            params=params)\n",
    "\n",
    "xyz_voxel = np.vstack([voxel_dict[key][:3] for key in voxel_dict.keys()])\n",
    "rgb_voxel = np.vstack([colors_dict[key][:3] for key in colors_dict.keys()])\n",
    "\n",
    "BaseImage = collections.namedtuple(\n",
    "    \"Image\", [\"id\", \"qvec\", \"tvec\", \"camera_id\", \"name\", \"xys\", \"point3D_ids\"])\n",
    "\n",
    "class Image(BaseImage):\n",
    "    def qvec2rotmat(self):\n",
    "        return qvec2rotmat(self.qvec)\n",
    "    \n"
   ]
  },
  {
   "cell_type": "code",
   "execution_count": 28,
   "metadata": {},
   "outputs": [],
   "source": [
    "import collections\n",
    "BaseImage = collections.namedtuple(\n",
    "    \"Image\", [\"id\", \"qvec\", \"tvec\", \"camera_id\", \"name\", \"xys\", \"point3D_ids\"])\n",
    "\n",
    "\n",
    "class Image(BaseImage):\n",
    "    def qvec2rotmat(self):\n",
    "        return qvec2rotmat(self.qvec)\n",
    "    \n",
    "images = {}\n",
    "xyz_voxel = np.vstack([voxel_dict[key][:3] for key in voxel_dict.keys()])\n",
    "rgb_voxel = np.vstack([colors_dict[key][:3] for key in colors_dict.keys()])\n",
    "\n",
    "frames['P1407CAM1.jpg'].pixel_with_idx[:,0:2]\n",
    "\n",
    "\n",
    "point3D_ids = frames['P1407CAM1.jpg'].pixel_with_idx[:,2].astype(int)\n",
    "xys = frames['P1407CAM1.jpg'].pixel_with_idx[:,0:2]\n",
    "image_id = frames['P1407CAM1.jpg'].image_id\n",
    "qvec = frames['P1407CAM1.jpg'].qvec\n",
    "tvec = frames['P1407CAM1.jpg'].t.T[0]\n",
    "camera_id = frames['P1407CAM1.jpg'].camera_number\n",
    "image_name = frames['P1407CAM1.jpg'].image_name\n",
    "\n",
    "images[image_id] = Image(\n",
    "                    id=image_id, qvec=qvec, tvec=tvec,\n",
    "                    camera_id=camera_id, name=image_name,\n",
    "                    xys=xys, point3D_ids=point3D_ids)"
   ]
  },
  {
   "cell_type": "code",
   "execution_count": 29,
   "metadata": {},
   "outputs": [
    {
     "data": {
      "text/plain": [
       "{0: Image(id=0, qvec=array([ 0.4014182, -0.7619356,  0.4480878, -0.2398643]), tvec=array([0.00099953, 0.00096338, 0.27667279]), camera_id=0, name='P1407CAM1.jpg', xys=array([[ 63., 120.],\n",
       "        [ 63., 121.],\n",
       "        [ 63., 122.],\n",
       "        ...,\n",
       "        [104.,  87.],\n",
       "        [104.,  88.],\n",
       "        [105.,  80.]]), point3D_ids=array([19611, 19641, 19669, ...,    -1,    -1,    -1]))}"
      ]
     },
     "execution_count": 29,
     "metadata": {},
     "output_type": "execute_result"
    }
   ],
   "source": [
    "images"
   ]
  },
  {
   "cell_type": "code",
   "execution_count": 27,
   "metadata": {},
   "outputs": [
    {
     "ename": "NameError",
     "evalue": "name 'Image' is not defined",
     "output_type": "error",
     "traceback": [
      "\u001b[1;31m---------------------------------------------------------------------------\u001b[0m",
      "\u001b[1;31mNameError\u001b[0m                                 Traceback (most recent call last)",
      "Cell \u001b[1;32mIn[27], line 13\u001b[0m\n\u001b[0;32m     10\u001b[0m camera_id \u001b[38;5;241m=\u001b[39m frames[\u001b[38;5;124m'\u001b[39m\u001b[38;5;124mP1408CAM1.jpg\u001b[39m\u001b[38;5;124m'\u001b[39m]\u001b[38;5;241m.\u001b[39mcamera_number\n\u001b[0;32m     11\u001b[0m image_name \u001b[38;5;241m=\u001b[39m frames[\u001b[38;5;124m'\u001b[39m\u001b[38;5;124mP1408CAM1.jpg\u001b[39m\u001b[38;5;124m'\u001b[39m]\u001b[38;5;241m.\u001b[39mimage_name\n\u001b[1;32m---> 13\u001b[0m images[image_id] \u001b[38;5;241m=\u001b[39m \u001b[43mImage\u001b[49m(\n\u001b[0;32m     14\u001b[0m                     \u001b[38;5;28mid\u001b[39m\u001b[38;5;241m=\u001b[39mimage_id, qvec\u001b[38;5;241m=\u001b[39mqvec, tvec\u001b[38;5;241m=\u001b[39mtvec,\n\u001b[0;32m     15\u001b[0m                     camera_id\u001b[38;5;241m=\u001b[39mcamera_id, name\u001b[38;5;241m=\u001b[39mimage_name,\n\u001b[0;32m     16\u001b[0m                     xys\u001b[38;5;241m=\u001b[39mxys, point3D_ids\u001b[38;5;241m=\u001b[39mpoint3D_ids)\n",
      "\u001b[1;31mNameError\u001b[0m: name 'Image' is not defined"
     ]
    }
   ],
   "source": [
    "frames['P1408CAM1.jpg'].pixel_with_idx[:,0:2]\n",
    "\n",
    "extrinsics = {}\n",
    "\n",
    "point3D_ids = frames['P1408CAM1.jpg'].pixel_with_idx[:,2].astype(int)\n",
    "xys = frames['P1408CAM1.jpg'].pixel_with_idx[:,0:2]\n",
    "image_id = frames['P1408CAM1.jpg'].image_id\n",
    "qvec = frames['P1408CAM1.jpg'].qvec\n",
    "tvec = frames['P1408CAM1.jpg'].t.T[0]\n",
    "camera_id = frames['P1408CAM1.jpg'].camera_number\n",
    "image_name = frames['P1408CAM1.jpg'].image_name\n",
    "\n",
    "images[image_id] = Image(\n",
    "                    id=image_id, qvec=qvec, tvec=tvec,\n",
    "                    camera_id=camera_id, name=image_name,\n",
    "                    xys=xys, point3D_ids=point3D_ids)"
   ]
  },
  {
   "cell_type": "code",
   "execution_count": 9,
   "metadata": {},
   "outputs": [
    {
     "data": {
      "text/plain": [
       "{0: Image(id=0, qvec=array([ 0.4014182, -0.7619356,  0.4480878, -0.2398643]), tvec=array([0.00099953, 0.00096338, 0.27667279]), camera_id=0, name='im_name.jpg', xys=array([[ 61., 121.],\n",
       "        [ 61., 122.],\n",
       "        [ 61., 123.],\n",
       "        ...,\n",
       "        [106.,  88.],\n",
       "        [107.,  79.],\n",
       "        [107.,  80.]]), point3D_ids=array([20219, 20229, 20240, ...,    -1,    -1,    -1]))}"
      ]
     },
     "execution_count": 9,
     "metadata": {},
     "output_type": "execute_result"
    }
   ],
   "source": [
    "images"
   ]
  },
  {
   "cell_type": "code",
   "execution_count": 26,
   "metadata": {},
   "outputs": [
    {
     "data": {
      "text/plain": [
       "<matplotlib.collections.PathCollection at 0x14f83c85390>"
      ]
     },
     "execution_count": 26,
     "metadata": {},
     "output_type": "execute_result"
    }
   ],
   "source": [
    "import math\n",
    "\n",
    "def qvec2rotmat(qvec):\n",
    "    return np.array([\n",
    "        [1 - 2 * qvec[2]**2 - 2 * qvec[3]**2,\n",
    "         2 * qvec[1] * qvec[2] - 2 * qvec[0] * qvec[3],\n",
    "         2 * qvec[3] * qvec[1] + 2 * qvec[0] * qvec[2]],\n",
    "        [2 * qvec[1] * qvec[2] + 2 * qvec[0] * qvec[3],\n",
    "         1 - 2 * qvec[1]**2 - 2 * qvec[3]**2,\n",
    "         2 * qvec[2] * qvec[3] - 2 * qvec[0] * qvec[1]],\n",
    "        [2 * qvec[3] * qvec[1] - 2 * qvec[0] * qvec[2],\n",
    "         2 * qvec[2] * qvec[3] + 2 * qvec[0] * qvec[1],\n",
    "         1 - 2 * qvec[1]**2 - 2 * qvec[2]**2]])\n",
    "\n",
    "\n",
    "\n",
    "def getWorld2View2(R, t, translate=np.array([.0, .0, .0]), scale=1.0):\n",
    "    Rt = np.zeros((4, 4))\n",
    "    Rt[:3, :3] = R.transpose()\n",
    "    Rt[:3, 3] = t\n",
    "    Rt[3, 3] = 1.0\n",
    "\n",
    "    C2W = np.linalg.inv(Rt)\n",
    "    cam_center = C2W[:3, 3]\n",
    "    cam_center = (cam_center + translate) * scale\n",
    "    C2W[:3, 3] = cam_center\n",
    "    Rt = np.linalg.inv(C2W)\n",
    "    return np.float32(Rt)\n",
    "\n",
    "\n",
    "\n",
    "def focal2fov(focal, pixels):\n",
    "    return 2*math.atan(pixels/(2*focal))\n",
    "\n",
    "def getProjectionMatrix1(znear, zfar, fovX, fovY,cx,cy,im_size):\n",
    "    tanHalfFovY = math.tan((fovY / 2))\n",
    "    tanHalfFovX = math.tan((fovX / 2))\n",
    "\n",
    "    top = tanHalfFovY * znear\n",
    "    bottom = -top\n",
    "    right = tanHalfFovX * znear\n",
    "    left = -right\n",
    "\n",
    "    P = np.zeros((4, 4))\n",
    "\n",
    "    z_sign = 1.0\n",
    "\n",
    "    P[0, 0] = 2.0 * znear / (right - left)\n",
    "    P[1, 1] = 2.0 * znear / (top - bottom)\n",
    "    P[0, 2] = (right + left) / (right - left)\n",
    "    P[1, 2] = (top + bottom) / (top - bottom)\n",
    "    P[3, 2] = z_sign\n",
    "    P[2, 2] = z_sign * zfar / (zfar - znear)\n",
    "    P[2, 3] = -(zfar * znear) / (zfar - znear)\n",
    "    P[0, 2] = (right + left) / (right - left) + (2 * cx / im_size[0]) - 1\n",
    "    P[1, 2] = (top + bottom) / (top - bottom) + (2 * cy / im_size[1]) - 1\n",
    "    return P\n",
    "\n",
    "def getProjectionMatrixShift(znear, zfar, focal_x, focal_y, cx, cy, width, height, fovX, fovY):\n",
    "    tanHalfFovY = math.tan((fovY / 2))\n",
    "    tanHalfFovX = math.tan((fovX / 2))\n",
    "\n",
    "    # the origin at center of image plane\n",
    "    top = tanHalfFovY * znear\n",
    "    bottom = -top\n",
    "    right = tanHalfFovX * znear\n",
    "    left = -right\n",
    "\n",
    "    # shift the frame window due to the non-zero principle point offsets\n",
    "    offset_x = cx - (width/2)\n",
    "    offset_x = (offset_x/focal_x)*znear\n",
    "    offset_y = cy - (height/2)\n",
    "    offset_y = (offset_y/focal_y)*znear\n",
    "\n",
    "    top = top + offset_y\n",
    "    left = left + offset_x\n",
    "    right = right + offset_x\n",
    "    bottom = bottom + offset_y\n",
    "\n",
    "    P = np.zeros((4, 4))\n",
    "\n",
    "    z_sign = 1.0\n",
    "\n",
    "    P[0, 0] = 2.0 * znear / (right - left)\n",
    "    P[1, 1] = 2.0 * znear / (top - bottom)\n",
    "    P[0, 2] = (right + left) / (right - left)\n",
    "    P[1, 2] = (top + bottom) / (top - bottom)\n",
    "    P[3, 2] = z_sign\n",
    "    P[2, 2] = z_sign * zfar / (zfar - znear)\n",
    "    P[2, 3] = -(zfar * znear) / (zfar - znear)\n",
    "    return P\n",
    "\n",
    "def adjust_focal_lengths(fx, fy, cx, cy, image_width, image_height, znear):\n",
    "    # Shifts from the image center\n",
    "    shift_x = cx - image_width / 2\n",
    "    shift_y = cy - image_height / 2\n",
    "    \n",
    "    # Adjust the focal lengths based on the shifts\n",
    "    adjusted_fx = fx - (shift_x / znear)\n",
    "    adjusted_fy = fy - (shift_y / znear)\n",
    "    \n",
    "    return adjusted_fx, adjusted_fy\n",
    "\n",
    "\n",
    "def adjust_translation(t, cx, cy, image_width, image_height):\n",
    "    # Adjust the translation based on the shift from center\n",
    "    t_adjusted = np.copy(t)\n",
    "    t_adjusted[0] += (cx - image_width / 2) * 1  # Adjust for x shift\n",
    "    t_adjusted[1] += (cy - image_height / 2) * 1 # Adjust for y shift\n",
    "    \n",
    "    return t_adjusted\n",
    "\n",
    "\n",
    "def getProjectionMatrix(znear, zfar, fovX, fovY):\n",
    "    tanHalfFovY = math.tan((fovY / 2))\n",
    "    tanHalfFovX = math.tan((fovX / 2))\n",
    "\n",
    "    top = tanHalfFovY * znear\n",
    "    bottom = -top\n",
    "    right = tanHalfFovX * znear\n",
    "    left = -right\n",
    "\n",
    "    P = np.zeros((4, 4))\n",
    "\n",
    "    z_sign = 1.0\n",
    "\n",
    "    P[0, 0] = 2.0 * znear / (right - left)\n",
    "    P[1, 1] = 2.0 * znear / (top - bottom)\n",
    "    P[0, 2] = (right + left) / (right - left)\n",
    "    P[1, 2] = (top + bottom) / (top - bottom)\n",
    "    P[3, 2] = z_sign\n",
    "    P[2, 2] = z_sign * zfar / (zfar - znear)\n",
    "    P[2, 3] = -(zfar * znear) / (zfar - znear)\n",
    "    P[0, 2] = (right + left) / (right - left) \n",
    "    P[1, 2] = (top + bottom) / (top - bottom) \n",
    "    return P\n",
    "\n",
    "image_name = 'P1407CAM2.jpg'\n",
    "\n",
    "\n",
    "\n",
    "image_width = 160\n",
    "image_height = 160\n",
    "znear = 0.000000001\n",
    "zfar = 100\n",
    "\n",
    "focalx = frames[image_name].K_crop[0,0]\n",
    "focaly = frames[image_name].K_crop[1,1]\n",
    "cx = frames[image_name].K_crop[0, 2]  # Updated cx for cropped image\n",
    "cy = frames[image_name].K_crop[1, 2]  # Updated cy for cropped image\n",
    "\n",
    "\n",
    "R = qvec2rotmat(frames[image_name].qvec).T\n",
    "# R = frames[image_name].R\n",
    "T = frames[image_name].t.T\n",
    "\n",
    "im_size = [160,160]\n",
    "\n",
    "# focalx,focaly = adjust_focal_lengths(focalx, focaly, cx, cy, image_width, image_height, znear)\n",
    "fovX = focal2fov(focalx, image_width)\n",
    "fovY = focal2fov(focaly, image_height)\n",
    "\n",
    "world_view_transform = getWorld2View2(R, T)\n",
    "# projection_matrix = getProjectionMatrix(znear, zfar, fovX, fovY)\n",
    "projection_matrix = getProjectionMatrix1(znear, zfar, fovX, fovY,cx,cy,im_size)\n",
    "\n",
    "projection_matrix = getProjectionMatrixShift(znear, zfar, focalx, focaly, cx, cy, image_width, image_height, fovX, fovY)\n",
    "full_proj_transform = np.matmul(projection_matrix,world_view_transform)  # Shape: (1, N, K)\n",
    "# full_proj_transform = np.dot(projection_matrix,world_view_transform)\n",
    "\n",
    "xyz_homo  = np.column_stack((frames[image_name].voxels_with_idx[:,0:3],np.ones((frames[image_name].voxels_with_idx.shape[0],1))))\n",
    "\n",
    "p_proj = np.matmul(full_proj_transform,xyz_homo.T).T\n",
    "\n",
    "p_view = np.matmul(world_view_transform,xyz_homo.T).T\n",
    "\n",
    "\n",
    "p_proj = p_proj[:,0:3]/p_proj[:,3:]\n",
    "\n",
    "def proj_screen(pixel,s):\n",
    "    return ((pixel + 1)*s-1)*0.5\n",
    "pixel_x =proj_screen(p_proj[:,0],image_width)\n",
    "pixel_y =proj_screen(p_proj[:,1],image_height)\n",
    "plt.figure()\n",
    "plt.imshow(frames[image_name].croped_image)\n",
    "\n",
    "plt.scatter(pixel_x,pixel_y)\n",
    "\n"
   ]
  },
  {
   "cell_type": "code",
   "execution_count": 10,
   "metadata": {},
   "outputs": [
    {
     "data": {
      "text/plain": [
       "64"
      ]
     },
     "execution_count": 10,
     "metadata": {},
     "output_type": "execute_result"
    }
   ],
   "source": [
    "import numpy as np\n",
    "\n",
    "# Parameters\n",
    "W, H = 1024, 768  # Image dimensions\n",
    "block_x, block_y = 16, 16  # Block dimensions\n",
    "\n",
    "# Create a sample 2D image array filled with zeros\n",
    "image = np.zeros((H, W), dtype=np.float32)\n",
    "\n",
    "# Initialize a \"grid\" that covers the image dimensions\n",
    "grid_x = (W + block_x - 1) // block_x\n",
    "grid_y = (H + block_y - 1) // block_y\n",
    "\n",
    "def process_pixel(x, y):\n",
    "    \"\"\"\n",
    "    Simulate some processing on a pixel at (x, y).\n",
    "    Here, we're just assigning the pixel the value of (x + y) for demonstration.\n",
    "    \"\"\"\n",
    "    return x + y\n",
    "\n",
    "# Loop over each block in the \"grid\"\n",
    "for block_idx_y in range(grid_y):\n",
    "    for block_idx_x in range(grid_x):\n",
    "        \n",
    "        # Loop over each \"thread\" (pixel) within the current block\n",
    "        for thread_idx_y in range(block_y):\n",
    "            for thread_idx_x in range(block_x):\n",
    "                \n",
    "                # Calculate the pixel (x, y) coordinates in the image\n",
    "                x = block_idx_x * block_x + thread_idx_x\n",
    "                y = block_idx_y * block_y + thread_idx_y\n",
    "\n",
    "                # Check if the pixel is within image bounds\n",
    "                if x < W and y < H:\n",
    "                    # Process the pixel and store the result in the image array\n",
    "                    image[y, x] = process_pixel(x, y)\n",
    "\n",
    "# Display a portion of the processed image for verification\n",
    "\n",
    "\n",
    "grid_x\n"
   ]
  },
  {
   "cell_type": "code",
   "execution_count": 72,
   "metadata": {},
   "outputs": [],
   "source": [
    "from plyfile import PlyData\n",
    "import numpy as np\n",
    "import argparse\n",
    "from io import BytesIO\n",
    "\n",
    "def process_ply_to_splat(ply_file_path):\n",
    "    pos = []\n",
    "    color = []\n",
    "\n",
    "    plydata = PlyData.read(ply_file_path)\n",
    "    vert = plydata[\"vertex\"]\n",
    "    sorted_indices = np.argsort(\n",
    "        -np.exp(vert[\"scale_0\"] + vert[\"scale_1\"] + vert[\"scale_2\"])\n",
    "        / (1 + np.exp(-vert[\"opacity\"]))\n",
    "    )\n",
    "    buffer = BytesIO()\n",
    "    for idx in sorted_indices:\n",
    "        v = plydata[\"vertex\"][idx]\n",
    "        pos.append(np.array([v[\"x\"], v[\"y\"], v[\"z\"]], dtype=np.float32))\n",
    "        scales = np.exp(\n",
    "            np.array(\n",
    "                [v[\"scale_0\"], v[\"scale_1\"], v[\"scale_2\"]],\n",
    "                dtype=np.float32,\n",
    "            )\n",
    "        )\n",
    "        rot = np.array(\n",
    "            [v[\"rot_0\"], v[\"rot_1\"], v[\"rot_2\"], v[\"rot_3\"]],\n",
    "            dtype=np.float32,\n",
    "        )\n",
    "        SH_C0 = 0.28209479177387814\n",
    "        color.append(np.array(\n",
    "            [\n",
    "                0.5 + SH_C0 * v[\"f_dc_0\"],\n",
    "                0.5 + SH_C0 * v[\"f_dc_1\"],\n",
    "                0.5 + SH_C0 * v[\"f_dc_2\"],\n",
    "                1 / (1 + np.exp(-v[\"opacity\"])),\n",
    "            ]\n",
    "        ))\n",
    "       \n",
    "        \n",
    "\n",
    "    return pos,scales,color\n",
    "\n",
    "\n",
    "input_file = \"D:/Documents/gray_dense_grad/frame1407/output/position_lr_init_1e-05_scaling_lr0.005_dens_iter100_featur0.0025/point_cloud/iteration_15000/point_cloud.ply\"\n",
    "splat_data = process_ply_to_splat(input_file)"
   ]
  },
  {
   "cell_type": "code",
   "execution_count": 85,
   "metadata": {},
   "outputs": [
    {
     "data": {
      "text/plain": [
       "'point_cloud.ply'"
      ]
     },
     "execution_count": 85,
     "metadata": {},
     "output_type": "execute_result"
    }
   ],
   "source": [
    "input_file.split('/')[-1]"
   ]
  },
  {
   "cell_type": "code",
   "execution_count": 73,
   "metadata": {},
   "outputs": [],
   "source": [
    "import plotly.graph_objects as go\n",
    "import numpy as np\n",
    "import plotly.io as pio\n",
    "\n",
    "pio.renderers.default = 'browser'\n",
    "\n",
    "# Assuming 'splat_data' is predefined with your data\n",
    "pts = np.vstack(splat_data[0])\n",
    "clr = np.vstack(splat_data[2])\n",
    "\n",
    "pts2del = np.where((clr[:, 2] >0.05) & (clr[:, 3] < 0.01) & (clr[:, 2] < 1))\n",
    "# pts2del = np.where((clr[:, 2] >0.05) & (clr[:, 2] < 1))\n",
    "\n",
    "colors = clr[pts2del[0], 1]\n",
    "x = pts[pts2del[0], 0]\n",
    "y = pts[pts2del[0], 1]\n",
    "z = pts[pts2del[0], 2]\n",
    "opa = clr[pts2del[0], 3]\n",
    "\n",
    "\n",
    "# x = pts[:, 0]\n",
    "# y = pts[:, 1]\n",
    "# z = pts[:, 2]\n",
    "# opa = clr[:, 3]\n",
    "\n",
    "# Create the 3D scatter plot with hover template for color value\n",
    "fig = go.Figure(data=[go.Scatter3d(\n",
    "    x=x,\n",
    "    y=y,\n",
    "    z=z,\n",
    "    mode='markers',\n",
    "    marker=dict(\n",
    "        size=2,\n",
    "        color=clr,  # Color for each point\n",
    "        colorscale='Viridis',  # Choose a colorscale\n",
    "        opacity=0.5,  # Use the opacity per point\n",
    "        colorbar=dict(title=\"Colorbar\")  # Optional colorbar\n",
    "    ),\n",
    "    hovertemplate='Color: %{marker.color:.4f}<extra></extra>',  # Show color as float\n",
    ")])\n",
    "\n",
    "# Update layout\n",
    "fig.update_layout(scene=dict(\n",
    "                    xaxis_title='X Axis',\n",
    "                    yaxis_title='Y Axis',\n",
    "                    zaxis_title='Z Axis'),\n",
    "                  title=\"3D Scatter Plot with Color Hover as Float\")\n",
    "\n",
    "# Show the plot\n",
    "# for cam in range(4):\n",
    "#     image = list(frames.keys())[cam]\n",
    "\n",
    "#     Plotters.scatter3d(fig,frames[image].voxels_with_idx,'red',3,opa = 0.2)\n",
    "\n",
    "# fig.show()\n"
   ]
  },
  {
   "cell_type": "code",
   "execution_count": 51,
   "metadata": {},
   "outputs": [
    {
     "data": {
      "text/plain": [
       "array([0.02062435, 0.02727893, 0.13483195, ..., 0.02147318, 0.00367921,\n",
       "       0.9630995 ], dtype=float32)"
      ]
     },
     "execution_count": 51,
     "metadata": {},
     "output_type": "execute_result"
    }
   ],
   "source": [
    "color[3]"
   ]
  },
  {
   "cell_type": "code",
   "execution_count": 83,
   "metadata": {},
   "outputs": [
    {
     "data": {
      "text/plain": [
       "(21627, 4)"
      ]
     },
     "execution_count": 83,
     "metadata": {},
     "output_type": "execute_result"
    }
   ],
   "source": [
    "vertices = plydata[\"vertex\"]\n",
    "xyz = np.column_stack((vertices[\"x\"], vertices[\"y\"], vertices[\"z\"]))\n",
    "scale = np.exp(np.column_stack(([vertices[\"scale_0\"], vertices[\"scale_1\"], vertices[\"scale_2\"]])))\n",
    "xyz.shape\n",
    "scale.shape\n",
    "SH_C0 = 0.28209479177387814\n",
    "color = np.column_stack([\n",
    "0.5 + SH_C0 * vertices[\"f_dc_0\"],\n",
    "0.5 + SH_C0 * vertices[\"f_dc_1\"],\n",
    "0.5 + SH_C0 * vertices[\"f_dc_2\"],\n",
    "1 / (1 + np.exp(-vertices[\"opacity\"])),])\n",
    "color.shape\n"
   ]
  },
  {
   "cell_type": "code",
   "execution_count": 75,
   "metadata": {},
   "outputs": [],
   "source": [
    "from plyfile import PlyData, PlyElement\n",
    "import numpy as np\n",
    "\n",
    "# Load the .ply file\n",
    "plydata = PlyData.read(input_file)\n",
    "\n",
    "vertices = plydata['vertex']\n",
    "# Access specific properties such as x, y, z\n",
    "x = np.array(vertices['x'])\n",
    "y = np.array(vertices['y'])\n",
    "z = np.array(vertices['z'])\n",
    "SH_C0 = 0.28209479177387814\n",
    "color = np.array(\n",
    "    [\n",
    "        0.5 + SH_C0 * vertices[\"f_dc_0\"],\n",
    "        0.5 + SH_C0 * vertices[\"f_dc_1\"],\n",
    "        0.5 + SH_C0 * vertices[\"f_dc_2\"],\n",
    "        1 / (1 + np.exp(-vertices[\"opacity\"])),\n",
    "    ]\n",
    ")\n",
    "\n",
    "\n",
    "\n",
    "# Update the rest of the properties as well\n",
    "filtered_vertices = vertices[(color[2] >= 0.1) & (color[2] < 1)]\n",
    "\n",
    "# Convert filtered vertices to a structured array\n",
    "# new_vertex_data = [(filtered_vertices[i][name] for name in vertices) for i in range(len(filtered_vertices))]\n",
    "# new_vertex_data = np.array(new_vertex_data, dtype=vertices.dtype)\n",
    "\n",
    "# Create a new PlyElement with the filtered vertices\n",
    "filtered_element = PlyElement.describe(filtered_vertices, 'vertex')\n",
    "\n",
    "# Save the filtered points back to a new .ply file\n",
    "\n",
    "PlyData([filtered_element]).write(input_file.split('.ply')[0]+'_nob.ply')\n"
   ]
  },
  {
   "cell_type": "code",
   "execution_count": 23,
   "metadata": {},
   "outputs": [
    {
     "data": {
      "text/plain": [
       "4919"
      ]
     },
     "execution_count": 23,
     "metadata": {},
     "output_type": "execute_result"
    }
   ],
   "source": [
    "len(filtered_element)"
   ]
  },
  {
   "cell_type": "code",
   "execution_count": 38,
   "metadata": {},
   "outputs": [
    {
     "data": {
      "text/plain": [
       "15747"
      ]
     },
     "execution_count": 38,
     "metadata": {},
     "output_type": "execute_result"
    }
   ],
   "source": [
    "len(filtered_vertices)"
   ]
  },
  {
   "cell_type": "code",
   "execution_count": 17,
   "metadata": {},
   "outputs": [],
   "source": [
    "ply_file_path  =\"D:/Documents/point_cloud54354.ply\"\n",
    "plydata = PlyData.read(ply_file_path)\n",
    "vert = plydata[\"vertex\"]\n",
    "plydata[\"vertex\"]['f_dc_0']\n",
    "\n",
    "\n",
    "xyz = np.vstack((plydata[\"vertex\"]['x'],plydata[\"vertex\"]['y'],plydata[\"vertex\"]['z']))\n",
    "normals = np.zeros_like(xyz)\n",
    "f_dc = np.vstack((plydata[\"vertex\"]['f_dc_0'],plydata[\"vertex\"]['f_dc_1'],plydata[\"vertex\"]['f_dc_2']))\n",
    "\n",
    "\n",
    "from plyfile import PlyData, PlyElement\n",
    "import os\n",
    "def save_ply(self, path):\n",
    "    mkdir_p(os.path.dirname(path))\n",
    "\n",
    "    xyz = np.vstack((plydata[\"vertex\"]['x'],plydata[\"vertex\"]['y'],plydata[\"vertex\"]['z']))\n",
    "    normals = np.zeros_like(xyz)\n",
    "    f_dc = self._features_dc.detach().transpose(1, 2).flatten(start_dim=1).contiguous().cpu().numpy()\n",
    "    f_rest = self._features_rest.detach().transpose(1, 2).flatten(start_dim=1).contiguous().cpu().numpy()\n",
    "    opacities = self._opacity.detach().cpu().numpy()\n",
    "    scale = self._scaling.detach().cpu().numpy()\n",
    "    rotation = self._rotation.detach().cpu().numpy()\n",
    "\n",
    "    dtype_full = [(attribute, 'f4') for attribute in self.construct_list_of_attributes()]\n",
    "\n",
    "    elements = np.empty(xyz.shape[0], dtype=dtype_full)\n",
    "    attributes = np.concatenate((plydata[''], normals, f_dc, f_rest, opacities, scale, rotation), axis=1)\n",
    "    elements[:] = list(map(tuple, attributes))\n",
    "    el = PlyElement.describe(elements, 'vertex')\n",
    "    PlyData([el]).write(path)"
   ]
  },
  {
   "cell_type": "code",
   "execution_count": 91,
   "metadata": {},
   "outputs": [
    {
     "ename": "ValueError",
     "evalue": "operands could not be broadcast together with shapes (7374,3) (2540,3) ",
     "output_type": "error",
     "traceback": [
      "\u001b[1;31m---------------------------------------------------------------------------\u001b[0m",
      "\u001b[1;31mValueError\u001b[0m                                Traceback (most recent call last)",
      "Cell \u001b[1;32mIn[91], line 4\u001b[0m\n\u001b[0;32m      1\u001b[0m plt\u001b[38;5;241m.\u001b[39mplot(np\u001b[38;5;241m.\u001b[39msort(x))\n\u001b[1;32m----> 4\u001b[0m dist \u001b[38;5;241m=\u001b[39m np\u001b[38;5;241m.\u001b[39mlinalg\u001b[38;5;241m.\u001b[39mnorm(\u001b[43mpts\u001b[49m\u001b[43m[\u001b[49m\u001b[43mpts2del\u001b[49m\u001b[43m[\u001b[49m\u001b[38;5;241;43m0\u001b[39;49m\u001b[43m]\u001b[49m\u001b[43m,\u001b[49m\u001b[43m:\u001b[49m\u001b[43m]\u001b[49m\u001b[38;5;241;43m-\u001b[39;49m\u001b[43mframes\u001b[49m\u001b[43m[\u001b[49m\u001b[43mimage\u001b[49m\u001b[43m]\u001b[49m\u001b[38;5;241;43m.\u001b[39;49m\u001b[43mvoxels_with_idx\u001b[49m\u001b[43m[\u001b[49m\u001b[43m:\u001b[49m\u001b[43m,\u001b[49m\u001b[38;5;241;43m0\u001b[39;49m\u001b[43m:\u001b[49m\u001b[38;5;241;43m3\u001b[39;49m\u001b[43m]\u001b[49m)\n",
      "\u001b[1;31mValueError\u001b[0m: operands could not be broadcast together with shapes (7374,3) (2540,3) "
     ]
    }
   ],
   "source": [
    "plt.plot(np.sort(x))\n",
    "\n",
    "\n",
    "dist = np.linalg.norm(pts[pts2del[0],:]-frames[image].voxels_with_idx[:,0:3])"
   ]
  },
  {
   "cell_type": "code",
   "execution_count": 85,
   "metadata": {},
   "outputs": [
    {
     "data": {
      "text/plain": [
       "[<matplotlib.lines.Line2D at 0x1375fd38220>]"
      ]
     },
     "execution_count": 85,
     "metadata": {},
     "output_type": "execute_result"
    }
   ],
   "source": [
    "plt.plot(frames[image].voxels_with_idx[:,0])"
   ]
  },
  {
   "cell_type": "code",
   "execution_count": 72,
   "metadata": {},
   "outputs": [],
   "source": [
    "pts =np.vstack(splat_data[0])\n",
    "\n",
    "color_pts = ['red','green','blue','black']\n",
    "fig = go.Figure()\n",
    "Plotters.scatter3d(fig,pts[pts2del[0],:],color_pts[0],3)\n",
    "fig.show()\n"
   ]
  },
  {
   "cell_type": "code",
   "execution_count": 5,
   "metadata": {},
   "outputs": [
    {
     "ename": "NameError",
     "evalue": "name 'proj' is not defined",
     "output_type": "error",
     "traceback": [
      "\u001b[1;31m---------------------------------------------------------------------------\u001b[0m",
      "\u001b[1;31mNameError\u001b[0m                                 Traceback (most recent call last)",
      "Cell \u001b[1;32mIn[5], line 1\u001b[0m\n\u001b[1;32m----> 1\u001b[0m mul1 \u001b[38;5;241m=\u001b[39m (\u001b[43mproj\u001b[49m[\u001b[38;5;241m0\u001b[39m,\u001b[38;5;241m0\u001b[39m] \u001b[38;5;241m*\u001b[39m m_x \u001b[38;5;241m+\u001b[39m proj[\u001b[38;5;241m1\u001b[39m,\u001b[38;5;241m0\u001b[39m] \u001b[38;5;241m*\u001b[39m m_y \u001b[38;5;241m+\u001b[39m proj[\u001b[38;5;241m2\u001b[39m,\u001b[38;5;241m0\u001b[39m] \u001b[38;5;241m*\u001b[39m m_z \u001b[38;5;241m+\u001b[39m proj[\u001b[38;5;241m3\u001b[39m,\u001b[38;5;241m0\u001b[39m])\u001b[38;5;241m*\u001b[39mm_w\n\u001b[0;32m      2\u001b[0m mul2 \u001b[38;5;241m=\u001b[39m (proj[\u001b[38;5;241m0\u001b[39m,\u001b[38;5;241m1\u001b[39m] \u001b[38;5;241m*\u001b[39m m_x \u001b[38;5;241m+\u001b[39m proj[\u001b[38;5;241m1\u001b[39m,\u001b[38;5;241m1\u001b[39m] \u001b[38;5;241m*\u001b[39m m_y \u001b[38;5;241m+\u001b[39m proj[\u001b[38;5;241m2\u001b[39m,\u001b[38;5;241m1\u001b[39m] \u001b[38;5;241m*\u001b[39m m_z \u001b[38;5;241m+\u001b[39m proj[\u001b[38;5;241m3\u001b[39m,\u001b[38;5;241m1\u001b[39m])\u001b[38;5;241m*\u001b[39mm_w\n\u001b[0;32m      4\u001b[0m plt\u001b[38;5;241m.\u001b[39mscatter(mul1,mul2)\n",
      "\u001b[1;31mNameError\u001b[0m: name 'proj' is not defined"
     ]
    }
   ],
   "source": [
    "\n",
    "\n",
    "mul1 = (proj[0,0] * m_x + proj[1,0] * m_y + proj[2,0] * m_z + proj[3,0])*m_w\n",
    "mul2 = (proj[0,1] * m_x + proj[1,1] * m_y + proj[2,1] * m_z + proj[3,1])*m_w\n",
    "\n",
    "plt.scatter(mul1,mul2)"
   ]
  },
  {
   "cell_type": "code",
   "execution_count": 6,
   "metadata": {},
   "outputs": [
    {
     "ename": "NameError",
     "evalue": "name 'proj' is not defined",
     "output_type": "error",
     "traceback": [
      "\u001b[1;31m---------------------------------------------------------------------------\u001b[0m",
      "\u001b[1;31mNameError\u001b[0m                                 Traceback (most recent call last)",
      "Cell \u001b[1;32mIn[6], line 1\u001b[0m\n\u001b[1;32m----> 1\u001b[0m dL_dmean\u001b[38;5;241m.\u001b[39mx \u001b[38;5;241m=\u001b[39m (\u001b[43mproj\u001b[49m[\u001b[38;5;241m0\u001b[39m] \u001b[38;5;241m*\u001b[39m m_w \u001b[38;5;241m-\u001b[39m proj[\u001b[38;5;241m3\u001b[39m] \u001b[38;5;241m*\u001b[39m mul1) \u001b[38;5;241m*\u001b[39m dL_dmean2D[idx]\u001b[38;5;241m.\u001b[39mx \u001b[38;5;241m+\u001b[39m (proj[\u001b[38;5;241m1\u001b[39m] \u001b[38;5;241m*\u001b[39m m_w \u001b[38;5;241m-\u001b[39m proj[\u001b[38;5;241m3\u001b[39m] \u001b[38;5;241m*\u001b[39m mul2) \u001b[38;5;241m*\u001b[39m dL_dmean2D[idx]\u001b[38;5;241m.\u001b[39my;\n\u001b[0;32m      2\u001b[0m dL_dmean\u001b[38;5;241m.\u001b[39my \u001b[38;5;241m=\u001b[39m (proj[\u001b[38;5;241m4\u001b[39m] \u001b[38;5;241m*\u001b[39m m_w \u001b[38;5;241m-\u001b[39m proj[\u001b[38;5;241m7\u001b[39m] \u001b[38;5;241m*\u001b[39m mul1) \u001b[38;5;241m*\u001b[39m dL_dmean2D[idx]\u001b[38;5;241m.\u001b[39mx \u001b[38;5;241m+\u001b[39m (proj[\u001b[38;5;241m5\u001b[39m] \u001b[38;5;241m*\u001b[39m m_w \u001b[38;5;241m-\u001b[39m proj[\u001b[38;5;241m7\u001b[39m] \u001b[38;5;241m*\u001b[39m mul2) \u001b[38;5;241m*\u001b[39m dL_dmean2D[idx]\u001b[38;5;241m.\u001b[39my\n",
      "\u001b[1;31mNameError\u001b[0m: name 'proj' is not defined"
     ]
    }
   ],
   "source": [
    "\tdL_dmean.x = (proj[0] * m_w - proj[3] * mul1) * dL_dmean2D[idx].x + (proj[1] * m_w - proj[3] * mul2) * dL_dmean2D[idx].y;\n",
    "\tdL_dmean.y = (proj[4] * m_w - proj[7] * mul1) * dL_dmean2D[idx].x + (proj[5] * m_w - proj[7] * mul2) * dL_dmean2D[idx].y;"
   ]
  },
  {
   "cell_type": "code",
   "execution_count": 81,
   "metadata": {},
   "outputs": [
    {
     "data": {
      "text/plain": [
       "(4, 3)"
      ]
     },
     "execution_count": 81,
     "metadata": {},
     "output_type": "execute_result"
    }
   ],
   "source": [
    "frames['P550CAM2.jpg'].world_to_cam.T.shape"
   ]
  },
  {
   "cell_type": "code",
   "execution_count": 7,
   "metadata": {},
   "outputs": [
    {
     "ename": "NameError",
     "evalue": "name 'frames' is not defined",
     "output_type": "error",
     "traceback": [
      "\u001b[1;31m---------------------------------------------------------------------------\u001b[0m",
      "\u001b[1;31mNameError\u001b[0m                                 Traceback (most recent call last)",
      "Cell \u001b[1;32mIn[7], line 1\u001b[0m\n\u001b[1;32m----> 1\u001b[0m \u001b[43mframes\u001b[49m[\u001b[38;5;124m'\u001b[39m\u001b[38;5;124mP550CAM3.jpg\u001b[39m\u001b[38;5;124m'\u001b[39m]\u001b[38;5;241m.\u001b[39mt\n",
      "\u001b[1;31mNameError\u001b[0m: name 'frames' is not defined"
     ]
    }
   ],
   "source": [
    "frames['P550CAM3.jpg'].t"
   ]
  },
  {
   "cell_type": "code",
   "execution_count": 8,
   "metadata": {},
   "outputs": [
    {
     "ename": "NameError",
     "evalue": "name 'wakk' is not defined",
     "output_type": "error",
     "traceback": [
      "\u001b[1;31m---------------------------------------------------------------------------\u001b[0m",
      "\u001b[1;31mNameError\u001b[0m                                 Traceback (most recent call last)",
      "Cell \u001b[1;32mIn[8], line 1\u001b[0m\n\u001b[1;32m----> 1\u001b[0m \u001b[43mwakk\u001b[49m\n",
      "\u001b[1;31mNameError\u001b[0m: name 'wakk' is not defined"
     ]
    }
   ],
   "source": [
    "wakk"
   ]
  },
  {
   "cell_type": "code",
   "execution_count": 126,
   "metadata": {},
   "outputs": [
    {
     "data": {
      "text/plain": [
       "array([[-0.47209181,  0.5003788 , -0.72577571,  0.        ],\n",
       "       [ 0.51598852, -0.51068448, -0.68771885,  0.        ],\n",
       "       [-0.71476232, -0.69915837, -0.01709975,  0.        ],\n",
       "       [-0.00187092, -0.00162703,  0.19135575,  1.        ]])"
      ]
     },
     "execution_count": 126,
     "metadata": {},
     "output_type": "execute_result"
    }
   ],
   "source": []
  },
  {
   "cell_type": "code",
   "execution_count": null,
   "metadata": {},
   "outputs": [],
   "source": []
  },
  {
   "cell_type": "code",
   "execution_count": 9,
   "metadata": {},
   "outputs": [
    {
     "ename": "NameError",
     "evalue": "name 'args' is not defined",
     "output_type": "error",
     "traceback": [
      "\u001b[1;31m---------------------------------------------------------------------------\u001b[0m",
      "\u001b[1;31mNameError\u001b[0m                                 Traceback (most recent call last)",
      "Cell \u001b[1;32mIn[9], line 1\u001b[0m\n\u001b[1;32m----> 1\u001b[0m \u001b[43margs\u001b[49m[\u001b[38;5;124m'\u001b[39m\u001b[38;5;124marr_8\u001b[39m\u001b[38;5;124m'\u001b[39m]\n",
      "\u001b[1;31mNameError\u001b[0m: name 'args' is not defined"
     ]
    }
   ],
   "source": [
    "args['arr_8']"
   ]
  },
  {
   "cell_type": "code",
   "execution_count": null,
   "metadata": {},
   "outputs": [],
   "source": []
  },
  {
   "cell_type": "code",
   "execution_count": 43,
   "metadata": {},
   "outputs": [
    {
     "data": {
      "text/plain": [
       "array([[ 2.8788988e+01,  2.6489201e+01,  7.1968478e-01,  7.1961278e-01],\n",
       "       [ 2.8094706e+01,  2.9289333e+01, -6.9374442e-01, -6.9367504e-01],\n",
       "       [-3.9387680e+01,  4.0252998e+01,  3.1188568e-02,  3.1185448e-02],\n",
       "       [-1.3176772e-04,  1.7499962e-01,  1.8605986e-01,  1.9604126e-01]],\n",
       "      dtype=float32)"
      ]
     },
     "execution_count": 43,
     "metadata": {},
     "output_type": "execute_result"
    }
   ],
   "source": [
    "args['arr_9']"
   ]
  },
  {
   "cell_type": "code",
   "execution_count": 22,
   "metadata": {},
   "outputs": [],
   "source": [
    "args['arr_1']\n",
    "\n",
    "fig = go.Figure()\n",
    "\n",
    "Plotters.scatter3d(fig,frames['P550CAM1.jpg'].voxels_with_idx,'blue',3)\n",
    "Plotters.scatter3d(fig,args['arr_1'],'red',3)\n",
    "\n",
    "fig.show()"
   ]
  },
  {
   "cell_type": "code",
   "execution_count": 23,
   "metadata": {},
   "outputs": [],
   "source": [
    "image_rgb = image.convert('RGB')\n",
    "image_rgb.save('wakk.jpg')\n"
   ]
  },
  {
   "cell_type": "code",
   "execution_count": 24,
   "metadata": {},
   "outputs": [
    {
     "data": {
      "text/plain": [
       "'RGB'"
      ]
     },
     "execution_count": 24,
     "metadata": {},
     "output_type": "execute_result"
    }
   ],
   "source": [
    "image.size\n",
    "\n",
    "pt = 'D:\\Documents\\south-building\\images\\P1180141.jpg'\n",
    "image = Image.open('wakk.jpg')\n",
    "image.mode"
   ]
  }
 ],
 "metadata": {
  "kernelspec": {
   "display_name": "base",
   "language": "python",
   "name": "python3"
  },
  "language_info": {
   "codemirror_mode": {
    "name": "ipython",
    "version": 3
   },
   "file_extension": ".py",
   "mimetype": "text/x-python",
   "name": "python",
   "nbconvert_exporter": "python",
   "pygments_lexer": "ipython3",
   "version": "3.10.9"
  }
 },
 "nbformat": 4,
 "nbformat_minor": 2
}
