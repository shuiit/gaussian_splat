{
 "cells": [
  {
   "cell_type": "code",
   "execution_count": 1,
   "metadata": {},
   "outputs": [],
   "source": [
    "import os\n",
    "import sys\n",
    "parent_dir = os.path.abspath(os.path.join(os.getcwd(), '..'))\n",
    "sys.path.insert(0, parent_dir)\n",
    "\n",
    "parent_dir = os.path.abspath(os.path.join(os.getcwd().split('render')[0],'gaussian_data'))\n",
    "sys.path.insert(0, parent_dir)\n",
    "\n",
    "from gaussian_data.Camera import Camera\n",
    "from gaussian_data.Frame import Frame\n",
    "import gaussian_data.Plotters\n",
    "import gaussian_data.Utils as Utils\n",
    "from GaussianSplat import GaussianSplat\n",
    "import numpy as np\n",
    "from plyfile import PlyData\n",
    "import numpy as np\n",
    "import argparse\n",
    "from io import BytesIO\n",
    "import matplotlib.pyplot as plt\n",
    "import plotly\n",
    "import plotly.graph_objects as go\n",
    "import scipy.io\n",
    "import pandas as pd\n",
    "from Render import Render\n",
    "\n",
    "%matplotlib qt\n",
    "\n",
    "# load hull\n",
    "path = 'I:/My Drive/Research/gs_data/mov19_2022_03_03/'\n",
    "real_coord = scipy.io.loadmat(f'{path}/3d_pts/real_coord.mat')['all_coords']\n",
    "points_3d = {body_wing : pd.DataFrame(Utils.load_hull(body_wing,path),columns = ['X','Y','Z','frame']) for body_wing in ['body','rwing','lwing']}\n",
    "# initilize objects\n",
    "frames = [1483]\n",
    "\n",
    "image_names,points_in_idx = Utils.define_frames(frames,points_3d)\n",
    "cameras = {f'cam{cam + 1}':Camera(path,cam) for cam in range(4)}\n",
    "frames = {f'{im_name}.jpg':Frame(path,im_name,points_in_idx[im_name.split('CAM')[0]],real_coord,idx) for idx,im_name in enumerate(image_names)}\n",
    "# map 3d voxels to 2d pixels\n",
    "[frames[im_name].map_3d_2d(croped_image = True) for im_name in frames.keys()]\n",
    "voxel_dict,colors_dict = Utils.get_dict_for_points3d(frames)\n"
   ]
  },
  {
   "cell_type": "code",
   "execution_count": 2,
   "metadata": {},
   "outputs": [],
   "source": [
    "def build_rotation(r):\n",
    "    norm = np.sqrt(r[:,0]*r[:,0] + r[:,1]*r[:,1] + r[:,2]*r[:,2] + r[:,3]*r[:,3])\n",
    "\n",
    "    q = r / norm[:, None]\n",
    "\n",
    "    R = np.zeros((q.shape[0], 3, 3))\n",
    "\n",
    "    r = q[:, 0]\n",
    "    x = q[:, 1]\n",
    "    y = q[:, 2]\n",
    "    z = q[:, 3]\n",
    "\n",
    "    R[:, 0, 0] = 1 - 2 * (y*y + z*z)\n",
    "    R[:, 0, 1] = 2 * (x*y - r*z)\n",
    "    R[:, 0, 2] = 2 * (x*z + r*y)\n",
    "    R[:, 1, 0] = 2 * (x*y + r*z)\n",
    "    R[:, 1, 1] = 1 - 2 * (x*x + z*z)\n",
    "    R[:, 1, 2] = 2 * (y*z - r*x)\n",
    "    R[:, 2, 0] = 2 * (x*z - r*y)\n",
    "    R[:, 2, 1] = 2 * (y*z + r*x)\n",
    "    R[:, 2, 2] = 1 - 2 * (x*x + y*y)\n",
    "    return R\n",
    "\n",
    "\n",
    "def build_scaling_rotation(s, r):\n",
    "    L = np.zeros((s.shape[0], 3, 3))\n",
    "    R = build_rotation(r)\n",
    "\n",
    "    L[:,0,0] = s[:,0]\n",
    "    L[:,1,1] = s[:,1]\n",
    "    L[:,2,2] = s[:,2]\n",
    "\n",
    "    L = R @ L\n",
    "    return L"
   ]
  },
  {
   "cell_type": "code",
   "execution_count": 3,
   "metadata": {},
   "outputs": [],
   "source": [
    "\n",
    "def homogeneous(points):\n",
    "    \"\"\"\n",
    "    homogeneous points\n",
    "    :param points: [..., 3]\n",
    "    \"\"\"\n",
    "    return np.column_stack((points, np.ones(points.shape[0])))\n",
    "\n",
    "def homogeneous_vec(vec, vectoadd = [0,0]):\n",
    "    \"\"\"\n",
    "    homogeneous points\n",
    "    :param points: [..., 3]\n",
    "    \"\"\"\n",
    "    return np.concatenate((vec,np.tile(np.array([vectoadd]).T,(vec.shape[0],1,1))),axis = 2)\n"
   ]
  },
  {
   "cell_type": "code",
   "execution_count": 4,
   "metadata": {},
   "outputs": [],
   "source": [
    "\n",
    "def getProjectionMatrix(znear, zfar, fovX, fovY):\n",
    "    import math\n",
    "    tanHalfFovY = math.tan((fovY / 2))\n",
    "    tanHalfFovX = math.tan((fovX / 2))\n",
    "\n",
    "    top = tanHalfFovY * znear\n",
    "    bottom = -top\n",
    "    right = tanHalfFovX * znear\n",
    "    left = -right\n",
    "\n",
    "    P = np.zeros((4, 4))\n",
    "\n",
    "    z_sign = 1.0\n",
    "\n",
    "    P[0, 0] = 2.0 * znear / (right - left)\n",
    "    P[1, 1] = 2.0 * znear / (top - bottom)\n",
    "    P[0, 2] = (right + left) / (right - left)\n",
    "    P[1, 2] = (top + bottom) / (top - bottom)\n",
    "    P[3, 2] = z_sign\n",
    "    P[2, 2] = z_sign * zfar / (zfar - znear)\n",
    "    P[2, 3] = -(zfar * znear) / (zfar - znear)\n",
    "    return P\n",
    "\n",
    "\n",
    "def focal2fov(focal, pixels):\n",
    "    import math\n",
    "    return 2*math.atan(pixels/(2*focal))\n",
    "\n",
    "\n",
    "def get_inputs(num_points=8):\n",
    "    length = 0.5\n",
    "    num_points = 8\n",
    "    x = np.linspace(-1, 1, num_points) * length\n",
    "    y = np.linspace(-1, 1, num_points) * length\n",
    "    x, y = np.meshgrid(x, y)\n",
    "    means3D = np.stack([x,y, 0 * np.random.rand(*x.shape)], axis=-1).reshape(-1,3)\n",
    "    quats = np.tile(np.zeros((1,4)),(len(means3D), 1))\n",
    "    quats[..., 0] = 1.\n",
    "    scale = length /(num_points-1)\n",
    "    scales = np.tile(np.ones((1,3)),(len(means3D), 1))*scale\n",
    "    return means3D, scales, quats\n",
    "\n",
    "def get_cameras():    \n",
    "    intrins = np.array([[711.1111,   0.0000, 256.0000,   0.0000],\n",
    "               [  0.0000, 711.1111, 256.0000,   0.0000],\n",
    "               [  0.0000,   0.0000,   1.0000,   0.0000],\n",
    "               [  0.0000,   0.0000,   0.0000,   1.0000]])\n",
    "    c2w = np.array([[-8.6086e-01,  3.7950e-01, -3.3896e-01,  6.7791e-01],\n",
    "         [ 5.0884e-01,  6.4205e-01, -5.7346e-01,  1.1469e+00],\n",
    "         [ 1.0934e-08, -6.6614e-01, -7.4583e-01,  1.4917e+00],\n",
    "         [ 0.0000e+00,  0.0000e+00,  0.0000e+00,  1.0000e+00]])\n",
    "\n",
    "    width, height = 512, 512\n",
    "    focal_x, focal_y = intrins[0, 0], intrins[1, 1]\n",
    "    viewmat = np.linalg.inv(c2w).T\n",
    "    FoVx = focal2fov(focal_x, width)\n",
    "    FoVy = focal2fov(focal_y, height)\n",
    "    projmat = getProjectionMatrix(znear=0.2, zfar=1000, fovX=FoVx, fovY=FoVy).T\n",
    "    projmat = viewmat @ projmat\n",
    "    return intrins, viewmat, projmat, height, width\n",
    "\n",
    "\n",
    "# Surface splatting (2D Gaussian Splatting)\n",
    "def setup(means3D, scales, quats, opacities, colors, viewmat, projmat):\n",
    "    rotations = build_scaling_rotation(scales, quats).permute(0,2,1)\n",
    "\n",
    "    # 1. Viewing transform\n",
    "    # Eq.4 and Eq.5\n",
    "    p_view = (means3D @ viewmat[:3,:3]) + viewmat[-1:,:3]\n",
    "    uv_view = (rotations @ viewmat[:3,:3])\n",
    "    M = torch.cat([homogeneous_vec(uv_view[:,:2,:]), homogeneous(p_view.unsqueeze(1))], dim=1)\n",
    "\n",
    "    T = M @ projmat # T stands for (WH)^T in Eq.9 \n",
    "    # 2. Compute AABB\n",
    "    # Homogneous plane is very useful for both ray-splat intersection and bounding box computation\n",
    "    # we know how to compute u,v given x,y homogeneous plane already; computing AABB is done by a reverse process.\n",
    "    # i.e compute the x, y s.t. \\|hu^4\\| = 1 and \\|h_v^4\\|=1 (distance of gaussian center to plane in the uv space)\n",
    "    temp_point = torch.tensor([[1.,1., -1.]]).cuda()\n",
    "    distance = (temp_point * (T[..., 3] * T[..., 3])).sum(dim=-1, keepdims=True)\n",
    "    f = (1 / distance) * temp_point\n",
    "    point_image = torch.cat(\n",
    "        [(f * T[..., 0] * T[...,3]).sum(dim=-1, keepdims=True),\n",
    "        (f * T[..., 1] * T[...,3]).sum(dim=-1, keepdims=True),\n",
    "        (f * T[..., 2] * T[...,3]).sum(dim=-1, keepdims=True)], dim=-1)\n",
    "\n",
    "    half_extend = point_image * point_image - torch.cat(\n",
    "        [(f * T[..., 0] * T[...,0]).sum(dim=-1, keepdims=True),\n",
    "        (f * T[..., 1] * T[...,1]).sum(dim=-1, keepdims=True),\n",
    "        (f * T[..., 2] * T[...,2]).sum(dim=-1, keepdims=True)], dim=-1)\n",
    "\n",
    "    radii = half_extend.clamp(min=1e-4).sqrt() * 3 # three sigma\n",
    "    center = point_image\n",
    "\n",
    "    # 3. Perform Sorting\n",
    "    depth = p_view[..., 2] # depth is used only for sorting\n",
    "    index = depth.sort()[1]\n",
    "    T = T[index]\n",
    "    colors = colors[index]\n",
    "    center = center[index]\n",
    "    depth = depth[index]\n",
    "    radii = radii[index]\n",
    "    opacities = opacities[index]\n",
    "    return T, colors, opacities, center, depth, radii\n"
   ]
  },
  {
   "cell_type": "code",
   "execution_count": 5,
   "metadata": {},
   "outputs": [],
   "source": [
    "# Make inputs\n",
    "import matplotlib\n",
    "num_points1=8\n",
    "means3d, scales, quats = get_inputs(num_points=num_points1)\n",
    "intrins, viewmat, projmat, height, width = get_cameras()\n",
    "\n",
    "\n",
    "intrins = intrins[:3,:3]\n",
    "colors = matplotlib.colormaps['Accent'](np.random.randint(1,64, 64)/64)[..., :3]\n",
    "\n",
    "opacities = np.ones(means3d[:,:1].shape)\n",
    "\n",
    "\n",
    "rotations = build_scaling_rotation(scales,quats) # sutu, svtv (scale * axis direction in gaussian FoR)\n",
    "# projmat = frames['P1483CAM1.jpg'].projection\n",
    "\n",
    "\n",
    "# 1. Viewing transform\n",
    "# Eq.4 and Eq.5\n",
    "p_view = (means3d @ viewmat[:3,:3]) + viewmat[-1:,:3] # rotate the gaussian mean to camera FoR\n",
    "uv_view = (rotations @ viewmat[:3,:3]) # rotate to camera FoR\n",
    "\n",
    "# M is H matrix that representes the transformation from tangent plane to camera. \n",
    "# its the scaled axes concatenated to the gaussian mean location - represented in homogeneous coordinates\n",
    "\n",
    "# !! need to check that the order of axes ar ok for M !!\n",
    "M = np.concatenate((homogeneous_vec(uv_view[:,:2,:]),homogeneous(p_view)[:,np.newaxis]),axis = 1)\n",
    "T = M @ projmat # T stands for (WH)^T in Eq.9 - projmat transforms from camera to NDC (screen coordinates)\n",
    "# T is the transformation of every gaussian from tangent plane to NDC, its homogebnus coordinates. with the rotation matrix \n",
    "# representing the axes and the translation vector representing the location of the center of each gaussian. \n",
    "# We notice that projmat is a prespective projection matrix. \n",
    "\n",
    "# Next, We calculate the radius of the gaussian. We normalize by w to get homogeneus coordinates. In addition we flip Z axis (not sure why) \n",
    "# we calculate the distance from the camera to the gaussian mean (this is w, the last row of a homogenues coordinate, deviding by it will give perspective view)\n",
    "# Notice that the rotation is scaled (in build_scaling_rotation) and is not normalized.\n",
    "\n",
    "# point_image - the projectes mean of the gaussian (with flipped z)\n",
    "# half_extend - used to calculate the radius of the gaussian, we take 3 sigma. because the ratation is scaled \n",
    "# we calculate the distance for each axis and can get the 3 sigma by multiplying each distance. (we also devide by w to get the prespective view)\n",
    "\n",
    "temp_point = np.tile([1,1,-1],(T.shape[0],1))\n",
    "distance  = np.sum(temp_point*T[..., 3] * T[..., 3],-1)\n",
    "f = (1 / distance[:,np.newaxis]) * temp_point\n",
    "\n",
    "# distance = (temp_point * (T[..., 3] * T[..., 3])).sum(dim=-1, keepdims=True)\n",
    "point_image = np.column_stack((np.sum(f * T[..., 0] * T[...,3],1),np.sum(f * T[..., 1] * T[...,3],1),np.sum(f * T[..., 2] * T[...,3],1)))\n",
    "\n",
    "axes_dist = np.column_stack((np.sum(f * T[..., 0] * T[...,0],1),np.sum(f * T[..., 1] * T[...,1],1),np.sum(f * T[..., 2] * T[...,2],1)))\n",
    "\n",
    "half_extend = point_image * point_image - axes_dist\n",
    "# distance = (temp_point * (T[..., 3] * T[..., 3])).sum(dim=-1, keepdims=True)\n",
    "# point_image = np.column_stack((np.sum(f * T[..., 0] * T[...,3],1),np.sum(f * T[..., 1] * T[...,3],1),np.sum(f * T[..., 2] * T[...,3],1)))\n",
    "\n",
    "    # half_extend = point_image * point_image - torch.cat(\n",
    "    #     [(f * T[..., 0] * T[...,0]).sum(dim=-1, keepdims=True),\n",
    "    #     (f * T[..., 1] * T[...,1]).sum(dim=-1, keepdims=True),\n",
    "    #     (f * T[..., 2] * T[...,2]).sum(dim=-1, keepdims=True)], dim=-1)\n",
    "\n",
    "    # radii = half_extend.clamp(min=1e-4).sqrt() * 3 # three sigma\n",
    "    # center = point_image\n",
    "\n",
    "# T, colors, opacities, center, depth, radii = setup(means3D, scales, quats, opacities, colors, viewmat, projmat)\n"
   ]
  },
  {
   "cell_type": "code",
   "execution_count": 7,
   "metadata": {},
   "outputs": [],
   "source": [
    "import numpy as np\n",
    "input_file = \"I:/My Drive/Research/gs_data/mov19_2022_03_03/2dgs_output/84444b22-6/point_cloud/iteration_1000/point_cloud.ply\"\n",
    "vertices = PlyData.read(input_file)[\"vertex\"]\n",
    "\n",
    "\n",
    "means3d = np.column_stack((vertices['x'],vertices['y'],vertices['z']))\n",
    "viewmat = frames['P1483CAM1.jpg'].world_to_cam.T\n",
    "\n",
    "\n",
    "r = np.column_stack([(vertices[f'rot_{idx}']) for idx in range(4)])\n",
    "s = np.column_stack(([(vertices[f'scale_{idx}']) for idx in range(2)]))\n",
    "s = np.column_stack((s,vertices['scale_0']))\n",
    "rotations = build_scaling_rotation(s,r) # sutu, svtv (scale * axis direction in gaussian FoR)\n",
    "projmat = frames['P1483CAM1.jpg'].full_proj_transform\n",
    "intrins = frames['P1483CAM1.jpg'].K_crop\n",
    "\n",
    "\n",
    "# 1. Viewing transform\n",
    "# Eq.4 and Eq.5\n",
    "p_view = (means3d @ viewmat[:3,:3]) + viewmat[-1:,:3] # rotate the gaussian mean to camera FoR\n",
    "uv_view = (rotations @ viewmat[:3,:3]) # rotate to camera FoR\n",
    "\n",
    "# M is H matrix that representes the transformation from tangent plane to camera. \n",
    "# its the scaled axes concatenated to the gaussian mean location - represented in homogeneous coordinates\n",
    "\n",
    "# !! need to check that the order of axes ar ok for M !!\n",
    "M = np.concatenate((homogeneous_vec(uv_view[:,:2,:]),homogeneous(p_view)[:,np.newaxis]),axis = 1)\n",
    "T = M @ projmat # T stands for (WH)^T in Eq.9 - projmat transforms from camera to NDC (screen coordinates)\n",
    "# T is the transformation of every gaussian from tangent plane to NDC, its homogebnus coordinates. with the rotation matrix \n",
    "# representing the axes and the translation vector representing the location of the center of each gaussian. \n",
    "# We notice that projmat is a prespective projection matrix. \n",
    "\n",
    "# Next, We calculate the radius of the gaussian. We normalize by w to get homogeneus coordinates. In addition we flip Z axis (not sure why) \n",
    "# we calculate the distance from the camera to the gaussian mean (this is w, the last row of a homogenues coordinate, deviding by it will give perspective view)\n",
    "# Notice that the rotation is scaled (in build_scaling_rotation) and is not normalized.\n",
    "\n",
    "# point_image - the projectes mean of the gaussian (with flipped z)\n",
    "# half_extend - used to calculate the radius of the gaussian, we take 3 sigma. because the ratation is scaled \n",
    "# we calculate the distance for each axis and can get the 3 sigma by multiplying each distance. (we also devide by w to get the prespective view)\n",
    "\n",
    "temp_point = np.tile([1,1,-1],(T.shape[0],1))\n",
    "distance  = np.sum(temp_point*T[..., 3] * T[..., 3],-1)\n",
    "f = (1 / distance[:,np.newaxis]) * temp_point\n",
    "\n",
    "# distance = (temp_point * (T[..., 3] * T[..., 3])).sum(dim=-1, keepdims=True)\n",
    "point_image = np.column_stack((np.sum(f * T[..., 0] * T[...,3],1),np.sum(f * T[..., 1] * T[...,3],1),np.sum(f * T[..., 2] * T[...,3],1)))\n",
    "\n",
    "axes_dist = np.column_stack((np.sum(f * T[..., 0] * T[...,0],1),np.sum(f * T[..., 1] * T[...,1],1),np.sum(f * T[..., 2] * T[...,2],1)))\n",
    "\n",
    "half_extend = point_image * point_image - axes_dist\n",
    "radii = np.sqrt(np.maximum(half_extend, 1e-4)) * 3\n",
    "center = point_image\n",
    "\n",
    "# 3. Perform Sorting\n",
    "depth = p_view[..., 2] # depth is used only for sorting\n",
    "index = np.argsort(depth)\n",
    "T = T[index]\n",
    "# colors = colors[index]\n",
    "center = center[index]\n",
    "depth = depth[index]\n",
    "radii = radii[index]\n",
    "# opacities = opacities[index]\n"
   ]
  },
  {
   "cell_type": "code",
   "execution_count": 56,
   "metadata": {},
   "outputs": [
    {
     "data": {
      "text/plain": [
       "(160, 160)"
      ]
     },
     "execution_count": 56,
     "metadata": {},
     "output_type": "execute_result"
    }
   ],
   "source": [
    "frames['P1483CAM1.jpg'].croped_image.size"
   ]
  },
  {
   "cell_type": "code",
   "execution_count": 52,
   "metadata": {},
   "outputs": [
    {
     "ename": "MemoryError",
     "evalue": "Unable to allocate 3.48 GiB for an array with shape (25600, 6079, 3) and data type float64",
     "output_type": "error",
     "traceback": [
      "\u001b[1;31m---------------------------------------------------------------------------\u001b[0m",
      "\u001b[1;31mMemoryError\u001b[0m                               Traceback (most recent call last)",
      "Cell \u001b[1;32mIn[52], line 11\u001b[0m\n\u001b[0;32m      9\u001b[0m x \u001b[38;5;241m=\u001b[39m pix_flat[\u001b[38;5;241m.\u001b[39m\u001b[38;5;241m.\u001b[39m\u001b[38;5;241m.\u001b[39m, :\u001b[38;5;241m1\u001b[39m]\n\u001b[0;32m     10\u001b[0m y \u001b[38;5;241m=\u001b[39m pix_flat[\u001b[38;5;241m.\u001b[39m\u001b[38;5;241m.\u001b[39m\u001b[38;5;241m.\u001b[39m, \u001b[38;5;241m1\u001b[39m:]\n\u001b[1;32m---> 11\u001b[0m k \u001b[38;5;241m=\u001b[39m \u001b[38;5;241;43m-\u001b[39;49m\u001b[43mT\u001b[49m\u001b[43m[\u001b[49m\u001b[38;5;28;43;01mNone\u001b[39;49;00m\u001b[43m,\u001b[49m\u001b[43m \u001b[49m\u001b[38;5;241;43m.\u001b[39;49m\u001b[38;5;241;43m.\u001b[39;49m\u001b[38;5;241;43m.\u001b[39;49m\u001b[43m,\u001b[49m\u001b[43m \u001b[49m\u001b[38;5;241;43m0\u001b[39;49m\u001b[43m]\u001b[49m\u001b[43m \u001b[49m\u001b[38;5;241;43m+\u001b[39;49m\u001b[43m \u001b[49m\u001b[43mx\u001b[49m\u001b[43m \u001b[49m\u001b[38;5;241;43m*\u001b[39;49m\u001b[43m \u001b[49m\u001b[43mT\u001b[49m\u001b[43m[\u001b[49m\u001b[38;5;28;43;01mNone\u001b[39;49;00m\u001b[43m,\u001b[49m\u001b[43m \u001b[49m\u001b[38;5;241;43m.\u001b[39;49m\u001b[38;5;241;43m.\u001b[39;49m\u001b[38;5;241;43m.\u001b[39;49m\u001b[43m,\u001b[49m\u001b[43m \u001b[49m\u001b[38;5;241;43m3\u001b[39;49m\u001b[43m]\u001b[49m\n",
      "\u001b[1;31mMemoryError\u001b[0m: Unable to allocate 3.48 GiB for an array with shape (25600, 6079, 3) and data type float64"
     ]
    }
   ],
   "source": [
    "# Rasterization\n",
    "# 1. Generate pixels\n",
    "W, H = 160,160\n",
    "pix_x, pix_y = np.meshgrid(np.arange(W), np.arange(H), indexing='xy')\n",
    "pix = np.stack([pix_x, pix_y], axis=-1)\n",
    "\n",
    "# 2. Compute ray splat intersection # Eq.9 and Eq.10\n",
    "pix_flat = pix.reshape(-1, 1, 2)\n",
    "x = pix_flat[..., :1]\n",
    "y = pix_flat[..., 1:]\n",
    "k = -T[None, ..., 0] + x * T[None, ..., 3]\n",
    "# l = -T[None, ..., 1] + y * T[None, ..., 3]"
   ]
  },
  {
   "cell_type": "code",
   "execution_count": 100,
   "metadata": {},
   "outputs": [
    {
     "data": {
      "text/plain": [
       "array([[-0.03984097,  0.04359713],\n",
       "       [-0.04031687,  0.04156441],\n",
       "       [-0.04277372,  0.0429387 ],\n",
       "       ...,\n",
       "       [-0.06775295, -0.03822734],\n",
       "       [-0.07266341, -0.03957052],\n",
       "       [-0.07130239, -0.04003944]])"
      ]
     },
     "execution_count": 100,
     "metadata": {},
     "output_type": "execute_result"
    }
   ],
   "source": [
    "def intersection_point(pixel,T):\n",
    "    k = -T[..., 0] + pixel[0]*T[...,3]\n",
    "    l = -T[..., 1] + pixel[1] * T[..., 3]\n",
    "    points = np.cross(k, l, axis=-1)\n",
    "    return points[..., :2] / points[..., -1:]\n",
    "\n",
    "intersection_point([0,10],T)"
   ]
  },
  {
   "cell_type": "code",
   "execution_count": 61,
   "metadata": {},
   "outputs": [
    {
     "ename": "ValueError",
     "evalue": "operands could not be broadcast together with shapes (607900,3) (1,6079,3) ",
     "output_type": "error",
     "traceback": [
      "\u001b[1;31m---------------------------------------------------------------------------\u001b[0m",
      "\u001b[1;31mValueError\u001b[0m                                Traceback (most recent call last)",
      "Cell \u001b[1;32mIn[61], line 32\u001b[0m\n\u001b[0;32m     30\u001b[0m dist2 \u001b[38;5;241m=\u001b[39m np\u001b[38;5;241m.\u001b[39mminimum(dist3d, dist2d)\n\u001b[0;32m     31\u001b[0m \u001b[38;5;66;03m# dist2 = dist3d\u001b[39;00m\n\u001b[1;32m---> 32\u001b[0m depth_acc \u001b[38;5;241m=\u001b[39m np\u001b[38;5;241m.\u001b[39msum(\u001b[43mhomogeneous\u001b[49m\u001b[43m(\u001b[49m\u001b[43ms\u001b[49m\u001b[43m)\u001b[49m\u001b[43m \u001b[49m\u001b[38;5;241;43m*\u001b[39;49m\u001b[43m \u001b[49m\u001b[43mT\u001b[49m\u001b[43m[\u001b[49m\u001b[38;5;28;43;01mNone\u001b[39;49;00m\u001b[43m,\u001b[49m\u001b[43m \u001b[49m\u001b[38;5;241;43m.\u001b[39;49m\u001b[38;5;241;43m.\u001b[39;49m\u001b[38;5;241;43m.\u001b[39;49m\u001b[43m,\u001b[49m\u001b[43m \u001b[49m\u001b[38;5;241;43m-\u001b[39;49m\u001b[38;5;241;43m1\u001b[39;49m\u001b[43m]\u001b[49m, axis\u001b[38;5;241m=\u001b[39m\u001b[38;5;241m-\u001b[39m\u001b[38;5;241m1\u001b[39m)\n",
      "\u001b[1;31mValueError\u001b[0m: operands could not be broadcast together with shapes (607900,3) (1,6079,3) "
     ]
    }
   ],
   "source": [
    "def intersection_point(pixel,T):\n",
    "    k = -T[..., 0] + pixel[0]*T[...,3]\n",
    "    l = -T[..., 1] + pixel[1] * T[..., 3]\n",
    "    points = np.cross(k, l, axis=-1)\n",
    "    return points[..., :2] / points[..., -1:]\n",
    "\n",
    "\n",
    "# Rasterization\n",
    "# 1. Generate pixels\n",
    "W, H = int(intrins[0, -1] * 2), int(intrins[1, -1] * 2)\n",
    "pix_x, pix_y = np.meshgrid(np.arange(W), np.arange(H), indexing='xy')\n",
    "pix = np.stack([pix_x, pix_y], axis=-1)\n",
    "\n",
    "# 2. Compute ray splat intersection # Eq.9 and Eq.10\n",
    "pix_flat = pix.reshape(-1, 1, 2)\n",
    "pixels = np.squeeze(pix_flat)[0:100]\n",
    "x,y = pixels[:,0],pixels[:,1]\n",
    "s = np.vstack([intersection_point(pixel,T) for pixel in pixels])\n",
    "\n",
    "# 3. Add \n",
    "# -pass filter # Eq.11\n",
    "# When a point (2D Gaussian) is viewed from a far distance or at a slanted angle,\n",
    "# the 2D Gaussian falls between pixels, and no fragment is used to rasterize the Gaussian.\n",
    "# Add a low-pass filter to handle aliasing.\n",
    "dist3d = np.sum(s * s, axis=-1)\n",
    "filtersze = np.sqrt(2) / 2\n",
    "dist_xycenter = np.hstack([pixel - center[None, :, :2] for pixel in pixels])\n",
    "dist2d = (1 / filtersze) ** 2 * np.linalg.norm(dist_xycenter, axis=-1) ** 2\n",
    "# Min of dist2 is equal to max of Gaussian exp(-0.5 * dist2)\n",
    "dist2 = np.minimum(dist3d, dist2d)\n",
    "# dist2 = dist3d\n",
    "depth_acc = np.sum(homogeneous(s) * T[None, ..., -1], axis=-1)\n",
    "\n",
    "\n"
   ]
  },
  {
   "cell_type": "code",
   "execution_count": 64,
   "metadata": {},
   "outputs": [
    {
     "data": {
      "text/plain": [
       "1.9999999999999996"
      ]
     },
     "execution_count": 64,
     "metadata": {},
     "output_type": "execute_result"
    }
   ],
   "source": [
    " (1 / filtersze) ** 2 "
   ]
  },
  {
   "cell_type": "code",
   "execution_count": 54,
   "metadata": {},
   "outputs": [
    {
     "data": {
      "text/plain": [
       "array([[ 3589.73891366,  3916.54085153,  2631.16579094, ...,\n",
       "        50206.38488983, 51409.57543689, 50750.8224495 ]])"
      ]
     },
     "execution_count": 54,
     "metadata": {},
     "output_type": "execute_result"
    }
   ],
   "source": [
    "\n",
    "dist_xycenter = np.hstack([pixel - center[None, :, :2] for pixel in pixels])\n",
    "dist2d = (1 / filtersze) ** 2 * np.linalg.norm(dist_xycenter, axis=-1) ** 2\n",
    "dist2d"
   ]
  },
  {
   "cell_type": "code",
   "execution_count": 59,
   "metadata": {},
   "outputs": [
    {
     "data": {
      "text/plain": [
       "array([0.00027445, 0.00026015, 0.00030995, ..., 0.02325993, 0.03146078,\n",
       "       0.02864169])"
      ]
     },
     "execution_count": 59,
     "metadata": {},
     "output_type": "execute_result"
    }
   ],
   "source": [
    "\n",
    "\n",
    "dist2d\n",
    "\n",
    "dist3d"
   ]
  },
  {
   "cell_type": "code",
   "execution_count": 47,
   "metadata": {},
   "outputs": [
    {
     "ename": "ValueError",
     "evalue": "operands could not be broadcast together with shapes (607900,) (607900,2) ",
     "output_type": "error",
     "traceback": [
      "\u001b[1;31m---------------------------------------------------------------------------\u001b[0m",
      "\u001b[1;31mValueError\u001b[0m                                Traceback (most recent call last)",
      "Cell \u001b[1;32mIn[47], line 2\u001b[0m\n\u001b[0;32m      1\u001b[0m \u001b[38;5;66;03m# np.minimum(dist2d,dist3d)\u001b[39;00m\n\u001b[1;32m----> 2\u001b[0m \u001b[43mdist3d\u001b[49m\u001b[43m \u001b[49m\u001b[38;5;241;43m-\u001b[39;49m\u001b[43m  \u001b[49m\u001b[43mnp\u001b[49m\u001b[38;5;241;43m.\u001b[39;49m\u001b[43msqueeze\u001b[49m\u001b[43m(\u001b[49m\u001b[43mdist2d\u001b[49m\u001b[43m)\u001b[49m\n",
      "\u001b[1;31mValueError\u001b[0m: operands could not be broadcast together with shapes (607900,) (607900,2) "
     ]
    }
   ],
   "source": [
    "# np.minimum(dist2d,dist3d)\n",
    "dist3d -  np.squeeze(dist2d)"
   ]
  },
  {
   "cell_type": "code",
   "execution_count": 60,
   "metadata": {},
   "outputs": [
    {
     "data": {
      "text/plain": [
       "array([[0.00027445, 0.00026015, 0.00030995, ..., 0.02325993, 0.03146078,\n",
       "        0.02864169]])"
      ]
     },
     "execution_count": 60,
     "metadata": {},
     "output_type": "execute_result"
    }
   ],
   "source": [
    "np.minimum(dist2d,dist3d)"
   ]
  },
  {
   "cell_type": "code",
   "execution_count": null,
   "metadata": {},
   "outputs": [
    {
     "data": {
      "text/plain": [
       "(6079, 2)"
      ]
     },
     "execution_count": 18,
     "metadata": {},
     "output_type": "execute_result"
    }
   ],
   "source": [
    "s = [intersection_point(pixel,T) for pixel in pixels]\n",
    "s[0].shape # every pixel has an intersection with every center. s[0] - all centers for one pixel, len(s) = len(pixels)"
   ]
  },
  {
   "cell_type": "code",
   "execution_count": 42,
   "metadata": {},
   "outputs": [
    {
     "data": {
      "text/plain": [
       "array([[-0.01131175,  0.01210363],\n",
       "       [-0.01136562,  0.01144436],\n",
       "       [-0.01255127,  0.01234568],\n",
       "       ...,\n",
       "       [-0.12215594,  0.09131189],\n",
       "       [-0.14202954,  0.10624682],\n",
       "       [-0.13595495,  0.10078661]])"
      ]
     },
     "execution_count": 42,
     "metadata": {},
     "output_type": "execute_result"
    }
   ],
   "source": [
    "bla = s * s\n",
    "s"
   ]
  },
  {
   "cell_type": "code",
   "execution_count": 10,
   "metadata": {},
   "outputs": [
    {
     "data": {
      "text/plain": [
       "(100, 2)"
      ]
     },
     "execution_count": 10,
     "metadata": {},
     "output_type": "execute_result"
    }
   ],
   "source": [
    "np.column_stack([x, y]).shape\n"
   ]
  },
  {
   "cell_type": "code",
   "execution_count": null,
   "metadata": {},
   "outputs": [],
   "source": [
    "# Rasterization\n",
    "# 1. Generate pixels\n",
    "W, H = int(intrins[0, -1] * 2), int(intrins[1, -1] * 2)\n",
    "pix_x, pix_y = np.meshgrid(np.arange(W), np.arange(H), indexing='xy')\n",
    "pix = np.stack([pix_x, pix_y], axis=-1)\n",
    "\n",
    "# 2. Compute ray splat intersection # Eq.9 and Eq.10\n",
    "pix_flat = pix.reshape(-1, 1, 2)\n",
    "x = pix_flat[..., :1]\n",
    "y = pix_flat[..., 1:]\n",
    "k = -T[None, ..., 0] + x * T[None, ..., 3]\n",
    "l = -T[None, ..., 1] + y * T[None, ..., 3]\n",
    "points = np.cross(k, l, axis=-1)\n",
    "s = points[..., :2] / points[..., -1:]"
   ]
  },
  {
   "cell_type": "code",
   "execution_count": 12,
   "metadata": {},
   "outputs": [
    {
     "data": {
      "text/plain": [
       "(79576, 1, 1)"
      ]
     },
     "execution_count": 12,
     "metadata": {},
     "output_type": "execute_result"
    }
   ],
   "source": [
    "    W, H = int(intrins[0, -1] * 2), int(intrins[1, -1] * 2)\n",
    "    pix_x, pix_y = np.meshgrid(np.arange(W), np.arange(H), indexing='xy')\n",
    "    pix = np.stack([pix_x, pix_y], axis=-1)\n",
    "\n",
    "    # 2. Compute ray splat intersection # Eq.9 and Eq.10\n",
    "    pix_flat = pix.reshape(-1, 1, 2)\n",
    "    x = pix_flat[..., :1]\n",
    "    y = pix_flat[..., 1:]\n",
    "\n",
    "x.shape"
   ]
  },
  {
   "cell_type": "code",
   "execution_count": null,
   "metadata": {},
   "outputs": [
    {
     "data": {
      "text/plain": [
       "array([[-19.34314648,   6.08286685, -15.65574901],\n",
       "       [-46.58113944,   7.48236654, -17.95189715],\n",
       "       [-18.88483308,   9.37179436, -20.53495226],\n",
       "       ...,\n",
       "       [-39.0420906 ,  -3.1487929 ,  -2.10798984],\n",
       "       [ 60.60087204, -73.58221251, 103.25931432],\n",
       "       [-28.05912037,   2.82825118, -10.89369607]])"
      ]
     },
     "execution_count": 93,
     "metadata": {},
     "output_type": "execute_result"
    }
   ],
   "source": [
    "def surface_splatting(means3D, scales, quats, colors, opacities, intrins, viewmat, projmat):\n",
    "    # Rasterization setup\n",
    "    projmat = np.zeros((4, 4))\n",
    "    projmat[:3, :3] = intrins\n",
    "    projmat[-1, -2] = 1.0\n",
    "    projmat = projmat.T\n",
    "    T, colors, opacities, center, depth, radii = setup(means3D, scales, quats, opacities, colors, viewmat, projmat)\n",
    "\n",
    "    # Rasterization\n",
    "    # 1. Generate pixels\n",
    "    W, H = int(intrins[0, -1] * 2), int(intrins[1, -1] * 2)\n",
    "    pix_x, pix_y = np.meshgrid(np.arange(W), np.arange(H), indexing='xy')\n",
    "    pix = np.stack([pix_x, pix_y], axis=-1)\n",
    "\n",
    "    # 2. Compute ray splat intersection # Eq.9 and Eq.10\n",
    "    pix_flat = pix.reshape(-1, 1, 2)\n",
    "    x = pix_flat[..., :1]\n",
    "    y = pix_flat[..., 1:]\n",
    "    k = -T[None, ..., 0] + x * T[None, ..., 3]\n",
    "    l = -T[None, ..., 1] + y * T[None, ..., 3]\n",
    "    points = np.cross(k, l, axis=-1)\n",
    "    s = points[..., :2] / points[..., -1:]\n",
    "\n",
    "    # 3. Add low-pass filter # Eq.11\n",
    "    # When a point (2D Gaussian) is viewed from a far distance or at a slanted angle,\n",
    "    # the 2D Gaussian falls between pixels, and no fragment is used to rasterize the Gaussian.\n",
    "    # Add a low-pass filter to handle aliasing.\n",
    "    dist3d = np.sum(s * s, axis=-1)\n",
    "    filtersze = np.sqrt(2) / 2\n",
    "    dist2d = (1 / filtersze) ** 2 * np.linalg.norm(\n",
    "        np.concatenate([x, y], axis=-1) - center[None, :, :2], axis=-1\n",
    "    ) ** 2\n",
    "    # Min of dist2 is equal to max of Gaussian exp(-0.5 * dist2)\n",
    "    dist2 = np.minimum(dist3d, dist2d)\n",
    "    # dist2 = dist3d\n",
    "    depth_acc = np.sum(homogeneous(s) * T[None, ..., -1], axis=-1)\n",
    "\n",
    "    # 4. Accumulate 2D Gaussians through alpha blending # Eq.12\n",
    "    image, depthmap = alpha_blending_with_gaussians(dist2, colors, opacities, depth_acc, H, W)\n",
    "    return image, depthmap, center, radii, dist2"
   ]
  },
  {
   "cell_type": "code",
   "execution_count": null,
   "metadata": {},
   "outputs": [
    {
     "data": {
      "text/plain": [
       "(6079, 4, 4)"
      ]
     },
     "execution_count": 24,
     "metadata": {},
     "output_type": "execute_result"
    }
   ],
   "source": [
    "\n",
    "def alpha_blending(alpha, colors):\n",
    "    # Calculate cumulative alpha blending weights\n",
    "    T = np.concatenate([np.ones_like(alpha[-1:]), np.cumprod(1 - alpha, axis=0)[:-1]], axis=0)\n",
    "    \n",
    "    # Blend the colors using the alpha values and the cumulative transparency\n",
    "    image = np.sum(T * alpha * colors, axis=0).reshape(-1, colors.shape[-1])\n",
    "    \n",
    "    # Accumulate alpha values for the alpha map\n",
    "    alphamap = np.sum(T * alpha, axis=0).reshape(-1, 1)\n",
    "    \n",
    "    return image, alphamap\n",
    "\n",
    "def alpha_blending_with_gaussians(dist2, colors, opacities, depth_acc, H, W):\n",
    "    # Reshape colors and depth accumulation for proper broadcasting\n",
    "    colors = colors.reshape(-1, 1, colors.shape[-1])\n",
    "    depth_acc = depth_acc.T[..., None]\n",
    "    depth_acc = np.repeat(depth_acc, 1, axis=2)  # equivalent to repeating across the 3rd axis\n",
    "\n",
    "    # Evaluate Gaussians (using cutoff for visualization purposes)\n",
    "    cutoff = 1**2  # Equivalent to 1 sigma^2\n",
    "    dist2 = dist2.T  # Transpose to match the expected shape\n",
    "    gaussians = np.exp(-0.5 * dist2) * (dist2 < cutoff)\n",
    "    gaussians = gaussians[..., None]  # Add an extra dimension for broadcasting\n",
    "    alpha = opacities[:, None] * gaussians  # Opacities expanded to match the shape of Gaussians\n",
    "\n",
    "    # Accumulate Gaussians through alpha blending\n",
    "    image, _ = alpha_blending(alpha, colors)\n",
    "    depthmap, alphamap = alpha_blending(alpha, depth_acc)\n",
    "    \n",
    "    # Normalize depthmap by the alpha map\n",
    "    depthmap = depthmap / alphamap\n",
    "    depthmap = np.nan_to_num(depthmap, nan=0, posinf=0, neginf=0)  # Handle NaN and infinity values\n",
    "    \n",
    "    return image.reshape(H, W, -1), depthmap.reshape(H, W, -1)"
   ]
  },
  {
   "cell_type": "code",
   "execution_count": 11,
   "metadata": {},
   "outputs": [],
   "source": [
    "# Surface splatting (2D Gaussian Splatting)\n",
    "def setup(means3D, scales, quats, opacities, colors, viewmat, projmat):\n",
    "    rotations = build_scaling_rotation(scales, quats).permute(0,2,1)\n",
    "\n",
    "    # 1. Viewing transform\n",
    "    # Eq.4 and Eq.5\n",
    "    p_view = (means3D @ viewmat[:3,:3]) + viewmat[-1:,:3]\n",
    "    uv_view = (rotations @ viewmat[:3,:3])\n",
    "    M = torch.cat([homogeneous_vec(uv_view[:,:2,:]), homogeneous(p_view.unsqueeze(1))], dim=1)\n",
    "\n",
    "    T = M @ projmat # T stands for (WH)^T in Eq.9\n",
    "    # 2. Compute AABB\n",
    "    # Homogneous plane is very useful for both ray-splat intersection and bounding box computation\n",
    "    # we know how to compute u,v given x,y homogeneous plane already; computing AABB is done by a reverse process.\n",
    "    # i.e compute the x, y s.t. \\|hu^4\\| = 1 and \\|h_v^4\\|=1 (distance of gaussian center to plane in the uv space)\n",
    "    temp_point = torch.tensor([[1.,1., -1.]]).cuda()\n",
    "    distance = (temp_point * (T[..., 3] * T[..., 3])).sum(dim=-1, keepdims=True)\n",
    "    f = (1 / distance) * temp_point\n",
    "    point_image = torch.cat(\n",
    "        [(f * T[..., 0] * T[...,3]).sum(dim=-1, keepdims=True),\n",
    "        (f * T[..., 1] * T[...,3]).sum(dim=-1, keepdims=True),\n",
    "        (f * T[..., 2] * T[...,3]).sum(dim=-1, keepdims=True)], dim=-1)\n",
    "\n",
    "    half_extend = point_image * point_image - torch.cat(\n",
    "        [(f * T[..., 0] * T[...,0]).sum(dim=-1, keepdims=True),\n",
    "        (f * T[..., 1] * T[...,1]).sum(dim=-1, keepdims=True),\n",
    "        (f * T[..., 2] * T[...,2]).sum(dim=-1, keepdims=True)], dim=-1)\n",
    "\n",
    "    radii = half_extend.clamp(min=1e-4).sqrt() * 3 # three sigma\n",
    "    center = point_image\n",
    "\n",
    "    # 3. Perform Sorting\n",
    "    depth = p_view[..., 2] # depth is used only for sorting\n",
    "    index = depth.sort()[1]\n",
    "    T = T[index]\n",
    "    colors = colors[index]\n",
    "    center = center[index]\n",
    "    depth = depth[index]\n",
    "    radii = radii[index]\n",
    "    opacities = opacities[index]\n",
    "    return T, colors, opacities, center, depth, radii\n"
   ]
  },
  {
   "cell_type": "markdown",
   "metadata": {},
   "source": [
    "## 2DGS - Math explained\n",
    "### Modeling: \n",
    "The 2D Gaussian is defined in terms of its local coordinate system, where the $ X$ and $ Y$ axes are scaled according to the Gaussian's shape. The Gaussian is represented in the **world coordinates**, with the **axes** of the Gaussian in world space defined by the tangential vectors $ \\mathbf{t_u} $ and $ \\mathbf{t_v} $, and its **scaling factors** by $ s_u $ and $ s_v $. These tangential vectors define the directions of the local coordinate axes in the tangent plane (the object FoR).\n",
    "\n",
    "The **object plane**, which is the tangent plane to the Gaussian in world space, can be described using the plane equation:\n",
    "$$\n",
    "P(u, v) = p_k + s_u \\mathbf{t_u} u + s_v \\mathbf{t_v} v\n",
    "$$\n",
    "where $ p_k $ is the center of the Gaussian in world coordinates, and $ u $ and $ v $ represent local coordinates on the tangent plane. This equation expresses the position of any point in the tangent plane in terms of the world coordinates, as modified by the scaling along the tangential axes $ \\mathbf{t_u} $ and $ \\mathbf{t_v} $.\n",
    "\n",
    "To transform the local coordinates in the tangent plane (object frame of reference) to world coordinates, we define the following transformation matrix $ H $, which encodes the **scaling**, **rotation**, and **translation** from the object space to the world space:\n",
    "$$\n",
    "H = \\begin{pmatrix}\n",
    "s_u \\mathbf{t_u} & s_v \\mathbf{t_v} & 0 & p_k \\\\\n",
    "0 & 0 & 0 & 1\n",
    "\\end{pmatrix}\n",
    "= \\begin{pmatrix}\n",
    "R & p_k \\\\\n",
    "0 & 1\n",
    "\\end{pmatrix}\n",
    "$$\n",
    "where:\n",
    "- $ \\mathbf{t_u} = \\begin{pmatrix} t_{u_x} \\\\ t_{u_y} \\\\ t_{u_z} \\end{pmatrix} $ and $ \\mathbf{t_v} = \\begin{pmatrix} t_{v_x} \\\\ t_{v_y} \\\\ t_{v_z} \\end{pmatrix} $ are the 3D tangential vectors (defining the axes of the tangent plane in world coordinates),\n",
    "- $ p_k = \\begin{pmatrix} p_{k_x} \\\\ p_{k_y} \\\\ p_{k_z} \\end{pmatrix} $ is the 3D position of the Gaussian center in world coordinates, and\n",
    "- $ R $ is the 3x3 rotation matrix that describes the orientation of the tangent plane in world space.\n",
    "\n",
    "The matrix $ H $ can be interpreted in two parts:\n",
    "- The first part, $ \\begin{pmatrix} s_u \\mathbf{t_u} & s_v \\mathbf{t_v} & 0 \\end{pmatrix} $, represents the scaling and rotation of the axes in the world coordinates. It scales the tangential vectors $ \\mathbf{t_u} $ and $ \\mathbf{t_v} $ by $ s_u $ and $ s_v $, respectively, and applies any rotational transformation.\n",
    "- The second part, $ p_k $, represents the **translation** of the Gaussian's center in world coordinates, which shifts the origin of the local tangent plane to the desired world position.\n",
    "\n",
    "The matrix can also be interpreted in terms of the rotation matrix $ R $ (which describes the orientation of the tangent plane in world space) and the translation vector $ p_k $. The transformation from local coordinates $ (u, v) $ to world coordinates $ (x, y, z) $ is thus achieved through the multiplication of $ H $ by the local coordinate vector:\n",
    "$$\n",
    "\\begin{pmatrix}\n",
    "x \\\\\n",
    "y \\\\\n",
    "z \\\\\n",
    "1\n",
    "\\end{pmatrix}\n",
    "= H \\begin{pmatrix}\n",
    "u \\\\\n",
    "v \\\\\n",
    "1 \\\\\n",
    "1\n",
    "\\end{pmatrix}\n",
    "$$\n",
    "\n",
    "This transformation allows us to map a point in the tangent plane (object space) to the corresponding point in the world space, accounting for both the Gaussian's shape (through the scaling $ s_u, s_v $) and its orientation (through the rotation $ R $).\n",
    "\n",
    "In summary, the matrix $ H $ serves as a **homogeneous transformation** that encapsulates both the geometric properties (scaling and rotation) and the positioning (translation) of the 2D Gaussian in world space.\n",
    "\n",
    "for every u,v on the tangent plane we can calculate the gaussian power: \n",
    "$$ G(u) = \\exp\\left( -\\frac{u^2 + v^2}{2} \\right) \\tag{6} $$\n",
    "\n",
    "* $ \\mathbf{t_u} $ , $ \\mathbf{t_v} , $ $\\mathbf{s_u} $ and $\\mathbf{s_v}$ are learnable parameters.\n",
    "* each gaussian is defined by the opacity $\\alpha$ and a view dependent color.\n",
    "\n",
    "### Splatting\n",
    "\n",
    "\n",
    "The goal of this process is to find the intersection between a ray, originating from a pixel in the image, and the tangent plane of a 2D Gaussian, and then evaluate the power of the Gaussian at the intersection point. Below are the detailed steps.\n",
    "\n",
    "Step 1: Defining the Image Ray \n",
    "\n",
    "We begin by defining the ray from a pixel in the image using two orthogonal planes. The pixel location $(x, y) $ in the image space can be used to define two planes:\n",
    "\n",
    "\n",
    "* The x-plane (yz): a plane defined by a normal vector $ \\mathbf{n}_x = (-1, 0, 0) $ and an offset $ x $. The 4D homogeneous form is $ h_x = (-1, 0, 0, x) $.\n",
    "* The y-plane (xz): a plane defined by a normal vector $ \\mathbf{n}_y = (0, -1, 0) $ and an offset $ y $. The 4D homogeneous form is $ h_y = (0, -1, 0, y) $.\n",
    "\n",
    "\n",
    "These planes intersect at a ray in 3D space that is represented as the line of intersection between the two planes.\n",
    "\n",
    "Step 2: Transforming the Planes to the Tangent Plane\n",
    "\n",
    "Next, we transform the planes from the image space into the local coordinates of the 2D Gaussian primitive (the tangent plane). Using the transformation matrix $ M = (WH)^{-1} $, we apply the inverse transpose to the planes (W is the prespective projection matrix (transformation from camera to screen space), H is a transformation from tangant plane to camera space):\n",
    "\n",
    "multiplying W (camera to screen) by H (tangent plane to camera) will transform a coordinate from tangent plane to camera to screen. Transposing it will map from screen space to tangent plane \n",
    "\n",
    "$$\n",
    "h_u = (WH)^\\top h_x \\\\\n",
    "h_v = (WH)^\\top h_y\n",
    "$$\n",
    "* those are the planes rotated from image space to tangent space\n",
    "\n",
    "Step 3: Solving for the Intersection\n",
    "\n",
    "The next step is to solve for the intersection point $(u, v) $ of the ray with the transformed tangent plane. We do this by solving the following system of equations:\n",
    "\n",
    "$$\n",
    "h_u \\cdot (u, v, 1, 1)^\\top = 0 \\\\\n",
    "h_v \\cdot (u, v, 1, 1)^\\top = 0\n",
    "$$\n",
    "\n",
    "Expanding these equations gives us:\n",
    "\n",
    "\n",
    "$$\n",
    "    h_1^u u + h_2^u v + h_3^u + h_4^u = 0 \\\\\n",
    "    h_1^v u + h_2^v v + h_3^v + h_4^v = 0\n",
    "$$\n",
    "\n",
    "\n",
    "The solution for $ u $ and $ v $ is obtained by solving this system of equations. This leads to the following expressions for the coordinates $ u(x) $ and $ v(x) $:\n",
    "\n",
    "$$\n",
    "u = \\frac{h_2^u h_4^v - h_4^u h_2^v}{h_1^u h_2^v - h_2^u h_1^v} \\\\\n",
    "v = \\frac{h_4^u h_1^v - h_1^u h_4^v}{h_1^u h_2^v - h_2^u h_1^v}\n",
    "$$\n",
    "\n",
    "Where $ h_i^u $ and $ h_i^v $ are the homogeneous parameters of the transformed planes.\n",
    "\n",
    "Step 4: Evaluating the Gaussian at the Intersection\n",
    "\n",
    "Once we have the coordinates $ (u, v) $, we can evaluate the 2D Gaussian function at the intersection point. The Gaussian function is typically of the form:\n",
    "\n",
    "$$\n",
    "G(u, v) = \\exp\\left( -\\frac{u^2 + v^2}{2} \\right)\n",
    "$$\n",
    "\n",
    "This represents the Gaussian value at the point $ (u, v) $ on the tangent plane.\n",
    "\n",
    "\n",
    "Once the values of $ u(x) $ and $ v(x) $ are found, we can compute the depth of the intersection point using the following equation:\n",
    "$$\n",
    "x = (x_z, y_z, z, z)^\\top = W P(u, v) = W H (u, v, 1, 1)^\\top\n",
    "$$\n",
    "Here, $ W $ is the camera projection matrix, and $ H $ is the transformation matrix from the tangent plane to world coordinates. The last component of the resulting vector $ x = (xz, yz, z, z)^\\top $ gives the depth $ z $ of the intersection point (the third element, need to make sure). \n",
    "\n",
    "\n",
    "\n",
    "#### Screen space\n",
    "this transformation returns a 3d coordinate in screen space. \n",
    ", where rendering occures. the projection matrix transformes x,y,z to the screen space\n",
    "* x axis spans from 0 to -1 (width)\n",
    "* y axis spans from 0 to -1 (hight)\n",
    "* Z_{NDC} represents the depth (need to check that)\n",
    "from NDC we can map to pixels\n",
    "\n",
    "#### Transforming planes\n",
    "* A point in 3D homogeneous coordinates is represented as $ (x,y,z,w)\n",
    "* a plane consist of both a normal and an offset - in 3D homogeneous coordinates it is represented as $(a,b,c,d)\n",
    "where $(a,b,c) is the planes normal vector and $d$ is its offset. \n",
    "\n",
    "The plane equation : $ ax + by + cz + dw = 0 $\n",
    "which means that that dot product of the plane parameters $ (a,b,c,d)$ and a point $(x,y,z,w)$ is zero for a point lying on the plane. \n",
    "\n",
    "** Transforming Point on a Plane **\n",
    "we Define matrix $M$ - a transformation matrix. \n",
    "tansforming a point on the plain using $M$: $p'=M\\cdot p$\n",
    "after transforming it, the plane equation should still hold: $h'p' = 0$ were $h', p'$ are the transformed plane and point parameters.\n",
    "\n",
    "Because $p' = M\\cdot p$ we get that $h'(M\\cdot p) = 0 $ and since $ h' \\cdot(M\\cdotp p)=M^T \\cdot h' \\cdot p $ we can write \n",
    "$$\n",
    "M^T \\cdot h' \\cdot p = h\\cdot p \\\\\n",
    "M^T \\cdot h' = h\n",
    "$$\n",
    "\n",
    "and from that we show that the plane $h'$ remains valid after transformation. \n"
   ]
  },
  {
   "cell_type": "markdown",
   "metadata": {},
   "source": []
  },
  {
   "cell_type": "markdown",
   "metadata": {},
   "source": []
  }
 ],
 "metadata": {
  "kernelspec": {
   "display_name": "base",
   "language": "python",
   "name": "python3"
  },
  "language_info": {
   "codemirror_mode": {
    "name": "ipython",
    "version": 3
   },
   "file_extension": ".py",
   "mimetype": "text/x-python",
   "name": "python",
   "nbconvert_exporter": "python",
   "pygments_lexer": "ipython3",
   "version": "3.10.9"
  }
 },
 "nbformat": 4,
 "nbformat_minor": 2
}
