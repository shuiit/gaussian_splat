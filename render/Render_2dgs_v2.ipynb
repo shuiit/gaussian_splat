{
 "cells": [
  {
   "cell_type": "code",
   "execution_count": 1,
   "metadata": {},
   "outputs": [],
   "source": [
    "import os\n",
    "import sys\n",
    "parent_dir = os.path.abspath(os.path.join(os.getcwd(), '..'))\n",
    "sys.path.insert(0, parent_dir)\n",
    "\n",
    "parent_dir = os.path.abspath(os.path.join(os.getcwd().split('render')[0],'gaussian_data'))\n",
    "sys.path.insert(0, parent_dir)\n",
    "\n",
    "from gaussian_data.Camera import Camera\n",
    "from gaussian_data.Frame import Frame\n",
    "import gaussian_data.Plotters\n",
    "import gaussian_data.Utils as Utils\n",
    "from GaussianSplat import GaussianSplat\n",
    "import numpy as np\n",
    "from plyfile import PlyData\n",
    "import numpy as np\n",
    "import argparse\n",
    "from io import BytesIO\n",
    "import matplotlib.pyplot as plt\n",
    "import plotly\n",
    "import plotly.graph_objects as go\n",
    "import scipy.io\n",
    "import pandas as pd\n",
    "from Render import Render\n",
    "\n",
    "%matplotlib qt\n",
    "\n",
    "# load hull\n",
    "path = 'I:/My Drive/Research/gs_data/mov19_2022_03_03/'\n",
    "real_coord = scipy.io.loadmat(f'{path}/3d_pts/real_coord.mat')['all_coords']\n",
    "points_3d = {body_wing : pd.DataFrame(Utils.load_hull(body_wing,path),columns = ['X','Y','Z','frame']) for body_wing in ['body','rwing','lwing']}\n",
    "# initilize objects\n",
    "frames = [1408]\n",
    "\n",
    "image_names,points_in_idx = Utils.define_frames(frames,points_3d)\n",
    "cameras = {f'cam{cam + 1}':Camera(path,cam) for cam in range(4)}\n",
    "frames = {f'{im_name}.jpg':Frame(path,im_name,points_in_idx[im_name.split('CAM')[0]],real_coord,idx) for idx,im_name in enumerate(image_names)}\n",
    "# map 3d voxels to 2d pixels\n",
    "[frames[im_name].map_3d_2d(croped_image = True) for im_name in frames.keys()]\n",
    "voxel_dict,colors_dict = Utils.get_dict_for_points3d(frames)\n"
   ]
  },
  {
   "cell_type": "code",
   "execution_count": 2,
   "metadata": {},
   "outputs": [],
   "source": [
    "def build_rotation(r):\n",
    "    norm = np.sqrt(r[:,0]*r[:,0] + r[:,1]*r[:,1] + r[:,2]*r[:,2] + r[:,3]*r[:,3])\n",
    "\n",
    "    q = r / norm[:, None]\n",
    "\n",
    "    R = np.zeros((q.shape[0], 3, 3))\n",
    "\n",
    "    r = q[:, 0]\n",
    "    x = q[:, 1]\n",
    "    y = q[:, 2]\n",
    "    z = q[:, 3]\n",
    "\n",
    "    R[:, 0, 0] = 1 - 2 * (y*y + z*z)\n",
    "    R[:, 0, 1] = 2 * (x*y - r*z)\n",
    "    R[:, 0, 2] = 2 * (x*z + r*y)\n",
    "    R[:, 1, 0] = 2 * (x*y + r*z)\n",
    "    R[:, 1, 1] = 1 - 2 * (x*x + z*z)\n",
    "    R[:, 1, 2] = 2 * (y*z - r*x)\n",
    "    R[:, 2, 0] = 2 * (x*z - r*y)\n",
    "    R[:, 2, 1] = 2 * (y*z + r*x)\n",
    "    R[:, 2, 2] = 1 - 2 * (x*x + y*y)\n",
    "    return R\n",
    "\n",
    "\n",
    "def build_scaling_rotation(s, r):\n",
    "    L = np.zeros((s.shape[0], 3, 3))\n",
    "    R = build_rotation(r)\n",
    "\n",
    "    L[:,0,0] = s[:,0]\n",
    "    L[:,1,1] = s[:,1]\n",
    "    L[:,2,2] = s[:,2]\n",
    "\n",
    "    L = R @ L\n",
    "    return L"
   ]
  },
  {
   "cell_type": "code",
   "execution_count": 3,
   "metadata": {},
   "outputs": [],
   "source": [
    "\n",
    "def homogeneous(points):\n",
    "    \"\"\"\n",
    "    homogeneous points\n",
    "    :param points: [..., 3]\n",
    "    \"\"\"\n",
    "    return np.column_stack((points, np.ones(points.shape[0])))\n",
    "\n",
    "def homogeneous_vec(vec, vectoadd = [0,0]):\n",
    "    \"\"\"\n",
    "    homogeneous points\n",
    "    :param points: [..., 3]\n",
    "    \"\"\"\n",
    "    return np.concatenate((vec,np.tile(np.array([vectoadd]).T,(vec.shape[0],1,1))),axis = 2)\n"
   ]
  },
  {
   "cell_type": "code",
   "execution_count": 4,
   "metadata": {},
   "outputs": [],
   "source": [
    "\n",
    "def getProjectionMatrix(znear, zfar, fovX, fovY):\n",
    "    import math\n",
    "    tanHalfFovY = math.tan((fovY / 2))\n",
    "    tanHalfFovX = math.tan((fovX / 2))\n",
    "\n",
    "    top = tanHalfFovY * znear\n",
    "    bottom = -top\n",
    "    right = tanHalfFovX * znear\n",
    "    left = -right\n",
    "\n",
    "    P = np.zeros((4, 4))\n",
    "\n",
    "    z_sign = 1.0\n",
    "\n",
    "    P[0, 0] = 2.0 * znear / (right - left)\n",
    "    P[1, 1] = 2.0 * znear / (top - bottom)\n",
    "    P[0, 2] = (right + left) / (right - left)\n",
    "    P[1, 2] = (top + bottom) / (top - bottom)\n",
    "    P[3, 2] = z_sign\n",
    "    P[2, 2] = z_sign * zfar / (zfar - znear)\n",
    "    P[2, 3] = -(zfar * znear) / (zfar - znear)\n",
    "    return P\n",
    "\n",
    "\n",
    "def focal2fov(focal, pixels):\n",
    "    import math\n",
    "    return 2*math.atan(pixels/(2*focal))\n",
    "\n",
    "\n",
    "def get_inputs(num_points=8):\n",
    "    length = 0.5\n",
    "    num_points = 8\n",
    "    x = np.linspace(-1, 1, num_points) * length\n",
    "    y = np.linspace(-1, 1, num_points) * length\n",
    "    x, y = np.meshgrid(x, y)\n",
    "    means3D = np.stack([x,y, 0 * np.random.rand(*x.shape)], axis=-1).reshape(-1,3)\n",
    "    quats = np.tile(np.zeros((1,4)),(len(means3D), 1))\n",
    "    quats[..., 0] = 1.\n",
    "    scale = length /(num_points-1)\n",
    "    scales = np.tile(np.ones((1,3)),(len(means3D), 1))*scale\n",
    "    return means3D, scales, quats\n",
    "\n",
    "def get_cameras():    \n",
    "    intrins = np.array([[711.1111,   0.0000, 256.0000,   0.0000],\n",
    "               [  0.0000, 711.1111, 256.0000,   0.0000],\n",
    "               [  0.0000,   0.0000,   1.0000,   0.0000],\n",
    "               [  0.0000,   0.0000,   0.0000,   1.0000]])\n",
    "    c2w = np.array([[-8.6086e-01,  3.7950e-01, -3.3896e-01,  6.7791e-01],\n",
    "         [ 5.0884e-01,  6.4205e-01, -5.7346e-01,  1.1469e+00],\n",
    "         [ 1.0934e-08, -6.6614e-01, -7.4583e-01,  1.4917e+00],\n",
    "         [ 0.0000e+00,  0.0000e+00,  0.0000e+00,  1.0000e+00]])\n",
    "\n",
    "    width, height = 512, 512\n",
    "    focal_x, focal_y = intrins[0, 0], intrins[1, 1]\n",
    "    viewmat = np.linalg.inv(c2w).T\n",
    "    FoVx = focal2fov(focal_x, width)\n",
    "    FoVy = focal2fov(focal_y, height)\n",
    "    projmat = getProjectionMatrix(znear=0.2, zfar=1000, fovX=FoVx, fovY=FoVy).T\n",
    "    projmat = viewmat @ projmat\n",
    "    return intrins, viewmat, projmat, height, width\n",
    "\n",
    "\n",
    "def intersection_point(pixel,T):\n",
    "    k = -T[..., 0] + pixel[0]*T[...,3]\n",
    "    l = -T[..., 1] + pixel[1] * T[..., 3]\n",
    "    points = np.cross(k, l, axis=-1)\n",
    "    return points[..., :2] / points[..., -1:]"
   ]
  },
  {
   "cell_type": "code",
   "execution_count": 43,
   "metadata": {},
   "outputs": [
    {
     "data": {
      "text/plain": [
       "array([[0.9925334 , 0.78650045, 0.44547302, 0.32422578],\n",
       "       [0.35393873, 0.39494005, 0.767374  , 0.6268835 ],\n",
       "       [0.12577748, 0.3875593 , 0.20494738, 0.5106863 ],\n",
       "       ...,\n",
       "       [0.5579117 , 0.05666701, 0.6204774 , 0.8053967 ],\n",
       "       [0.60280967, 0.66645724, 1.0965135 , 0.51852083],\n",
       "       [0.6569601 , 0.04838631, 0.3349766 , 0.14912188]], dtype=float32)"
      ]
     },
     "execution_count": 43,
     "metadata": {},
     "output_type": "execute_result"
    }
   ],
   "source": [
    "rotations = build_scaling_rotation(scales, quats)\n",
    "scales\n",
    "quats"
   ]
  },
  {
   "cell_type": "code",
   "execution_count": 47,
   "metadata": {},
   "outputs": [],
   "source": [
    "# Surface splatting (2D Gaussian Splatting)\n",
    "def setup(means3D, scales, quats, opacities, colors, viewmat, projmat):\n",
    "    rotations = build_scaling_rotation(scales, quats)\n",
    "\n",
    "   \n",
    "    # 1. Viewing transform\n",
    "    # Eq.4 and Eq.5\n",
    "    p_view = (means3D @ viewmat[:3,:3]) + viewmat[-1:,:3] # rotate the gaussian mean to camera FoR\n",
    "    uv_view = (rotations @ viewmat[:3,:3]) # rotate to camera FoR\n",
    "\n",
    "    # M is H matrix that representes the transformation from tangent plane to camera. \n",
    "    # its the scaled axes concatenated to the gaussian mean location - represented in homogeneous coordinates\n",
    "\n",
    "    # !! need to check that the order of axes ar ok for M !!\n",
    "    M = np.concatenate((homogeneous_vec(uv_view[:,:2,:]),homogeneous(p_view)[:,np.newaxis]),axis = 1)\n",
    "    T = M @ projmat # T stands for (WH)^T in Eq.9 - projmat transforms from camera to NDC (screen coordinates)\n",
    "    # T is the transformation of every gaussian from tangent plane to NDC, its homogebnus coordinates. with the rotation matrix \n",
    "    # representing the axes and the translation vector representing the location of the center of each gaussian. \n",
    "    # We notice that projmat is a prespective projection matrix. \n",
    "\n",
    "    # Next, We calculate the radius of the gaussian. We normalize by w to get homogeneus coordinates. In addition we flip Z axis (not sure why) \n",
    "    # we calculate the distance from the camera to the gaussian mean (this is w, the last row of a homogenues coordinate, deviding by it will give perspective view)\n",
    "    # Notice that the rotation is scaled (in build_scaling_rotation) and is not normalized.\n",
    "\n",
    "    # point_image - the projectes mean of the gaussian (with flipped z)\n",
    "    # half_extend - used to calculate the radius of the gaussian, we take 3 sigma. because the ratation is scaled \n",
    "    # we calculate the distance for each axis and can get the 3 sigma by multiplying each distance. (we also devide by w to get the prespective view)\n",
    "\n",
    "    temp_point = np.tile([1,1,-1],(T.shape[0],1))\n",
    "    distance  = np.sum(temp_point*T[..., 3] * T[..., 3],-1)\n",
    "    f = (1 / distance[:,np.newaxis]) * temp_point\n",
    "\n",
    "    # distance = (temp_point * (T[..., 3] * T[..., 3])).sum(dim=-1, keepdims=True)\n",
    "    point_image = np.column_stack((np.sum(f * T[..., 0] * T[...,3],1),np.sum(f * T[..., 1] * T[...,3],1),np.sum(f * T[..., 2] * T[...,3],1)))\n",
    "\n",
    "\n",
    "\n",
    "\n",
    "\n",
    "    axes_dist = np.column_stack((np.sum(f * T[..., 0] * T[...,0],1),np.sum(f * T[..., 1] * T[...,1],1),np.sum(f * T[..., 2] * T[...,2],1)))\n",
    "\n",
    "    half_extend = point_image * point_image - axes_dist\n",
    "    radii = np.sqrt(np.maximum(half_extend, 1e-4)) * 3\n",
    "    center = point_image\n",
    "\n",
    "    # 3. Perform Sorting\n",
    "    depth = p_view[..., 2] # depth is used only for sorting\n",
    "    index = np.argsort(depth)\n",
    "    T = T[index]\n",
    "    colors = colors[index]\n",
    "    center = center[index]\n",
    "    depth = depth[index]\n",
    "    radii = radii[index]\n",
    "    return T, colors, opacities, center, depth, radii,half_extend"
   ]
  },
  {
   "cell_type": "code",
   "execution_count": 50,
   "metadata": {},
   "outputs": [],
   "source": [
    "T, colors, opacities, center, depth, radii,he = setup(means3D, scales, quats, opacity, colors, viewmat, projmat)\n"
   ]
  },
  {
   "cell_type": "code",
   "execution_count": 54,
   "metadata": {},
   "outputs": [
    {
     "data": {
      "text/plain": [
       "array([[ 3.46448593e-01,  1.88572573e+00,  0.00000000e+00],\n",
       "       [ 4.97534301e-01,  1.76865442e+00, -1.11022302e-16],\n",
       "       [ 1.28061808e+00,  3.87049703e-01,  0.00000000e+00],\n",
       "       ...,\n",
       "       [ 3.83391108e-01,  2.70979787e+00,  0.00000000e+00],\n",
       "       [ 4.14285464e-01,  1.96007882e+00,  0.00000000e+00],\n",
       "       [ 4.87262153e-01,  1.12683738e+00, -1.11022302e-16]])"
      ]
     },
     "execution_count": 54,
     "metadata": {},
     "output_type": "execute_result"
    }
   ],
   "source": [
    "he"
   ]
  },
  {
   "cell_type": "code",
   "execution_count": 55,
   "metadata": {},
   "outputs": [
    {
     "data": {
      "text/plain": [
       "array([[3.46448593e-01, 1.88572573e+00, 1.00000000e-04],\n",
       "       [4.97534301e-01, 1.76865442e+00, 1.00000000e-04],\n",
       "       [1.28061808e+00, 3.87049703e-01, 1.00000000e-04],\n",
       "       ...,\n",
       "       [3.83391108e-01, 2.70979787e+00, 1.00000000e-04],\n",
       "       [4.14285464e-01, 1.96007882e+00, 1.00000000e-04],\n",
       "       [4.87262153e-01, 1.12683738e+00, 1.00000000e-04]])"
      ]
     },
     "execution_count": 55,
     "metadata": {},
     "output_type": "execute_result"
    }
   ],
   "source": [
    "np.maximum(he, 1e-4)"
   ]
  },
  {
   "cell_type": "code",
   "execution_count": 53,
   "metadata": {},
   "outputs": [
    {
     "data": {
      "text/plain": [
       "array([[1.76579652, 4.11965187, 0.03      ],\n",
       "       [2.11608334, 3.98972302, 0.03      ],\n",
       "       [3.39493191, 1.86639956, 0.03      ],\n",
       "       ...,\n",
       "       [1.85755753, 4.93843911, 0.03      ],\n",
       "       [1.93095033, 4.20008445, 0.03      ],\n",
       "       [2.09412497, 3.1845779 , 0.03      ]])"
      ]
     },
     "execution_count": 53,
     "metadata": {},
     "output_type": "execute_result"
    }
   ],
   "source": [
    "radii2 = np.sqrt(np.maximum(he, 1e-4)) * 3\n",
    "radii2"
   ]
  },
  {
   "cell_type": "code",
   "execution_count": 6,
   "metadata": {},
   "outputs": [],
   "source": [
    "\n",
    "def alpha_blending(alpha, colors):\n",
    "    # Calculate cumulative alpha blending weights\n",
    "    T = np.concatenate([np.ones_like(alpha[-1:]), np.cumprod(1 - alpha, axis=0)[:-1]], axis=0)\n",
    "    \n",
    "    # Blend the colors using the alpha values and the cumulative transparency\n",
    "    image = np.sum(T * alpha * colors, axis=0).reshape(-1, colors.shape[-1])\n",
    "    \n",
    "    # Accumulate alpha values for the alpha map\n",
    "    alphamap = np.sum(T * alpha, axis=0).reshape(-1, 1)\n",
    "    \n",
    "    return image, alphamap\n",
    "\n",
    "def alpha_blending_with_gaussians(dist2, colors, opacities, depth_acc, H, W):\n",
    "    # Reshape colors and depth accumulation for proper broadcasting\n",
    "    colors = colors.reshape(-1, 1, colors.shape[-1])\n",
    "    depth_acc = depth_acc.T[..., None]\n",
    "    depth_acc = np.repeat(depth_acc, 1, axis=2)  # equivalent to repeating across the 3rd axis\n",
    "\n",
    "    # Evaluate Gaussians (using cutoff for visualization purposes)\n",
    "    cutoff = 1#1**2  # Equivalent to 1 sigma^2\n",
    "    dist2 = dist2.T  # Transpose to match the expected shape\n",
    "    gaussians = np.exp(-0.5 * dist2) * (dist2 < cutoff)\n",
    "    gaussians = gaussians[..., None]  # Add an extra dimension for broadcasting\n",
    "    alpha = opacities[:, None] * gaussians  # Opacities expanded to match the shape of Gaussians\n",
    "\n",
    "    # Accumulate Gaussians through alpha blending\n",
    "    image, _ = alpha_blending(alpha, colors)\n",
    "    depthmap, alphamap = alpha_blending(alpha, depth_acc)\n",
    "    \n",
    "    # Normalize depthmap by the alpha map\n",
    "    depthmap = depthmap / alphamap\n",
    "    depthmap = np.nan_to_num(depthmap, nan=0, posinf=0, neginf=0)  # Handle NaN and infinity values\n",
    "    \n",
    "    return image.reshape(H, W, -1), depthmap.reshape(H, W, -1)"
   ]
  },
  {
   "cell_type": "code",
   "execution_count": 38,
   "metadata": {},
   "outputs": [],
   "source": [
    "# Make inputs\n",
    "import matplotlib\n",
    "import sh_utils\n",
    "\n",
    "\n",
    "input_file = \"I:/My Drive/Research/gs_data/mov19_2022_03_03/time/time2_norm01_dist1000000_iter200_start100_moreFr/1408/point_cloud/iteration_200/point_cloud.ply\"\n",
    "\n",
    "vertices = PlyData.read(input_file)[\"vertex\"]\n",
    "\n",
    "\n",
    "means3D = np.column_stack((vertices['x'],vertices['y'],vertices['z']))\n",
    "viewmat = frames['P1408CAM1.jpg'].world_to_cam.T\n",
    "\n",
    "\n",
    "\n",
    "sh = np.column_stack([vertices[key] for key in vertices.data.dtype.names if 'rest' in key or 'dc' in key])\n",
    "colors = sh_utils.rgb_from_sh(0,sh,xyz = None,camera_position = None)\n",
    "opacity = 1 / (1 + np.exp(-vertices[\"opacity\"]))[:,np.newaxis]\n",
    "quats = np.column_stack([(vertices[f'rot_{idx}']) for idx in range(4)])\n",
    "s = np.column_stack(([(vertices[f'scale_{idx}']) for idx in range(2)]))\n",
    "s = np.exp(np.column_stack(([vertices[\"scale_0\"], vertices[\"scale_1\"]])))\n",
    "scales = np.column_stack((s,vertices['scale_0']*0))\n",
    "projmat = frames['P1408CAM1.jpg'].full_proj_transform\n",
    "intrins = frames['P1408CAM1.jpg'].K_crop\n",
    "\n"
   ]
  },
  {
   "cell_type": "code",
   "execution_count": 44,
   "metadata": {},
   "outputs": [
    {
     "data": {
      "text/plain": [
       "array([[-5.30842080e+03,  3.90521789e-08,  1.38258101e+02],\n",
       "       [ 0.00000000e+00, -5.33634778e+03,  1.73681823e+02],\n",
       "       [ 0.00000000e+00,  0.00000000e+00,  1.00000000e+00]])"
      ]
     },
     "execution_count": 44,
     "metadata": {},
     "output_type": "execute_result"
    }
   ],
   "source": [
    "frames['P1408CAM1.jpg'].K_crop"
   ]
  },
  {
   "cell_type": "code",
   "execution_count": 8,
   "metadata": {},
   "outputs": [],
   "source": [
    "# Make inputs\n",
    "import matplotlib\n",
    "num_points1=8\n",
    "means3D, scales, quats = get_inputs(num_points=num_points1)\n",
    "scales[:,2] = scales[:,2]*0\n",
    "intrins, viewmat, projmat, height, width = get_cameras()\n",
    "intrins = intrins[:3,:3]\n",
    "colors = matplotlib.colormaps['Accent'](np.random.randint(1,64, 64)/64)[..., :3]\n",
    "\n",
    "opacity = np.ones(means3D[:,:1].shape)\n"
   ]
  },
  {
   "cell_type": "code",
   "execution_count": 32,
   "metadata": {},
   "outputs": [
    {
     "data": {
      "text/plain": [
       "array([[-4.87189414e-03, -8.92511383e-03, -6.41715669e-05],\n",
       "       [-4.87817964e-03, -9.02052503e-03, -1.39234980e-04],\n",
       "       [-4.83089685e-03, -8.93305335e-03, -1.03303864e-04],\n",
       "       ...,\n",
       "       [ 9.76864321e-05, -7.71776587e-03, -1.43542327e-03],\n",
       "       [ 8.52383382e-05, -7.75804883e-03, -1.33686094e-03],\n",
       "       [ 1.36520335e-04, -7.80833233e-03, -1.39167847e-03]], dtype=float32)"
      ]
     },
     "execution_count": 32,
     "metadata": {},
     "output_type": "execute_result"
    }
   ],
   "source": [
    "means3D"
   ]
  },
  {
   "cell_type": "code",
   "execution_count": 45,
   "metadata": {},
   "outputs": [
    {
     "data": {
      "text/plain": [
       "(<Figure size 640x480 with 1 Axes>,\n",
       " [<matplotlib.lines.Line2D at 0x1f60c36d600>])"
      ]
     },
     "execution_count": 45,
     "metadata": {},
     "output_type": "execute_result"
    }
   ],
   "source": [
    "# Rasterization setup\n",
    "projmat = np.zeros((4,4))\n",
    "projmat[:3,:3] = intrins\n",
    "projmat[-1,-2] = 1.0\n",
    "projmat = projmat.T\n",
    "T, colors, opacities, center, depth, radii = setup(means3D, scales, quats, opacity, colors, viewmat, projmat)\n",
    "plt.figure(),plt.plot(depth)"
   ]
  },
  {
   "cell_type": "code",
   "execution_count": 46,
   "metadata": {},
   "outputs": [
    {
     "data": {
      "text/plain": [
       "array([[2.17467273, 3.68131276, 0.03      ],\n",
       "       [2.46709429, 3.28792125, 0.03      ],\n",
       "       [3.05154894, 2.86103645, 0.03      ],\n",
       "       ...,\n",
       "       [3.21051175, 5.61257962, 0.03      ],\n",
       "       [3.87759254, 3.84584565, 0.03      ],\n",
       "       [3.48260063, 5.92005488, 0.03      ]])"
      ]
     },
     "execution_count": 46,
     "metadata": {},
     "output_type": "execute_result"
    }
   ],
   "source": [
    "radii"
   ]
  },
  {
   "cell_type": "code",
   "execution_count": 10,
   "metadata": {},
   "outputs": [
    {
     "name": "stderr",
     "output_type": "stream",
     "text": [
      "C:\\Users\\Roni\\AppData\\Local\\Temp\\ipykernel_19040\\4161402277.py:31: RuntimeWarning:\n",
      "\n",
      "invalid value encountered in divide\n",
      "\n"
     ]
    }
   ],
   "source": [
    "\n",
    "# Rasterization setup\n",
    "projmat = np.zeros((4,4))\n",
    "projmat[:3,:3] = intrins\n",
    "projmat[-1,-2] = 1.0\n",
    "projmat = projmat.T\n",
    "T, colors, opacities, center, depth, radii = setup(means3D, scales, quats, opacity, colors, viewmat, projmat)\n",
    "\n",
    "# Rasterization\n",
    "# 1. Generate pixels\n",
    "W, H = 80,160#int(intrins[0, -1] * 2), int(intrins[1, -1] * 2)\n",
    "pix_x, pix_y = np.meshgrid(np.arange(W), np.arange(H), indexing='xy')\n",
    "pix = np.stack([pix_x, pix_y], axis=-1)\n",
    "\n",
    "# 2. Compute ray splat intersection # Eq.9 and Eq.10\n",
    "pix_flat = pix.reshape(-1, 1, 2)\n",
    "pixels = np.squeeze(pix_flat)\n",
    "x,y = pixels[:,0],pixels[:,1]\n",
    "s = np.vstack([intersection_point(pixel,T) for pixel in pixels])\n",
    "\n",
    "\n",
    "# 3. Add \n",
    "# -pass filter # Eq.11\n",
    "# When a point (2D Gaussian) is viewed from a far distance or at a slanted angle,\n",
    "# the 2D Gaussian falls between pixels, and no fragment is used to rasterize the Gaussian.\n",
    "# Add a low-pass filter to handle aliasing.\n",
    "dist3d = np.sum(s * s, axis=-1)\n",
    "dist3d = np.reshape(dist3d,(len(pixels),T.shape[0]))\n",
    "\n",
    "filtersze = np.sqrt(2) / 2\n",
    "dist_xycenter = np.hstack([pixel - center[None, :, :2] for pixel in pixels])\n",
    "dist2d = (1 / filtersze) ** 2 * np.linalg.norm(dist_xycenter, axis=-1) ** 2\n",
    "dist2d = np.reshape(dist2d,(len(pixels),T.shape[0]))\n",
    "# Min of dist2 is equal to max of Gaussian exp(-0.5 * dist2)\n",
    "dist2 = np.minimum(dist3d, dist2d)\n",
    "\n",
    "depth_acc = np.sum(homogeneous(s)*np.tile(T[..., -1],(len(pixels),1)),axis = 1)\n",
    "depth_acc = np.reshape(depth_acc,(len(pixels),T.shape[0]))\n",
    "image, depthmap = alpha_blending_with_gaussians(dist2, colors, opacities, depth_acc, H, W)"
   ]
  },
  {
   "cell_type": "code",
   "execution_count": 28,
   "metadata": {},
   "outputs": [],
   "source": [
    "\n",
    "# Reshape colors and depth accumulation for proper broadcasting\n",
    "colors = colors.reshape(-1, 1, colors.shape[-1])\n",
    "depth_acc = depth_acc.T[..., None]\n",
    "depth_acc = np.repeat(depth_acc, 1, axis=2)  # equivalent to repeating across the 3rd axis\n",
    "\n",
    "# Evaluate Gaussians (using cutoff for visualization purposes)\n",
    "cutoff = 1#1**2  # Equivalent to 1 sigma^2\n",
    "dist2 = dist2.T  # Transpose to match the expected shape\n",
    "gaussians = np.exp(-0.5 * dist2) * (dist2 < cutoff)\n",
    "gaussians = gaussians[..., None]  # Add an extra dimension for broadcasting\n",
    "alpha = opacities[:, None] * gaussians  # Opacities expanded to match the shape of Gaussians\n"
   ]
  },
  {
   "cell_type": "code",
   "execution_count": 37,
   "metadata": {},
   "outputs": [
    {
     "data": {
      "text/plain": [
       "array([0.76463841, 0.61487502, 0.95106797, ..., 0.68078601, 0.90185044,\n",
       "       0.92000735])"
      ]
     },
     "execution_count": 37,
     "metadata": {},
     "output_type": "execute_result"
    }
   ],
   "source": [
    "gaussians[gaussians > 0]"
   ]
  },
  {
   "cell_type": "code",
   "execution_count": 17,
   "metadata": {},
   "outputs": [
    {
     "data": {
      "text/plain": [
       "[<matplotlib.lines.Line2D at 0x1f59b2f76d0>]"
      ]
     },
     "execution_count": 17,
     "metadata": {},
     "output_type": "execute_result"
    }
   ],
   "source": [
    "plt.plot(opacities)"
   ]
  },
  {
   "cell_type": "code",
   "execution_count": 26,
   "metadata": {},
   "outputs": [
    {
     "data": {
      "text/plain": [
       "array([[[0., 0., 0.],\n",
       "        [0., 0., 0.],\n",
       "        [0., 0., 0.],\n",
       "        ...,\n",
       "        [0., 0., 0.],\n",
       "        [0., 0., 0.],\n",
       "        [0., 0., 0.]],\n",
       "\n",
       "       [[0., 0., 0.],\n",
       "        [0., 0., 0.],\n",
       "        [0., 0., 0.],\n",
       "        ...,\n",
       "        [0., 0., 0.],\n",
       "        [0., 0., 0.],\n",
       "        [0., 0., 0.]],\n",
       "\n",
       "       [[0., 0., 0.],\n",
       "        [0., 0., 0.],\n",
       "        [0., 0., 0.],\n",
       "        ...,\n",
       "        [0., 0., 0.],\n",
       "        [0., 0., 0.],\n",
       "        [0., 0., 0.]],\n",
       "\n",
       "       ...,\n",
       "\n",
       "       [[0., 0., 0.],\n",
       "        [0., 0., 0.],\n",
       "        [0., 0., 0.],\n",
       "        ...,\n",
       "        [0., 0., 0.],\n",
       "        [0., 0., 0.],\n",
       "        [0., 0., 0.]],\n",
       "\n",
       "       [[0., 0., 0.],\n",
       "        [0., 0., 0.],\n",
       "        [0., 0., 0.],\n",
       "        ...,\n",
       "        [0., 0., 0.],\n",
       "        [0., 0., 0.],\n",
       "        [0., 0., 0.]],\n",
       "\n",
       "       [[0., 0., 0.],\n",
       "        [0., 0., 0.],\n",
       "        [0., 0., 0.],\n",
       "        ...,\n",
       "        [0., 0., 0.],\n",
       "        [0., 0., 0.],\n",
       "        [0., 0., 0.]]])"
      ]
     },
     "execution_count": 26,
     "metadata": {},
     "output_type": "execute_result"
    }
   ],
   "source": [
    "\n",
    "\n",
    "\n",
    "image"
   ]
  },
  {
   "cell_type": "code",
   "execution_count": 48,
   "metadata": {},
   "outputs": [
    {
     "data": {
      "text/plain": [
       "array([0.00716238, 0.06831398, 0.05433685, ..., 0.92000735, 0.06057291,\n",
       "       0.28610291])"
      ]
     },
     "execution_count": 48,
     "metadata": {},
     "output_type": "execute_result"
    }
   ],
   "source": [
    "gaussians = np.exp(-0.5 * dist2)\n",
    "gaussians[gaussians>0.005]"
   ]
  },
  {
   "cell_type": "code",
   "execution_count": 395,
   "metadata": {},
   "outputs": [],
   "source": [
    "import numpy as np\n",
    "import plotly.graph_objects as go\n",
    "import numpy as np\n",
    "import plotly.graph_objects as go\n",
    "\n",
    "def generate_ellipsoid_points(radius_x, radius_y, radius_z, num_points=50):\n",
    "    \"\"\"\n",
    "    Generate points on an ellipsoid surface.\n",
    "    Parameters:\n",
    "        radius_x, radius_y, radius_z: Radii along the X, Y, and Z axes.\n",
    "        num_points: Resolution of the ellipsoid mesh.\n",
    "    Returns:\n",
    "        x, y, z: Coordinates of the ellipsoid surface points.\n",
    "    \"\"\"\n",
    "    u = np.linspace(0, 2 * np.pi, num_points)\n",
    "    v = np.linspace(0, np.pi, num_points)\n",
    "    u, v = np.meshgrid(u, v)\n",
    "\n",
    "    x = radius_x * np.cos(u) * np.sin(v)\n",
    "    y = radius_y * np.sin(u) * np.sin(v)\n",
    "    z = radius_z * np.cos(v)\n",
    "\n",
    "    return x, y, z\n",
    "\n",
    "def plot_ellipsoids_in_3d(means3D, axes_lengths, colors):\n",
    "    \"\"\"\n",
    "    Plot ellipsoids in 3D using Plotly.\n",
    "    Parameters:\n",
    "        means3D: Centers of the ellipsoids.\n",
    "        axes_lengths: Array of shape (N, 3), each row contains the (radius_x, radius_y, radius_z) for an ellipsoid.\n",
    "        colors: RGB colors for each ellipsoid.\n",
    "    \"\"\"\n",
    "    fig = go.Figure()\n",
    "\n",
    "    for i, (center, axes, color) in enumerate(zip(means3D, axes_lengths, colors)):\n",
    "        # Generate points for the ellipsoid\n",
    "        x, y, z = generate_ellipsoid_points(*axes)\n",
    "        \n",
    "        # Translate the ellipsoid to its 3D center\n",
    "        x += center[0]\n",
    "        y += center[1]\n",
    "        z += center[2]\n",
    "\n",
    "        # Add the ellipsoid as a 3D mesh\n",
    "        fig.add_trace(go.Mesh3d(\n",
    "            x=x.flatten(), y=y.flatten(), z=z.flatten(),\n",
    "            alphahull=0,\n",
    "            opacity=0.6,\n",
    "            color=f'rgb({color[0]}, {color[1]}, {color[2]})',\n",
    "            name=f'Ellipsoid {i+1}'\n",
    "        ))\n",
    "\n",
    "    # Add Gaussian centers as markers\n",
    "    fig.add_trace(go.Scatter3d(\n",
    "        x=means3D[:, 0], y=means3D[:, 1], z=means3D[:, 2],\n",
    "        mode='markers',\n",
    "        marker=dict(size=5, color='black'),\n",
    "        name='Gaussian Centers'\n",
    "    ))\n",
    "\n",
    "    # Update layout\n",
    "    fig.update_layout(\n",
    "        scene=dict(\n",
    "            xaxis_title='X',\n",
    "            yaxis_title='Y',\n",
    "            zaxis_title='Z',\n",
    "        ),\n",
    "        title='3D Gaussian Ellipsoids'\n",
    "    )\n",
    "\n",
    "    fig.show()\n",
    "\n",
    "\n",
    "\n",
    "# Example Usage\n",
    "# Replace these with your actual data\n",
    "\n",
    "import matplotlib\n",
    "num_points1=8\n",
    "means3D, scales, quats = get_inputs(num_points=num_points1)\n",
    "scales[:,2] = scales[:,2]*0\n",
    "intrins, viewmat, projmat, height, width = get_cameras()\n",
    "intrins = intrins[:3,:3]\n",
    "colors = matplotlib.colormaps['Accent'](np.random.randint(1,64, 64)/64)[..., :3]\n",
    "\n",
    "opacity = np.ones(means3D[:,:1].shape)\n",
    "\n",
    "T, colors, opacities, center, depth, radii = setup(means3D, scales, quats, opacity, colors, viewmat, projmat)\n",
    "idx = (radii <1).all(1)\n",
    "plot_ellipsoids_in_3d(means3D[idx,:], radii[idx,:],colors[idx,:])\n"
   ]
  },
  {
   "cell_type": "code",
   "execution_count": 398,
   "metadata": {},
   "outputs": [
    {
     "data": {
      "text/plain": [
       "(64, 3)"
      ]
     },
     "execution_count": 398,
     "metadata": {},
     "output_type": "execute_result"
    }
   ],
   "source": [
    "radii.shape"
   ]
  },
  {
   "cell_type": "markdown",
   "metadata": {},
   "source": [
    "## 2DGS - Math explained\n",
    "### Modeling: \n",
    "The 2D Gaussian is defined in terms of its local coordinate system, where the $ X$ and $ Y$ axes are scaled according to the Gaussian's shape. The Gaussian is represented in the **world coordinates**, with the **axes** of the Gaussian in world space defined by the tangential vectors $ \\mathbf{t_u} $ and $ \\mathbf{t_v} $, and its **scaling factors** by $ s_u $ and $ s_v $. These tangential vectors define the directions of the local coordinate axes in the tangent plane (the object FoR).\n",
    "\n",
    "The **object plane**, which is the tangent plane to the Gaussian in world space, can be described using the plane equation:\n",
    "$$\n",
    "P(u, v) = p_k + s_u \\mathbf{t_u} u + s_v \\mathbf{t_v} v\n",
    "$$\n",
    "where $ p_k $ is the center of the Gaussian in world coordinates, and $ u $ and $ v $ represent local coordinates on the tangent plane. This equation expresses the position of any point in the tangent plane in terms of the world coordinates, as modified by the scaling along the tangential axes $ \\mathbf{t_u} $ and $ \\mathbf{t_v} $.\n",
    "\n",
    "To transform the local coordinates in the tangent plane (object frame of reference) to world coordinates, we define the following transformation matrix $ H $, which encodes the **scaling**, **rotation**, and **translation** from the object space to the world space:\n",
    "$$\n",
    "H = \\begin{pmatrix}\n",
    "s_u \\mathbf{t_u} & s_v \\mathbf{t_v} & 0 & p_k \\\\\n",
    "0 & 0 & 0 & 1\n",
    "\\end{pmatrix}\n",
    "= \\begin{pmatrix}\n",
    "R & p_k \\\\\n",
    "0 & 1\n",
    "\\end{pmatrix}\n",
    "$$\n",
    "where:\n",
    "- $ \\mathbf{t_u} = \\begin{pmatrix} t_{u_x} \\\\ t_{u_y} \\\\ t_{u_z} \\end{pmatrix} $ and $ \\mathbf{t_v} = \\begin{pmatrix} t_{v_x} \\\\ t_{v_y} \\\\ t_{v_z} \\end{pmatrix} $ are the 3D tangential vectors (defining the axes of the tangent plane in world coordinates),\n",
    "- $ p_k = \\begin{pmatrix} p_{k_x} \\\\ p_{k_y} \\\\ p_{k_z} \\end{pmatrix} $ is the 3D position of the Gaussian center in world coordinates, and\n",
    "- $ R $ is the 3x3 rotation matrix that describes the orientation of the tangent plane in world space.\n",
    "\n",
    "The matrix $ H $ can be interpreted in two parts:\n",
    "- The first part, $ \\begin{pmatrix} s_u \\mathbf{t_u} & s_v \\mathbf{t_v} & 0 \\end{pmatrix} $, represents the scaling and rotation of the axes in the world coordinates. It scales the tangential vectors $ \\mathbf{t_u} $ and $ \\mathbf{t_v} $ by $ s_u $ and $ s_v $, respectively, and applies any rotational transformation.\n",
    "- The second part, $ p_k $, represents the **translation** of the Gaussian's center in world coordinates, which shifts the origin of the local tangent plane to the desired world position.\n",
    "\n",
    "The matrix can also be interpreted in terms of the rotation matrix $ R $ (which describes the orientation of the tangent plane in world space) and the translation vector $ p_k $. The transformation from local coordinates $ (u, v) $ to world coordinates $ (x, y, z) $ is thus achieved through the multiplication of $ H $ by the local coordinate vector:\n",
    "$$\n",
    "\\begin{pmatrix}\n",
    "x \\\\\n",
    "y \\\\\n",
    "z \\\\\n",
    "1\n",
    "\\end{pmatrix}\n",
    "= H \\begin{pmatrix}\n",
    "u \\\\\n",
    "v \\\\\n",
    "1 \\\\\n",
    "1\n",
    "\\end{pmatrix}\n",
    "$$\n",
    "\n",
    "This transformation allows us to map a point in the tangent plane (object space) to the corresponding point in the world space, accounting for both the Gaussian's shape (through the scaling $ s_u, s_v $) and its orientation (through the rotation $ R $).\n",
    "\n",
    "In summary, the matrix $ H $ serves as a **homogeneous transformation** that encapsulates both the geometric properties (scaling and rotation) and the positioning (translation) of the 2D Gaussian in world space.\n",
    "\n",
    "for every u,v on the tangent plane we can calculate the gaussian power: \n",
    "$$ G(u) = \\exp\\left( -\\frac{u^2 + v^2}{2} \\right) \\tag{6} $$\n",
    "\n",
    "* $ \\mathbf{t_u} $ , $ \\mathbf{t_v} , $ $\\mathbf{s_u} $ and $\\mathbf{s_v}$ are learnable parameters.\n",
    "* each gaussian is defined by the opacity $\\alpha$ and a view dependent color.\n",
    "\n",
    "### Splatting\n",
    "\n",
    "\n",
    "The goal of this process is to find the intersection between a ray, originating from a pixel in the image, and the tangent plane of a 2D Gaussian, and then evaluate the power of the Gaussian at the intersection point. Below are the detailed steps.\n",
    "\n",
    "Step 1: Defining the Image Ray \n",
    "\n",
    "We begin by defining the ray from a pixel in the image using two orthogonal planes. The pixel location $(x, y) $ in the screen space can be used to define two planes:\n",
    "\n",
    "\n",
    "* The x-plane (yz): a plane defined by a normal vector $ \\mathbf{n}_x = (-1, 0, 0) $ and an offset $ x $. The 4D homogeneous form is $ h_x = (-1, 0, 0, x) $.\n",
    "* The y-plane (xz): a plane defined by a normal vector $ \\mathbf{n}_y = (0, -1, 0) $ and an offset $ y $. The 4D homogeneous form is $ h_y = (0, -1, 0, y) $.\n",
    "\n",
    "\n",
    "These planes intersect at a ray in 3D space that is represented as the line of intersection between the two planes.\n",
    "\n",
    "Step 2: Transforming the Planes to the Tangent Plane\n",
    "\n",
    "Next, we transform the planes from the image space into the local coordinates of the 2D Gaussian primitive (the tangent plane). Using the transformation matrix $ M = (WH)^{-1} $, we apply the inverse transpose to the planes (W is the prespective projection matrix (transformation from camera to screen space), H is a transformation from tangant plane to camera space):\n",
    "\n",
    "multiplying W (camera to screen) by H (tangent plane to camera) will transform a coordinate from tangent plane to camera to screen. Transposing it will map from screen space to tangent plane \n",
    "\n",
    "$$\n",
    "h_u = (WH)^\\top h_x \\\\\n",
    "h_v = (WH)^\\top h_y\n",
    "$$\n",
    "* those are the planes rotated from image space to tangent space\n",
    "\n",
    "\n",
    "- We can imagine a ray from the camera center through a pixel, The pixel is described in screen space (here we use NDC) which means we transform it twice. \n",
    "1. from NDC to camera coordinate\n",
    "2. from camera coordinates to gaussian (objec) coordinates. \n",
    "* The ray stays the same, it is still begins in the camera center and pass through the pixel. After all transformations we have the ray as seen from the gaussian axes. \n",
    "\n",
    "Step 3: Solving for the Intersection\n",
    "\n",
    "The next step is to solve for the intersection point $(u, v) $ of the ray with the transformed tangent plane. We do this by solving the following system of equations:\n",
    "\n",
    "$$\n",
    "h_u \\cdot (u, v, 1, 1)^\\top = 0 \\\\\n",
    "h_v \\cdot (u, v, 1, 1)^\\top = 0\n",
    "$$\n",
    "\n",
    "Expanding these equations gives us:\n",
    "\n",
    "\n",
    "$$\n",
    "    h_1^u u + h_2^u v + h_3^u + h_4^u = 0 \\\\\n",
    "    h_1^v u + h_2^v v + h_3^v + h_4^v = 0\n",
    "$$\n",
    "\n",
    "\n",
    "The solution for $ u $ and $ v $ is obtained by solving this system of equations. This leads to the following expressions for the coordinates $ u(x) $ and $ v(x) $:\n",
    "\n",
    "$$\n",
    "u = \\frac{h_2^u h_4^v - h_4^u h_2^v}{h_1^u h_2^v - h_2^u h_1^v} \\\\\n",
    "v = \\frac{h_4^u h_1^v - h_1^u h_4^v}{h_1^u h_2^v - h_2^u h_1^v}\n",
    "$$\n",
    "\n",
    "Where $ h_i^u $ and $ h_i^v $ are the homogeneous parameters of the transformed planes.\n",
    "\n",
    "Step 4: Evaluating the Gaussian at the Intersection\n",
    "\n",
    "Once we have the coordinates $ (u, v) $, we can evaluate the 2D Gaussian function at the intersection point. The Gaussian function is typically of the form:\n",
    "\n",
    "$$\n",
    "G(u, v) = \\exp\\left( -\\frac{u^2 + v^2}{2} \\right)\n",
    "$$\n",
    "\n",
    "This represents the Gaussian value at the point $ (u, v) $ on the tangent plane.\n",
    "\n",
    "\n",
    "Once the values of $ u(x) $ and $ v(x) $ are found, we can compute the depth of the intersection point using the following equation:\n",
    "$$\n",
    "x = (x_z, y_z, z, z)^\\top = W P(u, v) = W H (u, v, 1, 1)^\\top\n",
    "$$\n",
    "Here, $ W $ is the camera projection matrix, and $ H $ is the transformation matrix from the tangent plane to world coordinates. The last component of the resulting vector $ x = (xz, yz, z, z)^\\top $ gives the depth $ z $ of the intersection point (the third element, need to make sure). \n",
    "\n",
    "\n",
    "\n",
    "#### Screen space\n",
    "this transformation returns a 3d coordinate in screen space. \n",
    ", where rendering occures. the projection matrix transformes x,y,z to the screen space\n",
    "* x axis spans from 0 to -1 (width)\n",
    "* y axis spans from 0 to -1 (hight)\n",
    "* Z_{NDC} represents the depth (need to check that)\n",
    "from NDC we can map to pixels\n",
    "\n",
    "#### Transforming planes\n",
    "* A point in 3D homogeneous coordinates is represented as $ (x,y,z,w)\n",
    "* a plane consist of both a normal and an offset - in 3D homogeneous coordinates it is represented as $(a,b,c,d)\n",
    "where $(a,b,c) is the planes normal vector and $d$ is its offset. \n",
    "\n",
    "The plane equation : $ ax + by + cz + dw = 0 $\n",
    "which means that that dot product of the plane parameters $ (a,b,c,d)$ and a point $(x,y,z,w)$ is zero for a point lying on the plane. \n",
    "\n",
    "** Transforming Point on a Plane **\n",
    "we Define matrix $M$ - a transformation matrix. \n",
    "tansforming a point on the plain using $M$: $p'=M\\cdot p$\n",
    "after transforming it, the plane equation should still hold: $h'p' = 0$ were $h', p'$ are the transformed plane and point parameters.\n",
    "\n",
    "Because $p' = M\\cdot p$ we get that $h'(M\\cdot p) = 0 $ and since $ h' \\cdot(M\\cdotp p)=M^T \\cdot h' \\cdot p $ we can write \n",
    "$$\n",
    "M^T \\cdot h' \\cdot p = h\\cdot p \\\\\n",
    "M^T \\cdot h' = h\n",
    "$$\n",
    "\n",
    "and from that we show that the plane $h'$ remains valid after transformation. \n"
   ]
  },
  {
   "cell_type": "markdown",
   "metadata": {},
   "source": []
  },
  {
   "cell_type": "markdown",
   "metadata": {},
   "source": []
  }
 ],
 "metadata": {
  "kernelspec": {
   "display_name": "base",
   "language": "python",
   "name": "python3"
  },
  "language_info": {
   "codemirror_mode": {
    "name": "ipython",
    "version": 3
   },
   "file_extension": ".py",
   "mimetype": "text/x-python",
   "name": "python",
   "nbconvert_exporter": "python",
   "pygments_lexer": "ipython3",
   "version": "3.10.9"
  }
 },
 "nbformat": 4,
 "nbformat_minor": 2
}
