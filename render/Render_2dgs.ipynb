{
 "cells": [
  {
   "cell_type": "code",
   "execution_count": 39,
   "metadata": {},
   "outputs": [
    {
     "data": {
      "text/plain": [
       "'d:\\\\Documents\\\\gaussian_splat\\\\gaussian_data'"
      ]
     },
     "execution_count": 39,
     "metadata": {},
     "output_type": "execute_result"
    }
   ],
   "source": [
    "\n",
    "import os\n",
    "os.path.join(os.path.abspath(os.path.join(os.getcwd(), '..')),'gaussian_data')\n",
    "\n",
    "\n"
   ]
  },
  {
   "cell_type": "code",
   "execution_count": 40,
   "metadata": {},
   "outputs": [],
   "source": [
    "import os\n",
    "import sys\n",
    "sys.path.insert(0,'D:\\Documents\\gaussian_splat\\gaussian_data')"
   ]
  },
  {
   "cell_type": "code",
   "execution_count": 54,
   "metadata": {},
   "outputs": [],
   "source": [
    "import os\n",
    "import sys\n",
    "sys.path.insert(0, os.path.abspath(os.path.join(os.getcwd(), '..')))\n",
    "\n",
    "from Camera import Camera\n",
    "import numpy as np\n",
    "from Frame import Frame\n",
    "\n",
    "\n",
    "import matplotlib.pyplot as plt\n",
    "import Plotters\n",
    "import plotly.graph_objects as go\n",
    "import scipy.io\n",
    "import pandas as pd\n",
    "import Utils\n",
    "\n",
    "%matplotlib qt\n",
    "\n",
    "# load hull\n",
    "path = 'G:/My Drive/Research/gs_data/mov19_2022_03_03/'\n",
    "real_coord = scipy.io.loadmat(f'{path}/3d_pts/real_coord.mat')['all_coords']\n",
    "points_3d = {body_wing : pd.DataFrame(Utils.load_hull(body_wing,path),columns = ['X','Y','Z','frame']) for body_wing in ['body','rwing','lwing']}\n",
    "# initilize objects\n",
    "frames = [1407]#list(range(500,700,13))\n",
    "\n",
    "image_name,points_in_idx = Utils.define_frames(frames,points_3d)\n",
    "cameras = {f'cam{cam + 1}':Camera(path,cam) for cam in range(4)}\n",
    "frames = {f'{im_name}.jpg':Frame(path,im_name,points_in_idx[im_name.split('CAM')[0]],real_coord,idx) for idx,im_name in enumerate(image_name)}"
   ]
  },
  {
   "cell_type": "code",
   "execution_count": null,
   "metadata": {},
   "outputs": [
    {
     "data": {
      "text/plain": [
       "array([[0.51554644, 0.51730156, 0.5155593 ],\n",
       "       [0.5629009 , 0.56266093, 0.5627576 ],\n",
       "       [0.32690352, 0.326528  , 0.3273971 ],\n",
       "       ...,\n",
       "       [0.25440955, 0.2533446 , 0.2510707 ],\n",
       "       [0.88764226, 0.8867392 , 0.87105185],\n",
       "       [0.18822715, 0.18737254, 0.1901623 ]], dtype=float32)"
      ]
     },
     "execution_count": 13,
     "metadata": {},
     "output_type": "execute_result"
    }
   ],
   "source": []
  },
  {
   "cell_type": "code",
   "execution_count": 60,
   "metadata": {},
   "outputs": [],
   "source": [
    "\n",
    "from plyfile import PlyData\n",
    "import sh_utils\n",
    "import trimesh\n",
    "import numpy as np\n",
    "import plotly.graph_objects as go\n",
    "%matplotlib qt\n",
    "import Plotters\n",
    "\n",
    "\n",
    "import plotly.io as pio\n",
    "pio.renderers.default='browser'\n",
    "\n",
    "input_file = \"G:/My Drive/Research/gs_data/mov19_2022_03_03/2dgs_output/2385f4c9-0/point_cloud/iteration_10/point_cloud.ply\"\n",
    "input_file = \"G:/My Drive/Research/gs_data/mov19_2022_03_03/2dgs_output/93701c9b-c2/point_cloud/iteration_100/point_cloud.ply\"\n",
    "\n",
    "vertices = PlyData.read(input_file)[\"vertex\"]\n",
    "\n",
    "\n",
    "sh = np.column_stack([vertices[key] for key in vertices.data.dtype.names if 'rest' in key or 'dc' in key])\n",
    "rgb = sh_utils.rgb_from_sh(0,sh,xyz = None,camera_position = None)\n",
    "xyz = np.column_stack((vertices[\"x\"], vertices[\"y\"], vertices[\"z\"]))\n",
    "opacity = 1 / (1 + np.exp(-vertices[\"opacity\"]))   \n",
    "\n",
    "\n",
    "[frames[im_name].map_3d_2d(croped_image = True, use_zbuff = True) for im_name in frames.keys()]\n",
    "fig = go.Figure()\n",
    "color_pts = ['red','green','blue','black']\n",
    "fig = go.Figure()\n",
    "im_name = list(frames.keys())[0]\n",
    "for cam in range(4):\n",
    "    image = f'{im_name.split(\"CAM\")[0]}CAM{cam+1}.jpg'\n",
    "    Plotters.scatter3d(fig,frames[image].voxels_with_idx,color_pts[cam],3)\n",
    "\n",
    "vertices = vertices[(rgb[:,0] < 0.9) & (rgb[:,0] > 0) & (opacity > 0) & (rgb[:,2] < 0.9) & (rgb[:,2] > 0) & (rgb[:,1] < 0.9) & (rgb[:,1] > 0)]\n",
    "rgb = rgb[(rgb[:,0] < 0.9) & (rgb[:,0] > 0) & (opacity > 0) & (rgb[:,2] < 0.9) & (rgb[:,2] > 0) & (rgb[:,1] < 0.9) & (rgb[:,1] > 0)]\n",
    "\n",
    "\n",
    "# Create the 3D scatter plot with hover template for color value\n",
    "fig.add_trace(go.Scatter3d(\n",
    "    x=vertices[\"x\"],\n",
    "    y=vertices[\"y\"],\n",
    "    z=vertices[\"z\"],\n",
    "    mode='markers',\n",
    "    marker=dict(\n",
    "        size=3,\n",
    "        color=rgb[:,0],  # Color for each point\n",
    "        colorscale='Gray',  # Choose a colorscale\n",
    "        opacity=0.5,  # Use the opacity per point\n",
    "        colorbar=dict(title=\"Colorbar\")  # Optional colorbar\n",
    "    ),\n",
    "    hovertemplate='Color: %{marker.color:.4f}<extra></extra>',  # Show color as float\n",
    "))\n",
    "fig.show()\n"
   ]
  },
  {
   "cell_type": "code",
   "execution_count": 16,
   "metadata": {},
   "outputs": [
    {
     "data": {
      "text/plain": [
       "[<matplotlib.lines.Line2D at 0x1df25449780>]"
      ]
     },
     "execution_count": 16,
     "metadata": {},
     "output_type": "execute_result"
    }
   ],
   "source": [
    "plt.plot(opacity)"
   ]
  },
  {
   "cell_type": "code",
   "execution_count": 25,
   "metadata": {},
   "outputs": [
    {
     "data": {
      "text/plain": [
       "array([[0.30316773, 0.30148396, 0.30189705],\n",
       "       [0.30353993, 0.30139768, 0.3033584 ],\n",
       "       [0.28270295, 0.28252447, 0.28101513],\n",
       "       ...,\n",
       "       [0.26240236, 0.25952616, 0.26004717],\n",
       "       [0.30588758, 0.30318552, 0.30447423],\n",
       "       [0.27203894, 0.27971953, 0.28401536]], dtype=float32)"
      ]
     },
     "execution_count": 25,
     "metadata": {},
     "output_type": "execute_result"
    }
   ],
   "source": [
    "rgb"
   ]
  },
  {
   "cell_type": "code",
   "execution_count": 57,
   "metadata": {},
   "outputs": [],
   "source": [
    "# projection\n",
    "xyz = np.column_stack((vertices[\"x\"], vertices[\"y\"], vertices[\"z\"]))\n",
    "image_names = list(frames.keys())\n",
    "im_name= 'P1407CAM1.jpg'\n",
    "fig,axs = plt.subplots(2,2)\n",
    "for cam in range(4):\n",
    "    cam_obj  = frames[f'{image_names[cam]}'].get_croped_camera()\n",
    "\n",
    "    image = f'{im_name.split(\"CAM\")[0]}CAM{cam+1}.jpg'\n",
    "    homo_voxels_with_idx = frames[image].add_homo_coords(xyz)\n",
    "    proj = cam_obj.project_with_proj_mat(xyz)\n",
    "    axs[cam // 2,cam % 2].imshow(frames[image].croped_image)\n",
    "    axs[cam // 2,cam % 2].scatter(proj[:,0],proj[:,1],s = 3,c = 'red')\n"
   ]
  },
  {
   "cell_type": "markdown",
   "metadata": {},
   "source": [
    "## 2DGS - Math explained\n",
    "### Modeling: \n",
    "The 2D Gaussian is defined in terms of its local coordinate system, where the $ X$ and $ Y$ axes are scaled according to the Gaussian's shape. The Gaussian is represented in the **world coordinates**, with the **axes** of the Gaussian in world space defined by the tangential vectors $ \\mathbf{t_u} $ and $ \\mathbf{t_v} $, and its **scaling factors** by $ s_u $ and $ s_v $. These tangential vectors define the directions of the local coordinate axes in the tangent plane (the object FoR).\n",
    "\n",
    "The **object plane**, which is the tangent plane to the Gaussian in world space, can be described using the plane equation:\n",
    "$$\n",
    "P(u, v) = p_k + s_u \\mathbf{t_u} u + s_v \\mathbf{t_v} v\n",
    "$$\n",
    "where $ p_k $ is the center of the Gaussian in world coordinates, and $ u $ and $ v $ represent local coordinates on the tangent plane. This equation expresses the position of any point in the tangent plane in terms of the world coordinates, as modified by the scaling along the tangential axes $ \\mathbf{t_u} $ and $ \\mathbf{t_v} $.\n",
    "\n",
    "To transform the local coordinates in the tangent plane (object frame of reference) to world coordinates, we define the following transformation matrix $ H $, which encodes the **scaling**, **rotation**, and **translation** from the object space to the world space:\n",
    "$$\n",
    "H = \\begin{pmatrix}\n",
    "s_u \\mathbf{t_u} & s_v \\mathbf{t_v} & 0 & p_k \\\\\n",
    "0 & 0 & 0 & 1\n",
    "\\end{pmatrix}\n",
    "= \\begin{pmatrix}\n",
    "R & p_k \\\\\n",
    "0 & 1\n",
    "\\end{pmatrix}\n",
    "$$\n",
    "where:\n",
    "- $ \\mathbf{t_u} = \\begin{pmatrix} t_{u_x} \\\\ t_{u_y} \\\\ t_{u_z} \\end{pmatrix} $ and $ \\mathbf{t_v} = \\begin{pmatrix} t_{v_x} \\\\ t_{v_y} \\\\ t_{v_z} \\end{pmatrix} $ are the 3D tangential vectors (defining the axes of the tangent plane in world coordinates),\n",
    "- $ p_k = \\begin{pmatrix} p_{k_x} \\\\ p_{k_y} \\\\ p_{k_z} \\end{pmatrix} $ is the 3D position of the Gaussian center in world coordinates, and\n",
    "- $ R $ is the 3x3 rotation matrix that describes the orientation of the tangent plane in world space.\n",
    "\n",
    "The matrix $ H $ can be interpreted in two parts:\n",
    "- The first part, $ \\begin{pmatrix} s_u \\mathbf{t_u} & s_v \\mathbf{t_v} & 0 \\end{pmatrix} $, represents the scaling and rotation of the axes in the world coordinates. It scales the tangential vectors $ \\mathbf{t_u} $ and $ \\mathbf{t_v} $ by $ s_u $ and $ s_v $, respectively, and applies any rotational transformation.\n",
    "- The second part, $ p_k $, represents the **translation** of the Gaussian's center in world coordinates, which shifts the origin of the local tangent plane to the desired world position.\n",
    "\n",
    "The matrix can also be interpreted in terms of the rotation matrix $ R $ (which describes the orientation of the tangent plane in world space) and the translation vector $ p_k $. The transformation from local coordinates $ (u, v) $ to world coordinates $ (x, y, z) $ is thus achieved through the multiplication of $ H $ by the local coordinate vector:\n",
    "$$\n",
    "\\begin{pmatrix}\n",
    "x \\\\\n",
    "y \\\\\n",
    "z \\\\\n",
    "1\n",
    "\\end{pmatrix}\n",
    "= H \\begin{pmatrix}\n",
    "u \\\\\n",
    "v \\\\\n",
    "1 \\\\\n",
    "1\n",
    "\\end{pmatrix}\n",
    "$$\n",
    "\n",
    "This transformation allows us to map a point in the tangent plane (object space) to the corresponding point in the world space, accounting for both the Gaussian's shape (through the scaling $ s_u, s_v $) and its orientation (through the rotation $ R $).\n",
    "\n",
    "In summary, the matrix $ H $ serves as a **homogeneous transformation** that encapsulates both the geometric properties (scaling and rotation) and the positioning (translation) of the 2D Gaussian in world space.\n",
    "\n",
    "for every u,v on the tangent plane we can calculate the gaussian power: \n",
    "$$ G(u) = \\exp\\left( -\\frac{u^2 + v^2}{2} \\right) \\tag{6} $$\n",
    "\n",
    "* $ \\mathbf{t_u} $ , $ \\mathbf{t_v} , $ $\\mathbf{s_u} $ and $\\mathbf{s_v}$ are learnable parameters.\n",
    "* each gaussian is defined by the opacity $\\alpha$ and a view dependent color.\n",
    "\n",
    "### Splatting\n",
    "\n",
    "\n",
    "The goal of this process is to find the intersection between a ray, originating from a pixel in the image, and the tangent plane of a 2D Gaussian, and then evaluate the power of the Gaussian at the intersection point. Below are the detailed steps.\n",
    "\n",
    "Step 1: Defining the Image Ray \n",
    "\n",
    "We begin by defining the ray from a pixel in the image using two orthogonal planes. The pixel location $(x, y) $ in the image space can be used to define two planes:\n",
    "\n",
    "\n",
    "* The x-plane (yz): a plane defined by a normal vector $ \\mathbf{n}_x = (-1, 0, 0) $ and an offset $ x $. The 4D homogeneous form is $ h_x = (-1, 0, 0, x) $.\n",
    "* The y-plane (xz): a plane defined by a normal vector $ \\mathbf{n}_y = (0, -1, 0) $ and an offset $ y $. The 4D homogeneous form is $ h_y = (0, -1, 0, y) $.\n",
    "\n",
    "\n",
    "These planes intersect at a ray in 3D space that is represented as the line of intersection between the two planes.\n",
    "\n",
    "Step 2: Transforming the Planes to the Tangent Plane\n",
    "\n",
    "Next, we transform the planes from the image space into the local coordinates of the 2D Gaussian primitive (the tangent plane). Using the transformation matrix $ M = (WH)^{-1} $, we apply the inverse transpose to the planes:\n",
    "\n",
    "$$\n",
    "h_u = (WH)^\\top h_x \\\\\n",
    "h_v = (WH)^\\top h_y\n",
    "$$\n",
    "\n",
    "Where $ W $ is the camera transformation matrix and $ H $ is the transformation matrix from the tangent plane to the world coordinates.\n",
    "\n",
    "Step 3: Solving for the Intersection\n",
    "\n",
    "The next step is to solve for the intersection point $(u, v) $ of the ray with the transformed tangent plane. We do this by solving the following system of equations:\n",
    "\n",
    "$$\n",
    "h_u \\cdot (u, v, 1, 1)^\\top = 0 \\\\\n",
    "h_v \\cdot (u, v, 1, 1)^\\top = 0\n",
    "$$\n",
    "\n",
    "Expanding these equations gives us:\n",
    "\n",
    "\n",
    "$$\n",
    "    h_1^u u + h_2^u v + h_3^u + h_4^u = 0 \\\\\n",
    "    h_1^v u + h_2^v v + h_3^v + h_4^v = 0\n",
    "$$\n",
    "\n",
    "\n",
    "The solution for $ u $ and $ v $ is obtained by solving this system of equations. This leads to the following expressions for the coordinates $ u(x) $ and $ v(x) $:\n",
    "\n",
    "$$\n",
    "u = \\frac{h_2^u h_4^v - h_4^u h_2^v}{h_1^u h_2^v - h_2^u h_1^v} \\\\\n",
    "v = \\frac{h_4^u h_1^v - h_1^u h_4^v}{h_1^u h_2^v - h_2^u h_1^v}\n",
    "$$\n",
    "\n",
    "Where $ h_i^u $ and $ h_i^v $ are the homogeneous parameters of the transformed planes.\n",
    "\n",
    "Step 4: Evaluating the Gaussian at the Intersection\n",
    "\n",
    "Once we have the coordinates $ (u, v) $, we can evaluate the 2D Gaussian function at the intersection point. The Gaussian function is typically of the form:\n",
    "\n",
    "$$\n",
    "G(u, v) = \\exp\\left( -\\frac{u^2 + v^2}{2} \\right)\n",
    "$$\n",
    "\n",
    "This represents the Gaussian value at the point $ (u, v) $ on the tangent plane.\n",
    "\n",
    "\n",
    "Once the values of $ u(x) $ and $ v(x) $ are found, we can compute the depth of the intersection point using the following equation:\n",
    "$$\n",
    "x = (x_z, y_z, z, z)^\\top = W P(u, v) = W H (u, v, 1, 1)^\\top\n",
    "$$\n",
    "Here, $ W $ is the camera projection matrix, and $ H $ is the transformation matrix from the tangent plane to world coordinates. The last component of the resulting vector $ x = (xz, yz, z, z)^\\top $ gives the depth $ z $ of the intersection point (the third element, need to make sure). "
   ]
  }
 ],
 "metadata": {
  "kernelspec": {
   "display_name": "base",
   "language": "python",
   "name": "python3"
  },
  "language_info": {
   "codemirror_mode": {
    "name": "ipython",
    "version": 3
   },
   "file_extension": ".py",
   "mimetype": "text/x-python",
   "name": "python",
   "nbconvert_exporter": "python",
   "pygments_lexer": "ipython3",
   "version": "3.10.9"
  }
 },
 "nbformat": 4,
 "nbformat_minor": 2
}
